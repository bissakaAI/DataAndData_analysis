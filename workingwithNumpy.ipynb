{
 "cells": [
  {
   "cell_type": "markdown",
   "id": "28432009",
   "metadata": {},
   "source": [
    "## Understanding Numpy"
   ]
  },
  {
   "cell_type": "code",
   "execution_count": 4,
   "id": "26c059d3",
   "metadata": {},
   "outputs": [
    {
     "name": "stdout",
     "output_type": "stream",
     "text": [
      "Numpy Version: 2.3.2\n"
     ]
    }
   ],
   "source": [
    "import numpy as np\n",
    "import matplotlib.pyplot as plt\n",
    "import time\n",
    "\n",
    "\n",
    "#check Numpy version\n",
    "print(f\"Numpy Version: {np.__version__}\" )\n",
    "\n",
    "#display settings for cleaner output \n",
    "np.set_printoptions(precision=3, suppress=True)"
   ]
  },
  {
   "cell_type": "markdown",
   "id": "d43d9849",
   "metadata": {},
   "source": [
    "Creating Numpy Arrays"
   ]
  },
  {
   "cell_type": "code",
   "execution_count": 3,
   "id": "ce4f1978",
   "metadata": {},
   "outputs": [
    {
     "name": "stdout",
     "output_type": "stream",
     "text": [
      "1D array:  [1 2 3 4 5]\n",
      "2D array:\n",
      " [[1 2 3]\n",
      " [4 5 6]]\n",
      "3D array:\n",
      " [[[1 2]\n",
      "  [3 4]]\n",
      "\n",
      " [[5 6]\n",
      "  [7 8]]]\n"
     ]
    }
   ],
   "source": [
    "# creating arrays from python lists\n",
    "# 1D array: A simple sequence of numbers\n",
    "\n",
    "arr1d =np.array([1,2,3,4,5]) \n",
    "\n",
    "#2D array: Think of this as a matrix or table with rows and columns \n",
    "\n",
    "arr2d = np.array([[1,2,3],\n",
    "                  [4,5,6]])\n",
    "\n",
    "#3D array: like a stack of 2d arrays - useful for images, time series, etc \n",
    "arr3d = np.array([[[1,2],[3,4]],\n",
    "                  [[5,6],[7,8]]])\n",
    "\n",
    "print(\"1D array: \", arr1d)\n",
    "print(\"2D array:\\n\", arr2d)\n",
    "print(\"3D array:\\n\", arr3d)\n"
   ]
  },
  {
   "cell_type": "markdown",
   "id": "d214ff7e",
   "metadata": {},
   "source": [
    "creating Special Arrays in Numpy "
   ]
  },
  {
   "cell_type": "code",
   "execution_count": 29,
   "id": "e7f2fc2c",
   "metadata": {},
   "outputs": [
    {
     "name": "stdout",
     "output_type": "stream",
     "text": [
      "zeros array (3x4):\n",
      " [[0. 0. 0. 0.]\n",
      " [0. 0. 0. 0.]\n",
      " [0. 0. 0. 0.]]\n",
      "Ones array shape: (2, 3, 4)\n",
      "Empty array (contains random values):\n",
      " [[0.25 0.5 ]\n",
      " [0.75 1.  ]]\n"
     ]
    }
   ],
   "source": [
    "#creating arrays filled wih zeros - useful for initialising arrays \n",
    "#shape(3,4) mean 3 rows and 4 columns\n",
    "zero = np.zeros((3,4))\n",
    "\n",
    "#creating arrays filled with ones - often used as starting points \n",
    "ones = np.ones((2,3,4))         #3D ARRAy: 2 LAYERS,3 ROWS , 4 columns\n",
    "\n",
    "#Empty array - faster than zeros/ones bu contains values \n",
    "#use when you will immediately fill the array with real data \n",
    "empty = np.empty((2,2))\n",
    "\n",
    "print(\"zeros array (3x4):\\n\",zero)\n",
    "print(\"Ones array shape:\", ones.shape)\n",
    "print(\"Empty array (contains random values):\\n\",empty)"
   ]
  },
  {
   "cell_type": "markdown",
   "id": "cefa3f6b",
   "metadata": {},
   "source": [
    "`zero()` and `ones()` are memory efficient ways to create arrays of specific sizes. `empty()` is fastest but contains garbage values, so only use it when you'll immediately overwrite the contents."
   ]
  },
  {
   "cell_type": "code",
   "execution_count": null,
   "id": "c3926b80",
   "metadata": {},
   "outputs": [
    {
     "name": "stdout",
     "output_type": "stream",
     "text": [
      "Range array [0 2 4 6 8]\n",
      "Logspace array:  [0.   0.25 0.5  0.75 1.  ]\n"
     ]
    }
   ],
   "source": [
    "#Range arrays - like pythons range() but more powerful \n",
    "range_arr = np.arange(0,10,2)  #Start, stop, step:[0,2,4,6,8]\n",
    "print(\"Range array\", range_arr)\n",
    "\n",
    "#Linearly spaced arrays - divide a range into equal parts\n",
    "#from  0 to 1 with exactly 5 points (inclubing endpoints)\n",
    "linspace_arr = np.linspace(0,1,5)\n",
    "print(\"Logspace array: \",linspace_arr)\n",
    "\n",
    "#logarithmically spaced arrays - useful for scientific data \n",
    "#from 10^0 to 10^2 (1 to 100) with 5 points \n",
    "logspace_arr = np.logspace(0,2,5)\n",
    "print(\"Logspace array:\", logspace_arr)"
   ]
  },
  {
   "cell_type": "code",
   "execution_count": null,
   "id": "d83d9823",
   "metadata": {},
   "outputs": [],
   "source": [
    "#identity matrix - diagonal of ones, zeros elsewhere \n",
    "#Essential for linear algebra operations \n",
    "identity = np.eye(4)         #4x4 identiti matrix \n",
    "#Diagonal matrix - put values on the diagonal \n",
    "diagonal = np.diag([1,2,3,4])\n",
    "\n",
    "#Array filled with specific value \n",
    "full_arr = np.full((3,3),7)          #3x3 array filled with 7\n",
    "\n",
    "print(\"Identity matrix:\\n\", identity)\n",
    "print(\"Diagonal m,atrix:\\n\", diagonal)\n",
    "print(\"full array (filled with 7):\\n\", full_arr)"
   ]
  },
  {
   "cell_type": "markdown",
   "id": "215a94e4",
   "metadata": {},
   "source": [
    "Diagonal matrices are useful for scaling operations "
   ]
  },
  {
   "cell_type": "markdown",
   "id": "fa1e70d7",
   "metadata": {},
   "source": [
    "Numpy Data Types(dtypes)\n",
    "    understanding data types is crutial for memory efficiency and numerical precision"
   ]
  },
  {
   "cell_type": "code",
   "execution_count": null,
   "id": "7bb3abfd",
   "metadata": {},
   "outputs": [],
   "source": [
    "#Explicit data types - control memory usage and precision \n",
    "int_arr = np.array([1,2,3],dtype=np.int32) #32-bit  integers\n",
    "float_arr = np.array([1,2,3],dtype=np.float64) #64-bit floats (double precision)\n",
    "bool_arr = np.array([True,False,True],dtype=np.bool_) #Boolean values \n",
    "\n",
    "#Type conversion - change dtypes of existing array \n",
    "converted = int_arr.astype(np.float32) #convert to 32-bit float\n",
    "print(\"Integer array dtype:\",int_arr.dtype)\n",
    "print(\"float array dtype:\",float_arr.dtype)\n",
    "print(\"boolean array dtype:\",bool_arr.dtype)\n",
    "print(\"converted array dtype:\",converted.dtype)\n",
    "\n",
    "#Mmory usage comparison\n",
    "print(f\"int32 uses {int_arr.itemsize} bytes per element\")\n",
    "print(f\"float64 uses {float_arr.itemsize} bytes per element\")"
   ]
  },
  {
   "cell_type": "markdown",
   "id": "f4470a60",
   "metadata": {},
   "source": [
    "Arrray properties & Attributes \n",
    "    # Understanding array properties helps you work effectively with data and debug issue "
   ]
  },
  {
   "cell_type": "code",
   "execution_count": null,
   "id": "0398598e",
   "metadata": {},
   "outputs": [],
   "source": [
    "# Create a sample 3D array for demonstration\n",
    "# Think of this as 3 layers, each with 4 rows and 5 columns\n",
    "arr= np.random.randn(3,4,5)\n",
    "\n",
    "#shape:the dimension of the array (layers,row,columns)\n",
    "print(\"shape:\",arr.shape)\n",
    "\n",
    "#size: Total number of elements(3x4x5 =60)\n",
    "print(\"size:\",arr.size)\n",
    "\n",
    "#Ndim:number of dimensions(3Din this case )\n",
    "print(\"ndim: \",arr.ndim)\n",
    "\n",
    "#dtype:Data type of elements\n",
    "print(\"Dtype: \",arr.dtype)\n",
    "\n",
    "#itemsize: memory size of each element in bytes \n",
    "print(\"Itemsize: \",arr.itemsize)  #8 bytes for float"
   ]
  },
  {
   "cell_type": "markdown",
   "id": "82ca6448",
   "metadata": {},
   "source": [
    "Array indexing and slicing \n",
    "\n",
    "Basic indexing - Accessing Individual Elements "
   ]
  },
  {
   "cell_type": "code",
   "execution_count": 6,
   "id": "9a39826e",
   "metadata": {},
   "outputs": [
    {
     "name": "stdout",
     "output_type": "stream",
     "text": [
      "first element:  10\n",
      "Last element: 50\n",
      "slice [1:4]:  [20 30 40]\n",
      "Every 2nd element:  [10 30 50]\n"
     ]
    }
   ],
   "source": [
    "#1D array indexing - similar to python lists\n",
    "arr1d= np.array([10,20,30,40,50]) \n",
    "\n",
    "print(\"first element: \",arr1d[0])       #indexing 0: 10\n",
    "print(\"Last element:\",arr1d[-1])        #Negative indexing:50 \n",
    "print(\"slice [1:4]: \", arr1d[1:4])         #Elements 1,2,3: [20,30,40]\n",
    "print(\"Every 2nd element: \",arr1d[::2])     #step of 2 [10,30,50]"
   ]
  },
  {
   "cell_type": "markdown",
   "id": "4ac31a27",
   "metadata": {},
   "source": [
    "negative indices count from the end (-1 is last element)"
   ]
  },
  {
   "cell_type": "code",
   "execution_count": 8,
   "id": "d4a725b6",
   "metadata": {},
   "outputs": [
    {
     "name": "stdout",
     "output_type": "stream",
     "text": [
      "Element at row 1, column 2: 7\n",
      "first row:  [1 2 3 4]\n",
      "second column: [ 2  6 10]\n",
      "subarray (rows 1-2, col 1-2:):\n",
      " [[ 6  7]\n",
      " [10 11]]\n"
     ]
    }
   ],
   "source": [
    "#2D array indexing - row and column access \n",
    "arr2d = np.array([[1,2,3,4],\n",
    "                  [5,6,7,8],\n",
    "                  [9,10,11,12]])\n",
    "\n",
    "#Acess specific element: [row,column]\n",
    "\n",
    "print(\"Element at row 1, column 2:\", arr2d[1, 2])        # 7\n",
    "\n",
    "#access entire rows or colums \n",
    "print(\"first row: \",arr2d[0,:])     #all columns of row 0\n",
    "print(\"second column:\", arr2d[:,1])    #all rows of column 1\n",
    "\n",
    "#subarray slicing: [row_start:rowend,col_start:col_end]\n",
    "print(\"subarray (rows 1-2, col 1-2:):\\n\", arr2d[1:3,1:3])\n"
   ]
  },
  {
   "cell_type": "markdown",
   "id": "5e3613f5",
   "metadata": {},
   "source": [
    "The comma separates dimensions. : means \"all elements along this dimension\". Slicing creates views of the original data when possible, not copies."
   ]
  },
  {
   "cell_type": "markdown",
   "id": "2fe21e2e",
   "metadata": {},
   "source": [
    "**Advanced Indexing - Powerful Selection Methods**"
   ]
  },
  {
   "cell_type": "code",
   "execution_count": null,
   "id": "073edcbb",
   "metadata": {},
   "outputs": [],
   "source": [
    "#fancy indexing - use arrays of indices to select elements \n",
    "arr = np.array([10,20,30,40,50])\n",
    "indices = np.array([0,2,4])  #select elements at positions 0,2,4\n",
    "print(\"fancy indexing:\", arr[indices])      \n",
    "\n",
    "#this ia much more flexible than simple slicing \n",
    "random_indices = np.array([4,1,3,1]) #cn repeat and reorder \n",
    "print(\"random order:\",arr[random_indices])"
   ]
  },
  {
   "cell_type": "markdown",
   "id": "0ef094c7",
   "metadata": {},
   "source": [
    "Fancy indexing lets you select elements in any order, repeat elements, and select non-contiguous elements. Very useful for data sampling and reordering."
   ]
  },
  {
   "cell_type": "code",
   "execution_count": null,
   "id": "1a108f16",
   "metadata": {},
   "outputs": [
    {
     "name": "stdout",
     "output_type": "stream",
     "text": [
      "Original 2D array:\n",
      " [[ 0  1  2  3]\n",
      " [ 4  5  6  7]\n",
      " [ 8  9 10 11]]\n"
     ]
    }
   ],
   "source": [
    "#2d fancy indexing - select specific row/column combinations\n",
    "arr2d = np.arange(12).reshape(3,4)  #3x4 array: [[0,1,2,3],[4,5,6,7],[8,9,10,11]]\n",
    "print(\"Original 2D array:\\n\",arr2d)\n",
    "\n",
    "#select elements at (row,col) pairs:(0,1) and (2,3)\n",
    "rows = np.array([0,2])\n",
    "cols =np.array([1,3])\n",
    "print(\"Elements at (0,1) and (2,3):\", arr2d[rows, cols])"
   ]
  }
 ],
 "metadata": {
  "kernelspec": {
   "display_name": "numpyvenv",
   "language": "python",
   "name": "python3"
  },
  "language_info": {
   "codemirror_mode": {
    "name": "ipython",
    "version": 3
   },
   "file_extension": ".py",
   "mimetype": "text/x-python",
   "name": "python",
   "nbconvert_exporter": "python",
   "pygments_lexer": "ipython3",
   "version": "3.13.7"
  }
 },
 "nbformat": 4,
 "nbformat_minor": 5
}
