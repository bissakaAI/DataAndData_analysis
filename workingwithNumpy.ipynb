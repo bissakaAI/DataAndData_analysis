{
 "cells": [
  {
   "cell_type": "markdown",
   "id": "28432009",
   "metadata": {},
   "source": [
    "## Understanding Numpy"
   ]
  },
  {
   "cell_type": "code",
   "execution_count": 20,
   "id": "26c059d3",
   "metadata": {},
   "outputs": [
    {
     "name": "stdout",
     "output_type": "stream",
     "text": [
      "Numpy Version: 2.3.2\n"
     ]
    }
   ],
   "source": [
    "import numpy as np\n",
    "import matplotlib.pyplot as plt\n",
    "import time\n",
    "\n",
    "#check Numpy version\n",
    "print(f\"Numpy Version: {np.__version__}\" )\n",
    "\n",
    "#display settings for cleaner output \n",
    "np.set_printoptions(precision=3, suppress=True)"
   ]
  },
  {
   "cell_type": "markdown",
   "id": "d43d9849",
   "metadata": {},
   "source": [
    "Creating Numpy Arrays"
   ]
  },
  {
   "cell_type": "code",
   "execution_count": null,
   "id": "ce4f1978",
   "metadata": {},
   "outputs": [],
   "source": [
    "# creating arrays from python lists\n",
    "# 1D array: A simple sequence of numbers\n",
    "\n",
    "arr1d =np.array([1,2,3,4,5]) \n",
    "\n",
    "#2D array: Think of this as a matrix or table with rows and columns \n",
    "\n",
    "arr2d = np.array([[1,2,3],\n",
    "                  [4,5,6]])\n",
    "\n",
    "#3D array: like a stack of 2d arrays - useful for images, time series, etc \n",
    "arr3d = np.array([[[1,2],[3,4]],\n",
    "                  [[5,6],[7,8]]])\n",
    "\n",
    "print(\"1D array: \", arr1d)\n",
    "print(\"2D array:\\n\", arr2d)\n",
    "print(\"3D array:\\n\", arr3d)\n"
   ]
  },
  {
   "cell_type": "markdown",
   "id": "d214ff7e",
   "metadata": {},
   "source": [
    "creating Special Arrays in Numpy "
   ]
  },
  {
   "cell_type": "code",
   "execution_count": 29,
   "id": "e7f2fc2c",
   "metadata": {},
   "outputs": [
    {
     "name": "stdout",
     "output_type": "stream",
     "text": [
      "zeros array (3x4):\n",
      " [[0. 0. 0. 0.]\n",
      " [0. 0. 0. 0.]\n",
      " [0. 0. 0. 0.]]\n",
      "Ones array shape: (2, 3, 4)\n",
      "Empty array (contains random values):\n",
      " [[0.25 0.5 ]\n",
      " [0.75 1.  ]]\n"
     ]
    }
   ],
   "source": [
    "#creating arrays filled wih zeros - useful for initialising arrays \n",
    "#shape(3,4) mean 3 rows and 4 columns\n",
    "zero = np.zeros((3,4))\n",
    "\n",
    "#creating arrays filled with ones - often used as starting points \n",
    "ones = np.ones((2,3,4))         #3D ARRAy: 2 LAYERS,3 ROWS , 4 columns\n",
    "\n",
    "#Empty array - faster than zeros/ones bu contains values \n",
    "#use when you will immediately fill the array with real data \n",
    "empty = np.empty((2,2))\n",
    "\n",
    "print(\"zeros array (3x4):\\n\",zero)\n",
    "print(\"Ones array shape:\", ones.shape)\n",
    "print(\"Empty array (contains random values):\\n\",empty)"
   ]
  },
  {
   "cell_type": "markdown",
   "id": "cefa3f6b",
   "metadata": {},
   "source": [
    "`zero()` and `ones()` are memory efficient ways to create arrays of specific sizes. `empty()` is fastest but contains garbage values, so only use it when you'll immediately overwrite the contents."
   ]
  },
  {
   "cell_type": "code",
   "execution_count": null,
   "id": "c3926b80",
   "metadata": {},
   "outputs": [
    {
     "name": "stdout",
     "output_type": "stream",
     "text": [
      "Range array [0 2 4 6 8]\n",
      "Logspace array:  [0.   0.25 0.5  0.75 1.  ]\n"
     ]
    }
   ],
   "source": [
    "#Range arrays - like pythons range() but more powerful \n",
    "range_arr = np.arange(0,10,2)  #Start, stop, step:[0,2,4,6,8]\n",
    "print(\"Range array\", range_arr)\n",
    "\n",
    "#Linearly spaced arrays - divide a range into equal parts\n",
    "#from  0 to 1 with exactly 5 points (inclubing endpoints)\n",
    "linspace_arr = np.linspace(0,1,5)\n",
    "print(\"Logspace array: \",linspace_arr)\n",
    "\n",
    "#logarithmically spaced arrays - useful for scientific data \n",
    "#from 10^0 to 10^2 (1 to 100) with 5 points \n",
    "logspace_arr = np.logspace(0,2,5)\n",
    "print(\"Logspace array:\", logspace_arr)"
   ]
  },
  {
   "cell_type": "code",
   "execution_count": null,
   "id": "d83d9823",
   "metadata": {},
   "outputs": [],
   "source": [
    "#identity matrix - diagonal of ones, zeros elsewhere \n",
    "#Essential for linear algebra operations \n",
    "identity = np.eye(4)         #4x4 identiti matrix \n",
    "#Diagonal matrix - put values on the diagonal \n",
    "diagonal = np.diag([1,2,3,4])\n",
    "\n",
    "#Array filled with specific value \n",
    "full_arr = np.full((3,3),7)          #3x3 array filled with 7\n",
    "\n",
    "print(\"Identity matrix:\\n\", identity)\n",
    "print(\"Diagonal m,atrix:\\n\", diagonal)\n",
    "print(\"full array (filled with 7):\\n\", full_arr)"
   ]
  },
  {
   "cell_type": "markdown",
   "id": "215a94e4",
   "metadata": {},
   "source": [
    "Diagonal matrices are useful for scaling operations "
   ]
  },
  {
   "cell_type": "markdown",
   "id": "fa1e70d7",
   "metadata": {},
   "source": [
    "Numpy Data Types(dtypes)\n",
    "    understanding data types is crutial for memory efficiency and numerical precision"
   ]
  },
  {
   "cell_type": "code",
   "execution_count": null,
   "id": "7bb3abfd",
   "metadata": {},
   "outputs": [],
   "source": [
    "#Explicit data types - control memory usage and precision \n",
    "int_arr = np.array([1,2,3],dtype=np.int32) #32-bit  integers\n",
    "float_arr = np.array([1,2,3],dtype=np.float64) #64-bit floats (double precision)\n",
    "bool_arr = np.array([True,False,True],dtype=np.bool_) #Boolean values \n",
    "\n",
    "#Type conversion - change dtypes of existing array \n",
    "converted = int_arr.astype(np.float32) #convert to 32-bit float\n",
    "print(\"Integer array dtype:\",int_arr.dtype)\n",
    "print(\"float array dtype:\",float_arr.dtype)\n",
    "print(\"boolean array dtype:\",bool_arr.dtype)\n",
    "print(\"converted array dtype:\",converted.dtype)\n",
    "\n",
    "#Mmory usage comparison\n",
    "print(f\"int32 uses {int_arr.itemsize} bytes per element\")\n",
    "print(f\"float64 uses {float_arr.itemsize} bytes per element\")"
   ]
  }
 ],
 "metadata": {
  "kernelspec": {
   "display_name": "numpyvenv",
   "language": "python",
   "name": "python3"
  },
  "language_info": {
   "codemirror_mode": {
    "name": "ipython",
    "version": 3
   },
   "file_extension": ".py",
   "mimetype": "text/x-python",
   "name": "python",
   "nbconvert_exporter": "python",
   "pygments_lexer": "ipython3",
   "version": "3.13.7"
  }
 },
 "nbformat": 4,
 "nbformat_minor": 5
}
