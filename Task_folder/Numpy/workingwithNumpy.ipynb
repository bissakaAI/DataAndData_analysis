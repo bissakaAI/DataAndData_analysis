{
 "cells": [
  {
   "cell_type": "markdown",
   "id": "28432009",
   "metadata": {},
   "source": [
    "## Understanding Numpy"
   ]
  },
  {
   "cell_type": "code",
   "execution_count": 4,
   "id": "26c059d3",
   "metadata": {},
   "outputs": [
    {
     "name": "stdout",
     "output_type": "stream",
     "text": [
      "Numpy Version: 2.3.2\n"
     ]
    }
   ],
   "source": [
    "import numpy as np\n",
    "import matplotlib.pyplot as plt\n",
    "import time\n",
    "\n",
    "\n",
    "#check Numpy version\n",
    "print(f\"Numpy Version: {np.__version__}\" )\n",
    "\n",
    "#display settings for cleaner output \n",
    "np.set_printoptions(precision=3, suppress=True)"
   ]
  },
  {
   "cell_type": "markdown",
   "id": "d43d9849",
   "metadata": {},
   "source": [
    "Creating Numpy Arrays"
   ]
  },
  {
   "cell_type": "code",
   "execution_count": 3,
   "id": "ce4f1978",
   "metadata": {},
   "outputs": [
    {
     "name": "stdout",
     "output_type": "stream",
     "text": [
      "1D array:  [1 2 3 4 5]\n",
      "2D array:\n",
      " [[1 2 3]\n",
      " [4 5 6]]\n",
      "3D array:\n",
      " [[[1 2]\n",
      "  [3 4]]\n",
      "\n",
      " [[5 6]\n",
      "  [7 8]]]\n"
     ]
    }
   ],
   "source": [
    "# creating arrays from python lists\n",
    "# 1D array: A simple sequence of numbers\n",
    "\n",
    "arr1d =np.array([1,2,3,4,5]) \n",
    "\n",
    "#2D array: Think of this as a matrix or table with rows and columns \n",
    "\n",
    "arr2d = np.array([[1,2,3],\n",
    "                  [4,5,6]])\n",
    "\n",
    "#3D array: like a stack of 2d arrays - useful for images, time series, etc \n",
    "arr3d = np.array([[[1,2],[3,4]],\n",
    "                  [[5,6],[7,8]]])\n",
    "\n",
    "print(\"1D array: \", arr1d)\n",
    "print(\"2D array:\\n\", arr2d)\n",
    "print(\"3D array:\\n\", arr3d)\n"
   ]
  },
  {
   "cell_type": "markdown",
   "id": "d214ff7e",
   "metadata": {},
   "source": [
    "creating Special Arrays in Numpy "
   ]
  },
  {
   "cell_type": "code",
   "execution_count": 29,
   "id": "e7f2fc2c",
   "metadata": {},
   "outputs": [
    {
     "name": "stdout",
     "output_type": "stream",
     "text": [
      "zeros array (3x4):\n",
      " [[0. 0. 0. 0.]\n",
      " [0. 0. 0. 0.]\n",
      " [0. 0. 0. 0.]]\n",
      "Ones array shape: (2, 3, 4)\n",
      "Empty array (contains random values):\n",
      " [[0.25 0.5 ]\n",
      " [0.75 1.  ]]\n"
     ]
    }
   ],
   "source": [
    "#creating arrays filled wih zeros - useful for initialising arrays \n",
    "#shape(3,4) mean 3 rows and 4 columns\n",
    "zero = np.zeros((3,4))\n",
    "\n",
    "#creating arrays filled with ones - often used as starting points \n",
    "ones = np.ones((2,3,4))         #3D ARRAy: 2 LAYERS,3 ROWS , 4 columns\n",
    "\n",
    "#Empty array - faster than zeros/ones bu contains values \n",
    "#use when you will immediately fill the array with real data \n",
    "empty = np.empty((2,2))\n",
    "\n",
    "print(\"zeros array (3x4):\\n\",zero)\n",
    "print(\"Ones array shape:\", ones.shape)\n",
    "print(\"Empty array (contains random values):\\n\",empty)"
   ]
  },
  {
   "cell_type": "markdown",
   "id": "cefa3f6b",
   "metadata": {},
   "source": [
    "`zero()` and `ones()` are memory efficient ways to create arrays of specific sizes. `empty()` is fastest but contains garbage values, so only use it when you'll immediately overwrite the contents."
   ]
  },
  {
   "cell_type": "code",
   "execution_count": null,
   "id": "c3926b80",
   "metadata": {},
   "outputs": [
    {
     "name": "stdout",
     "output_type": "stream",
     "text": [
      "Range array [0 2 4 6 8]\n",
      "Logspace array:  [0.   0.25 0.5  0.75 1.  ]\n"
     ]
    }
   ],
   "source": [
    "#Range arrays - like pythons range() but more powerful \n",
    "range_arr = np.arange(0,10,2)  #Start, stop, step:[0,2,4,6,8]\n",
    "print(\"Range array\", range_arr)\n",
    "\n",
    "#Linearly spaced arrays - divide a range into equal parts\n",
    "#from  0 to 1 with exactly 5 points (inclubing endpoints)\n",
    "linspace_arr = np.linspace(0,1,5)\n",
    "print(\"Logspace array: \",linspace_arr)\n",
    "\n",
    "#logarithmically spaced arrays - useful for scientific data \n",
    "#from 10^0 to 10^2 (1 to 100) with 5 points \n",
    "logspace_arr = np.logspace(0,2,5)\n",
    "print(\"Logspace array:\", logspace_arr)"
   ]
  },
  {
   "cell_type": "code",
   "execution_count": null,
   "id": "d83d9823",
   "metadata": {},
   "outputs": [],
   "source": [
    "#identity matrix - diagonal of ones, zeros elsewhere \n",
    "#Essential for linear algebra operations \n",
    "identity = np.eye(4)         #4x4 identiti matrix \n",
    "#Diagonal matrix - put values on the diagonal \n",
    "diagonal = np.diag([1,2,3,4])\n",
    "\n",
    "#Array filled with specific value \n",
    "full_arr = np.full((3,3),7)          #3x3 array filled with 7\n",
    "\n",
    "print(\"Identity matrix:\\n\", identity)\n",
    "print(\"Diagonal m,atrix:\\n\", diagonal)\n",
    "print(\"full array (filled with 7):\\n\", full_arr)"
   ]
  },
  {
   "cell_type": "markdown",
   "id": "215a94e4",
   "metadata": {},
   "source": [
    "Diagonal matrices are useful for scaling operations "
   ]
  },
  {
   "cell_type": "markdown",
   "id": "fa1e70d7",
   "metadata": {},
   "source": [
    "Numpy Data Types(dtypes)\n",
    "    understanding data types is crutial for memory efficiency and numerical precision"
   ]
  },
  {
   "cell_type": "code",
   "execution_count": null,
   "id": "7bb3abfd",
   "metadata": {},
   "outputs": [],
   "source": [
    "#Explicit data types - control memory usage and precision \n",
    "int_arr = np.array([1,2,3],dtype=np.int32) #32-bit  integers\n",
    "float_arr = np.array([1,2,3],dtype=np.float64) #64-bit floats (double precision)\n",
    "bool_arr = np.array([True,False,True],dtype=np.bool_) #Boolean values \n",
    "\n",
    "#Type conversion - change dtypes of existing array \n",
    "converted = int_arr.astype(np.float32) #convert to 32-bit float\n",
    "print(\"Integer array dtype:\",int_arr.dtype)\n",
    "print(\"float array dtype:\",float_arr.dtype)\n",
    "print(\"boolean array dtype:\",bool_arr.dtype)\n",
    "print(\"converted array dtype:\",converted.dtype)\n",
    "\n",
    "#Mmory usage comparison\n",
    "print(f\"int32 uses {int_arr.itemsize} bytes per element\")\n",
    "print(f\"float64 uses {float_arr.itemsize} bytes per element\")"
   ]
  },
  {
   "cell_type": "markdown",
   "id": "f4470a60",
   "metadata": {},
   "source": [
    "Arrray properties & Attributes \n",
    "    # Understanding array properties helps you work effectively with data and debug issue "
   ]
  },
  {
   "cell_type": "code",
   "execution_count": null,
   "id": "0398598e",
   "metadata": {},
   "outputs": [],
   "source": [
    "# Create a sample 3D array for demonstration\n",
    "# Think of this as 3 layers, each with 4 rows and 5 columns\n",
    "arr= np.random.randn(3,4,5)\n",
    "\n",
    "#shape:the dimension of the array (layers,row,columns)\n",
    "print(\"shape:\",arr.shape)\n",
    "\n",
    "#size: Total number of elements(3x4x5 =60)\n",
    "print(\"size:\",arr.size)\n",
    "\n",
    "#Ndim:number of dimensions(3Din this case )\n",
    "print(\"ndim: \",arr.ndim)\n",
    "\n",
    "#dtype:Data type of elements\n",
    "print(\"Dtype: \",arr.dtype)\n",
    "\n",
    "#itemsize: memory size of each element in bytes \n",
    "print(\"Itemsize: \",arr.itemsize)  #8 bytes for float"
   ]
  },
  {
   "cell_type": "markdown",
   "id": "82ca6448",
   "metadata": {},
   "source": [
    "Array indexing and slicing \n",
    "\n",
    "Basic indexing - Accessing Individual Elements "
   ]
  },
  {
   "cell_type": "code",
   "execution_count": 6,
   "id": "9a39826e",
   "metadata": {},
   "outputs": [
    {
     "name": "stdout",
     "output_type": "stream",
     "text": [
      "first element:  10\n",
      "Last element: 50\n",
      "slice [1:4]:  [20 30 40]\n",
      "Every 2nd element:  [10 30 50]\n"
     ]
    }
   ],
   "source": [
    "#1D array indexing - similar to python lists\n",
    "arr1d= np.array([10,20,30,40,50]) \n",
    "\n",
    "print(\"first element: \",arr1d[0])       #indexing 0: 10\n",
    "print(\"Last element:\",arr1d[-1])        #Negative indexing:50 \n",
    "print(\"slice [1:4]: \", arr1d[1:4])         #Elements 1,2,3: [20,30,40]\n",
    "print(\"Every 2nd element: \",arr1d[::2])     #step of 2 [10,30,50]"
   ]
  },
  {
   "cell_type": "markdown",
   "id": "4ac31a27",
   "metadata": {},
   "source": [
    "negative indices count from the end (-1 is last element)"
   ]
  },
  {
   "cell_type": "code",
   "execution_count": 8,
   "id": "d4a725b6",
   "metadata": {},
   "outputs": [
    {
     "name": "stdout",
     "output_type": "stream",
     "text": [
      "Element at row 1, column 2: 7\n",
      "first row:  [1 2 3 4]\n",
      "second column: [ 2  6 10]\n",
      "subarray (rows 1-2, col 1-2:):\n",
      " [[ 6  7]\n",
      " [10 11]]\n"
     ]
    }
   ],
   "source": [
    "#2D array indexing - row and column access \n",
    "arr2d = np.array([[1,2,3,4],\n",
    "                  [5,6,7,8],\n",
    "                  [9,10,11,12]])\n",
    "\n",
    "#Acess specific element: [row,column]\n",
    "\n",
    "print(\"Element at row 1, column 2:\", arr2d[1, 2])        # 7\n",
    "\n",
    "#access entire rows or colums \n",
    "print(\"first row: \",arr2d[0,:])     #all columns of row 0\n",
    "print(\"second column:\", arr2d[:,1])    #all rows of column 1\n",
    "\n",
    "#subarray slicing: [row_start:rowend,col_start:col_end]\n",
    "print(\"subarray (rows 1-2, col 1-2:):\\n\", arr2d[1:3,1:3])\n"
   ]
  },
  {
   "cell_type": "markdown",
   "id": "5e3613f5",
   "metadata": {},
   "source": [
    "The comma separates dimensions. : means \"all elements along this dimension\". Slicing creates views of the original data when possible, not copies."
   ]
  },
  {
   "cell_type": "markdown",
   "id": "2fe21e2e",
   "metadata": {},
   "source": [
    "**Advanced Indexing - Powerful Selection Methods**"
   ]
  },
  {
   "cell_type": "code",
   "execution_count": null,
   "id": "073edcbb",
   "metadata": {},
   "outputs": [],
   "source": [
    "#fancy indexing - use arrays of indices to select elements \n",
    "arr = np.array([10,20,30,40,50])\n",
    "indices = np.array([0,2,4])  #select elements at positions 0,2,4\n",
    "print(\"fancy indexing:\", arr[indices])      \n",
    "\n",
    "#this ia much more flexible than simple slicing \n",
    "random_indices = np.array([4,1,3,1]) #cn repeat and reorder \n",
    "print(\"random order:\",arr[random_indices])"
   ]
  },
  {
   "cell_type": "markdown",
   "id": "0ef094c7",
   "metadata": {},
   "source": [
    "Fancy indexing lets you select elements in any order, repeat elements, and select non-contiguous elements. Very useful for data sampling and reordering."
   ]
  },
  {
   "cell_type": "code",
   "execution_count": null,
   "id": "1a108f16",
   "metadata": {},
   "outputs": [],
   "source": [
    "#2d fancy indexing - select specific row/column combinations\n",
    "arr2d = np.arange(12).reshape(3,4)  #3x4 array: [[0,1,2,3],[4,5,6,7],[8,9,10,11]]\n",
    "print(\"Original 2D array:\\n\",arr2d)\n",
    "\n",
    "#select elements at (row,col) pairs:(0,1) and (2,3)\n",
    "rows = np.array([0,2])\n",
    "cols =np.array([1,3])\n",
    "print(\"Elements at (0,1) and (2,3):\", arr2d[rows, cols])\n",
    "#select entire rows using fancy indexing \n",
    "selected_rows= arr2d [[0,2],:]# rows 0 and 2 , all colums \n",
    "print(\"selected rows:\\n\",selected_rows)\n"
   ]
  },
  {
   "cell_type": "markdown",
   "id": "2479039d",
   "metadata": {},
   "source": [
    "When you provide arrays for both dimensions, NumPy pairs them element-wise. This is different from slicing, which creates a rectangular subarray."
   ]
  },
  {
   "cell_type": "markdown",
   "id": "9d6fce60",
   "metadata": {},
   "source": [
    "**Array Reshaping & Manipulation**\n",
    "\n",
    "- Reshaping changes how the same data is organized in memory without changing the actual values."
   ]
  },
  {
   "cell_type": "code",
   "execution_count": null,
   "id": "344f28ec",
   "metadata": {},
   "outputs": [],
   "source": [
    "# Start with a 1D array\n",
    "arr = np.arange(12)  # [0, 1, 2, 3, 4, 5, 6, 7, 8, 9, 10, 11]\n",
    "print(\"Original 1D array:\", arr)\n",
    "\n",
    "# Reshape to 2D: 3 rows × 4 columns\n",
    "reshaped_2d = arr.reshape(3, 4)\n",
    "print(\"Reshaped to 3x4:\\n\", reshaped_2d)\n",
    "\n",
    "# Reshape to 3D: 2 layers × 2 rows × 3 columns  \n",
    "reshaped_3d = arr.reshape(2, 2, 3)\n",
    "print(\"Reshaped to 2x2x3:\\n\", reshaped_3d)\n",
    "\n",
    "#use -1 to let numpy calculate one dimension auto matically \n",
    "auto_reshape  = arr.reshape(2,-1) #4 rows, numpy calc columns \n",
    "print(\"auto- reshaped to 4x?:\\n\", auto_reshape)\n"
   ]
  },
  {
   "cell_type": "markdown",
   "id": "6b7fc206",
   "metadata": {},
   "source": [
    "The total number of elements must remain the same (12 in this case). Using -1 tells NumPy to calculate that dimension automatically. Reshaping creates a view when possible, not a copy"
   ]
  },
  {
   "cell_type": "code",
   "execution_count": 25,
   "id": "61299ac1",
   "metadata": {},
   "outputs": [
    {
     "name": "stdout",
     "output_type": "stream",
     "text": [
      "flattened (copy) [1 2 3 4 5 6]\n",
      "Ravel (view if possible): [1 2 3 4 5 6]\n",
      "After modifying original:\n",
      "Flattened (unchanged): [1 2 3 4 5 6]\n",
      "Ravel (changed): [999   2   3   4   5   6]\n"
     ]
    }
   ],
   "source": [
    "#flattening - convert multi-dimensional array to 1d \n",
    "arr2d = np.array([[1,2,3],[4,5,6]])\n",
    "\n",
    "#flatten() always return a copy \n",
    "flattened = arr2d.flatten()\n",
    "print(\"flattened (copy)\", flattened)\n",
    "\n",
    "#Ravel() return a view if possible (faster,memory efficient)\n",
    "ravel =arr2d.ravel()\n",
    "print(\"Ravel (view if possible):\", ravel)\n",
    "\n",
    "# Demonstrate the difference\n",
    "arr2d[0, 0] = 999\n",
    "print(\"After modifying original:\")\n",
    "print(\"Flattened (unchanged):\", flattened)          # Copy is independent\n",
    "print(\"Ravel (changed):\", ravel)           # View reflects changes"
   ]
  },
  {
   "cell_type": "markdown",
   "id": "e540d09a",
   "metadata": {},
   "source": [
    "Use ravel() when you don't need to modify the flattened array independently. Use flatten() when you need a separate copy that won't be affected by changes to the original."
   ]
  },
  {
   "cell_type": "markdown",
   "id": "c0494e32",
   "metadata": {},
   "source": [
    "**Transposing and Swapping Axes**\n",
    "\n",
    " - Transposing is essential for matrix operations and changing data orientation\n",
    " "
   ]
  },
  {
   "cell_type": "code",
   "execution_count": null,
   "id": "018be561",
   "metadata": {},
   "outputs": [],
   "source": [
    "#2D transposition - flip rows and columns \n",
    "arr2d = np.array([[1,2,3],[4,5,6]])\n",
    "print(\"original shape:\",arr2d.shape)\n",
    "print(\"Original:\\n\",arr2d)\n",
    "\n",
    "print(\"transposed shape: \",arr2d.T.shape)\n",
    "print(\"Transposed method :\\n\",arr2d.T)\n",
    "\n",
    "#alternatively you can use \n",
    "print(\"Transpose method:\\n\", arr2d.transpose())"
   ]
  },
  {
   "cell_type": "markdown",
   "id": "2a796741",
   "metadata": {},
   "source": [
    "Transposing swaps rows and columns. This is crucial for matrix multiplication and when you need to change data orientation (e.g., from samples×features to features×samples)"
   ]
  },
  {
   "cell_type": "code",
   "execution_count": null,
   "id": "e68d5e45",
   "metadata": {},
   "outputs": [],
   "source": [
    "# Higher-dimensional transposition\n",
    "arrr3d= np.arange(24).reshape(2,3,4) #2 layers , 3 rows ,4 columns \n",
    "print(\"original 3D shape\",arr3d)\n",
    "\n",
    "#specify new axis order: (axis0,axis1,axis2)-- (axis2,axis0,axis1)\n",
    "transposed_3d = arr3d.transpose(2, 0, 1)\n",
    "print(\"Transposed 3D shape:\", transposed_3d)  # (4, 2, 3)\n",
    "\n",
    "# moveaxis is another way to rearrange axes\n",
    "moved = np.moveaxis(arr3d, 0, -1)  # Move first axis to last position\n",
    "print(\"Moveaxis result shape:\", moved)"
   ]
  },
  {
   "cell_type": "markdown",
   "id": "63e9a216",
   "metadata": {},
   "source": [
    " For 3D+ arrays, you specify the new order of axes. This is useful for reshaping data for different algorithms or visualization requirements."
   ]
  },
  {
   "cell_type": "markdown",
   "id": "41941c23",
   "metadata": {},
   "source": [
    "**Concatenating and Splitting Arrays**\n",
    "\n",
    "- Combining and dividing arrays is fundamental for data manipulation"
   ]
  },
  {
   "cell_type": "code",
   "execution_count": null,
   "id": "c15b3145",
   "metadata": {},
   "outputs": [],
   "source": [
    "# Concatenation - joining arrays along existing axes\n",
    "arr1 = np.array([[1, 2], [3, 4]])\n",
    "arr2 = np.array([[5, 6], [7, 8]])\n",
    "\n",
    "# Concatenate along different axes\n",
    "concat_rows = np.concatenate([arr1, arr2], axis=0)    # Stack vertically (add rows)\n",
    "concat_cols = np.concatenate([arr1, arr2], axis=1)    # Stack horizontally (add columns)\n",
    "\n",
    "print(\"Original arrays:\")\n",
    "print(\"Array 1:\\n\", arr1)\n",
    "print(\"Array 2:\\n\", arr2)\n",
    "print(\"Concatenated vertically (axis=0):\\n\", concat_rows)\n",
    "print(\"Concatenated horizontally (axis=1):\\n\", concat_cols)"
   ]
  },
  {
   "cell_type": "markdown",
   "id": "df980425",
   "metadata": {},
   "source": [
    "`axis=0` means along rows (vertical stacking), `axis=1` means along columns (horizontal stacking). Arrays must have compatible shapes along the non-concatenated dimensions."
   ]
  },
  {
   "cell_type": "code",
   "execution_count": 36,
   "id": "6ef41da9",
   "metadata": {},
   "outputs": [
    {
     "name": "stdout",
     "output_type": "stream",
     "text": [
      "vstack (vertical):\n",
      " [[1 2]\n",
      " [3 4]\n",
      " [5 6]\n",
      " [7 8]]\n",
      "hstack (horizontal):\n",
      " [[1 2 5 6]\n",
      " [3 4 7 8]]\n",
      "dstack shape: [[[1 5]\n",
      "  [2 6]]\n",
      "\n",
      " [[3 7]\n",
      "  [4 8]]]\n",
      "Original array for splitting:\n",
      " [[ 0  1  2  3]\n",
      " [ 4  5  6  7]\n",
      " [ 8  9 10 11]]\n",
      "Split into 3 parts along rows:\n",
      "Part 0:\n",
      " [[0 1 2 3]]\n",
      "Part 1:\n",
      " [[4 5 6 7]]\n",
      "Part 2:\n",
      " [[ 8  9 10 11]]\n"
     ]
    }
   ],
   "source": [
    "# Convenient stacking functions\n",
    "vstack_result = np.vstack([arr1, arr2])     # Same as concatenate with axis=0\n",
    "hstack_result = np.hstack([arr1, arr2])     # Same as concatenate with axis=1\n",
    "dstack_result = np.dstack([arr1, arr2])     # Stack along depth (3rd dimension)\n",
    "\n",
    "print(\"vstack (vertical):\\n\", vstack_result)\n",
    "print(\"hstack (horizontal):\\n\", hstack_result)\n",
    "print(\"dstack shape:\", dstack_result)  # Creates 3D array\n",
    "\n",
    "# Splitting arrays - opposite of concatenation\n",
    "arr = np.arange(12).reshape(3, 4)\n",
    "split_arrays = np.split(arr, 3, axis=0)        # Split into 3 parts along rows\n",
    "print(\"Original array for splitting:\\n\", arr)\n",
    "print(\"Split into 3 parts along rows:\")\n",
    "for i, split_part in enumerate(split_arrays):\n",
    "    print(f\"Part {i}:\\n\", split_part)"
   ]
  },
  {
   "cell_type": "markdown",
   "id": "26bc4857",
   "metadata": {},
   "source": [
    "Stacking functions are shortcuts for concatenation. Splitting divides an array into equal parts - useful for creating training/validation sets or processing data in chunks."
   ]
  },
  {
   "cell_type": "markdown",
   "id": "23822548",
   "metadata": {},
   "source": [
    "**Mathematical Operations**\\        \n",
    "**Element-wise Operations - The Power of Vectorization**\n",
    "\n",
    "- NumPy's biggest advantage is performing operations on entire arrays without writing loop"
   ]
  },
  {
   "cell_type": "code",
   "execution_count": null,
   "id": "5f17bb3d",
   "metadata": {},
   "outputs": [],
   "source": [
    "# Basic arithmetic operations work element-by-element\n",
    "arr1 = np.array([1, 2, 3, 4])\n",
    "arr2 = np.array([10, 20, 30, 40])\n",
    "\n",
    "print(\"Array 1:\", arr1)\n",
    "print(\"Array 2:\", arr2)\n",
    "\n",
    "# All operations happen element-wise automatically\n",
    "print(\"Addition:\", arr1 + arr2)               # [11, 22, 33, 44]\n",
    "print(\"Subtraction:\", arr2 - arr1)            # [9, 18, 27, 36]\n",
    "print(\"Multiplication:\", arr1 * arr2)         # [10, 40, 90, 160]\n",
    "print(\"Division:\", arr2 / arr1)               # [10, 10, 10, 10]\n",
    "print(\"Power:\", arr1 ** 2)                    # [1, 4, 9, 16]\n",
    "print(\"Modulo:\", arr2 % 3)                    # [1, 2, 0, 1]"
   ]
  },
  {
   "cell_type": "markdown",
   "id": "ac4fb461",
   "metadata": {},
   "source": [
    " This vectorization is much faster than Python loops because the operations are implemented in optimized C code. Each operation applies to corresponding elements."
   ]
  },
  {
   "cell_type": "code",
   "execution_count": 37,
   "id": "d0bf4d1b",
   "metadata": {},
   "outputs": [
    {
     "name": "stdout",
     "output_type": "stream",
     "text": [
      "Scalar operations:\n",
      "Add 10 to all elements: [[11 12]\n",
      " [13 14]]\n",
      "Multiply all by 3: [[ 3  6]\n",
      " [ 9 12]]\n",
      "Divide all by 2: [[0.5 1. ]\n",
      " [1.5 2. ]]\n",
      "Compound operation (arr1 + 5) * 2 - 1: [[11 13]\n",
      " [15 17]]\n"
     ]
    }
   ],
   "source": [
    "# Operations with scalars - broadcasting in action\n",
    "print(\"Scalar operations:\")\n",
    "print(\"Add 10 to all elements:\", arr1 + 10)          # [11, 12, 13, 14]\n",
    "print(\"Multiply all by 3:\", arr1 * 3)               # [3, 6, 9, 12]\n",
    "print(\"Divide all by 2:\", arr1 / 2)                 # [0.5, 1, 1.5, 2]\n",
    "\n",
    "# Compound operations\n",
    "result = (arr1 + 5) * 2 - 1                         # ((arr1 + 5) * 2) - 1\n",
    "print(\"Compound operation (arr1 + 5) * 2 - 1:\", result)"
   ]
  },
  {
   "cell_type": "markdown",
   "id": "e4d41706",
   "metadata": {},
   "source": [
    "When you operate on arrays with scalars, the scalar is automatically \"broadcast\" to match the array shape. This is much more readable and efficient than manual loops"
   ]
  },
  {
   "cell_type": "markdown",
   "id": "6f2d8711",
   "metadata": {},
   "source": [
    "**Mathematical Functions - Beyond Basic Arithmetic**\n",
    "\n",
    "- NumPy provides vectorized versions of most mathematical function"
   ]
  },
  {
   "cell_type": "code",
   "execution_count": 38,
   "id": "7d947c5d",
   "metadata": {},
   "outputs": [
    {
     "name": "stdout",
     "output_type": "stream",
     "text": [
      "Original array: [ 1  4  9 16 25]\n",
      "Square root: [1. 2. 3. 4. 5.]\n",
      "Square: [  1  16  81 256 625]\n",
      "Cube root: [1.    1.587 2.08  2.52  2.924]\n",
      "Exponential: [ 2.718  7.389 20.086]\n",
      "Natural log: [0.    1.386 2.197 2.773 3.219]\n",
      "Log base 10: [0.    0.602 0.954 1.204 1.398]\n",
      "Log base 2: [0.    2.    3.17  4.    4.644]\n"
     ]
    }
   ],
   "source": [
    "# Common mathematical functions\n",
    "arr = np.array([1, 4, 9, 16, 25])\n",
    "print(\"Original array:\", arr)\n",
    "\n",
    "# Square roots and powers\n",
    "print(\"Square root:\", np.sqrt(arr))           # [1, 2, 3, 4, 5]\n",
    "print(\"Square:\", np.square(arr))              # [1, 16, 81, 256, 625]\n",
    "print(\"Cube root:\", np.cbrt(arr))\n",
    "\n",
    "# Exponential and logarithmic functions\n",
    "small_arr = np.array([1, 2, 3])\n",
    "print(\"Exponential:\", np.exp(small_arr))      # [e^1, e^2, e^3]\n",
    "print(\"Natural log:\", np.log(arr))            # ln(arr)\n",
    "print(\"Log base 10:\", np.log10(arr))\n",
    "print(\"Log base 2:\", np.log2(arr))"
   ]
  },
  {
   "cell_type": "markdown",
   "id": "f3ec43a4",
   "metadata": {},
   "source": [
    "These functions are much faster than applying Python's math functions in a loop. They also handle edge cases (like log of zero) more gracefully."
   ]
  },
  {
   "cell_type": "code",
   "execution_count": 39,
   "id": "262f1808",
   "metadata": {},
   "outputs": [
    {
     "name": "stdout",
     "output_type": "stream",
     "text": [
      "Angles (radians): [0.    0.785 1.571 3.142]\n",
      "Sine: [0.    0.707 1.    0.   ]\n",
      "Cosine: [ 1.     0.707  0.    -1.   ]\n",
      "Tangent: [ 0.000e+00  1.000e+00  1.633e+16 -1.225e-16]\n",
      "Degrees to radians: [0.    0.785 1.571 3.142]\n"
     ]
    }
   ],
   "source": [
    "# Trigonometric functions - essential for signal processing and geometry\n",
    "angles = np.array([0, np.pi/4, np.pi/2, np.pi])\n",
    "print(\"Angles (radians):\", angles)\n",
    "print(\"Sine:\", np.sin(angles))                # [0, √2/2, 1, 0]\n",
    "print(\"Cosine:\", np.cos(angles))              # [1, √2/2, 0, -1]\n",
    "print(\"Tangent:\", np.tan(angles))             # [0, 1, ∞, 0]\n",
    "\n",
    "# Convert degrees to radians\n",
    "degrees = np.array([0, 45, 90, 180])\n",
    "radians = np.deg2rad(degrees)\n",
    "print(\"Degrees to radians:\", radians)"
   ]
  },
  {
   "cell_type": "markdown",
   "id": "c81c5e44",
   "metadata": {},
   "source": [
    "Trigonometric functions expect angles in radians. Use `deg2rad()` and `rad2deg()` for conversions. These functions are essential for signal processing, computer graphics, and physics simulations."
   ]
  },
  {
   "cell_type": "code",
   "execution_count": 42,
   "id": "96ba2507",
   "metadata": {},
   "outputs": [
    {
     "name": "stdout",
     "output_type": "stream",
     "text": [
      "Original decimals: [ 1.234  5.678  9.999 -2.345]\n",
      "Round to 2 places: [ 1.23  5.68 10.   -2.35]\n",
      "Floor (round down): [ 1.  5.  9. -3.]\n",
      "Ceiling (round up): [ 2.  6. 10. -2.]\n",
      "Truncate (toward zero): [ 1.  5.  9. -2.]\n",
      "Absolute values: [1.234 5.678 9.999 2.345]\n",
      "Sign (-1, 0, or 1): [ 1.  1.  1. -1.]\n"
     ]
    }
   ],
   "source": [
    "# Rounding and comparison functions\n",
    "decimals = np.array([1.234, 5.678, 9.999, -2.345])\n",
    "print(\"Original decimals:\", decimals)\n",
    "\n",
    "print(\"Round to 2 places:\", np.round(decimals, 2))\n",
    "print(\"Floor (round down):\", np.floor(decimals))     # [1, 5, 9, -3]\n",
    "print(\"Ceiling (round up):\", np.ceil(decimals))      # [2, 6, 10, -2]\n",
    "print(\"Truncate (toward zero):\", np.trunc(decimals)) # [1, 5, 9, -2]\n",
    "\n",
    "# Absolute values and sign\n",
    "print(\"Absolute values:\", np.abs(decimals))\n",
    "print(\"Sign (-1, 0, or 1):\", np.sign(decimals))"
   ]
  },
  {
   "cell_type": "markdown",
   "id": "44e382dc",
   "metadata": {},
   "source": [
    "Different rounding functions serve different purposes. `floor()` always rounds down, `ceil()` always rounds up, `trunc()` removes the decimal part, and `round()` rounds to nearest value."
   ]
  },
  {
   "cell_type": "markdown",
   "id": "97e77f85",
   "metadata": {},
   "source": [
    "**Aggregate Functions - Summarizing Your Data**\n",
    "\n",
    "    - Aggregate functions reduce arrays to summary statistics"
   ]
  },
  {
   "cell_type": "code",
   "execution_count": 43,
   "id": "12d47e9e",
   "metadata": {},
   "outputs": [
    {
     "name": "stdout",
     "output_type": "stream",
     "text": [
      "Sample array:\n",
      " [[1 2 3]\n",
      " [4 5 6]\n",
      " [7 8 9]]\n",
      "Sum of all elements: 45\n",
      "Mean of all elements: 5.0\n",
      "Standard deviation: 2.581988897471611\n",
      "Minimum value: 1\n",
      "Maximum value: 9\n"
     ]
    }
   ],
   "source": [
    "# Create a 2D array for demonstration\n",
    "arr = np.array([[1, 2, 3], \n",
    "                [4, 5, 6], \n",
    "                [7, 8, 9]])\n",
    "print(\"Sample array:\\n\", arr)\n",
    "\n",
    "# Aggregation across entire array\n",
    "print(\"Sum of all elements:\", np.sum(arr))        # 45\n",
    "print(\"Mean of all elements:\", np.mean(arr))      # 5.0\n",
    "print(\"Standard deviation:\", np.std(arr))         # 2.58\n",
    "print(\"Minimum value:\", np.min(arr))              # 1\n",
    "print(\"Maximum value:\", np.max(arr))              # 9"
   ]
  },
  {
   "cell_type": "code",
   "execution_count": 44,
   "id": "b8184047",
   "metadata": {},
   "outputs": [
    {
     "name": "stdout",
     "output_type": "stream",
     "text": [
      "Sum along axis 0 (columns): [12 15 18]\n",
      "Sum along axis 1 (rows): [ 6 15 24]\n",
      "Mean along axis 0: [4. 5. 6.]\n",
      "Mean along axis 1: [2. 5. 8.]\n",
      "Position of max (flattened): 8\n",
      "Position of max along axis 0: [2 2 2]\n",
      "Position of max along axis 1: [2 2 2]\n"
     ]
    }
   ],
   "source": [
    "# Axis-specific aggregation - this is where NumPy shines!\n",
    "print(\"Sum along axis 0 (columns):\", np.sum(arr, axis=0))  # [12, 15, 18]\n",
    "print(\"Sum along axis 1 (rows):\", np.sum(arr, axis=1))     # [6, 15, 24]\n",
    "\n",
    "print(\"Mean along axis 0:\", np.mean(arr, axis=0))          # [4, 5, 6]\n",
    "print(\"Mean along axis 1:\", np.mean(arr, axis=1))          # [2, 5, 8]\n",
    "\n",
    "# Finding positions of extreme values\n",
    "print(\"Position of max (flattened):\", np.argmax(arr))      # 8 (element 9 at position 8)\n",
    "print(\"Position of max along axis 0:\", np.argmax(arr, axis=0))  # [2, 2, 2]\n",
    "print(\"Position of max along axis 1:\", np.argmax(arr, axis=1))  # [2, 2, 2]"
   ]
  }
 ],
 "metadata": {
  "kernelspec": {
   "display_name": "numpyvenv",
   "language": "python",
   "name": "python3"
  },
  "language_info": {
   "codemirror_mode": {
    "name": "ipython",
    "version": 3
   },
   "file_extension": ".py",
   "mimetype": "text/x-python",
   "name": "python",
   "nbconvert_exporter": "python",
   "pygments_lexer": "ipython3",
   "version": "3.13.7"
  }
 },
 "nbformat": 4,
 "nbformat_minor": 5
}
