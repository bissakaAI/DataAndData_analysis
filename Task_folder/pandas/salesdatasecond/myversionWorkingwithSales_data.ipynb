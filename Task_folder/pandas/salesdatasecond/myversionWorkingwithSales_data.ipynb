{
 "cells": [
  {
   "cell_type": "markdown",
   "id": "fcb83002",
   "metadata": {},
   "source": [
    "# SALES DATA ANALYSIS"
   ]
  },
  {
   "cell_type": "code",
   "execution_count": 312,
   "id": "bedce5ca",
   "metadata": {},
   "outputs": [],
   "source": [
    "import pandas as pd \n",
    "import numpy as np\n",
    "import matplotlib.pyplot as plt\n",
    "import os"
   ]
  },
  {
   "cell_type": "code",
   "execution_count": 313,
   "id": "80418e3b",
   "metadata": {},
   "outputs": [],
   "source": [
    "sales = pd.read_csv(\"sales_data.xls\")"
   ]
  },
  {
   "cell_type": "markdown",
   "id": "85979df5",
   "metadata": {},
   "source": [
    "# Exploratory Data Analysis"
   ]
  },
  {
   "cell_type": "code",
   "execution_count": 314,
   "id": "3934f32e",
   "metadata": {},
   "outputs": [
    {
     "data": {
      "text/html": [
       "<div>\n",
       "<style scoped>\n",
       "    .dataframe tbody tr th:only-of-type {\n",
       "        vertical-align: middle;\n",
       "    }\n",
       "\n",
       "    .dataframe tbody tr th {\n",
       "        vertical-align: top;\n",
       "    }\n",
       "\n",
       "    .dataframe thead th {\n",
       "        text-align: right;\n",
       "    }\n",
       "</style>\n",
       "<table border=\"1\" class=\"dataframe\">\n",
       "  <thead>\n",
       "    <tr style=\"text-align: right;\">\n",
       "      <th></th>\n",
       "      <th>customer_id</th>\n",
       "      <th>device_id</th>\n",
       "      <th>item_id</th>\n",
       "      <th>line_item_id</th>\n",
       "      <th>order_id</th>\n",
       "      <th>event_id</th>\n",
       "      <th>event_timestamp</th>\n",
       "      <th>quantity</th>\n",
       "      <th>currency</th>\n",
       "      <th>checked_out_at</th>\n",
       "      <th>status</th>\n",
       "      <th>location</th>\n",
       "    </tr>\n",
       "  </thead>\n",
       "  <tbody>\n",
       "    <tr>\n",
       "      <th>0</th>\n",
       "      <td>cda7bec0-7cbf-4145-baf9-e049bab94504</td>\n",
       "      <td>33b485de-7338-4997-b1d0-b988ba17b245</td>\n",
       "      <td>4</td>\n",
       "      <td>3201</td>\n",
       "      <td>9e950ce3-2e12-479c-a051-493c1a497d49</td>\n",
       "      <td>14786</td>\n",
       "      <td>2024-03-26 22:05:58.863661</td>\n",
       "      <td>2</td>\n",
       "      <td>NGN</td>\n",
       "      <td>2024-03-30 04:19:10.406794</td>\n",
       "      <td>success</td>\n",
       "      <td>Saint Helena</td>\n",
       "    </tr>\n",
       "    <tr>\n",
       "      <th>1</th>\n",
       "      <td>cda7bec0-7cbf-4145-baf9-e049bab94504</td>\n",
       "      <td>33b485de-7338-4997-b1d0-b988ba17b245</td>\n",
       "      <td>5</td>\n",
       "      <td>3202</td>\n",
       "      <td>9e950ce3-2e12-479c-a051-493c1a497d49</td>\n",
       "      <td>14786</td>\n",
       "      <td>2024-03-26 22:05:58.863661</td>\n",
       "      <td>4</td>\n",
       "      <td>NGN</td>\n",
       "      <td>2024-03-30 04:19:10.406794</td>\n",
       "      <td>success</td>\n",
       "      <td>Saint Helena</td>\n",
       "    </tr>\n",
       "    <tr>\n",
       "      <th>2</th>\n",
       "      <td>cda7bec0-7cbf-4145-baf9-e049bab94504</td>\n",
       "      <td>33b485de-7338-4997-b1d0-b988ba17b245</td>\n",
       "      <td>9</td>\n",
       "      <td>3203</td>\n",
       "      <td>9e950ce3-2e12-479c-a051-493c1a497d49</td>\n",
       "      <td>14786</td>\n",
       "      <td>2024-03-26 22:05:58.863661</td>\n",
       "      <td>5</td>\n",
       "      <td>NGN</td>\n",
       "      <td>2024-03-30 04:19:10.406794</td>\n",
       "      <td>success</td>\n",
       "      <td>Saint Helena</td>\n",
       "    </tr>\n",
       "    <tr>\n",
       "      <th>3</th>\n",
       "      <td>cda7bec0-7cbf-4145-baf9-e049bab94504</td>\n",
       "      <td>33b485de-7338-4997-b1d0-b988ba17b245</td>\n",
       "      <td>12</td>\n",
       "      <td>3204</td>\n",
       "      <td>9e950ce3-2e12-479c-a051-493c1a497d49</td>\n",
       "      <td>14786</td>\n",
       "      <td>2024-03-26 22:05:58.863661</td>\n",
       "      <td>1</td>\n",
       "      <td>NGN</td>\n",
       "      <td>2024-03-30 04:19:10.406794</td>\n",
       "      <td>success</td>\n",
       "      <td>Saint Helena</td>\n",
       "    </tr>\n",
       "  </tbody>\n",
       "</table>\n",
       "</div>"
      ],
      "text/plain": [
       "                            customer_id                             device_id  \\\n",
       "0  cda7bec0-7cbf-4145-baf9-e049bab94504  33b485de-7338-4997-b1d0-b988ba17b245   \n",
       "1  cda7bec0-7cbf-4145-baf9-e049bab94504  33b485de-7338-4997-b1d0-b988ba17b245   \n",
       "2  cda7bec0-7cbf-4145-baf9-e049bab94504  33b485de-7338-4997-b1d0-b988ba17b245   \n",
       "3  cda7bec0-7cbf-4145-baf9-e049bab94504  33b485de-7338-4997-b1d0-b988ba17b245   \n",
       "\n",
       "   item_id  line_item_id                              order_id  event_id  \\\n",
       "0        4          3201  9e950ce3-2e12-479c-a051-493c1a497d49     14786   \n",
       "1        5          3202  9e950ce3-2e12-479c-a051-493c1a497d49     14786   \n",
       "2        9          3203  9e950ce3-2e12-479c-a051-493c1a497d49     14786   \n",
       "3       12          3204  9e950ce3-2e12-479c-a051-493c1a497d49     14786   \n",
       "\n",
       "              event_timestamp  quantity currency              checked_out_at  \\\n",
       "0  2024-03-26 22:05:58.863661         2      NGN  2024-03-30 04:19:10.406794   \n",
       "1  2024-03-26 22:05:58.863661         4      NGN  2024-03-30 04:19:10.406794   \n",
       "2  2024-03-26 22:05:58.863661         5      NGN  2024-03-30 04:19:10.406794   \n",
       "3  2024-03-26 22:05:58.863661         1      NGN  2024-03-30 04:19:10.406794   \n",
       "\n",
       "    status      location  \n",
       "0  success  Saint Helena  \n",
       "1  success  Saint Helena  \n",
       "2  success  Saint Helena  \n",
       "3  success  Saint Helena  "
      ]
     },
     "execution_count": 314,
     "metadata": {},
     "output_type": "execute_result"
    }
   ],
   "source": [
    "#I am trying to check how the data is structured\n",
    "#column headings and row labels \n",
    "sales.head(4)"
   ]
  },
  {
   "cell_type": "code",
   "execution_count": 315,
   "id": "9725c6c2",
   "metadata": {},
   "outputs": [
    {
     "data": {
      "text/plain": [
       "customer_id        0\n",
       "device_id          0\n",
       "item_id            0\n",
       "line_item_id       0\n",
       "order_id           0\n",
       "event_id           0\n",
       "event_timestamp    0\n",
       "quantity           0\n",
       "currency           0\n",
       "checked_out_at     0\n",
       "status             0\n",
       "location           0\n",
       "dtype: int64"
      ]
     },
     "execution_count": 315,
     "metadata": {},
     "output_type": "execute_result"
    }
   ],
   "source": [
    "# check if there are any empty cells in the dataset \n",
    "sales.isnull().sum()"
   ]
  },
  {
   "cell_type": "code",
   "execution_count": 316,
   "id": "d12b25c5",
   "metadata": {},
   "outputs": [
    {
     "data": {
      "text/plain": [
       "(578320, 12)"
      ]
     },
     "execution_count": 316,
     "metadata": {},
     "output_type": "execute_result"
    }
   ],
   "source": [
    "#check number of column  and rows \n",
    "sales.shape"
   ]
  },
  {
   "cell_type": "code",
   "execution_count": 317,
   "id": "8891ae4d",
   "metadata": {},
   "outputs": [],
   "source": [
    "sales.set_index('location',inplace=True)"
   ]
  },
  {
   "cell_type": "code",
   "execution_count": 318,
   "id": "8f9edc6c",
   "metadata": {},
   "outputs": [
    {
     "data": {
      "text/html": [
       "<div>\n",
       "<style scoped>\n",
       "    .dataframe tbody tr th:only-of-type {\n",
       "        vertical-align: middle;\n",
       "    }\n",
       "\n",
       "    .dataframe tbody tr th {\n",
       "        vertical-align: top;\n",
       "    }\n",
       "\n",
       "    .dataframe thead th {\n",
       "        text-align: right;\n",
       "    }\n",
       "</style>\n",
       "<table border=\"1\" class=\"dataframe\">\n",
       "  <thead>\n",
       "    <tr style=\"text-align: right;\">\n",
       "      <th></th>\n",
       "      <th>customer_id</th>\n",
       "      <th>device_id</th>\n",
       "      <th>item_id</th>\n",
       "      <th>line_item_id</th>\n",
       "      <th>order_id</th>\n",
       "      <th>event_id</th>\n",
       "      <th>event_timestamp</th>\n",
       "      <th>quantity</th>\n",
       "      <th>currency</th>\n",
       "      <th>checked_out_at</th>\n",
       "      <th>status</th>\n",
       "    </tr>\n",
       "    <tr>\n",
       "      <th>location</th>\n",
       "      <th></th>\n",
       "      <th></th>\n",
       "      <th></th>\n",
       "      <th></th>\n",
       "      <th></th>\n",
       "      <th></th>\n",
       "      <th></th>\n",
       "      <th></th>\n",
       "      <th></th>\n",
       "      <th></th>\n",
       "      <th></th>\n",
       "    </tr>\n",
       "  </thead>\n",
       "  <tbody>\n",
       "    <tr>\n",
       "      <th>Saint Helena</th>\n",
       "      <td>cda7bec0-7cbf-4145-baf9-e049bab94504</td>\n",
       "      <td>33b485de-7338-4997-b1d0-b988ba17b245</td>\n",
       "      <td>4</td>\n",
       "      <td>3201</td>\n",
       "      <td>9e950ce3-2e12-479c-a051-493c1a497d49</td>\n",
       "      <td>14786</td>\n",
       "      <td>2024-03-26 22:05:58.863661</td>\n",
       "      <td>2</td>\n",
       "      <td>NGN</td>\n",
       "      <td>2024-03-30 04:19:10.406794</td>\n",
       "      <td>success</td>\n",
       "    </tr>\n",
       "    <tr>\n",
       "      <th>Saint Helena</th>\n",
       "      <td>cda7bec0-7cbf-4145-baf9-e049bab94504</td>\n",
       "      <td>33b485de-7338-4997-b1d0-b988ba17b245</td>\n",
       "      <td>5</td>\n",
       "      <td>3202</td>\n",
       "      <td>9e950ce3-2e12-479c-a051-493c1a497d49</td>\n",
       "      <td>14786</td>\n",
       "      <td>2024-03-26 22:05:58.863661</td>\n",
       "      <td>4</td>\n",
       "      <td>NGN</td>\n",
       "      <td>2024-03-30 04:19:10.406794</td>\n",
       "      <td>success</td>\n",
       "    </tr>\n",
       "    <tr>\n",
       "      <th>Saint Helena</th>\n",
       "      <td>cda7bec0-7cbf-4145-baf9-e049bab94504</td>\n",
       "      <td>33b485de-7338-4997-b1d0-b988ba17b245</td>\n",
       "      <td>9</td>\n",
       "      <td>3203</td>\n",
       "      <td>9e950ce3-2e12-479c-a051-493c1a497d49</td>\n",
       "      <td>14786</td>\n",
       "      <td>2024-03-26 22:05:58.863661</td>\n",
       "      <td>5</td>\n",
       "      <td>NGN</td>\n",
       "      <td>2024-03-30 04:19:10.406794</td>\n",
       "      <td>success</td>\n",
       "    </tr>\n",
       "  </tbody>\n",
       "</table>\n",
       "</div>"
      ],
      "text/plain": [
       "                                       customer_id  \\\n",
       "location                                             \n",
       "Saint Helena  cda7bec0-7cbf-4145-baf9-e049bab94504   \n",
       "Saint Helena  cda7bec0-7cbf-4145-baf9-e049bab94504   \n",
       "Saint Helena  cda7bec0-7cbf-4145-baf9-e049bab94504   \n",
       "\n",
       "                                         device_id  item_id  line_item_id  \\\n",
       "location                                                                    \n",
       "Saint Helena  33b485de-7338-4997-b1d0-b988ba17b245        4          3201   \n",
       "Saint Helena  33b485de-7338-4997-b1d0-b988ba17b245        5          3202   \n",
       "Saint Helena  33b485de-7338-4997-b1d0-b988ba17b245        9          3203   \n",
       "\n",
       "                                          order_id  event_id  \\\n",
       "location                                                       \n",
       "Saint Helena  9e950ce3-2e12-479c-a051-493c1a497d49     14786   \n",
       "Saint Helena  9e950ce3-2e12-479c-a051-493c1a497d49     14786   \n",
       "Saint Helena  9e950ce3-2e12-479c-a051-493c1a497d49     14786   \n",
       "\n",
       "                         event_timestamp  quantity currency  \\\n",
       "location                                                      \n",
       "Saint Helena  2024-03-26 22:05:58.863661         2      NGN   \n",
       "Saint Helena  2024-03-26 22:05:58.863661         4      NGN   \n",
       "Saint Helena  2024-03-26 22:05:58.863661         5      NGN   \n",
       "\n",
       "                          checked_out_at   status  \n",
       "location                                           \n",
       "Saint Helena  2024-03-30 04:19:10.406794  success  \n",
       "Saint Helena  2024-03-30 04:19:10.406794  success  \n",
       "Saint Helena  2024-03-30 04:19:10.406794  success  "
      ]
     },
     "execution_count": 318,
     "metadata": {},
     "output_type": "execute_result"
    }
   ],
   "source": [
    "sales.head(3)"
   ]
  },
  {
   "cell_type": "code",
   "execution_count": 319,
   "id": "e723285b",
   "metadata": {},
   "outputs": [
    {
     "data": {
      "text/plain": [
       "Index(['Saint Helena', 'Saint Helena', 'Saint Helena', 'Saint Helena',\n",
       "       'Saint Helena', 'Saint Helena', 'Saint Helena', 'Saint Helena',\n",
       "       'Saint Helena', 'Saint Helena',\n",
       "       ...\n",
       "       'Christmas Island', 'Christmas Island', 'Christmas Island',\n",
       "       'Christmas Island', 'Christmas Island', 'Christmas Island',\n",
       "       'Christmas Island', 'Christmas Island', 'Christmas Island',\n",
       "       'Christmas Island'],\n",
       "      dtype='object', name='location', length=578320)"
      ]
     },
     "execution_count": 319,
     "metadata": {},
     "output_type": "execute_result"
    }
   ],
   "source": [
    "sales.index"
   ]
  },
  {
   "cell_type": "code",
   "execution_count": 320,
   "id": "fe9af813",
   "metadata": {},
   "outputs": [
    {
     "data": {
      "text/plain": [
       "Index(['Afghanistan', 'Albania', 'Algeria', 'American Samoa', 'Andorra',\n",
       "       'Angola', 'Anguilla', 'Antarctica (the territory South of 60 deg S)',\n",
       "       'Antigua and Barbuda', 'Argentina',\n",
       "       ...\n",
       "       'Uruguay', 'Uzbekistan', 'Vanuatu', 'Venezuela', 'Vietnam',\n",
       "       'Wallis and Futuna', 'Western Sahara', 'Yemen', 'Zambia', 'Zimbabwe'],\n",
       "      dtype='object', name='location', length=243)"
      ]
     },
     "execution_count": 320,
     "metadata": {},
     "output_type": "execute_result"
    }
   ],
   "source": [
    "# list af all the locations or countries where all the customers purchase from...\n",
    "unique_index = sales.index.unique().sort_values()\n",
    "unique_index"
   ]
  },
  {
   "cell_type": "code",
   "execution_count": 321,
   "id": "e4ffcb9f",
   "metadata": {},
   "outputs": [
    {
     "data": {
      "text/plain": [
       "243"
      ]
     },
     "execution_count": 321,
     "metadata": {},
     "output_type": "execute_result"
    }
   ],
   "source": [
    "#check the number of unique states in the data . this is where the sales is present\n",
    "unique_index.nunique()"
   ]
  },
  {
   "cell_type": "code",
   "execution_count": 322,
   "id": "090f53df",
   "metadata": {},
   "outputs": [
    {
     "data": {
      "text/plain": [
       "location\n",
       "Korea            6997\n",
       "Argentina        4507\n",
       "Mauritius        4414\n",
       "Jersey           4130\n",
       "Panama           3936\n",
       "French Guiana    3851\n",
       "Guernsey         3804\n",
       "Guatemala        3731\n",
       "Albania          3721\n",
       "Philippines      3675\n",
       "Name: count, dtype: int64"
      ]
     },
     "execution_count": 322,
     "metadata": {},
     "output_type": "execute_result"
    }
   ],
   "source": [
    "#check the number of times each location appears and put it in decreasing order\n",
    "#top 10 \n",
    "sales.index.value_counts().sort_values(ascending=False).head(10)"
   ]
  },
  {
   "cell_type": "code",
   "execution_count": 323,
   "id": "77e3f701",
   "metadata": {},
   "outputs": [
    {
     "data": {
      "text/plain": [
       "location\n",
       "Greece                     1214\n",
       "Saint Kitts and Nevis      1201\n",
       "Honduras                   1195\n",
       "Cocos (Keeling) Islands    1168\n",
       "Taiwan                     1122\n",
       "Chad                       1082\n",
       "Malaysia                   1037\n",
       "Austria                     921\n",
       "Italy                       783\n",
       "Uruguay                     734\n",
       "Name: count, dtype: int64"
      ]
     },
     "execution_count": 323,
     "metadata": {},
     "output_type": "execute_result"
    }
   ],
   "source": [
    "# i need to check why these ones have very low occurence \n",
    "sales.index.value_counts().sort_values(ascending=False).tail(10)"
   ]
  },
  {
   "cell_type": "code",
   "execution_count": 324,
   "id": "45ac478c",
   "metadata": {},
   "outputs": [
    {
     "data": {
      "text/plain": [
       "<Axes: xlabel='location'>"
      ]
     },
     "execution_count": 324,
     "metadata": {},
     "output_type": "execute_result"
    },
    {
     "data": {
      "image/png": "[encoded data removed]",
      "text/plain": [
       "<Figure size 640x480 with 1 Axes>"
      ]
     },
     "metadata": {},
     "output_type": "display_data"
    }
   ],
   "source": [
    "sales.index.value_counts().head(10).plot(kind='bar')"
   ]
  },
  {
   "cell_type": "code",
   "execution_count": 325,
   "id": "6d17ec0f",
   "metadata": {},
   "outputs": [
    {
     "data": {
      "text/plain": [
       "<Axes: xlabel='location'>"
      ]
     },
     "execution_count": 325,
     "metadata": {},
     "output_type": "execute_result"
    },
    {
     "data": {
      "image/png": "[encoded data removed]",
      "text/plain": [
       "<Figure size 2000x2000 with 1 Axes>"
      ]
     },
     "metadata": {},
     "output_type": "display_data"
    }
   ],
   "source": [
    "sales.index.value_counts().head(100).plot(kind='bar',figsize=(20,20))"
   ]
  },
  {
   "cell_type": "code",
   "execution_count": 326,
   "id": "930f1694",
   "metadata": {},
   "outputs": [
    {
     "data": {
      "text/plain": [
       "<Axes: xlabel='location'>"
      ]
     },
     "execution_count": 326,
     "metadata": {},
     "output_type": "execute_result"
    },
    {
     "data": {
      "image/png": "[encoded data removed]",
      "text/plain": [
       "<Figure size 640x480 with 1 Axes>"
      ]
     },
     "metadata": {},
     "output_type": "display_data"
    }
   ],
   "source": [
    "sales.index.value_counts().tail(10).plot(kind='bar')"
   ]
  },
  {
   "cell_type": "code",
   "execution_count": 327,
   "id": "1855edfe",
   "metadata": {},
   "outputs": [
    {
     "data": {
      "text/plain": [
       "<Axes: xlabel='location'>"
      ]
     },
     "execution_count": 327,
     "metadata": {},
     "output_type": "execute_result"
    },
    {
     "data": {
      "image/png": "[encoded data removed]",
      "text/plain": [
       "<Figure size 2000x2000 with 1 Axes>"
      ]
     },
     "metadata": {},
     "output_type": "display_data"
    }
   ],
   "source": [
    "sales.index.value_counts().tail(100).plot(kind='bar',figsize=(20,20))"
   ]
  },
  {
   "cell_type": "code",
   "execution_count": 328,
   "id": "a08f9c52",
   "metadata": {},
   "outputs": [
    {
     "data": {
      "text/plain": [
       "243"
      ]
     },
     "execution_count": 328,
     "metadata": {},
     "output_type": "execute_result"
    }
   ],
   "source": [
    "unique_index.nunique()"
   ]
  },
  {
   "cell_type": "code",
   "execution_count": 329,
   "id": "757aebac",
   "metadata": {},
   "outputs": [
    {
     "data": {
      "text/plain": [
       "Index(['customer_id', 'device_id', 'item_id', 'line_item_id', 'order_id',\n",
       "       'event_id', 'event_timestamp', 'quantity', 'currency', 'checked_out_at',\n",
       "       'status'],\n",
       "      dtype='object')"
      ]
     },
     "execution_count": 329,
     "metadata": {},
     "output_type": "execute_result"
    }
   ],
   "source": [
    "sales.columns"
   ]
  },
  {
   "cell_type": "code",
   "execution_count": 330,
   "id": "440bf747",
   "metadata": {},
   "outputs": [
    {
     "data": {
      "text/plain": [
       "11"
      ]
     },
     "execution_count": 330,
     "metadata": {},
     "output_type": "execute_result"
    }
   ],
   "source": [
    "sales.columns.nunique()"
   ]
  },
  {
   "cell_type": "code",
   "execution_count": 331,
   "id": "1b3fdaa4",
   "metadata": {},
   "outputs": [
    {
     "data": {
      "text/plain": [
       "11"
      ]
     },
     "execution_count": 331,
     "metadata": {},
     "output_type": "execute_result"
    }
   ],
   "source": [
    "len(sales.columns)"
   ]
  },
  {
   "cell_type": "code",
   "execution_count": 332,
   "id": "ed0740e2",
   "metadata": {},
   "outputs": [
    {
     "data": {
      "text/plain": [
       "4594"
      ]
     },
     "execution_count": 332,
     "metadata": {},
     "output_type": "execute_result"
    }
   ],
   "source": [
    "#we have 4594 unique customer ID's\n",
    "sales[\"customer_id\"].nunique()"
   ]
  },
  {
   "cell_type": "code",
   "execution_count": 333,
   "id": "f612cff1",
   "metadata": {},
   "outputs": [
    {
     "data": {
      "text/html": [
       "<div>\n",
       "<style scoped>\n",
       "    .dataframe tbody tr th:only-of-type {\n",
       "        vertical-align: middle;\n",
       "    }\n",
       "\n",
       "    .dataframe tbody tr th {\n",
       "        vertical-align: top;\n",
       "    }\n",
       "\n",
       "    .dataframe thead th {\n",
       "        text-align: right;\n",
       "    }\n",
       "</style>\n",
       "<table border=\"1\" class=\"dataframe\">\n",
       "  <thead>\n",
       "    <tr style=\"text-align: right;\">\n",
       "      <th></th>\n",
       "      <th>customer_id</th>\n",
       "      <th>device_id</th>\n",
       "      <th>item_id</th>\n",
       "      <th>line_item_id</th>\n",
       "      <th>order_id</th>\n",
       "      <th>event_id</th>\n",
       "      <th>event_timestamp</th>\n",
       "      <th>quantity</th>\n",
       "      <th>currency</th>\n",
       "      <th>checked_out_at</th>\n",
       "      <th>status</th>\n",
       "    </tr>\n",
       "    <tr>\n",
       "      <th>location</th>\n",
       "      <th></th>\n",
       "      <th></th>\n",
       "      <th></th>\n",
       "      <th></th>\n",
       "      <th></th>\n",
       "      <th></th>\n",
       "      <th></th>\n",
       "      <th></th>\n",
       "      <th></th>\n",
       "      <th></th>\n",
       "      <th></th>\n",
       "    </tr>\n",
       "  </thead>\n",
       "  <tbody>\n",
       "    <tr>\n",
       "      <th>Saint Helena</th>\n",
       "      <td>cda7bec0-7cbf-4145-baf9-e049bab94504</td>\n",
       "      <td>33b485de-7338-4997-b1d0-b988ba17b245</td>\n",
       "      <td>4</td>\n",
       "      <td>3201</td>\n",
       "      <td>9e950ce3-2e12-479c-a051-493c1a497d49</td>\n",
       "      <td>14786</td>\n",
       "      <td>2024-03-26 22:05:58.863661</td>\n",
       "      <td>2</td>\n",
       "      <td>NGN</td>\n",
       "      <td>2024-03-30 04:19:10.406794</td>\n",
       "      <td>success</td>\n",
       "    </tr>\n",
       "    <tr>\n",
       "      <th>Saint Helena</th>\n",
       "      <td>cda7bec0-7cbf-4145-baf9-e049bab94504</td>\n",
       "      <td>33b485de-7338-4997-b1d0-b988ba17b245</td>\n",
       "      <td>5</td>\n",
       "      <td>3202</td>\n",
       "      <td>9e950ce3-2e12-479c-a051-493c1a497d49</td>\n",
       "      <td>14786</td>\n",
       "      <td>2024-03-26 22:05:58.863661</td>\n",
       "      <td>4</td>\n",
       "      <td>NGN</td>\n",
       "      <td>2024-03-30 04:19:10.406794</td>\n",
       "      <td>success</td>\n",
       "    </tr>\n",
       "    <tr>\n",
       "      <th>Saint Helena</th>\n",
       "      <td>cda7bec0-7cbf-4145-baf9-e049bab94504</td>\n",
       "      <td>33b485de-7338-4997-b1d0-b988ba17b245</td>\n",
       "      <td>9</td>\n",
       "      <td>3203</td>\n",
       "      <td>9e950ce3-2e12-479c-a051-493c1a497d49</td>\n",
       "      <td>14786</td>\n",
       "      <td>2024-03-26 22:05:58.863661</td>\n",
       "      <td>5</td>\n",
       "      <td>NGN</td>\n",
       "      <td>2024-03-30 04:19:10.406794</td>\n",
       "      <td>success</td>\n",
       "    </tr>\n",
       "    <tr>\n",
       "      <th>Saint Helena</th>\n",
       "      <td>cda7bec0-7cbf-4145-baf9-e049bab94504</td>\n",
       "      <td>33b485de-7338-4997-b1d0-b988ba17b245</td>\n",
       "      <td>12</td>\n",
       "      <td>3204</td>\n",
       "      <td>9e950ce3-2e12-479c-a051-493c1a497d49</td>\n",
       "      <td>14786</td>\n",
       "      <td>2024-03-26 22:05:58.863661</td>\n",
       "      <td>1</td>\n",
       "      <td>NGN</td>\n",
       "      <td>2024-03-30 04:19:10.406794</td>\n",
       "      <td>success</td>\n",
       "    </tr>\n",
       "    <tr>\n",
       "      <th>Saint Helena</th>\n",
       "      <td>cda7bec0-7cbf-4145-baf9-e049bab94504</td>\n",
       "      <td>33b485de-7338-4997-b1d0-b988ba17b245</td>\n",
       "      <td>6</td>\n",
       "      <td>3205</td>\n",
       "      <td>9e950ce3-2e12-479c-a051-493c1a497d49</td>\n",
       "      <td>14786</td>\n",
       "      <td>2024-03-26 22:05:58.863661</td>\n",
       "      <td>2</td>\n",
       "      <td>NGN</td>\n",
       "      <td>2024-03-30 04:19:10.406794</td>\n",
       "      <td>success</td>\n",
       "    </tr>\n",
       "  </tbody>\n",
       "</table>\n",
       "</div>"
      ],
      "text/plain": [
       "                                       customer_id  \\\n",
       "location                                             \n",
       "Saint Helena  cda7bec0-7cbf-4145-baf9-e049bab94504   \n",
       "Saint Helena  cda7bec0-7cbf-4145-baf9-e049bab94504   \n",
       "Saint Helena  cda7bec0-7cbf-4145-baf9-e049bab94504   \n",
       "Saint Helena  cda7bec0-7cbf-4145-baf9-e049bab94504   \n",
       "Saint Helena  cda7bec0-7cbf-4145-baf9-e049bab94504   \n",
       "\n",
       "                                         device_id  item_id  line_item_id  \\\n",
       "location                                                                    \n",
       "Saint Helena  33b485de-7338-4997-b1d0-b988ba17b245        4          3201   \n",
       "Saint Helena  33b485de-7338-4997-b1d0-b988ba17b245        5          3202   \n",
       "Saint Helena  33b485de-7338-4997-b1d0-b988ba17b245        9          3203   \n",
       "Saint Helena  33b485de-7338-4997-b1d0-b988ba17b245       12          3204   \n",
       "Saint Helena  33b485de-7338-4997-b1d0-b988ba17b245        6          3205   \n",
       "\n",
       "                                          order_id  event_id  \\\n",
       "location                                                       \n",
       "Saint Helena  9e950ce3-2e12-479c-a051-493c1a497d49     14786   \n",
       "Saint Helena  9e950ce3-2e12-479c-a051-493c1a497d49     14786   \n",
       "Saint Helena  9e950ce3-2e12-479c-a051-493c1a497d49     14786   \n",
       "Saint Helena  9e950ce3-2e12-479c-a051-493c1a497d49     14786   \n",
       "Saint Helena  9e950ce3-2e12-479c-a051-493c1a497d49     14786   \n",
       "\n",
       "                         event_timestamp  quantity currency  \\\n",
       "location                                                      \n",
       "Saint Helena  2024-03-26 22:05:58.863661         2      NGN   \n",
       "Saint Helena  2024-03-26 22:05:58.863661         4      NGN   \n",
       "Saint Helena  2024-03-26 22:05:58.863661         5      NGN   \n",
       "Saint Helena  2024-03-26 22:05:58.863661         1      NGN   \n",
       "Saint Helena  2024-03-26 22:05:58.863661         2      NGN   \n",
       "\n",
       "                          checked_out_at   status  \n",
       "location                                           \n",
       "Saint Helena  2024-03-30 04:19:10.406794  success  \n",
       "Saint Helena  2024-03-30 04:19:10.406794  success  \n",
       "Saint Helena  2024-03-30 04:19:10.406794  success  \n",
       "Saint Helena  2024-03-30 04:19:10.406794  success  \n",
       "Saint Helena  2024-03-30 04:19:10.406794  success  "
      ]
     },
     "execution_count": 333,
     "metadata": {},
     "output_type": "execute_result"
    }
   ],
   "source": [
    "sales.head()"
   ]
  },
  {
   "cell_type": "code",
   "execution_count": 334,
   "id": "0820eafd",
   "metadata": {},
   "outputs": [
    {
     "data": {
      "text/plain": [
       "location\n",
       "Saint Helena    cda7bec0-7cbf-4145-baf9-e049bab94504\n",
       "Saint Helena    cda7bec0-7cbf-4145-baf9-e049bab94504\n",
       "Saint Helena    cda7bec0-7cbf-4145-baf9-e049bab94504\n",
       "Saint Helena    cda7bec0-7cbf-4145-baf9-e049bab94504\n",
       "Saint Helena    cda7bec0-7cbf-4145-baf9-e049bab94504\n",
       "Name: customer_id, dtype: object"
      ]
     },
     "execution_count": 334,
     "metadata": {},
     "output_type": "execute_result"
    }
   ],
   "source": [
    "#grouped it by location\n",
    "sales['customer_id'].head()"
   ]
  },
  {
   "cell_type": "code",
   "execution_count": 335,
   "id": "6b6c5289",
   "metadata": {},
   "outputs": [
    {
     "data": {
      "text/plain": [
       "location\n",
       "Christmas Island    ef15a7b3-326c-405f-9eef-3dbf43c85a9d\n",
       "Christmas Island    ef15a7b3-326c-405f-9eef-3dbf43c85a9d\n",
       "Christmas Island    ef15a7b3-326c-405f-9eef-3dbf43c85a9d\n",
       "Christmas Island    ef15a7b3-326c-405f-9eef-3dbf43c85a9d\n",
       "Christmas Island    ef15a7b3-326c-405f-9eef-3dbf43c85a9d\n",
       "Name: customer_id, dtype: object"
      ]
     },
     "execution_count": 335,
     "metadata": {},
     "output_type": "execute_result"
    }
   ],
   "source": [
    "sales['customer_id'].tail()"
   ]
  },
  {
   "cell_type": "code",
   "execution_count": 336,
   "id": "2cbd447b",
   "metadata": {},
   "outputs": [
    {
     "data": {
      "text/plain": [
       "location        customer_id                         \n",
       "Saint Helena    eb7dcb88-073d-403e-bdd4-1e5725fe2338    372\n",
       "Nauru           a7d9058a-163e-4632-9bde-1f57130130cb    360\n",
       "United Kingdom  12e94262-2eaa-47d9-85c9-6f55e434f5c8    360\n",
       "Comoros         be8ce4e3-c596-43c2-8b70-bdcecada2139    360\n",
       "Argentina       c391f179-9eb3-418d-9d7b-b261f2dc57a6    360\n",
       "Name: count, dtype: int64"
      ]
     },
     "execution_count": 336,
     "metadata": {},
     "output_type": "execute_result"
    }
   ],
   "source": [
    "#this is showing the customer ids that appear least and most with the state they ordered from \n",
    "locationgroup = sales.groupby('location')['customer_id'].value_counts().sort_values(ascending=False)\n",
    "locationgroup.head()\n"
   ]
  },
  {
   "cell_type": "code",
   "execution_count": 337,
   "id": "eab9768c",
   "metadata": {},
   "outputs": [
    {
     "data": {
      "text/plain": [
       "location                          customer_id                         \n",
       "Lao People's Democratic Republic  020a728c-76fb-404e-9135-ae9ccd7709ee    3\n",
       "Cayman Islands                    4e412d78-27e6-42b2-803d-0762df783312    3\n",
       "Lao People's Democratic Republic  81d65a2c-0fd0-4d83-9dee-2d435b3926ab    3\n",
       "Bhutan                            cf9e159a-aff9-4049-aa81-a90550a64d14    3\n",
       "American Samoa                    ea724654-3ddb-4ffb-bb69-d36ee291c7cf    3\n",
       "Name: count, dtype: int64"
      ]
     },
     "execution_count": 337,
     "metadata": {},
     "output_type": "execute_result"
    }
   ],
   "source": [
    "locationgroup.tail()"
   ]
  },
  {
   "cell_type": "code",
   "execution_count": 338,
   "id": "1c8a29d6",
   "metadata": {},
   "outputs": [
    {
     "data": {
      "text/plain": [
       "customer_id\n",
       "ae74034a-58a5-45a6-83e6-5a2f5157b974    288\n",
       "0e6d8a1e-3203-40c5-92df-29c951149ade    264\n",
       "2bfed359-1587-4783-ac3e-d81b65f6633e    264\n",
       "21346664-b09d-4ad5-86af-e3ff7ccc3c51    253\n",
       "b80e34de-6c93-487d-abb8-ab350a8a4caf    240\n",
       "22be1a7f-8c37-4d70-a4ba-c9324e04e24e    231\n",
       "92fe5320-931d-4ac7-a102-83d357c6db93    220\n",
       "9ee13bb4-8252-4b7e-aeb1-5d0b84d48367    209\n",
       "f7a28416-bf47-43b8-a5ef-59d425f67c8b    209\n",
       "fd358fed-8437-4df2-8c67-08f548d1e962    189\n",
       "006db9e0-aaa7-49bc-9659-2ac0a527cb03    153\n",
       "320cf5c1-82c1-4ed4-830a-9184abfc9e25    153\n",
       "64e8f000-964e-46c6-bd46-3dcecd425191    144\n",
       "f54915b9-72f0-4d18-8c5d-66e842c6757b     90\n",
       "c03710fb-c19d-42c0-98c6-079560ab01f4     78\n",
       "d5423953-3f1e-420d-9c2d-bc040f3bda1d     70\n",
       "d2e74323-5bea-416e-8c1b-1627790c766b     44\n",
       "5421bae9-0d5c-4460-b066-6d2d740b7c4a     26\n",
       "d57e08eb-e2a5-436d-800e-0ab7bad16877     16\n",
       "53612dad-b7ee-4a9e-880e-3f210336e7b1     10\n",
       "cf9e159a-aff9-4049-aa81-a90550a64d14      3\n",
       "Name: count, dtype: int64"
      ]
     },
     "execution_count": 338,
     "metadata": {},
     "output_type": "execute_result"
    }
   ],
   "source": [
    "#i tried to check the distribution of customer Id in Bhutan\n",
    "locationgroup.loc['Bhutan']"
   ]
  },
  {
   "cell_type": "markdown",
   "id": "48f27e13",
   "metadata": {},
   "source": [
    "i want to check korea "
   ]
  },
  {
   "cell_type": "code",
   "execution_count": 339,
   "id": "48a8a9b2",
   "metadata": {},
   "outputs": [],
   "source": [
    "korea = sales.loc['Korea']\n",
    "Argentina = sales.loc['Argentina']\n",
    "italy = sales.loc['Italy']\n",
    "uruguay= sales.loc['Uruguay']"
   ]
  },
  {
   "cell_type": "code",
   "execution_count": 340,
   "id": "839c8ccf",
   "metadata": {},
   "outputs": [
    {
     "data": {
      "text/html": [
       "<div>\n",
       "<style scoped>\n",
       "    .dataframe tbody tr th:only-of-type {\n",
       "        vertical-align: middle;\n",
       "    }\n",
       "\n",
       "    .dataframe tbody tr th {\n",
       "        vertical-align: top;\n",
       "    }\n",
       "\n",
       "    .dataframe thead th {\n",
       "        text-align: right;\n",
       "    }\n",
       "</style>\n",
       "<table border=\"1\" class=\"dataframe\">\n",
       "  <thead>\n",
       "    <tr style=\"text-align: right;\">\n",
       "      <th></th>\n",
       "      <th>customer_id</th>\n",
       "      <th>device_id</th>\n",
       "      <th>item_id</th>\n",
       "      <th>line_item_id</th>\n",
       "      <th>order_id</th>\n",
       "      <th>event_id</th>\n",
       "      <th>event_timestamp</th>\n",
       "      <th>quantity</th>\n",
       "      <th>currency</th>\n",
       "      <th>checked_out_at</th>\n",
       "      <th>status</th>\n",
       "    </tr>\n",
       "    <tr>\n",
       "      <th>location</th>\n",
       "      <th></th>\n",
       "      <th></th>\n",
       "      <th></th>\n",
       "      <th></th>\n",
       "      <th></th>\n",
       "      <th></th>\n",
       "      <th></th>\n",
       "      <th></th>\n",
       "      <th></th>\n",
       "      <th></th>\n",
       "      <th></th>\n",
       "    </tr>\n",
       "  </thead>\n",
       "  <tbody>\n",
       "    <tr>\n",
       "      <th>Korea</th>\n",
       "      <td>3b0ae8c1-68c6-40c8-a13a-e2bffb5ffdf9</td>\n",
       "      <td>01cf516e-66e6-45f2-a6d6-b6f5f5232778</td>\n",
       "      <td>14</td>\n",
       "      <td>3914</td>\n",
       "      <td>b253052f-6f62-4b1f-bce2-ab2324a2a27c</td>\n",
       "      <td>18219</td>\n",
       "      <td>2024-03-19 10:01:39.523573</td>\n",
       "      <td>5</td>\n",
       "      <td>USD</td>\n",
       "      <td>2024-03-30 04:06:10.636247</td>\n",
       "      <td>cancelled</td>\n",
       "    </tr>\n",
       "    <tr>\n",
       "      <th>Korea</th>\n",
       "      <td>3b0ae8c1-68c6-40c8-a13a-e2bffb5ffdf9</td>\n",
       "      <td>01cf516e-66e6-45f2-a6d6-b6f5f5232778</td>\n",
       "      <td>8</td>\n",
       "      <td>3915</td>\n",
       "      <td>b253052f-6f62-4b1f-bce2-ab2324a2a27c</td>\n",
       "      <td>18219</td>\n",
       "      <td>2024-03-19 10:01:39.523573</td>\n",
       "      <td>2</td>\n",
       "      <td>USD</td>\n",
       "      <td>2024-03-30 04:06:10.636247</td>\n",
       "      <td>cancelled</td>\n",
       "    </tr>\n",
       "  </tbody>\n",
       "</table>\n",
       "</div>"
      ],
      "text/plain": [
       "                                   customer_id  \\\n",
       "location                                         \n",
       "Korea     3b0ae8c1-68c6-40c8-a13a-e2bffb5ffdf9   \n",
       "Korea     3b0ae8c1-68c6-40c8-a13a-e2bffb5ffdf9   \n",
       "\n",
       "                                     device_id  item_id  line_item_id  \\\n",
       "location                                                                \n",
       "Korea     01cf516e-66e6-45f2-a6d6-b6f5f5232778       14          3914   \n",
       "Korea     01cf516e-66e6-45f2-a6d6-b6f5f5232778        8          3915   \n",
       "\n",
       "                                      order_id  event_id  \\\n",
       "location                                                   \n",
       "Korea     b253052f-6f62-4b1f-bce2-ab2324a2a27c     18219   \n",
       "Korea     b253052f-6f62-4b1f-bce2-ab2324a2a27c     18219   \n",
       "\n",
       "                     event_timestamp  quantity currency  \\\n",
       "location                                                  \n",
       "Korea     2024-03-19 10:01:39.523573         5      USD   \n",
       "Korea     2024-03-19 10:01:39.523573         2      USD   \n",
       "\n",
       "                      checked_out_at     status  \n",
       "location                                         \n",
       "Korea     2024-03-30 04:06:10.636247  cancelled  \n",
       "Korea     2024-03-30 04:06:10.636247  cancelled  "
      ]
     },
     "execution_count": 340,
     "metadata": {},
     "output_type": "execute_result"
    }
   ],
   "source": [
    "korea.head(2)"
   ]
  },
  {
   "cell_type": "code",
   "execution_count": 341,
   "id": "e3edac22",
   "metadata": {},
   "outputs": [
    {
     "data": {
      "text/html": [
       "<div>\n",
       "<style scoped>\n",
       "    .dataframe tbody tr th:only-of-type {\n",
       "        vertical-align: middle;\n",
       "    }\n",
       "\n",
       "    .dataframe tbody tr th {\n",
       "        vertical-align: top;\n",
       "    }\n",
       "\n",
       "    .dataframe thead th {\n",
       "        text-align: right;\n",
       "    }\n",
       "</style>\n",
       "<table border=\"1\" class=\"dataframe\">\n",
       "  <thead>\n",
       "    <tr style=\"text-align: right;\">\n",
       "      <th></th>\n",
       "      <th>item_id</th>\n",
       "      <th>line_item_id</th>\n",
       "      <th>event_id</th>\n",
       "      <th>quantity</th>\n",
       "    </tr>\n",
       "  </thead>\n",
       "  <tbody>\n",
       "    <tr>\n",
       "      <th>count</th>\n",
       "      <td>6997.000000</td>\n",
       "      <td>6997.000000</td>\n",
       "      <td>6997.000000</td>\n",
       "      <td>6997.000000</td>\n",
       "    </tr>\n",
       "    <tr>\n",
       "      <th>mean</th>\n",
       "      <td>8.081892</td>\n",
       "      <td>17213.773046</td>\n",
       "      <td>79731.335144</td>\n",
       "      <td>2.976418</td>\n",
       "    </tr>\n",
       "    <tr>\n",
       "      <th>std</th>\n",
       "      <td>4.412644</td>\n",
       "      <td>8567.112513</td>\n",
       "      <td>39731.170456</td>\n",
       "      <td>1.387743</td>\n",
       "    </tr>\n",
       "    <tr>\n",
       "      <th>min</th>\n",
       "      <td>1.000000</td>\n",
       "      <td>3914.000000</td>\n",
       "      <td>18219.000000</td>\n",
       "      <td>1.000000</td>\n",
       "    </tr>\n",
       "    <tr>\n",
       "      <th>25%</th>\n",
       "      <td>4.000000</td>\n",
       "      <td>9593.000000</td>\n",
       "      <td>44311.000000</td>\n",
       "      <td>2.000000</td>\n",
       "    </tr>\n",
       "    <tr>\n",
       "      <th>50%</th>\n",
       "      <td>8.000000</td>\n",
       "      <td>17837.000000</td>\n",
       "      <td>82671.000000</td>\n",
       "      <td>3.000000</td>\n",
       "    </tr>\n",
       "    <tr>\n",
       "      <th>75%</th>\n",
       "      <td>12.000000</td>\n",
       "      <td>24031.000000</td>\n",
       "      <td>111260.000000</td>\n",
       "      <td>4.000000</td>\n",
       "    </tr>\n",
       "    <tr>\n",
       "      <th>max</th>\n",
       "      <td>15.000000</td>\n",
       "      <td>34179.000000</td>\n",
       "      <td>158594.000000</td>\n",
       "      <td>5.000000</td>\n",
       "    </tr>\n",
       "  </tbody>\n",
       "</table>\n",
       "</div>"
      ],
      "text/plain": [
       "           item_id  line_item_id       event_id     quantity\n",
       "count  6997.000000   6997.000000    6997.000000  6997.000000\n",
       "mean      8.081892  17213.773046   79731.335144     2.976418\n",
       "std       4.412644   8567.112513   39731.170456     1.387743\n",
       "min       1.000000   3914.000000   18219.000000     1.000000\n",
       "25%       4.000000   9593.000000   44311.000000     2.000000\n",
       "50%       8.000000  17837.000000   82671.000000     3.000000\n",
       "75%      12.000000  24031.000000  111260.000000     4.000000\n",
       "max      15.000000  34179.000000  158594.000000     5.000000"
      ]
     },
     "execution_count": 341,
     "metadata": {},
     "output_type": "execute_result"
    }
   ],
   "source": [
    "korea.describe()"
   ]
  },
  {
   "cell_type": "code",
   "execution_count": 342,
   "id": "a82f9e8b",
   "metadata": {},
   "outputs": [
    {
     "name": "stdout",
     "output_type": "stream",
     "text": [
      "<class 'pandas.core.frame.DataFrame'>\n",
      "Index: 6997 entries, Korea to Korea\n",
      "Data columns (total 11 columns):\n",
      " #   Column           Non-Null Count  Dtype \n",
      "---  ------           --------------  ----- \n",
      " 0   customer_id      6997 non-null   object\n",
      " 1   device_id        6997 non-null   object\n",
      " 2   item_id          6997 non-null   int64 \n",
      " 3   line_item_id     6997 non-null   int64 \n",
      " 4   order_id         6997 non-null   object\n",
      " 5   event_id         6997 non-null   int64 \n",
      " 6   event_timestamp  6997 non-null   object\n",
      " 7   quantity         6997 non-null   int64 \n",
      " 8   currency         6997 non-null   object\n",
      " 9   checked_out_at   6997 non-null   object\n",
      " 10  status           6997 non-null   object\n",
      "dtypes: int64(4), object(7)\n",
      "memory usage: 656.0+ KB\n"
     ]
    }
   ],
   "source": [
    "korea.info()"
   ]
  },
  {
   "cell_type": "markdown",
   "id": "4b0aeb1d",
   "metadata": {},
   "source": [
    "the date is not in datetime , the checkout time too "
   ]
  },
  {
   "cell_type": "code",
   "execution_count": 343,
   "id": "7005f0e0",
   "metadata": {},
   "outputs": [
    {
     "data": {
      "text/html": [
       "<div>\n",
       "<style scoped>\n",
       "    .dataframe tbody tr th:only-of-type {\n",
       "        vertical-align: middle;\n",
       "    }\n",
       "\n",
       "    .dataframe tbody tr th {\n",
       "        vertical-align: top;\n",
       "    }\n",
       "\n",
       "    .dataframe thead th {\n",
       "        text-align: right;\n",
       "    }\n",
       "</style>\n",
       "<table border=\"1\" class=\"dataframe\">\n",
       "  <thead>\n",
       "    <tr style=\"text-align: right;\">\n",
       "      <th></th>\n",
       "      <th>customer_id</th>\n",
       "      <th>device_id</th>\n",
       "      <th>item_id</th>\n",
       "      <th>line_item_id</th>\n",
       "      <th>order_id</th>\n",
       "      <th>event_id</th>\n",
       "      <th>event_timestamp</th>\n",
       "      <th>quantity</th>\n",
       "      <th>currency</th>\n",
       "      <th>checked_out_at</th>\n",
       "      <th>status</th>\n",
       "    </tr>\n",
       "    <tr>\n",
       "      <th>location</th>\n",
       "      <th></th>\n",
       "      <th></th>\n",
       "      <th></th>\n",
       "      <th></th>\n",
       "      <th></th>\n",
       "      <th></th>\n",
       "      <th></th>\n",
       "      <th></th>\n",
       "      <th></th>\n",
       "      <th></th>\n",
       "      <th></th>\n",
       "    </tr>\n",
       "  </thead>\n",
       "  <tbody>\n",
       "    <tr>\n",
       "      <th>Argentina</th>\n",
       "      <td>6a43e01f-4081-445b-b960-82b7f4599d8b</td>\n",
       "      <td>0a6776a5-af66-4f8d-b857-bfc66929f486</td>\n",
       "      <td>5</td>\n",
       "      <td>4205</td>\n",
       "      <td>16803a46-f73f-4c9c-a532-3772fdf323e3</td>\n",
       "      <td>19435</td>\n",
       "      <td>2024-03-23 17:59:17.738107</td>\n",
       "      <td>3</td>\n",
       "      <td>GBP</td>\n",
       "      <td>2024-03-30 04:08:10.700090</td>\n",
       "      <td>failed</td>\n",
       "    </tr>\n",
       "    <tr>\n",
       "      <th>Argentina</th>\n",
       "      <td>6a43e01f-4081-445b-b960-82b7f4599d8b</td>\n",
       "      <td>0a6776a5-af66-4f8d-b857-bfc66929f486</td>\n",
       "      <td>12</td>\n",
       "      <td>4206</td>\n",
       "      <td>16803a46-f73f-4c9c-a532-3772fdf323e3</td>\n",
       "      <td>19435</td>\n",
       "      <td>2024-03-23 17:59:17.738107</td>\n",
       "      <td>2</td>\n",
       "      <td>GBP</td>\n",
       "      <td>2024-03-30 04:08:10.700090</td>\n",
       "      <td>failed</td>\n",
       "    </tr>\n",
       "  </tbody>\n",
       "</table>\n",
       "</div>"
      ],
      "text/plain": [
       "                                    customer_id  \\\n",
       "location                                          \n",
       "Argentina  6a43e01f-4081-445b-b960-82b7f4599d8b   \n",
       "Argentina  6a43e01f-4081-445b-b960-82b7f4599d8b   \n",
       "\n",
       "                                      device_id  item_id  line_item_id  \\\n",
       "location                                                                 \n",
       "Argentina  0a6776a5-af66-4f8d-b857-bfc66929f486        5          4205   \n",
       "Argentina  0a6776a5-af66-4f8d-b857-bfc66929f486       12          4206   \n",
       "\n",
       "                                       order_id  event_id  \\\n",
       "location                                                    \n",
       "Argentina  16803a46-f73f-4c9c-a532-3772fdf323e3     19435   \n",
       "Argentina  16803a46-f73f-4c9c-a532-3772fdf323e3     19435   \n",
       "\n",
       "                      event_timestamp  quantity currency  \\\n",
       "location                                                   \n",
       "Argentina  2024-03-23 17:59:17.738107         3      GBP   \n",
       "Argentina  2024-03-23 17:59:17.738107         2      GBP   \n",
       "\n",
       "                       checked_out_at  status  \n",
       "location                                       \n",
       "Argentina  2024-03-30 04:08:10.700090  failed  \n",
       "Argentina  2024-03-30 04:08:10.700090  failed  "
      ]
     },
     "execution_count": 343,
     "metadata": {},
     "output_type": "execute_result"
    }
   ],
   "source": [
    "Argentina.head(2)"
   ]
  },
  {
   "cell_type": "code",
   "execution_count": 344,
   "id": "2706c94b",
   "metadata": {},
   "outputs": [
    {
     "data": {
      "text/html": [
       "<div>\n",
       "<style scoped>\n",
       "    .dataframe tbody tr th:only-of-type {\n",
       "        vertical-align: middle;\n",
       "    }\n",
       "\n",
       "    .dataframe tbody tr th {\n",
       "        vertical-align: top;\n",
       "    }\n",
       "\n",
       "    .dataframe thead th {\n",
       "        text-align: right;\n",
       "    }\n",
       "</style>\n",
       "<table border=\"1\" class=\"dataframe\">\n",
       "  <thead>\n",
       "    <tr style=\"text-align: right;\">\n",
       "      <th></th>\n",
       "      <th>customer_id</th>\n",
       "      <th>device_id</th>\n",
       "      <th>item_id</th>\n",
       "      <th>line_item_id</th>\n",
       "      <th>order_id</th>\n",
       "      <th>event_id</th>\n",
       "      <th>event_timestamp</th>\n",
       "      <th>quantity</th>\n",
       "      <th>currency</th>\n",
       "      <th>checked_out_at</th>\n",
       "      <th>status</th>\n",
       "    </tr>\n",
       "    <tr>\n",
       "      <th>location</th>\n",
       "      <th></th>\n",
       "      <th></th>\n",
       "      <th></th>\n",
       "      <th></th>\n",
       "      <th></th>\n",
       "      <th></th>\n",
       "      <th></th>\n",
       "      <th></th>\n",
       "      <th></th>\n",
       "      <th></th>\n",
       "      <th></th>\n",
       "    </tr>\n",
       "  </thead>\n",
       "  <tbody>\n",
       "    <tr>\n",
       "      <th>Italy</th>\n",
       "      <td>a19fe3f8-9e15-4741-87cc-7e765427c9be</td>\n",
       "      <td>5469121f-6eba-4e1e-8d0f-e02be7561d5b</td>\n",
       "      <td>11</td>\n",
       "      <td>5788</td>\n",
       "      <td>5ea40773-efdd-4eff-9718-5bff839940eb</td>\n",
       "      <td>26450</td>\n",
       "      <td>2024-03-30 04:03:11.062988</td>\n",
       "      <td>5</td>\n",
       "      <td>USD</td>\n",
       "      <td>2024-03-30 04:12:11.063044</td>\n",
       "      <td>success</td>\n",
       "    </tr>\n",
       "  </tbody>\n",
       "</table>\n",
       "</div>"
      ],
      "text/plain": [
       "                                   customer_id  \\\n",
       "location                                         \n",
       "Italy     a19fe3f8-9e15-4741-87cc-7e765427c9be   \n",
       "\n",
       "                                     device_id  item_id  line_item_id  \\\n",
       "location                                                                \n",
       "Italy     5469121f-6eba-4e1e-8d0f-e02be7561d5b       11          5788   \n",
       "\n",
       "                                      order_id  event_id  \\\n",
       "location                                                   \n",
       "Italy     5ea40773-efdd-4eff-9718-5bff839940eb     26450   \n",
       "\n",
       "                     event_timestamp  quantity currency  \\\n",
       "location                                                  \n",
       "Italy     2024-03-30 04:03:11.062988         5      USD   \n",
       "\n",
       "                      checked_out_at   status  \n",
       "location                                       \n",
       "Italy     2024-03-30 04:12:11.063044  success  "
      ]
     },
     "execution_count": 344,
     "metadata": {},
     "output_type": "execute_result"
    }
   ],
   "source": [
    "italy.head(1)"
   ]
  },
  {
   "cell_type": "code",
   "execution_count": 345,
   "id": "13658f7b",
   "metadata": {},
   "outputs": [
    {
     "data": {
      "text/html": [
       "<div>\n",
       "<style scoped>\n",
       "    .dataframe tbody tr th:only-of-type {\n",
       "        vertical-align: middle;\n",
       "    }\n",
       "\n",
       "    .dataframe tbody tr th {\n",
       "        vertical-align: top;\n",
       "    }\n",
       "\n",
       "    .dataframe thead th {\n",
       "        text-align: right;\n",
       "    }\n",
       "</style>\n",
       "<table border=\"1\" class=\"dataframe\">\n",
       "  <thead>\n",
       "    <tr style=\"text-align: right;\">\n",
       "      <th></th>\n",
       "      <th>customer_id</th>\n",
       "      <th>device_id</th>\n",
       "      <th>item_id</th>\n",
       "      <th>line_item_id</th>\n",
       "      <th>order_id</th>\n",
       "      <th>event_id</th>\n",
       "      <th>event_timestamp</th>\n",
       "      <th>quantity</th>\n",
       "      <th>currency</th>\n",
       "      <th>checked_out_at</th>\n",
       "      <th>status</th>\n",
       "    </tr>\n",
       "    <tr>\n",
       "      <th>location</th>\n",
       "      <th></th>\n",
       "      <th></th>\n",
       "      <th></th>\n",
       "      <th></th>\n",
       "      <th></th>\n",
       "      <th></th>\n",
       "      <th></th>\n",
       "      <th></th>\n",
       "      <th></th>\n",
       "      <th></th>\n",
       "      <th></th>\n",
       "    </tr>\n",
       "  </thead>\n",
       "  <tbody>\n",
       "    <tr>\n",
       "      <th>Uruguay</th>\n",
       "      <td>ea47a95b-0c19-4170-a55b-8638fd274266</td>\n",
       "      <td>dc6bc8d7-47aa-41f1-bc57-e8c3d878cf67</td>\n",
       "      <td>3</td>\n",
       "      <td>5005</td>\n",
       "      <td>c754cd0e-b915-440f-a23b-5d88fc2337a5</td>\n",
       "      <td>23016</td>\n",
       "      <td>2024-03-30 04:03:10.885239</td>\n",
       "      <td>5</td>\n",
       "      <td>GBP</td>\n",
       "      <td>2024-03-30 04:11:10.885293</td>\n",
       "      <td>cancelled</td>\n",
       "    </tr>\n",
       "  </tbody>\n",
       "</table>\n",
       "</div>"
      ],
      "text/plain": [
       "                                   customer_id  \\\n",
       "location                                         \n",
       "Uruguay   ea47a95b-0c19-4170-a55b-8638fd274266   \n",
       "\n",
       "                                     device_id  item_id  line_item_id  \\\n",
       "location                                                                \n",
       "Uruguay   dc6bc8d7-47aa-41f1-bc57-e8c3d878cf67        3          5005   \n",
       "\n",
       "                                      order_id  event_id  \\\n",
       "location                                                   \n",
       "Uruguay   c754cd0e-b915-440f-a23b-5d88fc2337a5     23016   \n",
       "\n",
       "                     event_timestamp  quantity currency  \\\n",
       "location                                                  \n",
       "Uruguay   2024-03-30 04:03:10.885239         5      GBP   \n",
       "\n",
       "                      checked_out_at     status  \n",
       "location                                         \n",
       "Uruguay   2024-03-30 04:11:10.885293  cancelled  "
      ]
     },
     "execution_count": 345,
     "metadata": {},
     "output_type": "execute_result"
    }
   ],
   "source": [
    "uruguay.head(1)"
   ]
  },
  {
   "cell_type": "code",
   "execution_count": 346,
   "id": "ba615ea2",
   "metadata": {},
   "outputs": [
    {
     "data": {
      "text/plain": [
       "array(['3b0ae8c1-68c6-40c8-a13a-e2bffb5ffdf9',\n",
       "       '06dd6a77-c841-4939-b036-cfe3bdf53da2',\n",
       "       '34d3c5e1-7e40-40c9-84c3-7d50edfb7eaf',\n",
       "       '9c22dec8-5972-48a8-bbb7-799a143c8ed8',\n",
       "       'b457e733-476a-4e7a-937e-43663473cf2c',\n",
       "       '537e15dd-d4b4-4c88-9bf5-a9d91b28bfae',\n",
       "       'dc92921e-d371-4be4-83a1-a6cf1ae6f14c',\n",
       "       '6c43713d-d00b-4f6c-8f12-c12d544ef10e',\n",
       "       'b96e4177-81e7-4707-b2e9-f595a767f91d',\n",
       "       '2933e91f-39d6-44af-b1e8-933ad172a3c6',\n",
       "       'eb7e787b-1b51-498f-9eb4-abb076497eb4',\n",
       "       'fb5d6586-f262-4b2a-9f98-7026bbe1f627',\n",
       "       '06e91d5f-3189-45b8-9c6b-5a1624eebddd',\n",
       "       'b20fe203-25fc-4ad8-96e9-5c8031093064',\n",
       "       '74a50970-d815-4f32-b958-5bc152098746',\n",
       "       '6160bf50-4da5-4a66-b8ee-7afc316bbb7d',\n",
       "       '7fa5edef-7d33-46d3-b0ba-37f8d7ef6d43',\n",
       "       '3b854d31-c6d8-4726-ab17-f37ad98de785',\n",
       "       'c3915c78-69af-4c0d-adcb-cc5e2ce7b30e',\n",
       "       'c9b3c52a-9b77-4d33-b9eb-5a3a34dc5810',\n",
       "       '27493173-b1c8-4260-9a70-263929d06890',\n",
       "       '15760ae0-fa3d-48c8-b23c-a8326a5e0576',\n",
       "       '06a20369-6680-4f64-874e-c304b6b5b9c9',\n",
       "       'ea2aa16a-a791-47f0-95c5-066d17b5f09d',\n",
       "       'd3020319-b4d6-4318-bad8-faabccada7ec',\n",
       "       '39568cc0-3642-4234-9b88-c339d6953adf',\n",
       "       '383da070-be2d-462a-99ce-d428880882c8',\n",
       "       '14b95b46-73a0-47e2-b061-47a904aa5bd7',\n",
       "       'bfdc561c-c8f0-40fc-820c-3e5af46b639d',\n",
       "       '0af30150-d4e3-4a65-a719-df2b7a17da93',\n",
       "       'e47e0c9b-2a0f-484c-b037-4405b48763af',\n",
       "       '6a885f26-25da-436a-9723-67cd14518579',\n",
       "       'cd03dc6b-c884-433b-9e01-735e19ade944',\n",
       "       'b801ab0f-aed7-4707-b82b-f2b1f62123d1',\n",
       "       '66e4bef6-a448-4e9e-b807-14a06728753f',\n",
       "       '95960342-6a57-4fc3-a360-6cc094281e3e',\n",
       "       'eef6632c-2ee9-4e75-8f44-9a60a1db4626',\n",
       "       '8498e8be-5899-4ad4-821f-d0df3da83157',\n",
       "       '90e76254-adc5-4b89-9c3b-c23fd5a60df7',\n",
       "       '6301a1f1-4726-4197-83af-f79cfc804f05',\n",
       "       'b4139e14-0478-41f0-bcbb-6792f0c6d957',\n",
       "       'be397c29-0766-4bf0-a315-fa230d7e41d9',\n",
       "       '28744ba1-f5ab-425a-805b-c38c18323e26',\n",
       "       '12290fe7-402f-4bd2-949e-7f2c59fb85e0',\n",
       "       '4c1667ec-ebbd-4a89-9d00-d8ffb94403ba',\n",
       "       'e9345bdc-3b15-4cab-9526-0d690021db61'], dtype=object)"
      ]
     },
     "execution_count": 346,
     "metadata": {},
     "output_type": "execute_result"
    }
   ],
   "source": [
    "koreauniquecustomerid = korea['customer_id'].unique()\n",
    "koreauniquecustomerid"
   ]
  },
  {
   "cell_type": "code",
   "execution_count": 347,
   "id": "81cba3bd",
   "metadata": {},
   "outputs": [
    {
     "data": {
      "text/plain": [
       "customer_id\n",
       "2933e91f-39d6-44af-b1e8-933ad172a3c6    324\n",
       "39568cc0-3642-4234-9b88-c339d6953adf    319\n",
       "c9b3c52a-9b77-4d33-b9eb-5a3a34dc5810    297\n",
       "d3020319-b4d6-4318-bad8-faabccada7ec    276\n",
       "0af30150-d4e3-4a65-a719-df2b7a17da93    276\n",
       "dc92921e-d371-4be4-83a1-a6cf1ae6f14c    275\n",
       "b4139e14-0478-41f0-bcbb-6792f0c6d957    275\n",
       "15760ae0-fa3d-48c8-b23c-a8326a5e0576    264\n",
       "95960342-6a57-4fc3-a360-6cc094281e3e    260\n",
       "90e76254-adc5-4b89-9c3b-c23fd5a60df7    252\n",
       "3b0ae8c1-68c6-40c8-a13a-e2bffb5ffdf9    252\n",
       "6c43713d-d00b-4f6c-8f12-c12d544ef10e    231\n",
       "06e91d5f-3189-45b8-9c6b-5a1624eebddd    231\n",
       "537e15dd-d4b4-4c88-9bf5-a9d91b28bfae    225\n",
       "8498e8be-5899-4ad4-821f-d0df3da83157    220\n",
       "14b95b46-73a0-47e2-b061-47a904aa5bd7    210\n",
       "fb5d6586-f262-4b2a-9f98-7026bbe1f627    210\n",
       "b96e4177-81e7-4707-b2e9-f595a767f91d    209\n",
       "b20fe203-25fc-4ad8-96e9-5c8031093064    200\n",
       "34d3c5e1-7e40-40c9-84c3-7d50edfb7eaf    198\n",
       "6301a1f1-4726-4197-83af-f79cfc804f05    198\n",
       "3b854d31-c6d8-4726-ab17-f37ad98de785    171\n",
       "eb7e787b-1b51-498f-9eb4-abb076497eb4    160\n",
       "28744ba1-f5ab-425a-805b-c38c18323e26    136\n",
       "b457e733-476a-4e7a-937e-43663473cf2c    136\n",
       "12290fe7-402f-4bd2-949e-7f2c59fb85e0    136\n",
       "383da070-be2d-462a-99ce-d428880882c8    108\n",
       "6160bf50-4da5-4a66-b8ee-7afc316bbb7d     98\n",
       "be397c29-0766-4bf0-a315-fa230d7e41d9     96\n",
       "6a885f26-25da-436a-9723-67cd14518579     90\n",
       "27493173-b1c8-4260-9a70-263929d06890     90\n",
       "06a20369-6680-4f64-874e-c304b6b5b9c9     84\n",
       "74a50970-d815-4f32-b958-5bc152098746     80\n",
       "b801ab0f-aed7-4707-b82b-f2b1f62123d1     70\n",
       "c3915c78-69af-4c0d-adcb-cc5e2ce7b30e     65\n",
       "bfdc561c-c8f0-40fc-820c-3e5af46b639d     55\n",
       "06dd6a77-c841-4939-b036-cfe3bdf53da2     45\n",
       "7fa5edef-7d33-46d3-b0ba-37f8d7ef6d43     40\n",
       "66e4bef6-a448-4e9e-b807-14a06728753f     30\n",
       "4c1667ec-ebbd-4a89-9d00-d8ffb94403ba     30\n",
       "e47e0c9b-2a0f-484c-b037-4405b48763af     18\n",
       "eef6632c-2ee9-4e75-8f44-9a60a1db4626     16\n",
       "cd03dc6b-c884-433b-9e01-735e19ade944     16\n",
       "e9345bdc-3b15-4cab-9526-0d690021db61     10\n",
       "9c22dec8-5972-48a8-bbb7-799a143c8ed8      8\n",
       "ea2aa16a-a791-47f0-95c5-066d17b5f09d      7\n",
       "Name: count, dtype: int64"
      ]
     },
     "execution_count": 347,
     "metadata": {},
     "output_type": "execute_result"
    }
   ],
   "source": [
    "korea['customer_id'].value_counts()"
   ]
  },
  {
   "cell_type": "code",
   "execution_count": 348,
   "id": "e009eb19",
   "metadata": {},
   "outputs": [
    {
     "data": {
      "text/plain": [
       "(46,)"
      ]
     },
     "execution_count": 348,
     "metadata": {},
     "output_type": "execute_result"
    }
   ],
   "source": [
    "korea['customer_id'].value_counts().shape"
   ]
  },
  {
   "cell_type": "code",
   "execution_count": 349,
   "id": "8e3b5acd",
   "metadata": {},
   "outputs": [],
   "source": [
    "cust2933e91f=korea[korea['customer_id'] == '2933e91f-39d6-44af-b1e8-933ad172a3c6']"
   ]
  },
  {
   "cell_type": "code",
   "execution_count": 350,
   "id": "91bea3c0",
   "metadata": {},
   "outputs": [
    {
     "data": {
      "text/html": [
       "<div>\n",
       "<style scoped>\n",
       "    .dataframe tbody tr th:only-of-type {\n",
       "        vertical-align: middle;\n",
       "    }\n",
       "\n",
       "    .dataframe tbody tr th {\n",
       "        vertical-align: top;\n",
       "    }\n",
       "\n",
       "    .dataframe thead th {\n",
       "        text-align: right;\n",
       "    }\n",
       "</style>\n",
       "<table border=\"1\" class=\"dataframe\">\n",
       "  <thead>\n",
       "    <tr style=\"text-align: right;\">\n",
       "      <th></th>\n",
       "      <th>customer_id</th>\n",
       "      <th>device_id</th>\n",
       "      <th>item_id</th>\n",
       "      <th>line_item_id</th>\n",
       "      <th>order_id</th>\n",
       "      <th>event_id</th>\n",
       "      <th>event_timestamp</th>\n",
       "      <th>quantity</th>\n",
       "      <th>currency</th>\n",
       "      <th>checked_out_at</th>\n",
       "      <th>status</th>\n",
       "    </tr>\n",
       "    <tr>\n",
       "      <th>location</th>\n",
       "      <th></th>\n",
       "      <th></th>\n",
       "      <th></th>\n",
       "      <th></th>\n",
       "      <th></th>\n",
       "      <th></th>\n",
       "      <th></th>\n",
       "      <th></th>\n",
       "      <th></th>\n",
       "      <th></th>\n",
       "      <th></th>\n",
       "    </tr>\n",
       "  </thead>\n",
       "  <tbody>\n",
       "    <tr>\n",
       "      <th>Korea</th>\n",
       "      <td>2933e91f-39d6-44af-b1e8-933ad172a3c6</td>\n",
       "      <td>df00f95e-f46f-4e90-9e5d-6c9b05a145a6</td>\n",
       "      <td>6</td>\n",
       "      <td>9587</td>\n",
       "      <td>9df50767-05c1-4e3b-a40d-7ba4ddb42c74</td>\n",
       "      <td>44297</td>\n",
       "      <td>2024-03-28 10:10:19.554243</td>\n",
       "      <td>4</td>\n",
       "      <td>USD</td>\n",
       "      <td>2024-03-30 04:09:12.023457</td>\n",
       "      <td>failed</td>\n",
       "    </tr>\n",
       "    <tr>\n",
       "      <th>Korea</th>\n",
       "      <td>2933e91f-39d6-44af-b1e8-933ad172a3c6</td>\n",
       "      <td>df00f95e-f46f-4e90-9e5d-6c9b05a145a6</td>\n",
       "      <td>4</td>\n",
       "      <td>9588</td>\n",
       "      <td>9df50767-05c1-4e3b-a40d-7ba4ddb42c74</td>\n",
       "      <td>44297</td>\n",
       "      <td>2024-03-28 10:10:19.554243</td>\n",
       "      <td>2</td>\n",
       "      <td>USD</td>\n",
       "      <td>2024-03-30 04:09:12.023457</td>\n",
       "      <td>failed</td>\n",
       "    </tr>\n",
       "    <tr>\n",
       "      <th>Korea</th>\n",
       "      <td>2933e91f-39d6-44af-b1e8-933ad172a3c6</td>\n",
       "      <td>df00f95e-f46f-4e90-9e5d-6c9b05a145a6</td>\n",
       "      <td>5</td>\n",
       "      <td>9589</td>\n",
       "      <td>9df50767-05c1-4e3b-a40d-7ba4ddb42c74</td>\n",
       "      <td>44297</td>\n",
       "      <td>2024-03-28 10:10:19.554243</td>\n",
       "      <td>2</td>\n",
       "      <td>USD</td>\n",
       "      <td>2024-03-30 04:09:12.023457</td>\n",
       "      <td>failed</td>\n",
       "    </tr>\n",
       "  </tbody>\n",
       "</table>\n",
       "</div>"
      ],
      "text/plain": [
       "                                   customer_id  \\\n",
       "location                                         \n",
       "Korea     2933e91f-39d6-44af-b1e8-933ad172a3c6   \n",
       "Korea     2933e91f-39d6-44af-b1e8-933ad172a3c6   \n",
       "Korea     2933e91f-39d6-44af-b1e8-933ad172a3c6   \n",
       "\n",
       "                                     device_id  item_id  line_item_id  \\\n",
       "location                                                                \n",
       "Korea     df00f95e-f46f-4e90-9e5d-6c9b05a145a6        6          9587   \n",
       "Korea     df00f95e-f46f-4e90-9e5d-6c9b05a145a6        4          9588   \n",
       "Korea     df00f95e-f46f-4e90-9e5d-6c9b05a145a6        5          9589   \n",
       "\n",
       "                                      order_id  event_id  \\\n",
       "location                                                   \n",
       "Korea     9df50767-05c1-4e3b-a40d-7ba4ddb42c74     44297   \n",
       "Korea     9df50767-05c1-4e3b-a40d-7ba4ddb42c74     44297   \n",
       "Korea     9df50767-05c1-4e3b-a40d-7ba4ddb42c74     44297   \n",
       "\n",
       "                     event_timestamp  quantity currency  \\\n",
       "location                                                  \n",
       "Korea     2024-03-28 10:10:19.554243         4      USD   \n",
       "Korea     2024-03-28 10:10:19.554243         2      USD   \n",
       "Korea     2024-03-28 10:10:19.554243         2      USD   \n",
       "\n",
       "                      checked_out_at  status  \n",
       "location                                      \n",
       "Korea     2024-03-30 04:09:12.023457  failed  \n",
       "Korea     2024-03-30 04:09:12.023457  failed  \n",
       "Korea     2024-03-30 04:09:12.023457  failed  "
      ]
     },
     "execution_count": 350,
     "metadata": {},
     "output_type": "execute_result"
    }
   ],
   "source": [
    "cust2933e91f.head(3)"
   ]
  },
  {
   "cell_type": "code",
   "execution_count": 351,
   "id": "616f58de",
   "metadata": {},
   "outputs": [
    {
     "data": {
      "text/html": [
       "<div>\n",
       "<style scoped>\n",
       "    .dataframe tbody tr th:only-of-type {\n",
       "        vertical-align: middle;\n",
       "    }\n",
       "\n",
       "    .dataframe tbody tr th {\n",
       "        vertical-align: top;\n",
       "    }\n",
       "\n",
       "    .dataframe thead th {\n",
       "        text-align: right;\n",
       "    }\n",
       "</style>\n",
       "<table border=\"1\" class=\"dataframe\">\n",
       "  <thead>\n",
       "    <tr style=\"text-align: right;\">\n",
       "      <th></th>\n",
       "      <th>item_id</th>\n",
       "      <th>line_item_id</th>\n",
       "      <th>event_id</th>\n",
       "      <th>quantity</th>\n",
       "    </tr>\n",
       "  </thead>\n",
       "  <tbody>\n",
       "    <tr>\n",
       "      <th>count</th>\n",
       "      <td>324.000000</td>\n",
       "      <td>324.000000</td>\n",
       "      <td>324.000000</td>\n",
       "      <td>324.000000</td>\n",
       "    </tr>\n",
       "    <tr>\n",
       "      <th>mean</th>\n",
       "      <td>8.083333</td>\n",
       "      <td>9592.500000</td>\n",
       "      <td>44310.000000</td>\n",
       "      <td>3.666667</td>\n",
       "    </tr>\n",
       "    <tr>\n",
       "      <th>std</th>\n",
       "      <td>4.355257</td>\n",
       "      <td>3.457392</td>\n",
       "      <td>7.800929</td>\n",
       "      <td>1.180334</td>\n",
       "    </tr>\n",
       "    <tr>\n",
       "      <th>min</th>\n",
       "      <td>1.000000</td>\n",
       "      <td>9587.000000</td>\n",
       "      <td>44297.000000</td>\n",
       "      <td>2.000000</td>\n",
       "    </tr>\n",
       "    <tr>\n",
       "      <th>25%</th>\n",
       "      <td>4.750000</td>\n",
       "      <td>9589.750000</td>\n",
       "      <td>44303.000000</td>\n",
       "      <td>2.750000</td>\n",
       "    </tr>\n",
       "    <tr>\n",
       "      <th>50%</th>\n",
       "      <td>7.500000</td>\n",
       "      <td>9592.500000</td>\n",
       "      <td>44310.000000</td>\n",
       "      <td>4.000000</td>\n",
       "    </tr>\n",
       "    <tr>\n",
       "      <th>75%</th>\n",
       "      <td>11.500000</td>\n",
       "      <td>9595.250000</td>\n",
       "      <td>44317.000000</td>\n",
       "      <td>5.000000</td>\n",
       "    </tr>\n",
       "    <tr>\n",
       "      <th>max</th>\n",
       "      <td>15.000000</td>\n",
       "      <td>9598.000000</td>\n",
       "      <td>44323.000000</td>\n",
       "      <td>5.000000</td>\n",
       "    </tr>\n",
       "  </tbody>\n",
       "</table>\n",
       "</div>"
      ],
      "text/plain": [
       "          item_id  line_item_id      event_id    quantity\n",
       "count  324.000000    324.000000    324.000000  324.000000\n",
       "mean     8.083333   9592.500000  44310.000000    3.666667\n",
       "std      4.355257      3.457392      7.800929    1.180334\n",
       "min      1.000000   9587.000000  44297.000000    2.000000\n",
       "25%      4.750000   9589.750000  44303.000000    2.750000\n",
       "50%      7.500000   9592.500000  44310.000000    4.000000\n",
       "75%     11.500000   9595.250000  44317.000000    5.000000\n",
       "max     15.000000   9598.000000  44323.000000    5.000000"
      ]
     },
     "execution_count": 351,
     "metadata": {},
     "output_type": "execute_result"
    }
   ],
   "source": [
    "cust2933e91f.describe()"
   ]
  },
  {
   "cell_type": "markdown",
   "id": "b10f8fa8",
   "metadata": {},
   "source": [
    "2933e91f-39d6-44af-b1e8-933ad172a3c6 made 324 purchase attempt \n",
    "now i want to check the duration of this  purchase and status"
   ]
  },
  {
   "cell_type": "code",
   "execution_count": 352,
   "id": "c8b9870b",
   "metadata": {},
   "outputs": [
    {
     "data": {
      "text/html": [
       "<div>\n",
       "<style scoped>\n",
       "    .dataframe tbody tr th:only-of-type {\n",
       "        vertical-align: middle;\n",
       "    }\n",
       "\n",
       "    .dataframe tbody tr th {\n",
       "        vertical-align: top;\n",
       "    }\n",
       "\n",
       "    .dataframe thead th {\n",
       "        text-align: right;\n",
       "    }\n",
       "</style>\n",
       "<table border=\"1\" class=\"dataframe\">\n",
       "  <thead>\n",
       "    <tr style=\"text-align: right;\">\n",
       "      <th></th>\n",
       "      <th>device_id</th>\n",
       "      <th>order_id</th>\n",
       "      <th>event_timestamp</th>\n",
       "      <th>quantity</th>\n",
       "      <th>checked_out_at</th>\n",
       "      <th>status</th>\n",
       "    </tr>\n",
       "    <tr>\n",
       "      <th>location</th>\n",
       "      <th></th>\n",
       "      <th></th>\n",
       "      <th></th>\n",
       "      <th></th>\n",
       "      <th></th>\n",
       "      <th></th>\n",
       "    </tr>\n",
       "  </thead>\n",
       "  <tbody>\n",
       "    <tr>\n",
       "      <th>Korea</th>\n",
       "      <td>df00f95e-f46f-4e90-9e5d-6c9b05a145a6</td>\n",
       "      <td>9df50767-05c1-4e3b-a40d-7ba4ddb42c74</td>\n",
       "      <td>2024-03-28 10:10:19.554243</td>\n",
       "      <td>4</td>\n",
       "      <td>2024-03-30 04:09:12.023457</td>\n",
       "      <td>failed</td>\n",
       "    </tr>\n",
       "    <tr>\n",
       "      <th>Korea</th>\n",
       "      <td>df00f95e-f46f-4e90-9e5d-6c9b05a145a6</td>\n",
       "      <td>9df50767-05c1-4e3b-a40d-7ba4ddb42c74</td>\n",
       "      <td>2024-03-28 10:10:19.554243</td>\n",
       "      <td>2</td>\n",
       "      <td>2024-03-30 04:09:12.023457</td>\n",
       "      <td>failed</td>\n",
       "    </tr>\n",
       "    <tr>\n",
       "      <th>Korea</th>\n",
       "      <td>df00f95e-f46f-4e90-9e5d-6c9b05a145a6</td>\n",
       "      <td>9df50767-05c1-4e3b-a40d-7ba4ddb42c74</td>\n",
       "      <td>2024-03-28 10:10:19.554243</td>\n",
       "      <td>2</td>\n",
       "      <td>2024-03-30 04:09:12.023457</td>\n",
       "      <td>failed</td>\n",
       "    </tr>\n",
       "    <tr>\n",
       "      <th>Korea</th>\n",
       "      <td>df00f95e-f46f-4e90-9e5d-6c9b05a145a6</td>\n",
       "      <td>9df50767-05c1-4e3b-a40d-7ba4ddb42c74</td>\n",
       "      <td>2024-03-28 10:10:19.554243</td>\n",
       "      <td>4</td>\n",
       "      <td>2024-03-30 04:09:12.023457</td>\n",
       "      <td>failed</td>\n",
       "    </tr>\n",
       "    <tr>\n",
       "      <th>Korea</th>\n",
       "      <td>df00f95e-f46f-4e90-9e5d-6c9b05a145a6</td>\n",
       "      <td>9df50767-05c1-4e3b-a40d-7ba4ddb42c74</td>\n",
       "      <td>2024-03-28 10:10:19.554243</td>\n",
       "      <td>2</td>\n",
       "      <td>2024-03-30 04:09:12.023457</td>\n",
       "      <td>failed</td>\n",
       "    </tr>\n",
       "    <tr>\n",
       "      <th>...</th>\n",
       "      <td>...</td>\n",
       "      <td>...</td>\n",
       "      <td>...</td>\n",
       "      <td>...</td>\n",
       "      <td>...</td>\n",
       "      <td>...</td>\n",
       "    </tr>\n",
       "    <tr>\n",
       "      <th>Korea</th>\n",
       "      <td>df00f95e-f46f-4e90-9e5d-6c9b05a145a6</td>\n",
       "      <td>9df50767-05c1-4e3b-a40d-7ba4ddb42c74</td>\n",
       "      <td>2024-03-30 04:09:12.023457</td>\n",
       "      <td>5</td>\n",
       "      <td>2024-03-30 04:09:12.023457</td>\n",
       "      <td>failed</td>\n",
       "    </tr>\n",
       "    <tr>\n",
       "      <th>Korea</th>\n",
       "      <td>df00f95e-f46f-4e90-9e5d-6c9b05a145a6</td>\n",
       "      <td>9df50767-05c1-4e3b-a40d-7ba4ddb42c74</td>\n",
       "      <td>2024-03-30 04:09:12.023457</td>\n",
       "      <td>5</td>\n",
       "      <td>2024-03-30 04:09:12.023457</td>\n",
       "      <td>failed</td>\n",
       "    </tr>\n",
       "    <tr>\n",
       "      <th>Korea</th>\n",
       "      <td>df00f95e-f46f-4e90-9e5d-6c9b05a145a6</td>\n",
       "      <td>9df50767-05c1-4e3b-a40d-7ba4ddb42c74</td>\n",
       "      <td>2024-03-30 04:09:12.023457</td>\n",
       "      <td>5</td>\n",
       "      <td>2024-03-30 04:09:12.023457</td>\n",
       "      <td>failed</td>\n",
       "    </tr>\n",
       "    <tr>\n",
       "      <th>Korea</th>\n",
       "      <td>df00f95e-f46f-4e90-9e5d-6c9b05a145a6</td>\n",
       "      <td>9df50767-05c1-4e3b-a40d-7ba4ddb42c74</td>\n",
       "      <td>2024-03-30 04:09:12.023457</td>\n",
       "      <td>3</td>\n",
       "      <td>2024-03-30 04:09:12.023457</td>\n",
       "      <td>failed</td>\n",
       "    </tr>\n",
       "    <tr>\n",
       "      <th>Korea</th>\n",
       "      <td>df00f95e-f46f-4e90-9e5d-6c9b05a145a6</td>\n",
       "      <td>9df50767-05c1-4e3b-a40d-7ba4ddb42c74</td>\n",
       "      <td>2024-03-30 04:09:12.023457</td>\n",
       "      <td>5</td>\n",
       "      <td>2024-03-30 04:09:12.023457</td>\n",
       "      <td>failed</td>\n",
       "    </tr>\n",
       "  </tbody>\n",
       "</table>\n",
       "<p>324 rows × 6 columns</p>\n",
       "</div>"
      ],
      "text/plain": [
       "                                     device_id  \\\n",
       "location                                         \n",
       "Korea     df00f95e-f46f-4e90-9e5d-6c9b05a145a6   \n",
       "Korea     df00f95e-f46f-4e90-9e5d-6c9b05a145a6   \n",
       "Korea     df00f95e-f46f-4e90-9e5d-6c9b05a145a6   \n",
       "Korea     df00f95e-f46f-4e90-9e5d-6c9b05a145a6   \n",
       "Korea     df00f95e-f46f-4e90-9e5d-6c9b05a145a6   \n",
       "...                                        ...   \n",
       "Korea     df00f95e-f46f-4e90-9e5d-6c9b05a145a6   \n",
       "Korea     df00f95e-f46f-4e90-9e5d-6c9b05a145a6   \n",
       "Korea     df00f95e-f46f-4e90-9e5d-6c9b05a145a6   \n",
       "Korea     df00f95e-f46f-4e90-9e5d-6c9b05a145a6   \n",
       "Korea     df00f95e-f46f-4e90-9e5d-6c9b05a145a6   \n",
       "\n",
       "                                      order_id             event_timestamp  \\\n",
       "location                                                                     \n",
       "Korea     9df50767-05c1-4e3b-a40d-7ba4ddb42c74  2024-03-28 10:10:19.554243   \n",
       "Korea     9df50767-05c1-4e3b-a40d-7ba4ddb42c74  2024-03-28 10:10:19.554243   \n",
       "Korea     9df50767-05c1-4e3b-a40d-7ba4ddb42c74  2024-03-28 10:10:19.554243   \n",
       "Korea     9df50767-05c1-4e3b-a40d-7ba4ddb42c74  2024-03-28 10:10:19.554243   \n",
       "Korea     9df50767-05c1-4e3b-a40d-7ba4ddb42c74  2024-03-28 10:10:19.554243   \n",
       "...                                        ...                         ...   \n",
       "Korea     9df50767-05c1-4e3b-a40d-7ba4ddb42c74  2024-03-30 04:09:12.023457   \n",
       "Korea     9df50767-05c1-4e3b-a40d-7ba4ddb42c74  2024-03-30 04:09:12.023457   \n",
       "Korea     9df50767-05c1-4e3b-a40d-7ba4ddb42c74  2024-03-30 04:09:12.023457   \n",
       "Korea     9df50767-05c1-4e3b-a40d-7ba4ddb42c74  2024-03-30 04:09:12.023457   \n",
       "Korea     9df50767-05c1-4e3b-a40d-7ba4ddb42c74  2024-03-30 04:09:12.023457   \n",
       "\n",
       "          quantity              checked_out_at  status  \n",
       "location                                                \n",
       "Korea            4  2024-03-30 04:09:12.023457  failed  \n",
       "Korea            2  2024-03-30 04:09:12.023457  failed  \n",
       "Korea            2  2024-03-30 04:09:12.023457  failed  \n",
       "Korea            4  2024-03-30 04:09:12.023457  failed  \n",
       "Korea            2  2024-03-30 04:09:12.023457  failed  \n",
       "...            ...                         ...     ...  \n",
       "Korea            5  2024-03-30 04:09:12.023457  failed  \n",
       "Korea            5  2024-03-30 04:09:12.023457  failed  \n",
       "Korea            5  2024-03-30 04:09:12.023457  failed  \n",
       "Korea            3  2024-03-30 04:09:12.023457  failed  \n",
       "Korea            5  2024-03-30 04:09:12.023457  failed  \n",
       "\n",
       "[324 rows x 6 columns]"
      ]
     },
     "execution_count": 352,
     "metadata": {},
     "output_type": "execute_result"
    }
   ],
   "source": [
    "cust2933e91f.loc[:,['device_id','order_id','event_timestamp','quantity','checked_out_at', 'status']]"
   ]
  },
  {
   "cell_type": "code",
   "execution_count": 353,
   "id": "a559a5a7",
   "metadata": {},
   "outputs": [
    {
     "data": {
      "text/plain": [
       "array(['cancelled', 'success', 'failed'], dtype=object)"
      ]
     },
     "execution_count": 353,
     "metadata": {},
     "output_type": "execute_result"
    }
   ],
   "source": [
    "korea['status'].unique()"
   ]
  },
  {
   "cell_type": "code",
   "execution_count": 354,
   "id": "03c89725",
   "metadata": {},
   "outputs": [],
   "source": [
    "cust2933e91f_sucess= (korea['customer_id'] == '2933e91f-39d6-44af-b1e8-933ad172a3c6') & (korea['status']=='success')"
   ]
  },
  {
   "cell_type": "code",
   "execution_count": 355,
   "id": "7ce8afdf",
   "metadata": {},
   "outputs": [
    {
     "data": {
      "text/html": [
       "<div>\n",
       "<style scoped>\n",
       "    .dataframe tbody tr th:only-of-type {\n",
       "        vertical-align: middle;\n",
       "    }\n",
       "\n",
       "    .dataframe tbody tr th {\n",
       "        vertical-align: top;\n",
       "    }\n",
       "\n",
       "    .dataframe thead th {\n",
       "        text-align: right;\n",
       "    }\n",
       "</style>\n",
       "<table border=\"1\" class=\"dataframe\">\n",
       "  <thead>\n",
       "    <tr style=\"text-align: right;\">\n",
       "      <th></th>\n",
       "      <th>customer_id</th>\n",
       "      <th>device_id</th>\n",
       "      <th>item_id</th>\n",
       "      <th>line_item_id</th>\n",
       "      <th>order_id</th>\n",
       "      <th>event_id</th>\n",
       "      <th>event_timestamp</th>\n",
       "      <th>quantity</th>\n",
       "      <th>currency</th>\n",
       "      <th>checked_out_at</th>\n",
       "      <th>status</th>\n",
       "    </tr>\n",
       "    <tr>\n",
       "      <th>location</th>\n",
       "      <th></th>\n",
       "      <th></th>\n",
       "      <th></th>\n",
       "      <th></th>\n",
       "      <th></th>\n",
       "      <th></th>\n",
       "      <th></th>\n",
       "      <th></th>\n",
       "      <th></th>\n",
       "      <th></th>\n",
       "      <th></th>\n",
       "    </tr>\n",
       "  </thead>\n",
       "  <tbody>\n",
       "  </tbody>\n",
       "</table>\n",
       "</div>"
      ],
      "text/plain": [
       "Empty DataFrame\n",
       "Columns: [customer_id, device_id, item_id, line_item_id, order_id, event_id, event_timestamp, quantity, currency, checked_out_at, status]\n",
       "Index: []"
      ]
     },
     "execution_count": 355,
     "metadata": {},
     "output_type": "execute_result"
    }
   ],
   "source": [
    "korea[cust2933e91f_sucess]"
   ]
  },
  {
   "cell_type": "markdown",
   "id": "3afc0495",
   "metadata": {},
   "source": [
    "this shows that that customer id had no sucessful transaction\n",
    "this could be because of network,sytem problem or he/she could be trying something funny\n",
    "i need to check what percentage of the total transaction in korea this person contributes to \n",
    "\n",
    "to get more knowledge about what is hapenning i need to check the total number of successful transactions in korea"
   ]
  },
  {
   "cell_type": "code",
   "execution_count": 356,
   "id": "a6993fea",
   "metadata": {},
   "outputs": [
    {
     "data": {
      "text/plain": [
       "([<matplotlib.patches.Wedge at 0x2254745f620>,\n",
       "  <matplotlib.patches.Wedge at 0x22547595670>,\n",
       "  <matplotlib.patches.Wedge at 0x2254745fa70>],\n",
       " [Text(0.4449573738870655, 1.0059885364274914, 'cancelled'),\n",
       "  Text(-1.061758354107984, -0.2875225164781094, 'success'),\n",
       "  Text(0.6924378606196172, -0.854710365668118, 'failed')],\n",
       " [Text(0.24270402212021752, 0.5487210198695407, '36.7%'),\n",
       "  Text(-0.5791409204225367, -0.15683046353351418, '34.9%'),\n",
       "  Text(0.3776933785197912, -0.46620565400079156, '28.3%')])"
      ]
     },
     "execution_count": 356,
     "metadata": {},
     "output_type": "execute_result"
    },
    {
     "data": {
      "image/png": "[encoded data removed]",
      "text/plain": [
       "<Figure size 640x480 with 1 Axes>"
      ]
     },
     "metadata": {},
     "output_type": "display_data"
    }
   ],
   "source": [
    "contstat = korea['status'].value_counts()\n",
    "plt.pie(contstat.values,labels=contstat.index, autopct='%1.1f%%')"
   ]
  },
  {
   "cell_type": "code",
   "execution_count": 357,
   "id": "020d3a91",
   "metadata": {},
   "outputs": [
    {
     "name": "stdout",
     "output_type": "stream",
     "text": [
      "no success:  2444\n",
      "no cancelled:  2571\n",
      "no failed:  1982\n"
     ]
    }
   ],
   "source": [
    "# now lets check number of succesful transactions in korea\n",
    "\n",
    "ksuccessful_trans= korea[korea['status']=='success'].value_counts()\n",
    "kfailed_trans= korea[korea['status']=='failed'].value_counts()\n",
    "kcanceled_trans= korea[korea['status']=='cancelled'].value_counts()\n",
    "print('no success: ',ksuccessful_trans.size)\n",
    "print('no cancelled: ',kcanceled_trans.size)\n",
    "print('no failed: ',kfailed_trans.size)\n",
    "# ksuccessful_transvalue = ksuccessful_trans['status'].value_counts()[0]\n",
    "# failed_transvalue =failed_trans['status'].value_counts()[0]\n",
    "# canceled_transvalue=canceled_trans['status'].value_counts()[0]\n",
    "# valuesy = [ksuccessful_transvalue, failed_transvalue, canceled_transvalue]"
   ]
  },
  {
   "cell_type": "code",
   "execution_count": 358,
   "id": "07d60d17",
   "metadata": {},
   "outputs": [
    {
     "data": {
      "text/plain": [
       "customer_id\n",
       "c391f179-9eb3-418d-9d7b-b261f2dc57a6    360\n",
       "aa05aca1-bd28-427e-a2ca-07de1f95fdb1    336\n",
       "567ec5d3-f538-44a2-a55a-681fe4f81064    286\n",
       "210a6861-599b-4600-85e7-832623ad64d2    252\n",
       "a7ecbde7-bd2f-408d-ac44-b79c441b212a    240\n",
       "95027706-87f5-401f-953f-5eb153a23ccd    231\n",
       "14b95e00-3e4d-476f-bdae-388e348fa9a0    207\n",
       "cde47fd2-e667-45e1-bb09-a76b4097698e    200\n",
       "2f7226bd-df3a-445b-b02d-c7dd1e852eda    198\n",
       "c26ed5e5-ac5e-46fe-94bc-abae62d5a7fe    198\n",
       "cf8d8ced-dbfd-457b-9262-c49a7aa34d22    192\n",
       "ba28d0ec-2638-4734-a206-518055f2122e    187\n",
       "92fc1272-b1d5-48b9-a8a7-78f46658b0c1    153\n",
       "d4beacfe-dfca-4086-a78d-5af54101cb76    144\n",
       "d5e90eab-a0ef-46b0-8423-4d31e93d3a29    144\n",
       "3aa36526-1234-4f51-8ed7-44d528bd34f3    135\n",
       "e5ec9f81-5a94-4b40-8219-9e80cd9e2ae8    119\n",
       "fc2a0e40-96d7-4a95-97dd-a494ec3a3e0a    114\n",
       "033ea6fa-884f-4180-b373-d09dc27b8799    112\n",
       "6637e13c-e967-40c8-be98-30f241d82423     91\n",
       "7d3828bc-6490-4038-9e38-81418b889dfb     84\n",
       "aaaed54d-df1e-43d3-816b-7e50cd03f277     84\n",
       "00c7d13a-1f04-46b4-ac90-8c442270c906     80\n",
       "a0884293-ac8c-4736-aad2-b39c31ab1f02     75\n",
       "6a43e01f-4081-445b-b960-82b7f4599d8b     75\n",
       "2a23082d-0fe5-425d-b8db-a94f26d969d4     55\n",
       "6d6c92dd-c109-4cae-94a2-d246f1aa0137     50\n",
       "26dbb360-4dc1-4e82-8144-9a7f9c2286c8     42\n",
       "e48e25d0-5b02-4afd-a28d-c06bd700e2b8     36\n",
       "b13a4df5-08ae-4f3f-873f-88edb9358b1c     27\n",
       "Name: count, dtype: int64"
      ]
     },
     "execution_count": 358,
     "metadata": {},
     "output_type": "execute_result"
    }
   ],
   "source": [
    "Argentina['customer_id'].value_counts()"
   ]
  },
  {
   "cell_type": "code",
   "execution_count": 359,
   "id": "f949f375",
   "metadata": {},
   "outputs": [
    {
     "data": {
      "text/plain": [
       "(30,)"
      ]
     },
     "execution_count": 359,
     "metadata": {},
     "output_type": "execute_result"
    }
   ],
   "source": [
    "Argentina['customer_id'].value_counts().shape"
   ]
  },
  {
   "cell_type": "code",
   "execution_count": 360,
   "id": "5d1e6a61",
   "metadata": {},
   "outputs": [
    {
     "data": {
      "text/plain": [
       "array(['6a43e01f-4081-445b-b960-82b7f4599d8b',\n",
       "       '95027706-87f5-401f-953f-5eb153a23ccd',\n",
       "       '26dbb360-4dc1-4e82-8144-9a7f9c2286c8',\n",
       "       'fc2a0e40-96d7-4a95-97dd-a494ec3a3e0a',\n",
       "       'e5ec9f81-5a94-4b40-8219-9e80cd9e2ae8',\n",
       "       '7d3828bc-6490-4038-9e38-81418b889dfb',\n",
       "       '00c7d13a-1f04-46b4-ac90-8c442270c906',\n",
       "       '92fc1272-b1d5-48b9-a8a7-78f46658b0c1',\n",
       "       '210a6861-599b-4600-85e7-832623ad64d2',\n",
       "       '567ec5d3-f538-44a2-a55a-681fe4f81064',\n",
       "       'a7ecbde7-bd2f-408d-ac44-b79c441b212a',\n",
       "       'b13a4df5-08ae-4f3f-873f-88edb9358b1c',\n",
       "       'd4beacfe-dfca-4086-a78d-5af54101cb76',\n",
       "       'cf8d8ced-dbfd-457b-9262-c49a7aa34d22',\n",
       "       'ba28d0ec-2638-4734-a206-518055f2122e',\n",
       "       '2a23082d-0fe5-425d-b8db-a94f26d969d4',\n",
       "       '033ea6fa-884f-4180-b373-d09dc27b8799',\n",
       "       '3aa36526-1234-4f51-8ed7-44d528bd34f3',\n",
       "       '14b95e00-3e4d-476f-bdae-388e348fa9a0',\n",
       "       'e48e25d0-5b02-4afd-a28d-c06bd700e2b8',\n",
       "       'a0884293-ac8c-4736-aad2-b39c31ab1f02',\n",
       "       'd5e90eab-a0ef-46b0-8423-4d31e93d3a29',\n",
       "       'c26ed5e5-ac5e-46fe-94bc-abae62d5a7fe',\n",
       "       'aa05aca1-bd28-427e-a2ca-07de1f95fdb1',\n",
       "       'cde47fd2-e667-45e1-bb09-a76b4097698e',\n",
       "       '2f7226bd-df3a-445b-b02d-c7dd1e852eda',\n",
       "       'c391f179-9eb3-418d-9d7b-b261f2dc57a6',\n",
       "       'aaaed54d-df1e-43d3-816b-7e50cd03f277',\n",
       "       '6637e13c-e967-40c8-be98-30f241d82423',\n",
       "       '6d6c92dd-c109-4cae-94a2-d246f1aa0137'], dtype=object)"
      ]
     },
     "execution_count": 360,
     "metadata": {},
     "output_type": "execute_result"
    }
   ],
   "source": [
    "Argentinauniquecustomerid =Argentina['customer_id'].unique()\n",
    "Argentinauniquecustomerid\n"
   ]
  },
  {
   "cell_type": "code",
   "execution_count": 361,
   "id": "86c6a631",
   "metadata": {},
   "outputs": [
    {
     "data": {
      "text/plain": [
       "customer_id\n",
       "c391f179-9eb3-418d-9d7b-b261f2dc57a6    360\n",
       "aa05aca1-bd28-427e-a2ca-07de1f95fdb1    336\n",
       "567ec5d3-f538-44a2-a55a-681fe4f81064    286\n",
       "210a6861-599b-4600-85e7-832623ad64d2    252\n",
       "a7ecbde7-bd2f-408d-ac44-b79c441b212a    240\n",
       "95027706-87f5-401f-953f-5eb153a23ccd    231\n",
       "14b95e00-3e4d-476f-bdae-388e348fa9a0    207\n",
       "cde47fd2-e667-45e1-bb09-a76b4097698e    200\n",
       "2f7226bd-df3a-445b-b02d-c7dd1e852eda    198\n",
       "c26ed5e5-ac5e-46fe-94bc-abae62d5a7fe    198\n",
       "cf8d8ced-dbfd-457b-9262-c49a7aa34d22    192\n",
       "ba28d0ec-2638-4734-a206-518055f2122e    187\n",
       "92fc1272-b1d5-48b9-a8a7-78f46658b0c1    153\n",
       "d4beacfe-dfca-4086-a78d-5af54101cb76    144\n",
       "d5e90eab-a0ef-46b0-8423-4d31e93d3a29    144\n",
       "3aa36526-1234-4f51-8ed7-44d528bd34f3    135\n",
       "e5ec9f81-5a94-4b40-8219-9e80cd9e2ae8    119\n",
       "fc2a0e40-96d7-4a95-97dd-a494ec3a3e0a    114\n",
       "033ea6fa-884f-4180-b373-d09dc27b8799    112\n",
       "6637e13c-e967-40c8-be98-30f241d82423     91\n",
       "7d3828bc-6490-4038-9e38-81418b889dfb     84\n",
       "aaaed54d-df1e-43d3-816b-7e50cd03f277     84\n",
       "00c7d13a-1f04-46b4-ac90-8c442270c906     80\n",
       "a0884293-ac8c-4736-aad2-b39c31ab1f02     75\n",
       "6a43e01f-4081-445b-b960-82b7f4599d8b     75\n",
       "2a23082d-0fe5-425d-b8db-a94f26d969d4     55\n",
       "6d6c92dd-c109-4cae-94a2-d246f1aa0137     50\n",
       "26dbb360-4dc1-4e82-8144-9a7f9c2286c8     42\n",
       "e48e25d0-5b02-4afd-a28d-c06bd700e2b8     36\n",
       "b13a4df5-08ae-4f3f-873f-88edb9358b1c     27\n",
       "Name: count, dtype: int64"
      ]
     },
     "execution_count": 361,
     "metadata": {},
     "output_type": "execute_result"
    }
   ],
   "source": [
    "Argentina['customer_id'].value_counts()\n"
   ]
  },
  {
   "cell_type": "code",
   "execution_count": 362,
   "id": "b3e67ffa",
   "metadata": {},
   "outputs": [
    {
     "data": {
      "text/plain": [
       "(30,)"
      ]
     },
     "execution_count": 362,
     "metadata": {},
     "output_type": "execute_result"
    }
   ],
   "source": [
    "Argentina['customer_id'].value_counts().shape\n"
   ]
  },
  {
   "cell_type": "code",
   "execution_count": 363,
   "id": "d8b4c02e",
   "metadata": {},
   "outputs": [],
   "source": [
    "aa05aca1=Argentina[Argentina['customer_id'] == 'aa05aca1-bd28-427e-a2ca-07de1f95fdb1']\n"
   ]
  },
  {
   "cell_type": "code",
   "execution_count": 364,
   "id": "d9201314",
   "metadata": {},
   "outputs": [
    {
     "data": {
      "text/html": [
       "<div>\n",
       "<style scoped>\n",
       "    .dataframe tbody tr th:only-of-type {\n",
       "        vertical-align: middle;\n",
       "    }\n",
       "\n",
       "    .dataframe tbody tr th {\n",
       "        vertical-align: top;\n",
       "    }\n",
       "\n",
       "    .dataframe thead th {\n",
       "        text-align: right;\n",
       "    }\n",
       "</style>\n",
       "<table border=\"1\" class=\"dataframe\">\n",
       "  <thead>\n",
       "    <tr style=\"text-align: right;\">\n",
       "      <th></th>\n",
       "      <th>customer_id</th>\n",
       "      <th>device_id</th>\n",
       "      <th>item_id</th>\n",
       "      <th>line_item_id</th>\n",
       "      <th>order_id</th>\n",
       "      <th>event_id</th>\n",
       "      <th>event_timestamp</th>\n",
       "      <th>quantity</th>\n",
       "      <th>currency</th>\n",
       "      <th>checked_out_at</th>\n",
       "      <th>status</th>\n",
       "    </tr>\n",
       "    <tr>\n",
       "      <th>location</th>\n",
       "      <th></th>\n",
       "      <th></th>\n",
       "      <th></th>\n",
       "      <th></th>\n",
       "      <th></th>\n",
       "      <th></th>\n",
       "      <th></th>\n",
       "      <th></th>\n",
       "      <th></th>\n",
       "      <th></th>\n",
       "      <th></th>\n",
       "    </tr>\n",
       "  </thead>\n",
       "  <tbody>\n",
       "    <tr>\n",
       "      <th>Argentina</th>\n",
       "      <td>aa05aca1-bd28-427e-a2ca-07de1f95fdb1</td>\n",
       "      <td>95844728-3adc-4087-af91-48cd4a54e736</td>\n",
       "      <td>6</td>\n",
       "      <td>27277</td>\n",
       "      <td>94d66f29-8412-493e-bcd9-c42f98554227</td>\n",
       "      <td>126591</td>\n",
       "      <td>2024-03-19 05:59:16.914361</td>\n",
       "      <td>1</td>\n",
       "      <td>USD</td>\n",
       "      <td>2024-03-30 04:11:16.322414</td>\n",
       "      <td>success</td>\n",
       "    </tr>\n",
       "    <tr>\n",
       "      <th>Argentina</th>\n",
       "      <td>aa05aca1-bd28-427e-a2ca-07de1f95fdb1</td>\n",
       "      <td>95844728-3adc-4087-af91-48cd4a54e736</td>\n",
       "      <td>3</td>\n",
       "      <td>27278</td>\n",
       "      <td>94d66f29-8412-493e-bcd9-c42f98554227</td>\n",
       "      <td>126591</td>\n",
       "      <td>2024-03-19 05:59:16.914361</td>\n",
       "      <td>1</td>\n",
       "      <td>USD</td>\n",
       "      <td>2024-03-30 04:11:16.322414</td>\n",
       "      <td>success</td>\n",
       "    </tr>\n",
       "    <tr>\n",
       "      <th>Argentina</th>\n",
       "      <td>aa05aca1-bd28-427e-a2ca-07de1f95fdb1</td>\n",
       "      <td>95844728-3adc-4087-af91-48cd4a54e736</td>\n",
       "      <td>4</td>\n",
       "      <td>27279</td>\n",
       "      <td>94d66f29-8412-493e-bcd9-c42f98554227</td>\n",
       "      <td>126591</td>\n",
       "      <td>2024-03-19 05:59:16.914361</td>\n",
       "      <td>1</td>\n",
       "      <td>USD</td>\n",
       "      <td>2024-03-30 04:11:16.322414</td>\n",
       "      <td>success</td>\n",
       "    </tr>\n",
       "  </tbody>\n",
       "</table>\n",
       "</div>"
      ],
      "text/plain": [
       "                                    customer_id  \\\n",
       "location                                          \n",
       "Argentina  aa05aca1-bd28-427e-a2ca-07de1f95fdb1   \n",
       "Argentina  aa05aca1-bd28-427e-a2ca-07de1f95fdb1   \n",
       "Argentina  aa05aca1-bd28-427e-a2ca-07de1f95fdb1   \n",
       "\n",
       "                                      device_id  item_id  line_item_id  \\\n",
       "location                                                                 \n",
       "Argentina  95844728-3adc-4087-af91-48cd4a54e736        6         27277   \n",
       "Argentina  95844728-3adc-4087-af91-48cd4a54e736        3         27278   \n",
       "Argentina  95844728-3adc-4087-af91-48cd4a54e736        4         27279   \n",
       "\n",
       "                                       order_id  event_id  \\\n",
       "location                                                    \n",
       "Argentina  94d66f29-8412-493e-bcd9-c42f98554227    126591   \n",
       "Argentina  94d66f29-8412-493e-bcd9-c42f98554227    126591   \n",
       "Argentina  94d66f29-8412-493e-bcd9-c42f98554227    126591   \n",
       "\n",
       "                      event_timestamp  quantity currency  \\\n",
       "location                                                   \n",
       "Argentina  2024-03-19 05:59:16.914361         1      USD   \n",
       "Argentina  2024-03-19 05:59:16.914361         1      USD   \n",
       "Argentina  2024-03-19 05:59:16.914361         1      USD   \n",
       "\n",
       "                       checked_out_at   status  \n",
       "location                                        \n",
       "Argentina  2024-03-30 04:11:16.322414  success  \n",
       "Argentina  2024-03-30 04:11:16.322414  success  \n",
       "Argentina  2024-03-30 04:11:16.322414  success  "
      ]
     },
     "execution_count": 364,
     "metadata": {},
     "output_type": "execute_result"
    }
   ],
   "source": [
    "aa05aca1.head(3)"
   ]
  },
  {
   "cell_type": "code",
   "execution_count": 365,
   "id": "a1c081e8",
   "metadata": {},
   "outputs": [
    {
     "data": {
      "text/html": [
       "<div>\n",
       "<style scoped>\n",
       "    .dataframe tbody tr th:only-of-type {\n",
       "        vertical-align: middle;\n",
       "    }\n",
       "\n",
       "    .dataframe tbody tr th {\n",
       "        vertical-align: top;\n",
       "    }\n",
       "\n",
       "    .dataframe thead th {\n",
       "        text-align: right;\n",
       "    }\n",
       "</style>\n",
       "<table border=\"1\" class=\"dataframe\">\n",
       "  <thead>\n",
       "    <tr style=\"text-align: right;\">\n",
       "      <th></th>\n",
       "      <th>item_id</th>\n",
       "      <th>line_item_id</th>\n",
       "      <th>event_id</th>\n",
       "      <th>quantity</th>\n",
       "    </tr>\n",
       "  </thead>\n",
       "  <tbody>\n",
       "    <tr>\n",
       "      <th>count</th>\n",
       "      <td>336.000000</td>\n",
       "      <td>336.000000</td>\n",
       "      <td>336.000000</td>\n",
       "      <td>336.000000</td>\n",
       "    </tr>\n",
       "    <tr>\n",
       "      <th>mean</th>\n",
       "      <td>8.166667</td>\n",
       "      <td>27282.500000</td>\n",
       "      <td>126604.500000</td>\n",
       "      <td>2.500000</td>\n",
       "    </tr>\n",
       "    <tr>\n",
       "      <th>std</th>\n",
       "      <td>4.362208</td>\n",
       "      <td>3.457201</td>\n",
       "      <td>8.089795</td>\n",
       "      <td>1.502237</td>\n",
       "    </tr>\n",
       "    <tr>\n",
       "      <th>min</th>\n",
       "      <td>1.000000</td>\n",
       "      <td>27277.000000</td>\n",
       "      <td>126591.000000</td>\n",
       "      <td>1.000000</td>\n",
       "    </tr>\n",
       "    <tr>\n",
       "      <th>25%</th>\n",
       "      <td>4.750000</td>\n",
       "      <td>27279.750000</td>\n",
       "      <td>126597.750000</td>\n",
       "      <td>1.000000</td>\n",
       "    </tr>\n",
       "    <tr>\n",
       "      <th>50%</th>\n",
       "      <td>8.000000</td>\n",
       "      <td>27282.500000</td>\n",
       "      <td>126604.500000</td>\n",
       "      <td>2.500000</td>\n",
       "    </tr>\n",
       "    <tr>\n",
       "      <th>75%</th>\n",
       "      <td>11.500000</td>\n",
       "      <td>27285.250000</td>\n",
       "      <td>126611.250000</td>\n",
       "      <td>3.250000</td>\n",
       "    </tr>\n",
       "    <tr>\n",
       "      <th>max</th>\n",
       "      <td>15.000000</td>\n",
       "      <td>27288.000000</td>\n",
       "      <td>126618.000000</td>\n",
       "      <td>5.000000</td>\n",
       "    </tr>\n",
       "  </tbody>\n",
       "</table>\n",
       "</div>"
      ],
      "text/plain": [
       "          item_id  line_item_id       event_id    quantity\n",
       "count  336.000000    336.000000     336.000000  336.000000\n",
       "mean     8.166667  27282.500000  126604.500000    2.500000\n",
       "std      4.362208      3.457201       8.089795    1.502237\n",
       "min      1.000000  27277.000000  126591.000000    1.000000\n",
       "25%      4.750000  27279.750000  126597.750000    1.000000\n",
       "50%      8.000000  27282.500000  126604.500000    2.500000\n",
       "75%     11.500000  27285.250000  126611.250000    3.250000\n",
       "max     15.000000  27288.000000  126618.000000    5.000000"
      ]
     },
     "execution_count": 365,
     "metadata": {},
     "output_type": "execute_result"
    }
   ],
   "source": [
    "aa05aca1.describe()"
   ]
  },
  {
   "cell_type": "code",
   "execution_count": 366,
   "id": "c4c6fd72",
   "metadata": {},
   "outputs": [
    {
     "data": {
      "text/html": [
       "<div>\n",
       "<style scoped>\n",
       "    .dataframe tbody tr th:only-of-type {\n",
       "        vertical-align: middle;\n",
       "    }\n",
       "\n",
       "    .dataframe tbody tr th {\n",
       "        vertical-align: top;\n",
       "    }\n",
       "\n",
       "    .dataframe thead th {\n",
       "        text-align: right;\n",
       "    }\n",
       "</style>\n",
       "<table border=\"1\" class=\"dataframe\">\n",
       "  <thead>\n",
       "    <tr style=\"text-align: right;\">\n",
       "      <th></th>\n",
       "      <th>device_id</th>\n",
       "      <th>order_id</th>\n",
       "      <th>event_timestamp</th>\n",
       "      <th>quantity</th>\n",
       "      <th>checked_out_at</th>\n",
       "      <th>status</th>\n",
       "    </tr>\n",
       "    <tr>\n",
       "      <th>location</th>\n",
       "      <th></th>\n",
       "      <th></th>\n",
       "      <th></th>\n",
       "      <th></th>\n",
       "      <th></th>\n",
       "      <th></th>\n",
       "    </tr>\n",
       "  </thead>\n",
       "  <tbody>\n",
       "    <tr>\n",
       "      <th>Argentina</th>\n",
       "      <td>95844728-3adc-4087-af91-48cd4a54e736</td>\n",
       "      <td>94d66f29-8412-493e-bcd9-c42f98554227</td>\n",
       "      <td>2024-03-19 05:59:16.914361</td>\n",
       "      <td>1</td>\n",
       "      <td>2024-03-30 04:11:16.322414</td>\n",
       "      <td>success</td>\n",
       "    </tr>\n",
       "    <tr>\n",
       "      <th>Argentina</th>\n",
       "      <td>95844728-3adc-4087-af91-48cd4a54e736</td>\n",
       "      <td>94d66f29-8412-493e-bcd9-c42f98554227</td>\n",
       "      <td>2024-03-19 05:59:16.914361</td>\n",
       "      <td>1</td>\n",
       "      <td>2024-03-30 04:11:16.322414</td>\n",
       "      <td>success</td>\n",
       "    </tr>\n",
       "    <tr>\n",
       "      <th>Argentina</th>\n",
       "      <td>95844728-3adc-4087-af91-48cd4a54e736</td>\n",
       "      <td>94d66f29-8412-493e-bcd9-c42f98554227</td>\n",
       "      <td>2024-03-19 05:59:16.914361</td>\n",
       "      <td>1</td>\n",
       "      <td>2024-03-30 04:11:16.322414</td>\n",
       "      <td>success</td>\n",
       "    </tr>\n",
       "    <tr>\n",
       "      <th>Argentina</th>\n",
       "      <td>95844728-3adc-4087-af91-48cd4a54e736</td>\n",
       "      <td>94d66f29-8412-493e-bcd9-c42f98554227</td>\n",
       "      <td>2024-03-19 05:59:16.914361</td>\n",
       "      <td>3</td>\n",
       "      <td>2024-03-30 04:11:16.322414</td>\n",
       "      <td>success</td>\n",
       "    </tr>\n",
       "    <tr>\n",
       "      <th>Argentina</th>\n",
       "      <td>95844728-3adc-4087-af91-48cd4a54e736</td>\n",
       "      <td>94d66f29-8412-493e-bcd9-c42f98554227</td>\n",
       "      <td>2024-03-19 05:59:16.914361</td>\n",
       "      <td>1</td>\n",
       "      <td>2024-03-30 04:11:16.322414</td>\n",
       "      <td>success</td>\n",
       "    </tr>\n",
       "    <tr>\n",
       "      <th>...</th>\n",
       "      <td>...</td>\n",
       "      <td>...</td>\n",
       "      <td>...</td>\n",
       "      <td>...</td>\n",
       "      <td>...</td>\n",
       "      <td>...</td>\n",
       "    </tr>\n",
       "    <tr>\n",
       "      <th>Argentina</th>\n",
       "      <td>95844728-3adc-4087-af91-48cd4a54e736</td>\n",
       "      <td>94d66f29-8412-493e-bcd9-c42f98554227</td>\n",
       "      <td>2024-03-30 04:11:16.322414</td>\n",
       "      <td>5</td>\n",
       "      <td>2024-03-30 04:11:16.322414</td>\n",
       "      <td>success</td>\n",
       "    </tr>\n",
       "    <tr>\n",
       "      <th>Argentina</th>\n",
       "      <td>95844728-3adc-4087-af91-48cd4a54e736</td>\n",
       "      <td>94d66f29-8412-493e-bcd9-c42f98554227</td>\n",
       "      <td>2024-03-30 04:11:16.322414</td>\n",
       "      <td>4</td>\n",
       "      <td>2024-03-30 04:11:16.322414</td>\n",
       "      <td>success</td>\n",
       "    </tr>\n",
       "    <tr>\n",
       "      <th>Argentina</th>\n",
       "      <td>95844728-3adc-4087-af91-48cd4a54e736</td>\n",
       "      <td>94d66f29-8412-493e-bcd9-c42f98554227</td>\n",
       "      <td>2024-03-30 04:11:16.322414</td>\n",
       "      <td>3</td>\n",
       "      <td>2024-03-30 04:11:16.322414</td>\n",
       "      <td>success</td>\n",
       "    </tr>\n",
       "    <tr>\n",
       "      <th>Argentina</th>\n",
       "      <td>95844728-3adc-4087-af91-48cd4a54e736</td>\n",
       "      <td>94d66f29-8412-493e-bcd9-c42f98554227</td>\n",
       "      <td>2024-03-30 04:11:16.322414</td>\n",
       "      <td>1</td>\n",
       "      <td>2024-03-30 04:11:16.322414</td>\n",
       "      <td>success</td>\n",
       "    </tr>\n",
       "    <tr>\n",
       "      <th>Argentina</th>\n",
       "      <td>95844728-3adc-4087-af91-48cd4a54e736</td>\n",
       "      <td>94d66f29-8412-493e-bcd9-c42f98554227</td>\n",
       "      <td>2024-03-30 04:11:16.322414</td>\n",
       "      <td>5</td>\n",
       "      <td>2024-03-30 04:11:16.322414</td>\n",
       "      <td>success</td>\n",
       "    </tr>\n",
       "  </tbody>\n",
       "</table>\n",
       "<p>336 rows × 6 columns</p>\n",
       "</div>"
      ],
      "text/plain": [
       "                                      device_id  \\\n",
       "location                                          \n",
       "Argentina  95844728-3adc-4087-af91-48cd4a54e736   \n",
       "Argentina  95844728-3adc-4087-af91-48cd4a54e736   \n",
       "Argentina  95844728-3adc-4087-af91-48cd4a54e736   \n",
       "Argentina  95844728-3adc-4087-af91-48cd4a54e736   \n",
       "Argentina  95844728-3adc-4087-af91-48cd4a54e736   \n",
       "...                                         ...   \n",
       "Argentina  95844728-3adc-4087-af91-48cd4a54e736   \n",
       "Argentina  95844728-3adc-4087-af91-48cd4a54e736   \n",
       "Argentina  95844728-3adc-4087-af91-48cd4a54e736   \n",
       "Argentina  95844728-3adc-4087-af91-48cd4a54e736   \n",
       "Argentina  95844728-3adc-4087-af91-48cd4a54e736   \n",
       "\n",
       "                                       order_id             event_timestamp  \\\n",
       "location                                                                      \n",
       "Argentina  94d66f29-8412-493e-bcd9-c42f98554227  2024-03-19 05:59:16.914361   \n",
       "Argentina  94d66f29-8412-493e-bcd9-c42f98554227  2024-03-19 05:59:16.914361   \n",
       "Argentina  94d66f29-8412-493e-bcd9-c42f98554227  2024-03-19 05:59:16.914361   \n",
       "Argentina  94d66f29-8412-493e-bcd9-c42f98554227  2024-03-19 05:59:16.914361   \n",
       "Argentina  94d66f29-8412-493e-bcd9-c42f98554227  2024-03-19 05:59:16.914361   \n",
       "...                                         ...                         ...   \n",
       "Argentina  94d66f29-8412-493e-bcd9-c42f98554227  2024-03-30 04:11:16.322414   \n",
       "Argentina  94d66f29-8412-493e-bcd9-c42f98554227  2024-03-30 04:11:16.322414   \n",
       "Argentina  94d66f29-8412-493e-bcd9-c42f98554227  2024-03-30 04:11:16.322414   \n",
       "Argentina  94d66f29-8412-493e-bcd9-c42f98554227  2024-03-30 04:11:16.322414   \n",
       "Argentina  94d66f29-8412-493e-bcd9-c42f98554227  2024-03-30 04:11:16.322414   \n",
       "\n",
       "           quantity              checked_out_at   status  \n",
       "location                                                  \n",
       "Argentina         1  2024-03-30 04:11:16.322414  success  \n",
       "Argentina         1  2024-03-30 04:11:16.322414  success  \n",
       "Argentina         1  2024-03-30 04:11:16.322414  success  \n",
       "Argentina         3  2024-03-30 04:11:16.322414  success  \n",
       "Argentina         1  2024-03-30 04:11:16.322414  success  \n",
       "...             ...                         ...      ...  \n",
       "Argentina         5  2024-03-30 04:11:16.322414  success  \n",
       "Argentina         4  2024-03-30 04:11:16.322414  success  \n",
       "Argentina         3  2024-03-30 04:11:16.322414  success  \n",
       "Argentina         1  2024-03-30 04:11:16.322414  success  \n",
       "Argentina         5  2024-03-30 04:11:16.322414  success  \n",
       "\n",
       "[336 rows x 6 columns]"
      ]
     },
     "execution_count": 366,
     "metadata": {},
     "output_type": "execute_result"
    }
   ],
   "source": [
    "aa05aca1.loc[:,['device_id','order_id','event_timestamp','quantity','checked_out_at', 'status']]\n"
   ]
  },
  {
   "cell_type": "code",
   "execution_count": 367,
   "id": "c2376e65",
   "metadata": {},
   "outputs": [
    {
     "data": {
      "text/html": [
       "<div>\n",
       "<style scoped>\n",
       "    .dataframe tbody tr th:only-of-type {\n",
       "        vertical-align: middle;\n",
       "    }\n",
       "\n",
       "    .dataframe tbody tr th {\n",
       "        vertical-align: top;\n",
       "    }\n",
       "\n",
       "    .dataframe thead th {\n",
       "        text-align: right;\n",
       "    }\n",
       "</style>\n",
       "<table border=\"1\" class=\"dataframe\">\n",
       "  <thead>\n",
       "    <tr style=\"text-align: right;\">\n",
       "      <th></th>\n",
       "      <th>customer_id</th>\n",
       "      <th>device_id</th>\n",
       "      <th>item_id</th>\n",
       "      <th>line_item_id</th>\n",
       "      <th>order_id</th>\n",
       "      <th>event_id</th>\n",
       "      <th>event_timestamp</th>\n",
       "      <th>quantity</th>\n",
       "      <th>currency</th>\n",
       "      <th>checked_out_at</th>\n",
       "      <th>status</th>\n",
       "    </tr>\n",
       "    <tr>\n",
       "      <th>location</th>\n",
       "      <th></th>\n",
       "      <th></th>\n",
       "      <th></th>\n",
       "      <th></th>\n",
       "      <th></th>\n",
       "      <th></th>\n",
       "      <th></th>\n",
       "      <th></th>\n",
       "      <th></th>\n",
       "      <th></th>\n",
       "      <th></th>\n",
       "    </tr>\n",
       "  </thead>\n",
       "  <tbody>\n",
       "    <tr>\n",
       "      <th>Argentina</th>\n",
       "      <td>aa05aca1-bd28-427e-a2ca-07de1f95fdb1</td>\n",
       "      <td>95844728-3adc-4087-af91-48cd4a54e736</td>\n",
       "      <td>6</td>\n",
       "      <td>27277</td>\n",
       "      <td>94d66f29-8412-493e-bcd9-c42f98554227</td>\n",
       "      <td>126591</td>\n",
       "      <td>2024-03-19 05:59:16.914361</td>\n",
       "      <td>1</td>\n",
       "      <td>USD</td>\n",
       "      <td>2024-03-30 04:11:16.322414</td>\n",
       "      <td>success</td>\n",
       "    </tr>\n",
       "    <tr>\n",
       "      <th>Argentina</th>\n",
       "      <td>aa05aca1-bd28-427e-a2ca-07de1f95fdb1</td>\n",
       "      <td>95844728-3adc-4087-af91-48cd4a54e736</td>\n",
       "      <td>3</td>\n",
       "      <td>27278</td>\n",
       "      <td>94d66f29-8412-493e-bcd9-c42f98554227</td>\n",
       "      <td>126591</td>\n",
       "      <td>2024-03-19 05:59:16.914361</td>\n",
       "      <td>1</td>\n",
       "      <td>USD</td>\n",
       "      <td>2024-03-30 04:11:16.322414</td>\n",
       "      <td>success</td>\n",
       "    </tr>\n",
       "    <tr>\n",
       "      <th>Argentina</th>\n",
       "      <td>aa05aca1-bd28-427e-a2ca-07de1f95fdb1</td>\n",
       "      <td>95844728-3adc-4087-af91-48cd4a54e736</td>\n",
       "      <td>4</td>\n",
       "      <td>27279</td>\n",
       "      <td>94d66f29-8412-493e-bcd9-c42f98554227</td>\n",
       "      <td>126591</td>\n",
       "      <td>2024-03-19 05:59:16.914361</td>\n",
       "      <td>1</td>\n",
       "      <td>USD</td>\n",
       "      <td>2024-03-30 04:11:16.322414</td>\n",
       "      <td>success</td>\n",
       "    </tr>\n",
       "    <tr>\n",
       "      <th>Argentina</th>\n",
       "      <td>aa05aca1-bd28-427e-a2ca-07de1f95fdb1</td>\n",
       "      <td>95844728-3adc-4087-af91-48cd4a54e736</td>\n",
       "      <td>15</td>\n",
       "      <td>27280</td>\n",
       "      <td>94d66f29-8412-493e-bcd9-c42f98554227</td>\n",
       "      <td>126591</td>\n",
       "      <td>2024-03-19 05:59:16.914361</td>\n",
       "      <td>3</td>\n",
       "      <td>USD</td>\n",
       "      <td>2024-03-30 04:11:16.322414</td>\n",
       "      <td>success</td>\n",
       "    </tr>\n",
       "    <tr>\n",
       "      <th>Argentina</th>\n",
       "      <td>aa05aca1-bd28-427e-a2ca-07de1f95fdb1</td>\n",
       "      <td>95844728-3adc-4087-af91-48cd4a54e736</td>\n",
       "      <td>7</td>\n",
       "      <td>27281</td>\n",
       "      <td>94d66f29-8412-493e-bcd9-c42f98554227</td>\n",
       "      <td>126591</td>\n",
       "      <td>2024-03-19 05:59:16.914361</td>\n",
       "      <td>1</td>\n",
       "      <td>USD</td>\n",
       "      <td>2024-03-30 04:11:16.322414</td>\n",
       "      <td>success</td>\n",
       "    </tr>\n",
       "    <tr>\n",
       "      <th>...</th>\n",
       "      <td>...</td>\n",
       "      <td>...</td>\n",
       "      <td>...</td>\n",
       "      <td>...</td>\n",
       "      <td>...</td>\n",
       "      <td>...</td>\n",
       "      <td>...</td>\n",
       "      <td>...</td>\n",
       "      <td>...</td>\n",
       "      <td>...</td>\n",
       "      <td>...</td>\n",
       "    </tr>\n",
       "    <tr>\n",
       "      <th>Argentina</th>\n",
       "      <td>aa05aca1-bd28-427e-a2ca-07de1f95fdb1</td>\n",
       "      <td>95844728-3adc-4087-af91-48cd4a54e736</td>\n",
       "      <td>13</td>\n",
       "      <td>27284</td>\n",
       "      <td>94d66f29-8412-493e-bcd9-c42f98554227</td>\n",
       "      <td>126618</td>\n",
       "      <td>2024-03-30 04:11:16.322414</td>\n",
       "      <td>5</td>\n",
       "      <td>USD</td>\n",
       "      <td>2024-03-30 04:11:16.322414</td>\n",
       "      <td>success</td>\n",
       "    </tr>\n",
       "    <tr>\n",
       "      <th>Argentina</th>\n",
       "      <td>aa05aca1-bd28-427e-a2ca-07de1f95fdb1</td>\n",
       "      <td>95844728-3adc-4087-af91-48cd4a54e736</td>\n",
       "      <td>5</td>\n",
       "      <td>27285</td>\n",
       "      <td>94d66f29-8412-493e-bcd9-c42f98554227</td>\n",
       "      <td>126618</td>\n",
       "      <td>2024-03-30 04:11:16.322414</td>\n",
       "      <td>4</td>\n",
       "      <td>USD</td>\n",
       "      <td>2024-03-30 04:11:16.322414</td>\n",
       "      <td>success</td>\n",
       "    </tr>\n",
       "    <tr>\n",
       "      <th>Argentina</th>\n",
       "      <td>aa05aca1-bd28-427e-a2ca-07de1f95fdb1</td>\n",
       "      <td>95844728-3adc-4087-af91-48cd4a54e736</td>\n",
       "      <td>1</td>\n",
       "      <td>27286</td>\n",
       "      <td>94d66f29-8412-493e-bcd9-c42f98554227</td>\n",
       "      <td>126618</td>\n",
       "      <td>2024-03-30 04:11:16.322414</td>\n",
       "      <td>3</td>\n",
       "      <td>USD</td>\n",
       "      <td>2024-03-30 04:11:16.322414</td>\n",
       "      <td>success</td>\n",
       "    </tr>\n",
       "    <tr>\n",
       "      <th>Argentina</th>\n",
       "      <td>aa05aca1-bd28-427e-a2ca-07de1f95fdb1</td>\n",
       "      <td>95844728-3adc-4087-af91-48cd4a54e736</td>\n",
       "      <td>10</td>\n",
       "      <td>27287</td>\n",
       "      <td>94d66f29-8412-493e-bcd9-c42f98554227</td>\n",
       "      <td>126618</td>\n",
       "      <td>2024-03-30 04:11:16.322414</td>\n",
       "      <td>1</td>\n",
       "      <td>USD</td>\n",
       "      <td>2024-03-30 04:11:16.322414</td>\n",
       "      <td>success</td>\n",
       "    </tr>\n",
       "    <tr>\n",
       "      <th>Argentina</th>\n",
       "      <td>aa05aca1-bd28-427e-a2ca-07de1f95fdb1</td>\n",
       "      <td>95844728-3adc-4087-af91-48cd4a54e736</td>\n",
       "      <td>11</td>\n",
       "      <td>27288</td>\n",
       "      <td>94d66f29-8412-493e-bcd9-c42f98554227</td>\n",
       "      <td>126618</td>\n",
       "      <td>2024-03-30 04:11:16.322414</td>\n",
       "      <td>5</td>\n",
       "      <td>USD</td>\n",
       "      <td>2024-03-30 04:11:16.322414</td>\n",
       "      <td>success</td>\n",
       "    </tr>\n",
       "  </tbody>\n",
       "</table>\n",
       "<p>336 rows × 11 columns</p>\n",
       "</div>"
      ],
      "text/plain": [
       "                                    customer_id  \\\n",
       "location                                          \n",
       "Argentina  aa05aca1-bd28-427e-a2ca-07de1f95fdb1   \n",
       "Argentina  aa05aca1-bd28-427e-a2ca-07de1f95fdb1   \n",
       "Argentina  aa05aca1-bd28-427e-a2ca-07de1f95fdb1   \n",
       "Argentina  aa05aca1-bd28-427e-a2ca-07de1f95fdb1   \n",
       "Argentina  aa05aca1-bd28-427e-a2ca-07de1f95fdb1   \n",
       "...                                         ...   \n",
       "Argentina  aa05aca1-bd28-427e-a2ca-07de1f95fdb1   \n",
       "Argentina  aa05aca1-bd28-427e-a2ca-07de1f95fdb1   \n",
       "Argentina  aa05aca1-bd28-427e-a2ca-07de1f95fdb1   \n",
       "Argentina  aa05aca1-bd28-427e-a2ca-07de1f95fdb1   \n",
       "Argentina  aa05aca1-bd28-427e-a2ca-07de1f95fdb1   \n",
       "\n",
       "                                      device_id  item_id  line_item_id  \\\n",
       "location                                                                 \n",
       "Argentina  95844728-3adc-4087-af91-48cd4a54e736        6         27277   \n",
       "Argentina  95844728-3adc-4087-af91-48cd4a54e736        3         27278   \n",
       "Argentina  95844728-3adc-4087-af91-48cd4a54e736        4         27279   \n",
       "Argentina  95844728-3adc-4087-af91-48cd4a54e736       15         27280   \n",
       "Argentina  95844728-3adc-4087-af91-48cd4a54e736        7         27281   \n",
       "...                                         ...      ...           ...   \n",
       "Argentina  95844728-3adc-4087-af91-48cd4a54e736       13         27284   \n",
       "Argentina  95844728-3adc-4087-af91-48cd4a54e736        5         27285   \n",
       "Argentina  95844728-3adc-4087-af91-48cd4a54e736        1         27286   \n",
       "Argentina  95844728-3adc-4087-af91-48cd4a54e736       10         27287   \n",
       "Argentina  95844728-3adc-4087-af91-48cd4a54e736       11         27288   \n",
       "\n",
       "                                       order_id  event_id  \\\n",
       "location                                                    \n",
       "Argentina  94d66f29-8412-493e-bcd9-c42f98554227    126591   \n",
       "Argentina  94d66f29-8412-493e-bcd9-c42f98554227    126591   \n",
       "Argentina  94d66f29-8412-493e-bcd9-c42f98554227    126591   \n",
       "Argentina  94d66f29-8412-493e-bcd9-c42f98554227    126591   \n",
       "Argentina  94d66f29-8412-493e-bcd9-c42f98554227    126591   \n",
       "...                                         ...       ...   \n",
       "Argentina  94d66f29-8412-493e-bcd9-c42f98554227    126618   \n",
       "Argentina  94d66f29-8412-493e-bcd9-c42f98554227    126618   \n",
       "Argentina  94d66f29-8412-493e-bcd9-c42f98554227    126618   \n",
       "Argentina  94d66f29-8412-493e-bcd9-c42f98554227    126618   \n",
       "Argentina  94d66f29-8412-493e-bcd9-c42f98554227    126618   \n",
       "\n",
       "                      event_timestamp  quantity currency  \\\n",
       "location                                                   \n",
       "Argentina  2024-03-19 05:59:16.914361         1      USD   \n",
       "Argentina  2024-03-19 05:59:16.914361         1      USD   \n",
       "Argentina  2024-03-19 05:59:16.914361         1      USD   \n",
       "Argentina  2024-03-19 05:59:16.914361         3      USD   \n",
       "Argentina  2024-03-19 05:59:16.914361         1      USD   \n",
       "...                               ...       ...      ...   \n",
       "Argentina  2024-03-30 04:11:16.322414         5      USD   \n",
       "Argentina  2024-03-30 04:11:16.322414         4      USD   \n",
       "Argentina  2024-03-30 04:11:16.322414         3      USD   \n",
       "Argentina  2024-03-30 04:11:16.322414         1      USD   \n",
       "Argentina  2024-03-30 04:11:16.322414         5      USD   \n",
       "\n",
       "                       checked_out_at   status  \n",
       "location                                        \n",
       "Argentina  2024-03-30 04:11:16.322414  success  \n",
       "Argentina  2024-03-30 04:11:16.322414  success  \n",
       "Argentina  2024-03-30 04:11:16.322414  success  \n",
       "Argentina  2024-03-30 04:11:16.322414  success  \n",
       "Argentina  2024-03-30 04:11:16.322414  success  \n",
       "...                               ...      ...  \n",
       "Argentina  2024-03-30 04:11:16.322414  success  \n",
       "Argentina  2024-03-30 04:11:16.322414  success  \n",
       "Argentina  2024-03-30 04:11:16.322414  success  \n",
       "Argentina  2024-03-30 04:11:16.322414  success  \n",
       "Argentina  2024-03-30 04:11:16.322414  success  \n",
       "\n",
       "[336 rows x 11 columns]"
      ]
     },
     "execution_count": 367,
     "metadata": {},
     "output_type": "execute_result"
    }
   ],
   "source": [
    "aa05aca1_sucess= (Argentina['customer_id'] == 'aa05aca1-bd28-427e-a2ca-07de1f95fdb1') & (Argentina['status']=='success')\n",
    "Argentina[aa05aca1_sucess]\n"
   ]
  },
  {
   "cell_type": "markdown",
   "id": "450c7f14",
   "metadata": {},
   "source": [
    "In argentina the one with high transaction was actually sucessful"
   ]
  },
  {
   "cell_type": "code",
   "execution_count": 368,
   "id": "4116b4c0",
   "metadata": {},
   "outputs": [
    {
     "data": {
      "text/plain": [
       "([<matplotlib.patches.Wedge at 0x22544dd82f0>,\n",
       "  <matplotlib.patches.Wedge at 0x22544ddac60>,\n",
       "  <matplotlib.patches.Wedge at 0x22544dd9e20>],\n",
       " [Text(0.277967910364963, 1.0642996950142078, 'failed'),\n",
       "  Text(-0.9962805340355653, -0.46628864183229796, 'cancelled'),\n",
       "  Text(0.7029139015407173, -0.8461158591001631, 'success')],\n",
       " [Text(0.1516188601990707, 0.580527106371386, '41.9%'),\n",
       "  Text(-0.543425745837581, -0.2543392591812534, '30.2%'),\n",
       "  Text(0.38340758265857305, -0.46151774132736156, '27.9%')])"
      ]
     },
     "execution_count": 368,
     "metadata": {},
     "output_type": "execute_result"
    },
    {
     "data": {
      "image/png": "[encoded data removed]",
      "text/plain": [
       "<Figure size 640x480 with 1 Axes>"
      ]
     },
     "metadata": {},
     "output_type": "display_data"
    }
   ],
   "source": [
    "statArgentina = Argentina['status'].value_counts()\n",
    "plt.pie(statArgentina.values,labels=statArgentina.index, autopct='%1.1f%%')\n"
   ]
  },
  {
   "cell_type": "markdown",
   "id": "fbddf86f",
   "metadata": {},
   "source": [
    "wow the number of failed transactions was even really much in Argentina\n",
    "\n",
    "\n",
    "to look more into this i will pick another popular user randomly and check to see if he had sucessful transactions so \n",
    "\n",
    "then i neeed to proceed to check if the ones that failled  and see the customer id that conributed to the most fail"
   ]
  },
  {
   "cell_type": "code",
   "execution_count": 369,
   "id": "bcd76337",
   "metadata": {},
   "outputs": [
    {
     "data": {
      "text/plain": [
       "array(['6a43e01f-4081-445b-b960-82b7f4599d8b',\n",
       "       '95027706-87f5-401f-953f-5eb153a23ccd',\n",
       "       '26dbb360-4dc1-4e82-8144-9a7f9c2286c8',\n",
       "       'fc2a0e40-96d7-4a95-97dd-a494ec3a3e0a',\n",
       "       'e5ec9f81-5a94-4b40-8219-9e80cd9e2ae8',\n",
       "       '7d3828bc-6490-4038-9e38-81418b889dfb',\n",
       "       '00c7d13a-1f04-46b4-ac90-8c442270c906',\n",
       "       '92fc1272-b1d5-48b9-a8a7-78f46658b0c1',\n",
       "       '210a6861-599b-4600-85e7-832623ad64d2',\n",
       "       '567ec5d3-f538-44a2-a55a-681fe4f81064',\n",
       "       'a7ecbde7-bd2f-408d-ac44-b79c441b212a',\n",
       "       'b13a4df5-08ae-4f3f-873f-88edb9358b1c',\n",
       "       'd4beacfe-dfca-4086-a78d-5af54101cb76',\n",
       "       'cf8d8ced-dbfd-457b-9262-c49a7aa34d22',\n",
       "       'ba28d0ec-2638-4734-a206-518055f2122e',\n",
       "       '2a23082d-0fe5-425d-b8db-a94f26d969d4',\n",
       "       '033ea6fa-884f-4180-b373-d09dc27b8799',\n",
       "       '3aa36526-1234-4f51-8ed7-44d528bd34f3',\n",
       "       '14b95e00-3e4d-476f-bdae-388e348fa9a0',\n",
       "       'e48e25d0-5b02-4afd-a28d-c06bd700e2b8',\n",
       "       'a0884293-ac8c-4736-aad2-b39c31ab1f02',\n",
       "       'd5e90eab-a0ef-46b0-8423-4d31e93d3a29',\n",
       "       'c26ed5e5-ac5e-46fe-94bc-abae62d5a7fe',\n",
       "       'aa05aca1-bd28-427e-a2ca-07de1f95fdb1',\n",
       "       'cde47fd2-e667-45e1-bb09-a76b4097698e',\n",
       "       '2f7226bd-df3a-445b-b02d-c7dd1e852eda',\n",
       "       'c391f179-9eb3-418d-9d7b-b261f2dc57a6',\n",
       "       'aaaed54d-df1e-43d3-816b-7e50cd03f277',\n",
       "       '6637e13c-e967-40c8-be98-30f241d82423',\n",
       "       '6d6c92dd-c109-4cae-94a2-d246f1aa0137'], dtype=object)"
      ]
     },
     "execution_count": 369,
     "metadata": {},
     "output_type": "execute_result"
    }
   ],
   "source": [
    "Argentinauniquecustomerid = Argentina['customer_id'].unique()\n",
    "Argentinauniquecustomerid\n",
    "\n",
    "\n"
   ]
  },
  {
   "cell_type": "code",
   "execution_count": 370,
   "id": "b65ad0ac",
   "metadata": {},
   "outputs": [
    {
     "data": {
      "text/plain": [
       "customer_id\n",
       "c391f179-9eb3-418d-9d7b-b261f2dc57a6    360\n",
       "aa05aca1-bd28-427e-a2ca-07de1f95fdb1    336\n",
       "567ec5d3-f538-44a2-a55a-681fe4f81064    286\n",
       "210a6861-599b-4600-85e7-832623ad64d2    252\n",
       "a7ecbde7-bd2f-408d-ac44-b79c441b212a    240\n",
       "95027706-87f5-401f-953f-5eb153a23ccd    231\n",
       "14b95e00-3e4d-476f-bdae-388e348fa9a0    207\n",
       "cde47fd2-e667-45e1-bb09-a76b4097698e    200\n",
       "2f7226bd-df3a-445b-b02d-c7dd1e852eda    198\n",
       "c26ed5e5-ac5e-46fe-94bc-abae62d5a7fe    198\n",
       "cf8d8ced-dbfd-457b-9262-c49a7aa34d22    192\n",
       "ba28d0ec-2638-4734-a206-518055f2122e    187\n",
       "92fc1272-b1d5-48b9-a8a7-78f46658b0c1    153\n",
       "d4beacfe-dfca-4086-a78d-5af54101cb76    144\n",
       "d5e90eab-a0ef-46b0-8423-4d31e93d3a29    144\n",
       "3aa36526-1234-4f51-8ed7-44d528bd34f3    135\n",
       "e5ec9f81-5a94-4b40-8219-9e80cd9e2ae8    119\n",
       "fc2a0e40-96d7-4a95-97dd-a494ec3a3e0a    114\n",
       "033ea6fa-884f-4180-b373-d09dc27b8799    112\n",
       "6637e13c-e967-40c8-be98-30f241d82423     91\n",
       "7d3828bc-6490-4038-9e38-81418b889dfb     84\n",
       "aaaed54d-df1e-43d3-816b-7e50cd03f277     84\n",
       "00c7d13a-1f04-46b4-ac90-8c442270c906     80\n",
       "a0884293-ac8c-4736-aad2-b39c31ab1f02     75\n",
       "6a43e01f-4081-445b-b960-82b7f4599d8b     75\n",
       "2a23082d-0fe5-425d-b8db-a94f26d969d4     55\n",
       "6d6c92dd-c109-4cae-94a2-d246f1aa0137     50\n",
       "26dbb360-4dc1-4e82-8144-9a7f9c2286c8     42\n",
       "e48e25d0-5b02-4afd-a28d-c06bd700e2b8     36\n",
       "b13a4df5-08ae-4f3f-873f-88edb9358b1c     27\n",
       "Name: count, dtype: int64"
      ]
     },
     "execution_count": 370,
     "metadata": {},
     "output_type": "execute_result"
    }
   ],
   "source": [
    "Argentina['customer_id'].value_counts()\n",
    "\n"
   ]
  },
  {
   "cell_type": "code",
   "execution_count": 371,
   "id": "3152a5f1",
   "metadata": {},
   "outputs": [
    {
     "data": {
      "text/plain": [
       "(30,)"
      ]
     },
     "execution_count": 371,
     "metadata": {},
     "output_type": "execute_result"
    }
   ],
   "source": [
    "Argentina['customer_id'].value_counts().shape\n",
    "\n"
   ]
  },
  {
   "cell_type": "code",
   "execution_count": 372,
   "id": "af4181b4",
   "metadata": {},
   "outputs": [],
   "source": [
    "ba28d0ec=Argentina[Argentina['customer_id'] == 'ba28d0ec-2638-4734-a206-518055f2122e']\n"
   ]
  },
  {
   "cell_type": "code",
   "execution_count": 373,
   "id": "5bdf2534",
   "metadata": {},
   "outputs": [
    {
     "data": {
      "text/html": [
       "<div>\n",
       "<style scoped>\n",
       "    .dataframe tbody tr th:only-of-type {\n",
       "        vertical-align: middle;\n",
       "    }\n",
       "\n",
       "    .dataframe tbody tr th {\n",
       "        vertical-align: top;\n",
       "    }\n",
       "\n",
       "    .dataframe thead th {\n",
       "        text-align: right;\n",
       "    }\n",
       "</style>\n",
       "<table border=\"1\" class=\"dataframe\">\n",
       "  <thead>\n",
       "    <tr style=\"text-align: right;\">\n",
       "      <th></th>\n",
       "      <th>customer_id</th>\n",
       "      <th>device_id</th>\n",
       "      <th>item_id</th>\n",
       "      <th>line_item_id</th>\n",
       "      <th>order_id</th>\n",
       "      <th>event_id</th>\n",
       "      <th>event_timestamp</th>\n",
       "      <th>quantity</th>\n",
       "      <th>currency</th>\n",
       "      <th>checked_out_at</th>\n",
       "      <th>status</th>\n",
       "    </tr>\n",
       "    <tr>\n",
       "      <th>location</th>\n",
       "      <th></th>\n",
       "      <th></th>\n",
       "      <th></th>\n",
       "      <th></th>\n",
       "      <th></th>\n",
       "      <th></th>\n",
       "      <th></th>\n",
       "      <th></th>\n",
       "      <th></th>\n",
       "      <th></th>\n",
       "      <th></th>\n",
       "    </tr>\n",
       "  </thead>\n",
       "  <tbody>\n",
       "    <tr>\n",
       "      <th>Argentina</th>\n",
       "      <td>ba28d0ec-2638-4734-a206-518055f2122e</td>\n",
       "      <td>e103b312-48cd-414b-b7eb-9241c2172e3b</td>\n",
       "      <td>3</td>\n",
       "      <td>16020</td>\n",
       "      <td>ba0765ad-8761-4ed7-850d-5bde57b033a8</td>\n",
       "      <td>74888</td>\n",
       "      <td>2024-03-30 04:03:13.600555</td>\n",
       "      <td>5</td>\n",
       "      <td>NGN</td>\n",
       "      <td>2024-03-30 04:13:13.600624</td>\n",
       "      <td>cancelled</td>\n",
       "    </tr>\n",
       "    <tr>\n",
       "      <th>Argentina</th>\n",
       "      <td>ba28d0ec-2638-4734-a206-518055f2122e</td>\n",
       "      <td>e103b312-48cd-414b-b7eb-9241c2172e3b</td>\n",
       "      <td>15</td>\n",
       "      <td>16021</td>\n",
       "      <td>ba0765ad-8761-4ed7-850d-5bde57b033a8</td>\n",
       "      <td>74888</td>\n",
       "      <td>2024-03-30 04:03:13.600555</td>\n",
       "      <td>1</td>\n",
       "      <td>NGN</td>\n",
       "      <td>2024-03-30 04:13:13.600624</td>\n",
       "      <td>cancelled</td>\n",
       "    </tr>\n",
       "    <tr>\n",
       "      <th>Argentina</th>\n",
       "      <td>ba28d0ec-2638-4734-a206-518055f2122e</td>\n",
       "      <td>e103b312-48cd-414b-b7eb-9241c2172e3b</td>\n",
       "      <td>1</td>\n",
       "      <td>16022</td>\n",
       "      <td>ba0765ad-8761-4ed7-850d-5bde57b033a8</td>\n",
       "      <td>74888</td>\n",
       "      <td>2024-03-30 04:03:13.600555</td>\n",
       "      <td>3</td>\n",
       "      <td>NGN</td>\n",
       "      <td>2024-03-30 04:13:13.600624</td>\n",
       "      <td>cancelled</td>\n",
       "    </tr>\n",
       "  </tbody>\n",
       "</table>\n",
       "</div>"
      ],
      "text/plain": [
       "                                    customer_id  \\\n",
       "location                                          \n",
       "Argentina  ba28d0ec-2638-4734-a206-518055f2122e   \n",
       "Argentina  ba28d0ec-2638-4734-a206-518055f2122e   \n",
       "Argentina  ba28d0ec-2638-4734-a206-518055f2122e   \n",
       "\n",
       "                                      device_id  item_id  line_item_id  \\\n",
       "location                                                                 \n",
       "Argentina  e103b312-48cd-414b-b7eb-9241c2172e3b        3         16020   \n",
       "Argentina  e103b312-48cd-414b-b7eb-9241c2172e3b       15         16021   \n",
       "Argentina  e103b312-48cd-414b-b7eb-9241c2172e3b        1         16022   \n",
       "\n",
       "                                       order_id  event_id  \\\n",
       "location                                                    \n",
       "Argentina  ba0765ad-8761-4ed7-850d-5bde57b033a8     74888   \n",
       "Argentina  ba0765ad-8761-4ed7-850d-5bde57b033a8     74888   \n",
       "Argentina  ba0765ad-8761-4ed7-850d-5bde57b033a8     74888   \n",
       "\n",
       "                      event_timestamp  quantity currency  \\\n",
       "location                                                   \n",
       "Argentina  2024-03-30 04:03:13.600555         5      NGN   \n",
       "Argentina  2024-03-30 04:03:13.600555         1      NGN   \n",
       "Argentina  2024-03-30 04:03:13.600555         3      NGN   \n",
       "\n",
       "                       checked_out_at     status  \n",
       "location                                          \n",
       "Argentina  2024-03-30 04:13:13.600624  cancelled  \n",
       "Argentina  2024-03-30 04:13:13.600624  cancelled  \n",
       "Argentina  2024-03-30 04:13:13.600624  cancelled  "
      ]
     },
     "execution_count": 373,
     "metadata": {},
     "output_type": "execute_result"
    }
   ],
   "source": [
    "ba28d0ec.head(3)\n",
    "\n"
   ]
  },
  {
   "cell_type": "code",
   "execution_count": 374,
   "id": "47657b15",
   "metadata": {},
   "outputs": [
    {
     "data": {
      "text/html": [
       "<div>\n",
       "<style scoped>\n",
       "    .dataframe tbody tr th:only-of-type {\n",
       "        vertical-align: middle;\n",
       "    }\n",
       "\n",
       "    .dataframe tbody tr th {\n",
       "        vertical-align: top;\n",
       "    }\n",
       "\n",
       "    .dataframe thead th {\n",
       "        text-align: right;\n",
       "    }\n",
       "</style>\n",
       "<table border=\"1\" class=\"dataframe\">\n",
       "  <thead>\n",
       "    <tr style=\"text-align: right;\">\n",
       "      <th></th>\n",
       "      <th>item_id</th>\n",
       "      <th>line_item_id</th>\n",
       "      <th>event_id</th>\n",
       "      <th>quantity</th>\n",
       "    </tr>\n",
       "  </thead>\n",
       "  <tbody>\n",
       "    <tr>\n",
       "      <th>count</th>\n",
       "      <td>187.000000</td>\n",
       "      <td>187.000000</td>\n",
       "      <td>187.000000</td>\n",
       "      <td>187.000000</td>\n",
       "    </tr>\n",
       "    <tr>\n",
       "      <th>mean</th>\n",
       "      <td>7.909091</td>\n",
       "      <td>16025.000000</td>\n",
       "      <td>74896.000000</td>\n",
       "      <td>3.272727</td>\n",
       "    </tr>\n",
       "    <tr>\n",
       "      <th>std</th>\n",
       "      <td>4.088704</td>\n",
       "      <td>3.170767</td>\n",
       "      <td>4.912131</td>\n",
       "      <td>1.289100</td>\n",
       "    </tr>\n",
       "    <tr>\n",
       "      <th>min</th>\n",
       "      <td>1.000000</td>\n",
       "      <td>16020.000000</td>\n",
       "      <td>74888.000000</td>\n",
       "      <td>1.000000</td>\n",
       "    </tr>\n",
       "    <tr>\n",
       "      <th>25%</th>\n",
       "      <td>4.000000</td>\n",
       "      <td>16022.000000</td>\n",
       "      <td>74892.000000</td>\n",
       "      <td>3.000000</td>\n",
       "    </tr>\n",
       "    <tr>\n",
       "      <th>50%</th>\n",
       "      <td>8.000000</td>\n",
       "      <td>16025.000000</td>\n",
       "      <td>74896.000000</td>\n",
       "      <td>3.000000</td>\n",
       "    </tr>\n",
       "    <tr>\n",
       "      <th>75%</th>\n",
       "      <td>11.000000</td>\n",
       "      <td>16028.000000</td>\n",
       "      <td>74900.000000</td>\n",
       "      <td>4.000000</td>\n",
       "    </tr>\n",
       "    <tr>\n",
       "      <th>max</th>\n",
       "      <td>15.000000</td>\n",
       "      <td>16030.000000</td>\n",
       "      <td>74904.000000</td>\n",
       "      <td>5.000000</td>\n",
       "    </tr>\n",
       "  </tbody>\n",
       "</table>\n",
       "</div>"
      ],
      "text/plain": [
       "          item_id  line_item_id      event_id    quantity\n",
       "count  187.000000    187.000000    187.000000  187.000000\n",
       "mean     7.909091  16025.000000  74896.000000    3.272727\n",
       "std      4.088704      3.170767      4.912131    1.289100\n",
       "min      1.000000  16020.000000  74888.000000    1.000000\n",
       "25%      4.000000  16022.000000  74892.000000    3.000000\n",
       "50%      8.000000  16025.000000  74896.000000    3.000000\n",
       "75%     11.000000  16028.000000  74900.000000    4.000000\n",
       "max     15.000000  16030.000000  74904.000000    5.000000"
      ]
     },
     "execution_count": 374,
     "metadata": {},
     "output_type": "execute_result"
    }
   ],
   "source": [
    "ba28d0ec.describe()\n",
    "\n"
   ]
  },
  {
   "cell_type": "code",
   "execution_count": 375,
   "id": "b6187402",
   "metadata": {},
   "outputs": [
    {
     "data": {
      "text/html": [
       "<div>\n",
       "<style scoped>\n",
       "    .dataframe tbody tr th:only-of-type {\n",
       "        vertical-align: middle;\n",
       "    }\n",
       "\n",
       "    .dataframe tbody tr th {\n",
       "        vertical-align: top;\n",
       "    }\n",
       "\n",
       "    .dataframe thead th {\n",
       "        text-align: right;\n",
       "    }\n",
       "</style>\n",
       "<table border=\"1\" class=\"dataframe\">\n",
       "  <thead>\n",
       "    <tr style=\"text-align: right;\">\n",
       "      <th></th>\n",
       "      <th>device_id</th>\n",
       "      <th>order_id</th>\n",
       "      <th>event_timestamp</th>\n",
       "      <th>quantity</th>\n",
       "      <th>checked_out_at</th>\n",
       "      <th>status</th>\n",
       "    </tr>\n",
       "    <tr>\n",
       "      <th>location</th>\n",
       "      <th></th>\n",
       "      <th></th>\n",
       "      <th></th>\n",
       "      <th></th>\n",
       "      <th></th>\n",
       "      <th></th>\n",
       "    </tr>\n",
       "  </thead>\n",
       "  <tbody>\n",
       "    <tr>\n",
       "      <th>Argentina</th>\n",
       "      <td>e103b312-48cd-414b-b7eb-9241c2172e3b</td>\n",
       "      <td>ba0765ad-8761-4ed7-850d-5bde57b033a8</td>\n",
       "      <td>2024-03-30 04:03:13.600555</td>\n",
       "      <td>5</td>\n",
       "      <td>2024-03-30 04:13:13.600624</td>\n",
       "      <td>cancelled</td>\n",
       "    </tr>\n",
       "    <tr>\n",
       "      <th>Argentina</th>\n",
       "      <td>e103b312-48cd-414b-b7eb-9241c2172e3b</td>\n",
       "      <td>ba0765ad-8761-4ed7-850d-5bde57b033a8</td>\n",
       "      <td>2024-03-30 04:03:13.600555</td>\n",
       "      <td>1</td>\n",
       "      <td>2024-03-30 04:13:13.600624</td>\n",
       "      <td>cancelled</td>\n",
       "    </tr>\n",
       "    <tr>\n",
       "      <th>Argentina</th>\n",
       "      <td>e103b312-48cd-414b-b7eb-9241c2172e3b</td>\n",
       "      <td>ba0765ad-8761-4ed7-850d-5bde57b033a8</td>\n",
       "      <td>2024-03-30 04:03:13.600555</td>\n",
       "      <td>3</td>\n",
       "      <td>2024-03-30 04:13:13.600624</td>\n",
       "      <td>cancelled</td>\n",
       "    </tr>\n",
       "    <tr>\n",
       "      <th>Argentina</th>\n",
       "      <td>e103b312-48cd-414b-b7eb-9241c2172e3b</td>\n",
       "      <td>ba0765ad-8761-4ed7-850d-5bde57b033a8</td>\n",
       "      <td>2024-03-30 04:03:13.600555</td>\n",
       "      <td>1</td>\n",
       "      <td>2024-03-30 04:13:13.600624</td>\n",
       "      <td>cancelled</td>\n",
       "    </tr>\n",
       "    <tr>\n",
       "      <th>Argentina</th>\n",
       "      <td>e103b312-48cd-414b-b7eb-9241c2172e3b</td>\n",
       "      <td>ba0765ad-8761-4ed7-850d-5bde57b033a8</td>\n",
       "      <td>2024-03-30 04:03:13.600555</td>\n",
       "      <td>3</td>\n",
       "      <td>2024-03-30 04:13:13.600624</td>\n",
       "      <td>cancelled</td>\n",
       "    </tr>\n",
       "    <tr>\n",
       "      <th>...</th>\n",
       "      <td>...</td>\n",
       "      <td>...</td>\n",
       "      <td>...</td>\n",
       "      <td>...</td>\n",
       "      <td>...</td>\n",
       "      <td>...</td>\n",
       "    </tr>\n",
       "    <tr>\n",
       "      <th>Argentina</th>\n",
       "      <td>e103b312-48cd-414b-b7eb-9241c2172e3b</td>\n",
       "      <td>ba0765ad-8761-4ed7-850d-5bde57b033a8</td>\n",
       "      <td>2024-03-30 04:13:13.600624</td>\n",
       "      <td>3</td>\n",
       "      <td>2024-03-30 04:13:13.600624</td>\n",
       "      <td>cancelled</td>\n",
       "    </tr>\n",
       "    <tr>\n",
       "      <th>Argentina</th>\n",
       "      <td>e103b312-48cd-414b-b7eb-9241c2172e3b</td>\n",
       "      <td>ba0765ad-8761-4ed7-850d-5bde57b033a8</td>\n",
       "      <td>2024-03-30 04:13:13.600624</td>\n",
       "      <td>4</td>\n",
       "      <td>2024-03-30 04:13:13.600624</td>\n",
       "      <td>cancelled</td>\n",
       "    </tr>\n",
       "    <tr>\n",
       "      <th>Argentina</th>\n",
       "      <td>e103b312-48cd-414b-b7eb-9241c2172e3b</td>\n",
       "      <td>ba0765ad-8761-4ed7-850d-5bde57b033a8</td>\n",
       "      <td>2024-03-30 04:13:13.600624</td>\n",
       "      <td>4</td>\n",
       "      <td>2024-03-30 04:13:13.600624</td>\n",
       "      <td>cancelled</td>\n",
       "    </tr>\n",
       "    <tr>\n",
       "      <th>Argentina</th>\n",
       "      <td>e103b312-48cd-414b-b7eb-9241c2172e3b</td>\n",
       "      <td>ba0765ad-8761-4ed7-850d-5bde57b033a8</td>\n",
       "      <td>2024-03-30 04:13:13.600624</td>\n",
       "      <td>4</td>\n",
       "      <td>2024-03-30 04:13:13.600624</td>\n",
       "      <td>cancelled</td>\n",
       "    </tr>\n",
       "    <tr>\n",
       "      <th>Argentina</th>\n",
       "      <td>e103b312-48cd-414b-b7eb-9241c2172e3b</td>\n",
       "      <td>ba0765ad-8761-4ed7-850d-5bde57b033a8</td>\n",
       "      <td>2024-03-30 04:13:13.600624</td>\n",
       "      <td>5</td>\n",
       "      <td>2024-03-30 04:13:13.600624</td>\n",
       "      <td>cancelled</td>\n",
       "    </tr>\n",
       "  </tbody>\n",
       "</table>\n",
       "<p>187 rows × 6 columns</p>\n",
       "</div>"
      ],
      "text/plain": [
       "                                      device_id  \\\n",
       "location                                          \n",
       "Argentina  e103b312-48cd-414b-b7eb-9241c2172e3b   \n",
       "Argentina  e103b312-48cd-414b-b7eb-9241c2172e3b   \n",
       "Argentina  e103b312-48cd-414b-b7eb-9241c2172e3b   \n",
       "Argentina  e103b312-48cd-414b-b7eb-9241c2172e3b   \n",
       "Argentina  e103b312-48cd-414b-b7eb-9241c2172e3b   \n",
       "...                                         ...   \n",
       "Argentina  e103b312-48cd-414b-b7eb-9241c2172e3b   \n",
       "Argentina  e103b312-48cd-414b-b7eb-9241c2172e3b   \n",
       "Argentina  e103b312-48cd-414b-b7eb-9241c2172e3b   \n",
       "Argentina  e103b312-48cd-414b-b7eb-9241c2172e3b   \n",
       "Argentina  e103b312-48cd-414b-b7eb-9241c2172e3b   \n",
       "\n",
       "                                       order_id             event_timestamp  \\\n",
       "location                                                                      \n",
       "Argentina  ba0765ad-8761-4ed7-850d-5bde57b033a8  2024-03-30 04:03:13.600555   \n",
       "Argentina  ba0765ad-8761-4ed7-850d-5bde57b033a8  2024-03-30 04:03:13.600555   \n",
       "Argentina  ba0765ad-8761-4ed7-850d-5bde57b033a8  2024-03-30 04:03:13.600555   \n",
       "Argentina  ba0765ad-8761-4ed7-850d-5bde57b033a8  2024-03-30 04:03:13.600555   \n",
       "Argentina  ba0765ad-8761-4ed7-850d-5bde57b033a8  2024-03-30 04:03:13.600555   \n",
       "...                                         ...                         ...   \n",
       "Argentina  ba0765ad-8761-4ed7-850d-5bde57b033a8  2024-03-30 04:13:13.600624   \n",
       "Argentina  ba0765ad-8761-4ed7-850d-5bde57b033a8  2024-03-30 04:13:13.600624   \n",
       "Argentina  ba0765ad-8761-4ed7-850d-5bde57b033a8  2024-03-30 04:13:13.600624   \n",
       "Argentina  ba0765ad-8761-4ed7-850d-5bde57b033a8  2024-03-30 04:13:13.600624   \n",
       "Argentina  ba0765ad-8761-4ed7-850d-5bde57b033a8  2024-03-30 04:13:13.600624   \n",
       "\n",
       "           quantity              checked_out_at     status  \n",
       "location                                                    \n",
       "Argentina         5  2024-03-30 04:13:13.600624  cancelled  \n",
       "Argentina         1  2024-03-30 04:13:13.600624  cancelled  \n",
       "Argentina         3  2024-03-30 04:13:13.600624  cancelled  \n",
       "Argentina         1  2024-03-30 04:13:13.600624  cancelled  \n",
       "Argentina         3  2024-03-30 04:13:13.600624  cancelled  \n",
       "...             ...                         ...        ...  \n",
       "Argentina         3  2024-03-30 04:13:13.600624  cancelled  \n",
       "Argentina         4  2024-03-30 04:13:13.600624  cancelled  \n",
       "Argentina         4  2024-03-30 04:13:13.600624  cancelled  \n",
       "Argentina         4  2024-03-30 04:13:13.600624  cancelled  \n",
       "Argentina         5  2024-03-30 04:13:13.600624  cancelled  \n",
       "\n",
       "[187 rows x 6 columns]"
      ]
     },
     "execution_count": 375,
     "metadata": {},
     "output_type": "execute_result"
    }
   ],
   "source": [
    "\n",
    "ba28d0ec.loc[:,['device_id','order_id','event_timestamp','quantity','checked_out_at', 'status']]\n",
    "\n",
    "\n"
   ]
  },
  {
   "cell_type": "code",
   "execution_count": 376,
   "id": "4129c982",
   "metadata": {},
   "outputs": [
    {
     "data": {
      "text/html": [
       "<div>\n",
       "<style scoped>\n",
       "    .dataframe tbody tr th:only-of-type {\n",
       "        vertical-align: middle;\n",
       "    }\n",
       "\n",
       "    .dataframe tbody tr th {\n",
       "        vertical-align: top;\n",
       "    }\n",
       "\n",
       "    .dataframe thead th {\n",
       "        text-align: right;\n",
       "    }\n",
       "</style>\n",
       "<table border=\"1\" class=\"dataframe\">\n",
       "  <thead>\n",
       "    <tr style=\"text-align: right;\">\n",
       "      <th></th>\n",
       "      <th>customer_id</th>\n",
       "      <th>device_id</th>\n",
       "      <th>item_id</th>\n",
       "      <th>line_item_id</th>\n",
       "      <th>order_id</th>\n",
       "      <th>event_id</th>\n",
       "      <th>event_timestamp</th>\n",
       "      <th>quantity</th>\n",
       "      <th>currency</th>\n",
       "      <th>checked_out_at</th>\n",
       "      <th>status</th>\n",
       "    </tr>\n",
       "    <tr>\n",
       "      <th>location</th>\n",
       "      <th></th>\n",
       "      <th></th>\n",
       "      <th></th>\n",
       "      <th></th>\n",
       "      <th></th>\n",
       "      <th></th>\n",
       "      <th></th>\n",
       "      <th></th>\n",
       "      <th></th>\n",
       "      <th></th>\n",
       "      <th></th>\n",
       "    </tr>\n",
       "  </thead>\n",
       "  <tbody>\n",
       "  </tbody>\n",
       "</table>\n",
       "</div>"
      ],
      "text/plain": [
       "Empty DataFrame\n",
       "Columns: [customer_id, device_id, item_id, line_item_id, order_id, event_id, event_timestamp, quantity, currency, checked_out_at, status]\n",
       "Index: []"
      ]
     },
     "execution_count": 376,
     "metadata": {},
     "output_type": "execute_result"
    }
   ],
   "source": [
    "cust2933e91f_sucess= (Argentina['customer_id'] == 'ba28d0ec-2638-4734-a206-518055f2122e') & (Argentina['status']=='success')\n",
    "\n",
    "Argentina[cust2933e91f_sucess]\n",
    "\n",
    "\n"
   ]
  },
  {
   "cell_type": "markdown",
   "id": "e2dbb6d7",
   "metadata": {},
   "source": [
    "no succesful transaction"
   ]
  },
  {
   "cell_type": "code",
   "execution_count": 377,
   "id": "bd489597",
   "metadata": {},
   "outputs": [
    {
     "data": {
      "text/plain": [
       "([<matplotlib.patches.Wedge at 0x22544dcf800>,\n",
       "  <matplotlib.patches.Wedge at 0x2253c95f2f0>,\n",
       "  <matplotlib.patches.Wedge at 0x22544dcfdd0>],\n",
       " [Text(0.4449573738870655, 1.0059885364274914, 'cancelled'),\n",
       "  Text(-1.061758354107984, -0.2875225164781094, 'success'),\n",
       "  Text(0.6924378606196172, -0.854710365668118, 'failed')],\n",
       " [Text(0.24270402212021752, 0.5487210198695407, '36.7%'),\n",
       "  Text(-0.5791409204225367, -0.15683046353351418, '34.9%'),\n",
       "  Text(0.3776933785197912, -0.46620565400079156, '28.3%')])"
      ]
     },
     "execution_count": 377,
     "metadata": {},
     "output_type": "execute_result"
    },
    {
     "data": {
      "image/png": "[encoded data removed]",
      "text/plain": [
       "<Figure size 640x480 with 1 Axes>"
      ]
     },
     "metadata": {},
     "output_type": "display_data"
    }
   ],
   "source": [
    "statArgentina2 = Argentina['status'].value_counts()\n",
    "plt.pie(contstat.values,labels=contstat.index, autopct='%1.1f%%')\n"
   ]
  },
  {
   "cell_type": "code",
   "execution_count": 439,
   "id": "a9b5544f",
   "metadata": {},
   "outputs": [
    {
     "data": {
      "text/plain": [
       "customer_id\n",
       "c391f179-9eb3-418d-9d7b-b261f2dc57a6    360\n",
       "567ec5d3-f538-44a2-a55a-681fe4f81064    286\n",
       "210a6861-599b-4600-85e7-832623ad64d2    252\n",
       "14b95e00-3e4d-476f-bdae-388e348fa9a0    207\n",
       "c26ed5e5-ac5e-46fe-94bc-abae62d5a7fe    198\n",
       "92fc1272-b1d5-48b9-a8a7-78f46658b0c1    153\n",
       "033ea6fa-884f-4180-b373-d09dc27b8799    112\n",
       "7d3828bc-6490-4038-9e38-81418b889dfb     84\n",
       "6a43e01f-4081-445b-b960-82b7f4599d8b     75\n",
       "2a23082d-0fe5-425d-b8db-a94f26d969d4     55\n",
       "26dbb360-4dc1-4e82-8144-9a7f9c2286c8     42\n",
       "e48e25d0-5b02-4afd-a28d-c06bd700e2b8     36\n",
       "b13a4df5-08ae-4f3f-873f-88edb9358b1c     27\n",
       "Name: count, dtype: int64"
      ]
     },
     "execution_count": 439,
     "metadata": {},
     "output_type": "execute_result"
    }
   ],
   "source": [
    "custfailed= Argentina[Argentina['status']=='failed']\n",
    "custfailed['customer_id'].value_counts()\n",
    "\n"
   ]
  },
  {
   "cell_type": "code",
   "execution_count": 442,
   "id": "ba806ecb",
   "metadata": {},
   "outputs": [
    {
     "data": {
      "text/plain": [
       "customer_id\n",
       "2933e91f-39d6-44af-b1e8-933ad172a3c6    324\n",
       "39568cc0-3642-4234-9b88-c339d6953adf    319\n",
       "c9b3c52a-9b77-4d33-b9eb-5a3a34dc5810    297\n",
       "b4139e14-0478-41f0-bcbb-6792f0c6d957    275\n",
       "8498e8be-5899-4ad4-821f-d0df3da83157    220\n",
       "b20fe203-25fc-4ad8-96e9-5c8031093064    200\n",
       "34d3c5e1-7e40-40c9-84c3-7d50edfb7eaf    198\n",
       "be397c29-0766-4bf0-a315-fa230d7e41d9     96\n",
       "66e4bef6-a448-4e9e-b807-14a06728753f     30\n",
       "cd03dc6b-c884-433b-9e01-735e19ade944     16\n",
       "ea2aa16a-a791-47f0-95c5-066d17b5f09d      7\n",
       "Name: count, dtype: int64"
      ]
     },
     "execution_count": 442,
     "metadata": {},
     "output_type": "execute_result"
    }
   ],
   "source": [
    "custfailedkorea= korea[korea['status']=='failed']\n",
    "custfailedkorea['customer_id'].value_counts()\n",
    "\n"
   ]
  },
  {
   "cell_type": "code",
   "execution_count": null,
   "id": "09e4a7d5",
   "metadata": {},
   "outputs": [],
   "source": []
  },
  {
   "cell_type": "code",
   "execution_count": 378,
   "id": "bc7e6a9d",
   "metadata": {},
   "outputs": [
    {
     "data": {
      "text/plain": [
       "customer_id\n",
       "58cf9678-cac3-4de5-91af-2d43797e44b8    144\n",
       "7f504ad8-3e40-4118-9ab1-4e4658992315    119\n",
       "cbdcdddc-4117-4290-aa0d-dc8e34720d0b     90\n",
       "16438ab2-86bd-4eca-b760-47ac0e417d17     72\n",
       "b68c2de4-769c-4555-8abf-4ae3edd769fd     72\n",
       "ea5a00fa-e567-4100-8474-203d0d77fc70     55\n",
       "32fa8a81-3c6a-4e33-add5-f671237ce6ee     45\n",
       "0bd7e2d5-6957-42b9-8310-9ed5803a1e5d     44\n",
       "bbd52ddc-c3f6-4613-9af9-1ba884352208     40\n",
       "94c5fe0e-6833-43f4-996d-5f89c23bb91e     36\n",
       "a19fe3f8-9e15-4741-87cc-7e765427c9be     32\n",
       "77d49000-717f-45e9-8e8b-a019383f7386     18\n",
       "9518936a-9f51-4fe9-bc54-d6ebe4544ba1     16\n",
       "Name: count, dtype: int64"
      ]
     },
     "execution_count": 378,
     "metadata": {},
     "output_type": "execute_result"
    }
   ],
   "source": [
    "italy['customer_id'].value_counts()"
   ]
  },
  {
   "cell_type": "code",
   "execution_count": 379,
   "id": "5bd8cea3",
   "metadata": {},
   "outputs": [
    {
     "data": {
      "text/plain": [
       "(13,)"
      ]
     },
     "execution_count": 379,
     "metadata": {},
     "output_type": "execute_result"
    }
   ],
   "source": [
    "italy['customer_id'].value_counts().shape"
   ]
  },
  {
   "cell_type": "code",
   "execution_count": 441,
   "id": "bba16770",
   "metadata": {},
   "outputs": [
    {
     "data": {
      "text/plain": [
       "customer_id\n",
       "58cf9678-cac3-4de5-91af-2d43797e44b8    144\n",
       "7f504ad8-3e40-4118-9ab1-4e4658992315    119\n",
       "16438ab2-86bd-4eca-b760-47ac0e417d17     72\n",
       "9518936a-9f51-4fe9-bc54-d6ebe4544ba1     16\n",
       "Name: count, dtype: int64"
      ]
     },
     "execution_count": 441,
     "metadata": {},
     "output_type": "execute_result"
    }
   ],
   "source": [
    "custfaileditaly= italy[italy['status']=='failed']\n",
    "custfaileditaly['customer_id'].value_counts()\n",
    "\n"
   ]
  },
  {
   "cell_type": "code",
   "execution_count": 444,
   "id": "f6b844c8",
   "metadata": {},
   "outputs": [
    {
     "data": {
      "text/plain": [
       "customer_id\n",
       "cbdcdddc-4117-4290-aa0d-dc8e34720d0b    90\n",
       "32fa8a81-3c6a-4e33-add5-f671237ce6ee    45\n",
       "bbd52ddc-c3f6-4613-9af9-1ba884352208    40\n",
       "a19fe3f8-9e15-4741-87cc-7e765427c9be    32\n",
       "77d49000-717f-45e9-8e8b-a019383f7386    18\n",
       "Name: count, dtype: int64"
      ]
     },
     "execution_count": 444,
     "metadata": {},
     "output_type": "execute_result"
    }
   ],
   "source": [
    "confisuccessitaly= italy[italy['status']=='success']\n",
    "confisuccessitaly['customer_id'].value_counts()\n",
    "\n"
   ]
  },
  {
   "cell_type": "code",
   "execution_count": 380,
   "id": "aca53937",
   "metadata": {},
   "outputs": [
    {
     "data": {
      "text/plain": [
       "customer_id\n",
       "9283b6ef-af91-415c-8509-ca84dd6b00b5    200\n",
       "418c418b-3b1d-4cf8-bc4a-eb6d96b075c2    180\n",
       "14d4524a-6397-46fb-b3f5-465e3623fcde    128\n",
       "16b3ad60-0921-46e5-84f8-8f26ba134784     80\n",
       "d95107d6-bc0c-4e35-8286-c3603c448e74     44\n",
       "784b57d8-8b20-4581-bf58-c1ed11b33c09     44\n",
       "ea47a95b-0c19-4170-a55b-8638fd274266     21\n",
       "82faed1f-cffe-4b7b-8438-7f1527d88a11     21\n",
       "88832fa4-ba3d-4792-90ed-6f70be9e77c5     16\n",
       "Name: count, dtype: int64"
      ]
     },
     "execution_count": 380,
     "metadata": {},
     "output_type": "execute_result"
    }
   ],
   "source": [
    "uruguay['customer_id'].value_counts()"
   ]
  },
  {
   "cell_type": "code",
   "execution_count": 381,
   "id": "a08ef942",
   "metadata": {},
   "outputs": [
    {
     "data": {
      "text/plain": [
       "(9,)"
      ]
     },
     "execution_count": 381,
     "metadata": {},
     "output_type": "execute_result"
    }
   ],
   "source": [
    "uruguay['customer_id'].value_counts().shape"
   ]
  },
  {
   "cell_type": "code",
   "execution_count": 443,
   "id": "5d901a42",
   "metadata": {},
   "outputs": [
    {
     "data": {
      "text/plain": [
       "customer_id\n",
       "9283b6ef-af91-415c-8509-ca84dd6b00b5    200\n",
       "418c418b-3b1d-4cf8-bc4a-eb6d96b075c2    180\n",
       "16b3ad60-0921-46e5-84f8-8f26ba134784     80\n",
       "d95107d6-bc0c-4e35-8286-c3603c448e74     44\n",
       "82faed1f-cffe-4b7b-8438-7f1527d88a11     21\n",
       "Name: count, dtype: int64"
      ]
     },
     "execution_count": 443,
     "metadata": {},
     "output_type": "execute_result"
    }
   ],
   "source": [
    "custfaileduru= uruguay[uruguay['status']=='failed']\n",
    "custfaileduru['customer_id'].value_counts()\n",
    "\n"
   ]
  },
  {
   "cell_type": "code",
   "execution_count": 446,
   "id": "9bd3616e",
   "metadata": {},
   "outputs": [
    {
     "data": {
      "text/plain": [
       "customer_id\n",
       "14d4524a-6397-46fb-b3f5-465e3623fcde    128\n",
       "784b57d8-8b20-4581-bf58-c1ed11b33c09     44\n",
       "Name: count, dtype: int64"
      ]
     },
     "execution_count": 446,
     "metadata": {},
     "output_type": "execute_result"
    }
   ],
   "source": [
    "confiurugya= uruguay[uruguay['status']=='success']\n",
    "confiurugya['customer_id'].value_counts()\n",
    "\n"
   ]
  },
  {
   "cell_type": "code",
   "execution_count": 382,
   "id": "57bea2fc",
   "metadata": {},
   "outputs": [
    {
     "data": {
      "text/plain": [
       "array(['NGN', 'USD', 'GBP'], dtype=object)"
      ]
     },
     "execution_count": 382,
     "metadata": {},
     "output_type": "execute_result"
    }
   ],
   "source": [
    "sales['currency'].unique()"
   ]
  },
  {
   "cell_type": "code",
   "execution_count": 383,
   "id": "7b1e8b1d",
   "metadata": {},
   "outputs": [
    {
     "data": {
      "text/plain": [
       "currency\n",
       "USD    198037\n",
       "GBP    191403\n",
       "NGN    188880\n",
       "Name: count, dtype: int64"
      ]
     },
     "execution_count": 383,
     "metadata": {},
     "output_type": "execute_result"
    }
   ],
   "source": [
    "currency_and_number_times_used = sales[\"currency\"].value_counts()\n",
    "currency_and_number_times_used"
   ]
  },
  {
   "cell_type": "code",
   "execution_count": 384,
   "id": "c8b862fe",
   "metadata": {},
   "outputs": [
    {
     "data": {
      "text/plain": [
       "<Axes: xlabel='currency'>"
      ]
     },
     "execution_count": 384,
     "metadata": {},
     "output_type": "execute_result"
    },
    {
     "data": {
      "image/png": "[encoded data removed]",
      "text/plain": [
       "<Figure size 640x480 with 1 Axes>"
      ]
     },
     "metadata": {},
     "output_type": "display_data"
    }
   ],
   "source": [
    "currency_and_number_times_used.plot(kind='bar')"
   ]
  },
  {
   "cell_type": "code",
   "execution_count": 385,
   "id": "cdbb672f",
   "metadata": {},
   "outputs": [],
   "source": [
    "mask2 = (sales[\"customer_id\"] == \"ebcb2343-be1b-421e-83eb-6f79a321d999\") & (sales[\"status\"]==\"success\")"
   ]
  },
  {
   "cell_type": "code",
   "execution_count": 386,
   "id": "b4d286c5",
   "metadata": {},
   "outputs": [
    {
     "data": {
      "text/html": [
       "<div>\n",
       "<style scoped>\n",
       "    .dataframe tbody tr th:only-of-type {\n",
       "        vertical-align: middle;\n",
       "    }\n",
       "\n",
       "    .dataframe tbody tr th {\n",
       "        vertical-align: top;\n",
       "    }\n",
       "\n",
       "    .dataframe thead th {\n",
       "        text-align: right;\n",
       "    }\n",
       "</style>\n",
       "<table border=\"1\" class=\"dataframe\">\n",
       "  <thead>\n",
       "    <tr style=\"text-align: right;\">\n",
       "      <th></th>\n",
       "      <th>customer_id</th>\n",
       "      <th>device_id</th>\n",
       "      <th>item_id</th>\n",
       "      <th>line_item_id</th>\n",
       "      <th>order_id</th>\n",
       "      <th>event_id</th>\n",
       "      <th>event_timestamp</th>\n",
       "      <th>quantity</th>\n",
       "      <th>currency</th>\n",
       "      <th>checked_out_at</th>\n",
       "      <th>status</th>\n",
       "    </tr>\n",
       "    <tr>\n",
       "      <th>location</th>\n",
       "      <th></th>\n",
       "      <th></th>\n",
       "      <th></th>\n",
       "      <th></th>\n",
       "      <th></th>\n",
       "      <th></th>\n",
       "      <th></th>\n",
       "      <th></th>\n",
       "      <th></th>\n",
       "      <th></th>\n",
       "      <th></th>\n",
       "    </tr>\n",
       "  </thead>\n",
       "  <tbody>\n",
       "    <tr>\n",
       "      <th>Wallis and Futuna</th>\n",
       "      <td>ebcb2343-be1b-421e-83eb-6f79a321d999</td>\n",
       "      <td>aa3a57b3-6636-4b91-8fa8-56b0524de6c2</td>\n",
       "      <td>5</td>\n",
       "      <td>26108</td>\n",
       "      <td>5984596b-0ed5-4571-8e79-b261e6f138ad</td>\n",
       "      <td>121373</td>\n",
       "      <td>2024-03-27 12:43:53.991103</td>\n",
       "      <td>5</td>\n",
       "      <td>NGN</td>\n",
       "      <td>2024-03-30 04:14:16.072620</td>\n",
       "      <td>success</td>\n",
       "    </tr>\n",
       "    <tr>\n",
       "      <th>Wallis and Futuna</th>\n",
       "      <td>ebcb2343-be1b-421e-83eb-6f79a321d999</td>\n",
       "      <td>aa3a57b3-6636-4b91-8fa8-56b0524de6c2</td>\n",
       "      <td>11</td>\n",
       "      <td>26109</td>\n",
       "      <td>5984596b-0ed5-4571-8e79-b261e6f138ad</td>\n",
       "      <td>121373</td>\n",
       "      <td>2024-03-27 12:43:53.991103</td>\n",
       "      <td>1</td>\n",
       "      <td>NGN</td>\n",
       "      <td>2024-03-30 04:14:16.072620</td>\n",
       "      <td>success</td>\n",
       "    </tr>\n",
       "    <tr>\n",
       "      <th>Wallis and Futuna</th>\n",
       "      <td>ebcb2343-be1b-421e-83eb-6f79a321d999</td>\n",
       "      <td>aa3a57b3-6636-4b91-8fa8-56b0524de6c2</td>\n",
       "      <td>4</td>\n",
       "      <td>26110</td>\n",
       "      <td>5984596b-0ed5-4571-8e79-b261e6f138ad</td>\n",
       "      <td>121373</td>\n",
       "      <td>2024-03-27 12:43:53.991103</td>\n",
       "      <td>2</td>\n",
       "      <td>NGN</td>\n",
       "      <td>2024-03-30 04:14:16.072620</td>\n",
       "      <td>success</td>\n",
       "    </tr>\n",
       "    <tr>\n",
       "      <th>Wallis and Futuna</th>\n",
       "      <td>ebcb2343-be1b-421e-83eb-6f79a321d999</td>\n",
       "      <td>aa3a57b3-6636-4b91-8fa8-56b0524de6c2</td>\n",
       "      <td>9</td>\n",
       "      <td>26111</td>\n",
       "      <td>5984596b-0ed5-4571-8e79-b261e6f138ad</td>\n",
       "      <td>121373</td>\n",
       "      <td>2024-03-27 12:43:53.991103</td>\n",
       "      <td>5</td>\n",
       "      <td>NGN</td>\n",
       "      <td>2024-03-30 04:14:16.072620</td>\n",
       "      <td>success</td>\n",
       "    </tr>\n",
       "    <tr>\n",
       "      <th>Wallis and Futuna</th>\n",
       "      <td>ebcb2343-be1b-421e-83eb-6f79a321d999</td>\n",
       "      <td>aa3a57b3-6636-4b91-8fa8-56b0524de6c2</td>\n",
       "      <td>2</td>\n",
       "      <td>26112</td>\n",
       "      <td>5984596b-0ed5-4571-8e79-b261e6f138ad</td>\n",
       "      <td>121373</td>\n",
       "      <td>2024-03-27 12:43:53.991103</td>\n",
       "      <td>1</td>\n",
       "      <td>NGN</td>\n",
       "      <td>2024-03-30 04:14:16.072620</td>\n",
       "      <td>success</td>\n",
       "    </tr>\n",
       "    <tr>\n",
       "      <th>...</th>\n",
       "      <td>...</td>\n",
       "      <td>...</td>\n",
       "      <td>...</td>\n",
       "      <td>...</td>\n",
       "      <td>...</td>\n",
       "      <td>...</td>\n",
       "      <td>...</td>\n",
       "      <td>...</td>\n",
       "      <td>...</td>\n",
       "      <td>...</td>\n",
       "      <td>...</td>\n",
       "    </tr>\n",
       "    <tr>\n",
       "      <th>Wallis and Futuna</th>\n",
       "      <td>ebcb2343-be1b-421e-83eb-6f79a321d999</td>\n",
       "      <td>aa3a57b3-6636-4b91-8fa8-56b0524de6c2</td>\n",
       "      <td>8</td>\n",
       "      <td>26115</td>\n",
       "      <td>5984596b-0ed5-4571-8e79-b261e6f138ad</td>\n",
       "      <td>121402</td>\n",
       "      <td>2024-03-30 04:14:16.072620</td>\n",
       "      <td>4</td>\n",
       "      <td>NGN</td>\n",
       "      <td>2024-03-30 04:14:16.072620</td>\n",
       "      <td>success</td>\n",
       "    </tr>\n",
       "    <tr>\n",
       "      <th>Wallis and Futuna</th>\n",
       "      <td>ebcb2343-be1b-421e-83eb-6f79a321d999</td>\n",
       "      <td>aa3a57b3-6636-4b91-8fa8-56b0524de6c2</td>\n",
       "      <td>7</td>\n",
       "      <td>26116</td>\n",
       "      <td>5984596b-0ed5-4571-8e79-b261e6f138ad</td>\n",
       "      <td>121402</td>\n",
       "      <td>2024-03-30 04:14:16.072620</td>\n",
       "      <td>2</td>\n",
       "      <td>NGN</td>\n",
       "      <td>2024-03-30 04:14:16.072620</td>\n",
       "      <td>success</td>\n",
       "    </tr>\n",
       "    <tr>\n",
       "      <th>Wallis and Futuna</th>\n",
       "      <td>ebcb2343-be1b-421e-83eb-6f79a321d999</td>\n",
       "      <td>aa3a57b3-6636-4b91-8fa8-56b0524de6c2</td>\n",
       "      <td>12</td>\n",
       "      <td>26117</td>\n",
       "      <td>5984596b-0ed5-4571-8e79-b261e6f138ad</td>\n",
       "      <td>121402</td>\n",
       "      <td>2024-03-30 04:14:16.072620</td>\n",
       "      <td>3</td>\n",
       "      <td>NGN</td>\n",
       "      <td>2024-03-30 04:14:16.072620</td>\n",
       "      <td>success</td>\n",
       "    </tr>\n",
       "    <tr>\n",
       "      <th>Wallis and Futuna</th>\n",
       "      <td>ebcb2343-be1b-421e-83eb-6f79a321d999</td>\n",
       "      <td>aa3a57b3-6636-4b91-8fa8-56b0524de6c2</td>\n",
       "      <td>1</td>\n",
       "      <td>26118</td>\n",
       "      <td>5984596b-0ed5-4571-8e79-b261e6f138ad</td>\n",
       "      <td>121402</td>\n",
       "      <td>2024-03-30 04:14:16.072620</td>\n",
       "      <td>4</td>\n",
       "      <td>NGN</td>\n",
       "      <td>2024-03-30 04:14:16.072620</td>\n",
       "      <td>success</td>\n",
       "    </tr>\n",
       "    <tr>\n",
       "      <th>Wallis and Futuna</th>\n",
       "      <td>ebcb2343-be1b-421e-83eb-6f79a321d999</td>\n",
       "      <td>aa3a57b3-6636-4b91-8fa8-56b0524de6c2</td>\n",
       "      <td>6</td>\n",
       "      <td>26119</td>\n",
       "      <td>5984596b-0ed5-4571-8e79-b261e6f138ad</td>\n",
       "      <td>121402</td>\n",
       "      <td>2024-03-30 04:14:16.072620</td>\n",
       "      <td>5</td>\n",
       "      <td>NGN</td>\n",
       "      <td>2024-03-30 04:14:16.072620</td>\n",
       "      <td>success</td>\n",
       "    </tr>\n",
       "  </tbody>\n",
       "</table>\n",
       "<p>360 rows × 11 columns</p>\n",
       "</div>"
      ],
      "text/plain": [
       "                                            customer_id  \\\n",
       "location                                                  \n",
       "Wallis and Futuna  ebcb2343-be1b-421e-83eb-6f79a321d999   \n",
       "Wallis and Futuna  ebcb2343-be1b-421e-83eb-6f79a321d999   \n",
       "Wallis and Futuna  ebcb2343-be1b-421e-83eb-6f79a321d999   \n",
       "Wallis and Futuna  ebcb2343-be1b-421e-83eb-6f79a321d999   \n",
       "Wallis and Futuna  ebcb2343-be1b-421e-83eb-6f79a321d999   \n",
       "...                                                 ...   \n",
       "Wallis and Futuna  ebcb2343-be1b-421e-83eb-6f79a321d999   \n",
       "Wallis and Futuna  ebcb2343-be1b-421e-83eb-6f79a321d999   \n",
       "Wallis and Futuna  ebcb2343-be1b-421e-83eb-6f79a321d999   \n",
       "Wallis and Futuna  ebcb2343-be1b-421e-83eb-6f79a321d999   \n",
       "Wallis and Futuna  ebcb2343-be1b-421e-83eb-6f79a321d999   \n",
       "\n",
       "                                              device_id  item_id  \\\n",
       "location                                                           \n",
       "Wallis and Futuna  aa3a57b3-6636-4b91-8fa8-56b0524de6c2        5   \n",
       "Wallis and Futuna  aa3a57b3-6636-4b91-8fa8-56b0524de6c2       11   \n",
       "Wallis and Futuna  aa3a57b3-6636-4b91-8fa8-56b0524de6c2        4   \n",
       "Wallis and Futuna  aa3a57b3-6636-4b91-8fa8-56b0524de6c2        9   \n",
       "Wallis and Futuna  aa3a57b3-6636-4b91-8fa8-56b0524de6c2        2   \n",
       "...                                                 ...      ...   \n",
       "Wallis and Futuna  aa3a57b3-6636-4b91-8fa8-56b0524de6c2        8   \n",
       "Wallis and Futuna  aa3a57b3-6636-4b91-8fa8-56b0524de6c2        7   \n",
       "Wallis and Futuna  aa3a57b3-6636-4b91-8fa8-56b0524de6c2       12   \n",
       "Wallis and Futuna  aa3a57b3-6636-4b91-8fa8-56b0524de6c2        1   \n",
       "Wallis and Futuna  aa3a57b3-6636-4b91-8fa8-56b0524de6c2        6   \n",
       "\n",
       "                   line_item_id                              order_id  \\\n",
       "location                                                                \n",
       "Wallis and Futuna         26108  5984596b-0ed5-4571-8e79-b261e6f138ad   \n",
       "Wallis and Futuna         26109  5984596b-0ed5-4571-8e79-b261e6f138ad   \n",
       "Wallis and Futuna         26110  5984596b-0ed5-4571-8e79-b261e6f138ad   \n",
       "Wallis and Futuna         26111  5984596b-0ed5-4571-8e79-b261e6f138ad   \n",
       "Wallis and Futuna         26112  5984596b-0ed5-4571-8e79-b261e6f138ad   \n",
       "...                         ...                                   ...   \n",
       "Wallis and Futuna         26115  5984596b-0ed5-4571-8e79-b261e6f138ad   \n",
       "Wallis and Futuna         26116  5984596b-0ed5-4571-8e79-b261e6f138ad   \n",
       "Wallis and Futuna         26117  5984596b-0ed5-4571-8e79-b261e6f138ad   \n",
       "Wallis and Futuna         26118  5984596b-0ed5-4571-8e79-b261e6f138ad   \n",
       "Wallis and Futuna         26119  5984596b-0ed5-4571-8e79-b261e6f138ad   \n",
       "\n",
       "                   event_id             event_timestamp  quantity currency  \\\n",
       "location                                                                     \n",
       "Wallis and Futuna    121373  2024-03-27 12:43:53.991103         5      NGN   \n",
       "Wallis and Futuna    121373  2024-03-27 12:43:53.991103         1      NGN   \n",
       "Wallis and Futuna    121373  2024-03-27 12:43:53.991103         2      NGN   \n",
       "Wallis and Futuna    121373  2024-03-27 12:43:53.991103         5      NGN   \n",
       "Wallis and Futuna    121373  2024-03-27 12:43:53.991103         1      NGN   \n",
       "...                     ...                         ...       ...      ...   \n",
       "Wallis and Futuna    121402  2024-03-30 04:14:16.072620         4      NGN   \n",
       "Wallis and Futuna    121402  2024-03-30 04:14:16.072620         2      NGN   \n",
       "Wallis and Futuna    121402  2024-03-30 04:14:16.072620         3      NGN   \n",
       "Wallis and Futuna    121402  2024-03-30 04:14:16.072620         4      NGN   \n",
       "Wallis and Futuna    121402  2024-03-30 04:14:16.072620         5      NGN   \n",
       "\n",
       "                               checked_out_at   status  \n",
       "location                                                \n",
       "Wallis and Futuna  2024-03-30 04:14:16.072620  success  \n",
       "Wallis and Futuna  2024-03-30 04:14:16.072620  success  \n",
       "Wallis and Futuna  2024-03-30 04:14:16.072620  success  \n",
       "Wallis and Futuna  2024-03-30 04:14:16.072620  success  \n",
       "Wallis and Futuna  2024-03-30 04:14:16.072620  success  \n",
       "...                                       ...      ...  \n",
       "Wallis and Futuna  2024-03-30 04:14:16.072620  success  \n",
       "Wallis and Futuna  2024-03-30 04:14:16.072620  success  \n",
       "Wallis and Futuna  2024-03-30 04:14:16.072620  success  \n",
       "Wallis and Futuna  2024-03-30 04:14:16.072620  success  \n",
       "Wallis and Futuna  2024-03-30 04:14:16.072620  success  \n",
       "\n",
       "[360 rows x 11 columns]"
      ]
     },
     "execution_count": 386,
     "metadata": {},
     "output_type": "execute_result"
    }
   ],
   "source": [
    "sales.loc[mask2]"
   ]
  },
  {
   "cell_type": "code",
   "execution_count": 387,
   "id": "400cac53",
   "metadata": {},
   "outputs": [],
   "source": [
    "this_customer = sales.loc[mask]"
   ]
  },
  {
   "cell_type": "code",
   "execution_count": 388,
   "id": "718ad350",
   "metadata": {},
   "outputs": [
    {
     "data": {
      "text/plain": [
       "status\n",
       "success    360\n",
       "Name: count, dtype: int64"
      ]
     },
     "execution_count": 388,
     "metadata": {},
     "output_type": "execute_result"
    }
   ],
   "source": [
    "this_customer[\"status\"].value_counts()"
   ]
  },
  {
   "cell_type": "code",
   "execution_count": 389,
   "id": "1b5dc796",
   "metadata": {},
   "outputs": [],
   "source": [
    "mask3 =(sales[\"status\"] == \"failed\")"
   ]
  },
  {
   "cell_type": "code",
   "execution_count": 390,
   "id": "046d3a1b",
   "metadata": {},
   "outputs": [
    {
     "data": {
      "text/html": [
       "<div>\n",
       "<style scoped>\n",
       "    .dataframe tbody tr th:only-of-type {\n",
       "        vertical-align: middle;\n",
       "    }\n",
       "\n",
       "    .dataframe tbody tr th {\n",
       "        vertical-align: top;\n",
       "    }\n",
       "\n",
       "    .dataframe thead th {\n",
       "        text-align: right;\n",
       "    }\n",
       "</style>\n",
       "<table border=\"1\" class=\"dataframe\">\n",
       "  <thead>\n",
       "    <tr style=\"text-align: right;\">\n",
       "      <th></th>\n",
       "      <th>customer_id</th>\n",
       "      <th>device_id</th>\n",
       "      <th>item_id</th>\n",
       "      <th>line_item_id</th>\n",
       "      <th>order_id</th>\n",
       "      <th>event_id</th>\n",
       "      <th>event_timestamp</th>\n",
       "      <th>quantity</th>\n",
       "      <th>currency</th>\n",
       "      <th>checked_out_at</th>\n",
       "      <th>status</th>\n",
       "    </tr>\n",
       "    <tr>\n",
       "      <th>location</th>\n",
       "      <th></th>\n",
       "      <th></th>\n",
       "      <th></th>\n",
       "      <th></th>\n",
       "      <th></th>\n",
       "      <th></th>\n",
       "      <th></th>\n",
       "      <th></th>\n",
       "      <th></th>\n",
       "      <th></th>\n",
       "      <th></th>\n",
       "    </tr>\n",
       "  </thead>\n",
       "  <tbody>\n",
       "    <tr>\n",
       "      <th>Djibouti</th>\n",
       "      <td>e7f07fd1-05af-494a-ae5a-78c405b6f9c3</td>\n",
       "      <td>428688d6-31e6-4c73-a5d0-c8e849ccf6a3</td>\n",
       "      <td>9</td>\n",
       "      <td>3207</td>\n",
       "      <td>cddddfea-27ef-437f-817d-8f849d604c3c</td>\n",
       "      <td>14800</td>\n",
       "      <td>2024-03-19 19:06:51.166018</td>\n",
       "      <td>3</td>\n",
       "      <td>NGN</td>\n",
       "      <td>2024-03-30 04:09:10.411149</td>\n",
       "      <td>failed</td>\n",
       "    </tr>\n",
       "    <tr>\n",
       "      <th>Djibouti</th>\n",
       "      <td>e7f07fd1-05af-494a-ae5a-78c405b6f9c3</td>\n",
       "      <td>428688d6-31e6-4c73-a5d0-c8e849ccf6a3</td>\n",
       "      <td>9</td>\n",
       "      <td>3207</td>\n",
       "      <td>cddddfea-27ef-437f-817d-8f849d604c3c</td>\n",
       "      <td>14801</td>\n",
       "      <td>2024-03-30 04:03:10.410889</td>\n",
       "      <td>3</td>\n",
       "      <td>NGN</td>\n",
       "      <td>2024-03-30 04:09:10.411149</td>\n",
       "      <td>failed</td>\n",
       "    </tr>\n",
       "    <tr>\n",
       "      <th>Djibouti</th>\n",
       "      <td>e7f07fd1-05af-494a-ae5a-78c405b6f9c3</td>\n",
       "      <td>428688d6-31e6-4c73-a5d0-c8e849ccf6a3</td>\n",
       "      <td>9</td>\n",
       "      <td>3207</td>\n",
       "      <td>cddddfea-27ef-437f-817d-8f849d604c3c</td>\n",
       "      <td>14802</td>\n",
       "      <td>2024-03-30 04:03:10.411144</td>\n",
       "      <td>3</td>\n",
       "      <td>NGN</td>\n",
       "      <td>2024-03-30 04:09:10.411149</td>\n",
       "      <td>failed</td>\n",
       "    </tr>\n",
       "    <tr>\n",
       "      <th>Djibouti</th>\n",
       "      <td>e7f07fd1-05af-494a-ae5a-78c405b6f9c3</td>\n",
       "      <td>428688d6-31e6-4c73-a5d0-c8e849ccf6a3</td>\n",
       "      <td>9</td>\n",
       "      <td>3207</td>\n",
       "      <td>cddddfea-27ef-437f-817d-8f849d604c3c</td>\n",
       "      <td>14803</td>\n",
       "      <td>2024-03-30 04:09:10.411149</td>\n",
       "      <td>3</td>\n",
       "      <td>NGN</td>\n",
       "      <td>2024-03-30 04:09:10.411149</td>\n",
       "      <td>failed</td>\n",
       "    </tr>\n",
       "    <tr>\n",
       "      <th>Mali</th>\n",
       "      <td>f40fc2b7-0a0f-46e8-8fc5-4edfa5eb832b</td>\n",
       "      <td>76c265ff-c670-433a-887f-4b0d7a991349</td>\n",
       "      <td>4</td>\n",
       "      <td>3215</td>\n",
       "      <td>e332c5bf-f01c-421c-b046-63bf2b6b4273</td>\n",
       "      <td>14886</td>\n",
       "      <td>2024-03-30 04:03:10.424891</td>\n",
       "      <td>3</td>\n",
       "      <td>NGN</td>\n",
       "      <td>2024-03-30 04:06:10.425055</td>\n",
       "      <td>failed</td>\n",
       "    </tr>\n",
       "    <tr>\n",
       "      <th>...</th>\n",
       "      <td>...</td>\n",
       "      <td>...</td>\n",
       "      <td>...</td>\n",
       "      <td>...</td>\n",
       "      <td>...</td>\n",
       "      <td>...</td>\n",
       "      <td>...</td>\n",
       "      <td>...</td>\n",
       "      <td>...</td>\n",
       "      <td>...</td>\n",
       "      <td>...</td>\n",
       "    </tr>\n",
       "    <tr>\n",
       "      <th>Christmas Island</th>\n",
       "      <td>ef15a7b3-326c-405f-9eef-3dbf43c85a9d</td>\n",
       "      <td>74bb4936-9890-421b-a62a-ee544191fa1e</td>\n",
       "      <td>1</td>\n",
       "      <td>34941</td>\n",
       "      <td>ad73a2a0-354a-40bf-81cd-ff017ac859d5</td>\n",
       "      <td>161958</td>\n",
       "      <td>2024-03-30 04:03:18.224196</td>\n",
       "      <td>3</td>\n",
       "      <td>USD</td>\n",
       "      <td>2024-03-30 04:14:18.224200</td>\n",
       "      <td>failed</td>\n",
       "    </tr>\n",
       "    <tr>\n",
       "      <th>Christmas Island</th>\n",
       "      <td>ef15a7b3-326c-405f-9eef-3dbf43c85a9d</td>\n",
       "      <td>74bb4936-9890-421b-a62a-ee544191fa1e</td>\n",
       "      <td>4</td>\n",
       "      <td>34940</td>\n",
       "      <td>ad73a2a0-354a-40bf-81cd-ff017ac859d5</td>\n",
       "      <td>161959</td>\n",
       "      <td>2024-03-30 04:03:18.224198</td>\n",
       "      <td>3</td>\n",
       "      <td>USD</td>\n",
       "      <td>2024-03-30 04:14:18.224200</td>\n",
       "      <td>failed</td>\n",
       "    </tr>\n",
       "    <tr>\n",
       "      <th>Christmas Island</th>\n",
       "      <td>ef15a7b3-326c-405f-9eef-3dbf43c85a9d</td>\n",
       "      <td>74bb4936-9890-421b-a62a-ee544191fa1e</td>\n",
       "      <td>1</td>\n",
       "      <td>34941</td>\n",
       "      <td>ad73a2a0-354a-40bf-81cd-ff017ac859d5</td>\n",
       "      <td>161959</td>\n",
       "      <td>2024-03-30 04:03:18.224198</td>\n",
       "      <td>3</td>\n",
       "      <td>USD</td>\n",
       "      <td>2024-03-30 04:14:18.224200</td>\n",
       "      <td>failed</td>\n",
       "    </tr>\n",
       "    <tr>\n",
       "      <th>Christmas Island</th>\n",
       "      <td>ef15a7b3-326c-405f-9eef-3dbf43c85a9d</td>\n",
       "      <td>74bb4936-9890-421b-a62a-ee544191fa1e</td>\n",
       "      <td>4</td>\n",
       "      <td>34940</td>\n",
       "      <td>ad73a2a0-354a-40bf-81cd-ff017ac859d5</td>\n",
       "      <td>161960</td>\n",
       "      <td>2024-03-30 04:14:18.224200</td>\n",
       "      <td>3</td>\n",
       "      <td>USD</td>\n",
       "      <td>2024-03-30 04:14:18.224200</td>\n",
       "      <td>failed</td>\n",
       "    </tr>\n",
       "    <tr>\n",
       "      <th>Christmas Island</th>\n",
       "      <td>ef15a7b3-326c-405f-9eef-3dbf43c85a9d</td>\n",
       "      <td>74bb4936-9890-421b-a62a-ee544191fa1e</td>\n",
       "      <td>1</td>\n",
       "      <td>34941</td>\n",
       "      <td>ad73a2a0-354a-40bf-81cd-ff017ac859d5</td>\n",
       "      <td>161960</td>\n",
       "      <td>2024-03-30 04:14:18.224200</td>\n",
       "      <td>3</td>\n",
       "      <td>USD</td>\n",
       "      <td>2024-03-30 04:14:18.224200</td>\n",
       "      <td>failed</td>\n",
       "    </tr>\n",
       "  </tbody>\n",
       "</table>\n",
       "<p>196383 rows × 11 columns</p>\n",
       "</div>"
      ],
      "text/plain": [
       "                                           customer_id  \\\n",
       "location                                                 \n",
       "Djibouti          e7f07fd1-05af-494a-ae5a-78c405b6f9c3   \n",
       "Djibouti          e7f07fd1-05af-494a-ae5a-78c405b6f9c3   \n",
       "Djibouti          e7f07fd1-05af-494a-ae5a-78c405b6f9c3   \n",
       "Djibouti          e7f07fd1-05af-494a-ae5a-78c405b6f9c3   \n",
       "Mali              f40fc2b7-0a0f-46e8-8fc5-4edfa5eb832b   \n",
       "...                                                ...   \n",
       "Christmas Island  ef15a7b3-326c-405f-9eef-3dbf43c85a9d   \n",
       "Christmas Island  ef15a7b3-326c-405f-9eef-3dbf43c85a9d   \n",
       "Christmas Island  ef15a7b3-326c-405f-9eef-3dbf43c85a9d   \n",
       "Christmas Island  ef15a7b3-326c-405f-9eef-3dbf43c85a9d   \n",
       "Christmas Island  ef15a7b3-326c-405f-9eef-3dbf43c85a9d   \n",
       "\n",
       "                                             device_id  item_id  line_item_id  \\\n",
       "location                                                                        \n",
       "Djibouti          428688d6-31e6-4c73-a5d0-c8e849ccf6a3        9          3207   \n",
       "Djibouti          428688d6-31e6-4c73-a5d0-c8e849ccf6a3        9          3207   \n",
       "Djibouti          428688d6-31e6-4c73-a5d0-c8e849ccf6a3        9          3207   \n",
       "Djibouti          428688d6-31e6-4c73-a5d0-c8e849ccf6a3        9          3207   \n",
       "Mali              76c265ff-c670-433a-887f-4b0d7a991349        4          3215   \n",
       "...                                                ...      ...           ...   \n",
       "Christmas Island  74bb4936-9890-421b-a62a-ee544191fa1e        1         34941   \n",
       "Christmas Island  74bb4936-9890-421b-a62a-ee544191fa1e        4         34940   \n",
       "Christmas Island  74bb4936-9890-421b-a62a-ee544191fa1e        1         34941   \n",
       "Christmas Island  74bb4936-9890-421b-a62a-ee544191fa1e        4         34940   \n",
       "Christmas Island  74bb4936-9890-421b-a62a-ee544191fa1e        1         34941   \n",
       "\n",
       "                                              order_id  event_id  \\\n",
       "location                                                           \n",
       "Djibouti          cddddfea-27ef-437f-817d-8f849d604c3c     14800   \n",
       "Djibouti          cddddfea-27ef-437f-817d-8f849d604c3c     14801   \n",
       "Djibouti          cddddfea-27ef-437f-817d-8f849d604c3c     14802   \n",
       "Djibouti          cddddfea-27ef-437f-817d-8f849d604c3c     14803   \n",
       "Mali              e332c5bf-f01c-421c-b046-63bf2b6b4273     14886   \n",
       "...                                                ...       ...   \n",
       "Christmas Island  ad73a2a0-354a-40bf-81cd-ff017ac859d5    161958   \n",
       "Christmas Island  ad73a2a0-354a-40bf-81cd-ff017ac859d5    161959   \n",
       "Christmas Island  ad73a2a0-354a-40bf-81cd-ff017ac859d5    161959   \n",
       "Christmas Island  ad73a2a0-354a-40bf-81cd-ff017ac859d5    161960   \n",
       "Christmas Island  ad73a2a0-354a-40bf-81cd-ff017ac859d5    161960   \n",
       "\n",
       "                             event_timestamp  quantity currency  \\\n",
       "location                                                          \n",
       "Djibouti          2024-03-19 19:06:51.166018         3      NGN   \n",
       "Djibouti          2024-03-30 04:03:10.410889         3      NGN   \n",
       "Djibouti          2024-03-30 04:03:10.411144         3      NGN   \n",
       "Djibouti          2024-03-30 04:09:10.411149         3      NGN   \n",
       "Mali              2024-03-30 04:03:10.424891         3      NGN   \n",
       "...                                      ...       ...      ...   \n",
       "Christmas Island  2024-03-30 04:03:18.224196         3      USD   \n",
       "Christmas Island  2024-03-30 04:03:18.224198         3      USD   \n",
       "Christmas Island  2024-03-30 04:03:18.224198         3      USD   \n",
       "Christmas Island  2024-03-30 04:14:18.224200         3      USD   \n",
       "Christmas Island  2024-03-30 04:14:18.224200         3      USD   \n",
       "\n",
       "                              checked_out_at  status  \n",
       "location                                              \n",
       "Djibouti          2024-03-30 04:09:10.411149  failed  \n",
       "Djibouti          2024-03-30 04:09:10.411149  failed  \n",
       "Djibouti          2024-03-30 04:09:10.411149  failed  \n",
       "Djibouti          2024-03-30 04:09:10.411149  failed  \n",
       "Mali              2024-03-30 04:06:10.425055  failed  \n",
       "...                                      ...     ...  \n",
       "Christmas Island  2024-03-30 04:14:18.224200  failed  \n",
       "Christmas Island  2024-03-30 04:14:18.224200  failed  \n",
       "Christmas Island  2024-03-30 04:14:18.224200  failed  \n",
       "Christmas Island  2024-03-30 04:14:18.224200  failed  \n",
       "Christmas Island  2024-03-30 04:14:18.224200  failed  \n",
       "\n",
       "[196383 rows x 11 columns]"
      ]
     },
     "execution_count": 390,
     "metadata": {},
     "output_type": "execute_result"
    }
   ],
   "source": [
    "sales.loc[mask3]"
   ]
  },
  {
   "cell_type": "code",
   "execution_count": 391,
   "id": "d95ce2da",
   "metadata": {},
   "outputs": [
    {
     "data": {
      "text/html": [
       "<div>\n",
       "<style scoped>\n",
       "    .dataframe tbody tr th:only-of-type {\n",
       "        vertical-align: middle;\n",
       "    }\n",
       "\n",
       "    .dataframe tbody tr th {\n",
       "        vertical-align: top;\n",
       "    }\n",
       "\n",
       "    .dataframe thead th {\n",
       "        text-align: right;\n",
       "    }\n",
       "</style>\n",
       "<table border=\"1\" class=\"dataframe\">\n",
       "  <thead>\n",
       "    <tr style=\"text-align: right;\">\n",
       "      <th></th>\n",
       "      <th>customer_id</th>\n",
       "      <th>device_id</th>\n",
       "      <th>item_id</th>\n",
       "      <th>line_item_id</th>\n",
       "      <th>order_id</th>\n",
       "      <th>event_id</th>\n",
       "      <th>event_timestamp</th>\n",
       "      <th>quantity</th>\n",
       "      <th>currency</th>\n",
       "      <th>checked_out_at</th>\n",
       "      <th>status</th>\n",
       "    </tr>\n",
       "    <tr>\n",
       "      <th>location</th>\n",
       "      <th></th>\n",
       "      <th></th>\n",
       "      <th></th>\n",
       "      <th></th>\n",
       "      <th></th>\n",
       "      <th></th>\n",
       "      <th></th>\n",
       "      <th></th>\n",
       "      <th></th>\n",
       "      <th></th>\n",
       "      <th></th>\n",
       "    </tr>\n",
       "  </thead>\n",
       "  <tbody>\n",
       "    <tr>\n",
       "      <th>Djibouti</th>\n",
       "      <td>e7f07fd1-05af-494a-ae5a-78c405b6f9c3</td>\n",
       "      <td>428688d6-31e6-4c73-a5d0-c8e849ccf6a3</td>\n",
       "      <td>9</td>\n",
       "      <td>3207</td>\n",
       "      <td>cddddfea-27ef-437f-817d-8f849d604c3c</td>\n",
       "      <td>14800</td>\n",
       "      <td>2024-03-19 19:06:51.166018</td>\n",
       "      <td>3</td>\n",
       "      <td>NGN</td>\n",
       "      <td>2024-03-30 04:09:10.411149</td>\n",
       "      <td>failed</td>\n",
       "    </tr>\n",
       "    <tr>\n",
       "      <th>Djibouti</th>\n",
       "      <td>e7f07fd1-05af-494a-ae5a-78c405b6f9c3</td>\n",
       "      <td>428688d6-31e6-4c73-a5d0-c8e849ccf6a3</td>\n",
       "      <td>9</td>\n",
       "      <td>3207</td>\n",
       "      <td>cddddfea-27ef-437f-817d-8f849d604c3c</td>\n",
       "      <td>14801</td>\n",
       "      <td>2024-03-30 04:03:10.410889</td>\n",
       "      <td>3</td>\n",
       "      <td>NGN</td>\n",
       "      <td>2024-03-30 04:09:10.411149</td>\n",
       "      <td>failed</td>\n",
       "    </tr>\n",
       "    <tr>\n",
       "      <th>Djibouti</th>\n",
       "      <td>e7f07fd1-05af-494a-ae5a-78c405b6f9c3</td>\n",
       "      <td>428688d6-31e6-4c73-a5d0-c8e849ccf6a3</td>\n",
       "      <td>9</td>\n",
       "      <td>3207</td>\n",
       "      <td>cddddfea-27ef-437f-817d-8f849d604c3c</td>\n",
       "      <td>14802</td>\n",
       "      <td>2024-03-30 04:03:10.411144</td>\n",
       "      <td>3</td>\n",
       "      <td>NGN</td>\n",
       "      <td>2024-03-30 04:09:10.411149</td>\n",
       "      <td>failed</td>\n",
       "    </tr>\n",
       "    <tr>\n",
       "      <th>Djibouti</th>\n",
       "      <td>e7f07fd1-05af-494a-ae5a-78c405b6f9c3</td>\n",
       "      <td>428688d6-31e6-4c73-a5d0-c8e849ccf6a3</td>\n",
       "      <td>9</td>\n",
       "      <td>3207</td>\n",
       "      <td>cddddfea-27ef-437f-817d-8f849d604c3c</td>\n",
       "      <td>14803</td>\n",
       "      <td>2024-03-30 04:09:10.411149</td>\n",
       "      <td>3</td>\n",
       "      <td>NGN</td>\n",
       "      <td>2024-03-30 04:09:10.411149</td>\n",
       "      <td>failed</td>\n",
       "    </tr>\n",
       "    <tr>\n",
       "      <th>Mali</th>\n",
       "      <td>f40fc2b7-0a0f-46e8-8fc5-4edfa5eb832b</td>\n",
       "      <td>76c265ff-c670-433a-887f-4b0d7a991349</td>\n",
       "      <td>4</td>\n",
       "      <td>3215</td>\n",
       "      <td>e332c5bf-f01c-421c-b046-63bf2b6b4273</td>\n",
       "      <td>14886</td>\n",
       "      <td>2024-03-30 04:03:10.424891</td>\n",
       "      <td>3</td>\n",
       "      <td>NGN</td>\n",
       "      <td>2024-03-30 04:06:10.425055</td>\n",
       "      <td>failed</td>\n",
       "    </tr>\n",
       "    <tr>\n",
       "      <th>...</th>\n",
       "      <td>...</td>\n",
       "      <td>...</td>\n",
       "      <td>...</td>\n",
       "      <td>...</td>\n",
       "      <td>...</td>\n",
       "      <td>...</td>\n",
       "      <td>...</td>\n",
       "      <td>...</td>\n",
       "      <td>...</td>\n",
       "      <td>...</td>\n",
       "      <td>...</td>\n",
       "    </tr>\n",
       "    <tr>\n",
       "      <th>Christmas Island</th>\n",
       "      <td>ef15a7b3-326c-405f-9eef-3dbf43c85a9d</td>\n",
       "      <td>74bb4936-9890-421b-a62a-ee544191fa1e</td>\n",
       "      <td>1</td>\n",
       "      <td>34941</td>\n",
       "      <td>ad73a2a0-354a-40bf-81cd-ff017ac859d5</td>\n",
       "      <td>161958</td>\n",
       "      <td>2024-03-30 04:03:18.224196</td>\n",
       "      <td>3</td>\n",
       "      <td>USD</td>\n",
       "      <td>2024-03-30 04:14:18.224200</td>\n",
       "      <td>failed</td>\n",
       "    </tr>\n",
       "    <tr>\n",
       "      <th>Christmas Island</th>\n",
       "      <td>ef15a7b3-326c-405f-9eef-3dbf43c85a9d</td>\n",
       "      <td>74bb4936-9890-421b-a62a-ee544191fa1e</td>\n",
       "      <td>4</td>\n",
       "      <td>34940</td>\n",
       "      <td>ad73a2a0-354a-40bf-81cd-ff017ac859d5</td>\n",
       "      <td>161959</td>\n",
       "      <td>2024-03-30 04:03:18.224198</td>\n",
       "      <td>3</td>\n",
       "      <td>USD</td>\n",
       "      <td>2024-03-30 04:14:18.224200</td>\n",
       "      <td>failed</td>\n",
       "    </tr>\n",
       "    <tr>\n",
       "      <th>Christmas Island</th>\n",
       "      <td>ef15a7b3-326c-405f-9eef-3dbf43c85a9d</td>\n",
       "      <td>74bb4936-9890-421b-a62a-ee544191fa1e</td>\n",
       "      <td>1</td>\n",
       "      <td>34941</td>\n",
       "      <td>ad73a2a0-354a-40bf-81cd-ff017ac859d5</td>\n",
       "      <td>161959</td>\n",
       "      <td>2024-03-30 04:03:18.224198</td>\n",
       "      <td>3</td>\n",
       "      <td>USD</td>\n",
       "      <td>2024-03-30 04:14:18.224200</td>\n",
       "      <td>failed</td>\n",
       "    </tr>\n",
       "    <tr>\n",
       "      <th>Christmas Island</th>\n",
       "      <td>ef15a7b3-326c-405f-9eef-3dbf43c85a9d</td>\n",
       "      <td>74bb4936-9890-421b-a62a-ee544191fa1e</td>\n",
       "      <td>4</td>\n",
       "      <td>34940</td>\n",
       "      <td>ad73a2a0-354a-40bf-81cd-ff017ac859d5</td>\n",
       "      <td>161960</td>\n",
       "      <td>2024-03-30 04:14:18.224200</td>\n",
       "      <td>3</td>\n",
       "      <td>USD</td>\n",
       "      <td>2024-03-30 04:14:18.224200</td>\n",
       "      <td>failed</td>\n",
       "    </tr>\n",
       "    <tr>\n",
       "      <th>Christmas Island</th>\n",
       "      <td>ef15a7b3-326c-405f-9eef-3dbf43c85a9d</td>\n",
       "      <td>74bb4936-9890-421b-a62a-ee544191fa1e</td>\n",
       "      <td>1</td>\n",
       "      <td>34941</td>\n",
       "      <td>ad73a2a0-354a-40bf-81cd-ff017ac859d5</td>\n",
       "      <td>161960</td>\n",
       "      <td>2024-03-30 04:14:18.224200</td>\n",
       "      <td>3</td>\n",
       "      <td>USD</td>\n",
       "      <td>2024-03-30 04:14:18.224200</td>\n",
       "      <td>failed</td>\n",
       "    </tr>\n",
       "  </tbody>\n",
       "</table>\n",
       "<p>196383 rows × 11 columns</p>\n",
       "</div>"
      ],
      "text/plain": [
       "                                           customer_id  \\\n",
       "location                                                 \n",
       "Djibouti          e7f07fd1-05af-494a-ae5a-78c405b6f9c3   \n",
       "Djibouti          e7f07fd1-05af-494a-ae5a-78c405b6f9c3   \n",
       "Djibouti          e7f07fd1-05af-494a-ae5a-78c405b6f9c3   \n",
       "Djibouti          e7f07fd1-05af-494a-ae5a-78c405b6f9c3   \n",
       "Mali              f40fc2b7-0a0f-46e8-8fc5-4edfa5eb832b   \n",
       "...                                                ...   \n",
       "Christmas Island  ef15a7b3-326c-405f-9eef-3dbf43c85a9d   \n",
       "Christmas Island  ef15a7b3-326c-405f-9eef-3dbf43c85a9d   \n",
       "Christmas Island  ef15a7b3-326c-405f-9eef-3dbf43c85a9d   \n",
       "Christmas Island  ef15a7b3-326c-405f-9eef-3dbf43c85a9d   \n",
       "Christmas Island  ef15a7b3-326c-405f-9eef-3dbf43c85a9d   \n",
       "\n",
       "                                             device_id  item_id  line_item_id  \\\n",
       "location                                                                        \n",
       "Djibouti          428688d6-31e6-4c73-a5d0-c8e849ccf6a3        9          3207   \n",
       "Djibouti          428688d6-31e6-4c73-a5d0-c8e849ccf6a3        9          3207   \n",
       "Djibouti          428688d6-31e6-4c73-a5d0-c8e849ccf6a3        9          3207   \n",
       "Djibouti          428688d6-31e6-4c73-a5d0-c8e849ccf6a3        9          3207   \n",
       "Mali              76c265ff-c670-433a-887f-4b0d7a991349        4          3215   \n",
       "...                                                ...      ...           ...   \n",
       "Christmas Island  74bb4936-9890-421b-a62a-ee544191fa1e        1         34941   \n",
       "Christmas Island  74bb4936-9890-421b-a62a-ee544191fa1e        4         34940   \n",
       "Christmas Island  74bb4936-9890-421b-a62a-ee544191fa1e        1         34941   \n",
       "Christmas Island  74bb4936-9890-421b-a62a-ee544191fa1e        4         34940   \n",
       "Christmas Island  74bb4936-9890-421b-a62a-ee544191fa1e        1         34941   \n",
       "\n",
       "                                              order_id  event_id  \\\n",
       "location                                                           \n",
       "Djibouti          cddddfea-27ef-437f-817d-8f849d604c3c     14800   \n",
       "Djibouti          cddddfea-27ef-437f-817d-8f849d604c3c     14801   \n",
       "Djibouti          cddddfea-27ef-437f-817d-8f849d604c3c     14802   \n",
       "Djibouti          cddddfea-27ef-437f-817d-8f849d604c3c     14803   \n",
       "Mali              e332c5bf-f01c-421c-b046-63bf2b6b4273     14886   \n",
       "...                                                ...       ...   \n",
       "Christmas Island  ad73a2a0-354a-40bf-81cd-ff017ac859d5    161958   \n",
       "Christmas Island  ad73a2a0-354a-40bf-81cd-ff017ac859d5    161959   \n",
       "Christmas Island  ad73a2a0-354a-40bf-81cd-ff017ac859d5    161959   \n",
       "Christmas Island  ad73a2a0-354a-40bf-81cd-ff017ac859d5    161960   \n",
       "Christmas Island  ad73a2a0-354a-40bf-81cd-ff017ac859d5    161960   \n",
       "\n",
       "                             event_timestamp  quantity currency  \\\n",
       "location                                                          \n",
       "Djibouti          2024-03-19 19:06:51.166018         3      NGN   \n",
       "Djibouti          2024-03-30 04:03:10.410889         3      NGN   \n",
       "Djibouti          2024-03-30 04:03:10.411144         3      NGN   \n",
       "Djibouti          2024-03-30 04:09:10.411149         3      NGN   \n",
       "Mali              2024-03-30 04:03:10.424891         3      NGN   \n",
       "...                                      ...       ...      ...   \n",
       "Christmas Island  2024-03-30 04:03:18.224196         3      USD   \n",
       "Christmas Island  2024-03-30 04:03:18.224198         3      USD   \n",
       "Christmas Island  2024-03-30 04:03:18.224198         3      USD   \n",
       "Christmas Island  2024-03-30 04:14:18.224200         3      USD   \n",
       "Christmas Island  2024-03-30 04:14:18.224200         3      USD   \n",
       "\n",
       "                              checked_out_at  status  \n",
       "location                                              \n",
       "Djibouti          2024-03-30 04:09:10.411149  failed  \n",
       "Djibouti          2024-03-30 04:09:10.411149  failed  \n",
       "Djibouti          2024-03-30 04:09:10.411149  failed  \n",
       "Djibouti          2024-03-30 04:09:10.411149  failed  \n",
       "Mali              2024-03-30 04:06:10.425055  failed  \n",
       "...                                      ...     ...  \n",
       "Christmas Island  2024-03-30 04:14:18.224200  failed  \n",
       "Christmas Island  2024-03-30 04:14:18.224200  failed  \n",
       "Christmas Island  2024-03-30 04:14:18.224200  failed  \n",
       "Christmas Island  2024-03-30 04:14:18.224200  failed  \n",
       "Christmas Island  2024-03-30 04:14:18.224200  failed  \n",
       "\n",
       "[196383 rows x 11 columns]"
      ]
     },
     "execution_count": 391,
     "metadata": {},
     "output_type": "execute_result"
    }
   ],
   "source": [
    "sales.loc[mask3]"
   ]
  },
  {
   "cell_type": "code",
   "execution_count": 392,
   "id": "caaa2dea",
   "metadata": {},
   "outputs": [],
   "source": [
    "#lets find out the numbers failed transactions as compared to others..\n",
    "transaction_status = sales[\"status\"].value_counts()"
   ]
  },
  {
   "cell_type": "code",
   "execution_count": 393,
   "id": "1c750cb1",
   "metadata": {},
   "outputs": [
    {
     "data": {
      "text/plain": [
       "<Axes: xlabel='status'>"
      ]
     },
     "execution_count": 393,
     "metadata": {},
     "output_type": "execute_result"
    },
    {
     "data": {
      "image/png": "[encoded data removed]",
      "text/plain": [
       "<Figure size 640x480 with 1 Axes>"
      ]
     },
     "metadata": {},
     "output_type": "display_data"
    }
   ],
   "source": [
    "transaction_status.plot(kind= 'bar')"
   ]
  },
  {
   "cell_type": "markdown",
   "id": "83c5ea1a",
   "metadata": {},
   "source": [
    "this chart shows there is a problem.because why are there so many failed transactions and cancelled .they even on outweigh successful transactions"
   ]
  },
  {
   "cell_type": "code",
   "execution_count": 394,
   "id": "8533913f",
   "metadata": {},
   "outputs": [],
   "source": [
    "currency_by_status=sales.groupby('status')[\"currency\"]"
   ]
  },
  {
   "cell_type": "code",
   "execution_count": 395,
   "id": "79bbc938",
   "metadata": {},
   "outputs": [
    {
     "data": {
      "text/html": [
       "<div>\n",
       "<style scoped>\n",
       "    .dataframe tbody tr th:only-of-type {\n",
       "        vertical-align: middle;\n",
       "    }\n",
       "\n",
       "    .dataframe tbody tr th {\n",
       "        vertical-align: top;\n",
       "    }\n",
       "\n",
       "    .dataframe thead th {\n",
       "        text-align: right;\n",
       "    }\n",
       "</style>\n",
       "<table border=\"1\" class=\"dataframe\">\n",
       "  <thead>\n",
       "    <tr style=\"text-align: right;\">\n",
       "      <th></th>\n",
       "      <th>customer_id</th>\n",
       "      <th>device_id</th>\n",
       "      <th>item_id</th>\n",
       "      <th>line_item_id</th>\n",
       "      <th>order_id</th>\n",
       "      <th>event_id</th>\n",
       "      <th>event_timestamp</th>\n",
       "      <th>quantity</th>\n",
       "      <th>currency</th>\n",
       "      <th>checked_out_at</th>\n",
       "      <th>status</th>\n",
       "    </tr>\n",
       "    <tr>\n",
       "      <th>location</th>\n",
       "      <th></th>\n",
       "      <th></th>\n",
       "      <th></th>\n",
       "      <th></th>\n",
       "      <th></th>\n",
       "      <th></th>\n",
       "      <th></th>\n",
       "      <th></th>\n",
       "      <th></th>\n",
       "      <th></th>\n",
       "      <th></th>\n",
       "    </tr>\n",
       "  </thead>\n",
       "  <tbody>\n",
       "    <tr>\n",
       "      <th>Korea</th>\n",
       "      <td>3b0ae8c1-68c6-40c8-a13a-e2bffb5ffdf9</td>\n",
       "      <td>01cf516e-66e6-45f2-a6d6-b6f5f5232778</td>\n",
       "      <td>14</td>\n",
       "      <td>3914</td>\n",
       "      <td>b253052f-6f62-4b1f-bce2-ab2324a2a27c</td>\n",
       "      <td>18219</td>\n",
       "      <td>2024-03-19 10:01:39.523573</td>\n",
       "      <td>5</td>\n",
       "      <td>USD</td>\n",
       "      <td>2024-03-30 04:06:10.636247</td>\n",
       "      <td>cancelled</td>\n",
       "    </tr>\n",
       "    <tr>\n",
       "      <th>Korea</th>\n",
       "      <td>3b0ae8c1-68c6-40c8-a13a-e2bffb5ffdf9</td>\n",
       "      <td>01cf516e-66e6-45f2-a6d6-b6f5f5232778</td>\n",
       "      <td>8</td>\n",
       "      <td>3915</td>\n",
       "      <td>b253052f-6f62-4b1f-bce2-ab2324a2a27c</td>\n",
       "      <td>18219</td>\n",
       "      <td>2024-03-19 10:01:39.523573</td>\n",
       "      <td>2</td>\n",
       "      <td>USD</td>\n",
       "      <td>2024-03-30 04:06:10.636247</td>\n",
       "      <td>cancelled</td>\n",
       "    </tr>\n",
       "  </tbody>\n",
       "</table>\n",
       "</div>"
      ],
      "text/plain": [
       "                                   customer_id  \\\n",
       "location                                         \n",
       "Korea     3b0ae8c1-68c6-40c8-a13a-e2bffb5ffdf9   \n",
       "Korea     3b0ae8c1-68c6-40c8-a13a-e2bffb5ffdf9   \n",
       "\n",
       "                                     device_id  item_id  line_item_id  \\\n",
       "location                                                                \n",
       "Korea     01cf516e-66e6-45f2-a6d6-b6f5f5232778       14          3914   \n",
       "Korea     01cf516e-66e6-45f2-a6d6-b6f5f5232778        8          3915   \n",
       "\n",
       "                                      order_id  event_id  \\\n",
       "location                                                   \n",
       "Korea     b253052f-6f62-4b1f-bce2-ab2324a2a27c     18219   \n",
       "Korea     b253052f-6f62-4b1f-bce2-ab2324a2a27c     18219   \n",
       "\n",
       "                     event_timestamp  quantity currency  \\\n",
       "location                                                  \n",
       "Korea     2024-03-19 10:01:39.523573         5      USD   \n",
       "Korea     2024-03-19 10:01:39.523573         2      USD   \n",
       "\n",
       "                      checked_out_at     status  \n",
       "location                                         \n",
       "Korea     2024-03-30 04:06:10.636247  cancelled  \n",
       "Korea     2024-03-30 04:06:10.636247  cancelled  "
      ]
     },
     "execution_count": 395,
     "metadata": {},
     "output_type": "execute_result"
    }
   ],
   "source": [
    "#korea has the most transactions \n",
    "#lets see what they are cooking \n",
    "# i want to see the ratio of transaction status in korea too to see if they are succressful transactions\n",
    "#i also want to see the region with the most successful; transactions  and ones with the least\n",
    "\n",
    "korea = sales.loc['Korea']\n",
    "korea.head(2)"
   ]
  },
  {
   "cell_type": "code",
   "execution_count": 396,
   "id": "84967435",
   "metadata": {},
   "outputs": [
    {
     "name": "stdout",
     "output_type": "stream",
     "text": [
      "<class 'pandas.core.frame.DataFrame'>\n",
      "Index: 6997 entries, Korea to Korea\n",
      "Data columns (total 11 columns):\n",
      " #   Column           Non-Null Count  Dtype \n",
      "---  ------           --------------  ----- \n",
      " 0   customer_id      6997 non-null   object\n",
      " 1   device_id        6997 non-null   object\n",
      " 2   item_id          6997 non-null   int64 \n",
      " 3   line_item_id     6997 non-null   int64 \n",
      " 4   order_id         6997 non-null   object\n",
      " 5   event_id         6997 non-null   int64 \n",
      " 6   event_timestamp  6997 non-null   object\n",
      " 7   quantity         6997 non-null   int64 \n",
      " 8   currency         6997 non-null   object\n",
      " 9   checked_out_at   6997 non-null   object\n",
      " 10  status           6997 non-null   object\n",
      "dtypes: int64(4), object(7)\n",
      "memory usage: 656.0+ KB\n"
     ]
    }
   ],
   "source": [
    "korea.info()"
   ]
  },
  {
   "cell_type": "markdown",
   "id": "7dfa95b2",
   "metadata": {},
   "source": [
    "There are 6997 transactions from korea "
   ]
  },
  {
   "cell_type": "code",
   "execution_count": 397,
   "id": "8526f694",
   "metadata": {},
   "outputs": [
    {
     "data": {
      "text/plain": [
       "(6997, 11)"
      ]
     },
     "execution_count": 397,
     "metadata": {},
     "output_type": "execute_result"
    }
   ],
   "source": [
    "korea.shape"
   ]
  },
  {
   "cell_type": "code",
   "execution_count": 398,
   "id": "26cba3e9",
   "metadata": {},
   "outputs": [
    {
     "data": {
      "text/plain": [
       "6997"
      ]
     },
     "execution_count": 398,
     "metadata": {},
     "output_type": "execute_result"
    }
   ],
   "source": [
    "korea.shape[0]"
   ]
  },
  {
   "cell_type": "code",
   "execution_count": 399,
   "id": "0a4880d7",
   "metadata": {},
   "outputs": [],
   "source": [
    "failedtransaction = korea[korea[\"status\"] == \"failed\"]\n",
    "successful_transaction =korea[korea['status']== 'success']\n",
    "cancelled_trans = korea[korea['status'] == 'cancelled']"
   ]
  },
  {
   "cell_type": "code",
   "execution_count": 400,
   "id": "e64f1064",
   "metadata": {},
   "outputs": [
    {
     "data": {
      "text/html": [
       "<div>\n",
       "<style scoped>\n",
       "    .dataframe tbody tr th:only-of-type {\n",
       "        vertical-align: middle;\n",
       "    }\n",
       "\n",
       "    .dataframe tbody tr th {\n",
       "        vertical-align: top;\n",
       "    }\n",
       "\n",
       "    .dataframe thead th {\n",
       "        text-align: right;\n",
       "    }\n",
       "</style>\n",
       "<table border=\"1\" class=\"dataframe\">\n",
       "  <thead>\n",
       "    <tr style=\"text-align: right;\">\n",
       "      <th></th>\n",
       "      <th>customer_id</th>\n",
       "      <th>device_id</th>\n",
       "      <th>item_id</th>\n",
       "      <th>line_item_id</th>\n",
       "      <th>order_id</th>\n",
       "      <th>event_id</th>\n",
       "      <th>event_timestamp</th>\n",
       "      <th>quantity</th>\n",
       "      <th>currency</th>\n",
       "      <th>checked_out_at</th>\n",
       "      <th>status</th>\n",
       "    </tr>\n",
       "    <tr>\n",
       "      <th>location</th>\n",
       "      <th></th>\n",
       "      <th></th>\n",
       "      <th></th>\n",
       "      <th></th>\n",
       "      <th></th>\n",
       "      <th></th>\n",
       "      <th></th>\n",
       "      <th></th>\n",
       "      <th></th>\n",
       "      <th></th>\n",
       "      <th></th>\n",
       "    </tr>\n",
       "  </thead>\n",
       "  <tbody>\n",
       "    <tr>\n",
       "      <th>Korea</th>\n",
       "      <td>34d3c5e1-7e40-40c9-84c3-7d50edfb7eaf</td>\n",
       "      <td>05ec37c1-5bb4-4033-908b-366e25c02f66</td>\n",
       "      <td>4</td>\n",
       "      <td>4123</td>\n",
       "      <td>15d53794-9b16-429c-9b84-5f2ac3a8c17a</td>\n",
       "      <td>18956</td>\n",
       "      <td>2024-03-30 04:03:10.675805</td>\n",
       "      <td>4</td>\n",
       "      <td>USD</td>\n",
       "      <td>2024-03-30 04:19:10.675876</td>\n",
       "      <td>failed</td>\n",
       "    </tr>\n",
       "    <tr>\n",
       "      <th>Korea</th>\n",
       "      <td>34d3c5e1-7e40-40c9-84c3-7d50edfb7eaf</td>\n",
       "      <td>05ec37c1-5bb4-4033-908b-366e25c02f66</td>\n",
       "      <td>7</td>\n",
       "      <td>4124</td>\n",
       "      <td>15d53794-9b16-429c-9b84-5f2ac3a8c17a</td>\n",
       "      <td>18956</td>\n",
       "      <td>2024-03-30 04:03:10.675805</td>\n",
       "      <td>2</td>\n",
       "      <td>USD</td>\n",
       "      <td>2024-03-30 04:19:10.675876</td>\n",
       "      <td>failed</td>\n",
       "    </tr>\n",
       "  </tbody>\n",
       "</table>\n",
       "</div>"
      ],
      "text/plain": [
       "                                   customer_id  \\\n",
       "location                                         \n",
       "Korea     34d3c5e1-7e40-40c9-84c3-7d50edfb7eaf   \n",
       "Korea     34d3c5e1-7e40-40c9-84c3-7d50edfb7eaf   \n",
       "\n",
       "                                     device_id  item_id  line_item_id  \\\n",
       "location                                                                \n",
       "Korea     05ec37c1-5bb4-4033-908b-366e25c02f66        4          4123   \n",
       "Korea     05ec37c1-5bb4-4033-908b-366e25c02f66        7          4124   \n",
       "\n",
       "                                      order_id  event_id  \\\n",
       "location                                                   \n",
       "Korea     15d53794-9b16-429c-9b84-5f2ac3a8c17a     18956   \n",
       "Korea     15d53794-9b16-429c-9b84-5f2ac3a8c17a     18956   \n",
       "\n",
       "                     event_timestamp  quantity currency  \\\n",
       "location                                                  \n",
       "Korea     2024-03-30 04:03:10.675805         4      USD   \n",
       "Korea     2024-03-30 04:03:10.675805         2      USD   \n",
       "\n",
       "                      checked_out_at  status  \n",
       "location                                      \n",
       "Korea     2024-03-30 04:19:10.675876  failed  \n",
       "Korea     2024-03-30 04:19:10.675876  failed  "
      ]
     },
     "execution_count": 400,
     "metadata": {},
     "output_type": "execute_result"
    }
   ],
   "source": [
    "failedtransaction.head(2)"
   ]
  },
  {
   "cell_type": "code",
   "execution_count": 401,
   "id": "3506872b",
   "metadata": {},
   "outputs": [
    {
     "data": {
      "text/plain": [
       "(1982, 11)"
      ]
     },
     "execution_count": 401,
     "metadata": {},
     "output_type": "execute_result"
    }
   ],
   "source": [
    "failedtransaction.shape"
   ]
  },
  {
   "cell_type": "code",
   "execution_count": 402,
   "id": "c66ac361",
   "metadata": {},
   "outputs": [
    {
     "data": {
      "text/plain": [
       "11"
      ]
     },
     "execution_count": 402,
     "metadata": {},
     "output_type": "execute_result"
    }
   ],
   "source": [
    "failedtransaction['customer_id'].nunique()\n",
    "# or failedtransaction.customer_id.unique()"
   ]
  },
  {
   "cell_type": "code",
   "execution_count": 403,
   "id": "3df0eb4f",
   "metadata": {},
   "outputs": [
    {
     "data": {
      "text/plain": [
       "array(['34d3c5e1-7e40-40c9-84c3-7d50edfb7eaf',\n",
       "       '2933e91f-39d6-44af-b1e8-933ad172a3c6',\n",
       "       'b20fe203-25fc-4ad8-96e9-5c8031093064',\n",
       "       'c9b3c52a-9b77-4d33-b9eb-5a3a34dc5810',\n",
       "       'ea2aa16a-a791-47f0-95c5-066d17b5f09d',\n",
       "       '39568cc0-3642-4234-9b88-c339d6953adf',\n",
       "       'cd03dc6b-c884-433b-9e01-735e19ade944',\n",
       "       '66e4bef6-a448-4e9e-b807-14a06728753f',\n",
       "       '8498e8be-5899-4ad4-821f-d0df3da83157',\n",
       "       'b4139e14-0478-41f0-bcbb-6792f0c6d957',\n",
       "       'be397c29-0766-4bf0-a315-fa230d7e41d9'], dtype=object)"
      ]
     },
     "execution_count": 403,
     "metadata": {},
     "output_type": "execute_result"
    }
   ],
   "source": [
    "failedtransaction['customer_id'].unique()"
   ]
  },
  {
   "cell_type": "markdown",
   "id": "715c5370",
   "metadata": {},
   "source": [
    "if 11 id's caused 1982 failed transactions , something is fishy"
   ]
  },
  {
   "cell_type": "code",
   "execution_count": 404,
   "id": "8be91f9c",
   "metadata": {},
   "outputs": [
    {
     "data": {
      "text/plain": [
       "customer_id\n",
       "2933e91f-39d6-44af-b1e8-933ad172a3c6    324\n",
       "39568cc0-3642-4234-9b88-c339d6953adf    319\n",
       "c9b3c52a-9b77-4d33-b9eb-5a3a34dc5810    297\n",
       "b4139e14-0478-41f0-bcbb-6792f0c6d957    275\n",
       "8498e8be-5899-4ad4-821f-d0df3da83157    220\n",
       "b20fe203-25fc-4ad8-96e9-5c8031093064    200\n",
       "34d3c5e1-7e40-40c9-84c3-7d50edfb7eaf    198\n",
       "be397c29-0766-4bf0-a315-fa230d7e41d9     96\n",
       "66e4bef6-a448-4e9e-b807-14a06728753f     30\n",
       "cd03dc6b-c884-433b-9e01-735e19ade944     16\n",
       "ea2aa16a-a791-47f0-95c5-066d17b5f09d      7\n",
       "Name: count, dtype: int64"
      ]
     },
     "execution_count": 404,
     "metadata": {},
     "output_type": "execute_result"
    }
   ],
   "source": [
    "failedtransaction['customer_id'].value_counts()"
   ]
  },
  {
   "cell_type": "markdown",
   "id": "6e0ce1f8",
   "metadata": {},
   "source": [
    "so we know the id's with the extremely high failed transactions "
   ]
  },
  {
   "cell_type": "code",
   "execution_count": 405,
   "id": "790e0f52",
   "metadata": {},
   "outputs": [],
   "source": [
    "\n",
    "cust_34d3c5e1 = failedtransaction[failedtransaction[\"customer_id\"] == \"34d3c5e1-7e40-40c9-84c3-7d50edfb7eaf\"] "
   ]
  },
  {
   "cell_type": "code",
   "execution_count": 406,
   "id": "877e7650",
   "metadata": {},
   "outputs": [
    {
     "data": {
      "text/html": [
       "<div>\n",
       "<style scoped>\n",
       "    .dataframe tbody tr th:only-of-type {\n",
       "        vertical-align: middle;\n",
       "    }\n",
       "\n",
       "    .dataframe tbody tr th {\n",
       "        vertical-align: top;\n",
       "    }\n",
       "\n",
       "    .dataframe thead th {\n",
       "        text-align: right;\n",
       "    }\n",
       "</style>\n",
       "<table border=\"1\" class=\"dataframe\">\n",
       "  <thead>\n",
       "    <tr style=\"text-align: right;\">\n",
       "      <th></th>\n",
       "      <th>customer_id</th>\n",
       "      <th>device_id</th>\n",
       "      <th>item_id</th>\n",
       "      <th>line_item_id</th>\n",
       "      <th>order_id</th>\n",
       "      <th>event_id</th>\n",
       "      <th>event_timestamp</th>\n",
       "      <th>quantity</th>\n",
       "      <th>currency</th>\n",
       "      <th>checked_out_at</th>\n",
       "      <th>status</th>\n",
       "    </tr>\n",
       "    <tr>\n",
       "      <th>location</th>\n",
       "      <th></th>\n",
       "      <th></th>\n",
       "      <th></th>\n",
       "      <th></th>\n",
       "      <th></th>\n",
       "      <th></th>\n",
       "      <th></th>\n",
       "      <th></th>\n",
       "      <th></th>\n",
       "      <th></th>\n",
       "      <th></th>\n",
       "    </tr>\n",
       "  </thead>\n",
       "  <tbody>\n",
       "    <tr>\n",
       "      <th>Korea</th>\n",
       "      <td>34d3c5e1-7e40-40c9-84c3-7d50edfb7eaf</td>\n",
       "      <td>05ec37c1-5bb4-4033-908b-366e25c02f66</td>\n",
       "      <td>4</td>\n",
       "      <td>4123</td>\n",
       "      <td>15d53794-9b16-429c-9b84-5f2ac3a8c17a</td>\n",
       "      <td>18956</td>\n",
       "      <td>2024-03-30 04:03:10.675805</td>\n",
       "      <td>4</td>\n",
       "      <td>USD</td>\n",
       "      <td>2024-03-30 04:19:10.675876</td>\n",
       "      <td>failed</td>\n",
       "    </tr>\n",
       "    <tr>\n",
       "      <th>Korea</th>\n",
       "      <td>34d3c5e1-7e40-40c9-84c3-7d50edfb7eaf</td>\n",
       "      <td>05ec37c1-5bb4-4033-908b-366e25c02f66</td>\n",
       "      <td>7</td>\n",
       "      <td>4124</td>\n",
       "      <td>15d53794-9b16-429c-9b84-5f2ac3a8c17a</td>\n",
       "      <td>18956</td>\n",
       "      <td>2024-03-30 04:03:10.675805</td>\n",
       "      <td>2</td>\n",
       "      <td>USD</td>\n",
       "      <td>2024-03-30 04:19:10.675876</td>\n",
       "      <td>failed</td>\n",
       "    </tr>\n",
       "    <tr>\n",
       "      <th>Korea</th>\n",
       "      <td>34d3c5e1-7e40-40c9-84c3-7d50edfb7eaf</td>\n",
       "      <td>05ec37c1-5bb4-4033-908b-366e25c02f66</td>\n",
       "      <td>12</td>\n",
       "      <td>4125</td>\n",
       "      <td>15d53794-9b16-429c-9b84-5f2ac3a8c17a</td>\n",
       "      <td>18956</td>\n",
       "      <td>2024-03-30 04:03:10.675805</td>\n",
       "      <td>2</td>\n",
       "      <td>USD</td>\n",
       "      <td>2024-03-30 04:19:10.675876</td>\n",
       "      <td>failed</td>\n",
       "    </tr>\n",
       "    <tr>\n",
       "      <th>Korea</th>\n",
       "      <td>34d3c5e1-7e40-40c9-84c3-7d50edfb7eaf</td>\n",
       "      <td>05ec37c1-5bb4-4033-908b-366e25c02f66</td>\n",
       "      <td>14</td>\n",
       "      <td>4126</td>\n",
       "      <td>15d53794-9b16-429c-9b84-5f2ac3a8c17a</td>\n",
       "      <td>18956</td>\n",
       "      <td>2024-03-30 04:03:10.675805</td>\n",
       "      <td>1</td>\n",
       "      <td>USD</td>\n",
       "      <td>2024-03-30 04:19:10.675876</td>\n",
       "      <td>failed</td>\n",
       "    </tr>\n",
       "    <tr>\n",
       "      <th>Korea</th>\n",
       "      <td>34d3c5e1-7e40-40c9-84c3-7d50edfb7eaf</td>\n",
       "      <td>05ec37c1-5bb4-4033-908b-366e25c02f66</td>\n",
       "      <td>5</td>\n",
       "      <td>4127</td>\n",
       "      <td>15d53794-9b16-429c-9b84-5f2ac3a8c17a</td>\n",
       "      <td>18956</td>\n",
       "      <td>2024-03-30 04:03:10.675805</td>\n",
       "      <td>5</td>\n",
       "      <td>USD</td>\n",
       "      <td>2024-03-30 04:19:10.675876</td>\n",
       "      <td>failed</td>\n",
       "    </tr>\n",
       "  </tbody>\n",
       "</table>\n",
       "</div>"
      ],
      "text/plain": [
       "                                   customer_id  \\\n",
       "location                                         \n",
       "Korea     34d3c5e1-7e40-40c9-84c3-7d50edfb7eaf   \n",
       "Korea     34d3c5e1-7e40-40c9-84c3-7d50edfb7eaf   \n",
       "Korea     34d3c5e1-7e40-40c9-84c3-7d50edfb7eaf   \n",
       "Korea     34d3c5e1-7e40-40c9-84c3-7d50edfb7eaf   \n",
       "Korea     34d3c5e1-7e40-40c9-84c3-7d50edfb7eaf   \n",
       "\n",
       "                                     device_id  item_id  line_item_id  \\\n",
       "location                                                                \n",
       "Korea     05ec37c1-5bb4-4033-908b-366e25c02f66        4          4123   \n",
       "Korea     05ec37c1-5bb4-4033-908b-366e25c02f66        7          4124   \n",
       "Korea     05ec37c1-5bb4-4033-908b-366e25c02f66       12          4125   \n",
       "Korea     05ec37c1-5bb4-4033-908b-366e25c02f66       14          4126   \n",
       "Korea     05ec37c1-5bb4-4033-908b-366e25c02f66        5          4127   \n",
       "\n",
       "                                      order_id  event_id  \\\n",
       "location                                                   \n",
       "Korea     15d53794-9b16-429c-9b84-5f2ac3a8c17a     18956   \n",
       "Korea     15d53794-9b16-429c-9b84-5f2ac3a8c17a     18956   \n",
       "Korea     15d53794-9b16-429c-9b84-5f2ac3a8c17a     18956   \n",
       "Korea     15d53794-9b16-429c-9b84-5f2ac3a8c17a     18956   \n",
       "Korea     15d53794-9b16-429c-9b84-5f2ac3a8c17a     18956   \n",
       "\n",
       "                     event_timestamp  quantity currency  \\\n",
       "location                                                  \n",
       "Korea     2024-03-30 04:03:10.675805         4      USD   \n",
       "Korea     2024-03-30 04:03:10.675805         2      USD   \n",
       "Korea     2024-03-30 04:03:10.675805         2      USD   \n",
       "Korea     2024-03-30 04:03:10.675805         1      USD   \n",
       "Korea     2024-03-30 04:03:10.675805         5      USD   \n",
       "\n",
       "                      checked_out_at  status  \n",
       "location                                      \n",
       "Korea     2024-03-30 04:19:10.675876  failed  \n",
       "Korea     2024-03-30 04:19:10.675876  failed  \n",
       "Korea     2024-03-30 04:19:10.675876  failed  \n",
       "Korea     2024-03-30 04:19:10.675876  failed  \n",
       "Korea     2024-03-30 04:19:10.675876  failed  "
      ]
     },
     "execution_count": 406,
     "metadata": {},
     "output_type": "execute_result"
    }
   ],
   "source": [
    "cust_34d3c5e1.head()"
   ]
  },
  {
   "cell_type": "code",
   "execution_count": 407,
   "id": "3da65ce7",
   "metadata": {},
   "outputs": [
    {
     "data": {
      "text/plain": [
       "(198, 11)"
      ]
     },
     "execution_count": 407,
     "metadata": {},
     "output_type": "execute_result"
    }
   ],
   "source": [
    "cust_34d3c5e1.shape"
   ]
  },
  {
   "cell_type": "code",
   "execution_count": 408,
   "id": "6204d930",
   "metadata": {},
   "outputs": [
    {
     "data": {
      "text/plain": [
       "array(['USD'], dtype=object)"
      ]
     },
     "execution_count": 408,
     "metadata": {},
     "output_type": "execute_result"
    }
   ],
   "source": [
    "cust_34d3c5e1.currency.unique()"
   ]
  },
  {
   "cell_type": "code",
   "execution_count": 409,
   "id": "f3ed49c8",
   "metadata": {},
   "outputs": [
    {
     "data": {
      "text/html": [
       "<div>\n",
       "<style scoped>\n",
       "    .dataframe tbody tr th:only-of-type {\n",
       "        vertical-align: middle;\n",
       "    }\n",
       "\n",
       "    .dataframe tbody tr th {\n",
       "        vertical-align: top;\n",
       "    }\n",
       "\n",
       "    .dataframe thead th {\n",
       "        text-align: right;\n",
       "    }\n",
       "</style>\n",
       "<table border=\"1\" class=\"dataframe\">\n",
       "  <thead>\n",
       "    <tr style=\"text-align: right;\">\n",
       "      <th></th>\n",
       "      <th>customer_id</th>\n",
       "      <th>device_id</th>\n",
       "      <th>item_id</th>\n",
       "      <th>line_item_id</th>\n",
       "      <th>order_id</th>\n",
       "      <th>event_id</th>\n",
       "      <th>event_timestamp</th>\n",
       "      <th>quantity</th>\n",
       "      <th>currency</th>\n",
       "      <th>checked_out_at</th>\n",
       "      <th>status</th>\n",
       "    </tr>\n",
       "    <tr>\n",
       "      <th>location</th>\n",
       "      <th></th>\n",
       "      <th></th>\n",
       "      <th></th>\n",
       "      <th></th>\n",
       "      <th></th>\n",
       "      <th></th>\n",
       "      <th></th>\n",
       "      <th></th>\n",
       "      <th></th>\n",
       "      <th></th>\n",
       "      <th></th>\n",
       "    </tr>\n",
       "  </thead>\n",
       "  <tbody>\n",
       "  </tbody>\n",
       "</table>\n",
       "</div>"
      ],
      "text/plain": [
       "Empty DataFrame\n",
       "Columns: [customer_id, device_id, item_id, line_item_id, order_id, event_id, event_timestamp, quantity, currency, checked_out_at, status]\n",
       "Index: []"
      ]
     },
     "execution_count": 409,
     "metadata": {},
     "output_type": "execute_result"
    }
   ],
   "source": [
    "# This customer uses US Dollars($) for transactions...could payment method have associated to the challenge?\n",
    "# I might still come back to this, to comparw if this customer has any successful transaction...\n",
    "successful_transaction[successful_transaction[\"customer_id\"] == \"34d3c5e1-7e40-40c9-84c3-7d50edfb7eaf\"]"
   ]
  },
  {
   "cell_type": "markdown",
   "id": "539e5783",
   "metadata": {},
   "source": [
    "this person has no successful transactions .wow now its getting serious "
   ]
  },
  {
   "cell_type": "code",
   "execution_count": 410,
   "id": "f02a679e",
   "metadata": {},
   "outputs": [
    {
     "data": {
      "text/plain": [
       "event_timestamp\n",
       "2024-03-30 04:03:10.675869    18\n",
       "2024-03-30 04:03:10.675806     9\n",
       "2024-03-30 04:03:10.675807     9\n",
       "2024-03-30 04:03:10.675808     9\n",
       "2024-03-30 04:03:10.675805     9\n",
       "2024-03-30 04:03:10.675852     9\n",
       "2024-03-30 04:03:10.675855     9\n",
       "2024-03-30 04:03:10.675857     9\n",
       "2024-03-30 04:03:10.675856     9\n",
       "2024-03-30 04:03:10.675860     9\n",
       "2024-03-30 04:03:10.675861     9\n",
       "2024-03-30 04:03:10.675862     9\n",
       "2024-03-30 04:03:10.675858     9\n",
       "2024-03-30 04:03:10.675863     9\n",
       "2024-03-30 04:03:10.675865     9\n",
       "2024-03-30 04:03:10.675866     9\n",
       "2024-03-30 04:03:10.675867     9\n",
       "2024-03-30 04:03:10.675871     9\n",
       "2024-03-30 04:03:10.675872     9\n",
       "2024-03-30 04:03:10.675873     9\n",
       "2024-03-30 04:19:10.675876     9\n",
       "Name: count, dtype: int64"
      ]
     },
     "execution_count": 410,
     "metadata": {},
     "output_type": "execute_result"
    }
   ],
   "source": [
    "cust_34d3c5e1[\"event_timestamp\"].value_counts()"
   ]
  },
  {
   "cell_type": "code",
   "execution_count": 411,
   "id": "d0335872",
   "metadata": {},
   "outputs": [
    {
     "data": {
      "text/plain": [
       "location\n",
       "Korea    5\n",
       "Korea    5\n",
       "Korea    5\n",
       "Korea    5\n",
       "Korea    5\n",
       "        ..\n",
       "Korea    1\n",
       "Korea    1\n",
       "Korea    1\n",
       "Korea    1\n",
       "Korea    1\n",
       "Name: quantity, Length: 198, dtype: int64"
      ]
     },
     "execution_count": 411,
     "metadata": {},
     "output_type": "execute_result"
    }
   ],
   "source": [
    "# What could have happened, all of the above transactions occured within 1 minute, can it be attributed to system error or a kind of fraud?\n",
    "\n",
    "# LEts try and mop up more evidences as to gain understanding of what happened\n",
    "cust_34d3c5e1[\"quantity\"].sort_values(ascending = False)"
   ]
  },
  {
   "cell_type": "code",
   "execution_count": 412,
   "id": "8e0ae73a",
   "metadata": {},
   "outputs": [
    {
     "data": {
      "text/plain": [
       "order_id\n",
       "15d53794-9b16-429c-9b84-5f2ac3a8c17a    198\n",
       "Name: count, dtype: int64"
      ]
     },
     "execution_count": 412,
     "metadata": {},
     "output_type": "execute_result"
    }
   ],
   "source": [
    "cust_34d3c5e1[\"order_id\"].value_counts()"
   ]
  },
  {
   "cell_type": "markdown",
   "id": "77fb66b0",
   "metadata": {},
   "source": [
    "same order id for all 198 transactions "
   ]
  },
  {
   "cell_type": "code",
   "execution_count": 413,
   "id": "741a4a33",
   "metadata": {},
   "outputs": [
    {
     "data": {
      "text/plain": [
       "array([ 4,  7, 12, 14,  5,  6, 13, 10,  2])"
      ]
     },
     "execution_count": 413,
     "metadata": {},
     "output_type": "execute_result"
    }
   ],
   "source": [
    "cust_34d3c5e1[\"item_id\"].unique()"
   ]
  },
  {
   "cell_type": "code",
   "execution_count": 414,
   "id": "9a78f75e",
   "metadata": {},
   "outputs": [
    {
     "data": {
      "text/plain": [
       "item_id\n",
       "4     22\n",
       "7     22\n",
       "12    22\n",
       "14    22\n",
       "5     22\n",
       "6     22\n",
       "13    22\n",
       "10    22\n",
       "2     22\n",
       "Name: count, dtype: int64"
      ]
     },
     "execution_count": 414,
     "metadata": {},
     "output_type": "execute_result"
    }
   ],
   "source": [
    "cust_34d3c5e1[\"item_id\"].value_counts()"
   ]
  },
  {
   "cell_type": "code",
   "execution_count": 415,
   "id": "c2b0a234",
   "metadata": {},
   "outputs": [
    {
     "data": {
      "text/plain": [
       "event_id\n",
       "18956    9\n",
       "18957    9\n",
       "18958    9\n",
       "18959    9\n",
       "18960    9\n",
       "18961    9\n",
       "18962    9\n",
       "18963    9\n",
       "18964    9\n",
       "18965    9\n",
       "18966    9\n",
       "18967    9\n",
       "18968    9\n",
       "18969    9\n",
       "18970    9\n",
       "18971    9\n",
       "18972    9\n",
       "18973    9\n",
       "18974    9\n",
       "18975    9\n",
       "18976    9\n",
       "18977    9\n",
       "Name: count, dtype: int64"
      ]
     },
     "execution_count": 415,
     "metadata": {},
     "output_type": "execute_result"
    }
   ],
   "source": [
    "cust_34d3c5e1[\"event_id\"].value_counts()"
   ]
  },
  {
   "cell_type": "code",
   "execution_count": 416,
   "id": "11278912",
   "metadata": {},
   "outputs": [
    {
     "data": {
      "text/plain": [
       "22"
      ]
     },
     "execution_count": 416,
     "metadata": {},
     "output_type": "execute_result"
    }
   ],
   "source": [
    "cust_34d3c5e1[\"event_id\"].nunique()"
   ]
  },
  {
   "cell_type": "code",
   "execution_count": 417,
   "id": "b43f6a43",
   "metadata": {},
   "outputs": [
    {
     "data": {
      "text/plain": [
       "np.int64(0)"
      ]
     },
     "execution_count": 417,
     "metadata": {},
     "output_type": "execute_result"
    }
   ],
   "source": [
    "cust_34d3c5e1.duplicated().sum() # this customer do not have any duplicate"
   ]
  },
  {
   "cell_type": "markdown",
   "id": "85a98d3c",
   "metadata": {},
   "source": [
    "#### Insights:\n",
    "From my discovery in this dataset... I could say that the transactions from customer \"cust_34d3c5e1\" may not have been carried out by a human because of the consistency of the patterns... the failed transactions may be carried out by a bot or it could be a system error.\n",
    "#### Recommendation:\n",
    "The business and innovation team should look at the case more intensely as I would go on and analyse all other failed transactions to uncover more insights...\n",
    "Further more, a compresensive report would be written to highlight the findings of this analysis."
   ]
  },
  {
   "cell_type": "code",
   "execution_count": 418,
   "id": "fb51f243",
   "metadata": {},
   "outputs": [
    {
     "data": {
      "text/plain": [
       "array(['USD', 'GBP', 'NGN'], dtype=object)"
      ]
     },
     "execution_count": 418,
     "metadata": {},
     "output_type": "execute_result"
    }
   ],
   "source": [
    "#since korea has the most purchase lets dig deeper into them\n",
    "\n",
    "korea.currency.unique()"
   ]
  },
  {
   "cell_type": "code",
   "execution_count": 419,
   "id": "15c43aa4",
   "metadata": {},
   "outputs": [
    {
     "data": {
      "text/plain": [
       "<Axes: xlabel='currency'>"
      ]
     },
     "execution_count": 419,
     "metadata": {},
     "output_type": "execute_result"
    },
    {
     "data": {
      "image/png": "[encoded data removed]",
      "text/plain": [
       "<Figure size 640x480 with 1 Axes>"
      ]
     },
     "metadata": {},
     "output_type": "display_data"
    }
   ],
   "source": [
    "korea.currency.value_counts().plot(kind= 'bar')"
   ]
  },
  {
   "cell_type": "markdown",
   "id": "91fc2a2e",
   "metadata": {},
   "source": [
    "peopple in korea seem to use more us dolars in there purchase than other currencies"
   ]
  },
  {
   "cell_type": "code",
   "execution_count": 420,
   "id": "cdbc917f",
   "metadata": {},
   "outputs": [
    {
     "data": {
      "text/plain": [
       "status\n",
       "cancelled    2571\n",
       "success      2444\n",
       "failed       1982\n",
       "Name: count, dtype: int64"
      ]
     },
     "execution_count": 420,
     "metadata": {},
     "output_type": "execute_result"
    }
   ],
   "source": [
    "korea.status.value_counts()"
   ]
  },
  {
   "cell_type": "code",
   "execution_count": 421,
   "id": "dac5d3b6",
   "metadata": {},
   "outputs": [
    {
     "data": {
      "text/plain": [
       "<Axes: xlabel='status'>"
      ]
     },
     "execution_count": 421,
     "metadata": {},
     "output_type": "execute_result"
    },
    {
     "data": {
      "image/png": "[encoded data removed]",
      "text/plain": [
       "<Figure size 640x480 with 1 Axes>"
      ]
     },
     "metadata": {},
     "output_type": "display_data"
    }
   ],
   "source": [
    "korea.status.value_counts().plot(kind='bar')"
   ]
  },
  {
   "cell_type": "code",
   "execution_count": 422,
   "id": "9e4b5225",
   "metadata": {},
   "outputs": [
    {
     "data": {
      "text/plain": [
       "<bound method Series.unique of location\n",
       "Korea    3b0ae8c1-68c6-40c8-a13a-e2bffb5ffdf9\n",
       "Korea    3b0ae8c1-68c6-40c8-a13a-e2bffb5ffdf9\n",
       "Korea    3b0ae8c1-68c6-40c8-a13a-e2bffb5ffdf9\n",
       "Korea    3b0ae8c1-68c6-40c8-a13a-e2bffb5ffdf9\n",
       "Korea    3b0ae8c1-68c6-40c8-a13a-e2bffb5ffdf9\n",
       "                         ...                 \n",
       "Korea    e9345bdc-3b15-4cab-9526-0d690021db61\n",
       "Korea    e9345bdc-3b15-4cab-9526-0d690021db61\n",
       "Korea    e9345bdc-3b15-4cab-9526-0d690021db61\n",
       "Korea    e9345bdc-3b15-4cab-9526-0d690021db61\n",
       "Korea    e9345bdc-3b15-4cab-9526-0d690021db61\n",
       "Name: customer_id, Length: 6997, dtype: object>"
      ]
     },
     "execution_count": 422,
     "metadata": {},
     "output_type": "execute_result"
    }
   ],
   "source": [
    "korea['customer_id'].unique"
   ]
  },
  {
   "cell_type": "code",
   "execution_count": 423,
   "id": "e55acdc8",
   "metadata": {},
   "outputs": [
    {
     "data": {
      "text/plain": [
       "4594"
      ]
     },
     "execution_count": 423,
     "metadata": {},
     "output_type": "execute_result"
    }
   ],
   "source": [
    "sales['device_id'].nunique()"
   ]
  },
  {
   "cell_type": "code",
   "execution_count": 424,
   "id": "ced73f44",
   "metadata": {},
   "outputs": [
    {
     "data": {
      "text/plain": [
       "item_id\n",
       "11    39715\n",
       "15    39268\n",
       "8     39162\n",
       "10    39084\n",
       "2     38997\n",
       "1     38866\n",
       "4     38842\n",
       "6     38835\n",
       "5     38782\n",
       "12    38440\n",
       "7     38291\n",
       "14    38043\n",
       "13    37515\n",
       "3     37501\n",
       "9     36979\n",
       "Name: count, dtype: int64"
      ]
     },
     "execution_count": 424,
     "metadata": {},
     "output_type": "execute_result"
    }
   ],
   "source": [
    "sales[\"item_id\"].value_counts()"
   ]
  },
  {
   "cell_type": "code",
   "execution_count": 425,
   "id": "a91d0c92",
   "metadata": {},
   "outputs": [
    {
     "data": {
      "text/plain": [
       "15"
      ]
     },
     "execution_count": 425,
     "metadata": {},
     "output_type": "execute_result"
    }
   ],
   "source": [
    "sales.item_id.nunique()"
   ]
  },
  {
   "cell_type": "code",
   "execution_count": 426,
   "id": "01752e32",
   "metadata": {},
   "outputs": [
    {
     "data": {
      "text/plain": [
       "array([ 3201,  3202,  3203, ..., 34939, 34940, 34941], shape=(31741,))"
      ]
     },
     "execution_count": 426,
     "metadata": {},
     "output_type": "execute_result"
    }
   ],
   "source": [
    "sales.line_item_id.unique()"
   ]
  },
  {
   "cell_type": "code",
   "execution_count": 427,
   "id": "912c6581",
   "metadata": {},
   "outputs": [
    {
     "data": {
      "text/plain": [
       "31741"
      ]
     },
     "execution_count": 427,
     "metadata": {},
     "output_type": "execute_result"
    }
   ],
   "source": [
    "sales.line_item_id.nunique()"
   ]
  },
  {
   "cell_type": "code",
   "execution_count": 428,
   "id": "2b00e813",
   "metadata": {},
   "outputs": [],
   "source": [
    "mask4 = (sales['status'].str.contains('failed'))"
   ]
  },
  {
   "cell_type": "code",
   "execution_count": 429,
   "id": "80d64f01",
   "metadata": {},
   "outputs": [
    {
     "data": {
      "text/html": [
       "<div>\n",
       "<style scoped>\n",
       "    .dataframe tbody tr th:only-of-type {\n",
       "        vertical-align: middle;\n",
       "    }\n",
       "\n",
       "    .dataframe tbody tr th {\n",
       "        vertical-align: top;\n",
       "    }\n",
       "\n",
       "    .dataframe thead th {\n",
       "        text-align: right;\n",
       "    }\n",
       "</style>\n",
       "<table border=\"1\" class=\"dataframe\">\n",
       "  <thead>\n",
       "    <tr style=\"text-align: right;\">\n",
       "      <th></th>\n",
       "      <th>customer_id</th>\n",
       "      <th>device_id</th>\n",
       "      <th>item_id</th>\n",
       "      <th>line_item_id</th>\n",
       "      <th>order_id</th>\n",
       "      <th>event_id</th>\n",
       "      <th>event_timestamp</th>\n",
       "      <th>quantity</th>\n",
       "      <th>currency</th>\n",
       "      <th>checked_out_at</th>\n",
       "      <th>status</th>\n",
       "    </tr>\n",
       "    <tr>\n",
       "      <th>location</th>\n",
       "      <th></th>\n",
       "      <th></th>\n",
       "      <th></th>\n",
       "      <th></th>\n",
       "      <th></th>\n",
       "      <th></th>\n",
       "      <th></th>\n",
       "      <th></th>\n",
       "      <th></th>\n",
       "      <th></th>\n",
       "      <th></th>\n",
       "    </tr>\n",
       "  </thead>\n",
       "  <tbody>\n",
       "    <tr>\n",
       "      <th>Djibouti</th>\n",
       "      <td>e7f07fd1-05af-494a-ae5a-78c405b6f9c3</td>\n",
       "      <td>428688d6-31e6-4c73-a5d0-c8e849ccf6a3</td>\n",
       "      <td>9</td>\n",
       "      <td>3207</td>\n",
       "      <td>cddddfea-27ef-437f-817d-8f849d604c3c</td>\n",
       "      <td>14800</td>\n",
       "      <td>2024-03-19 19:06:51.166018</td>\n",
       "      <td>3</td>\n",
       "      <td>NGN</td>\n",
       "      <td>2024-03-30 04:09:10.411149</td>\n",
       "      <td>failed</td>\n",
       "    </tr>\n",
       "    <tr>\n",
       "      <th>Djibouti</th>\n",
       "      <td>e7f07fd1-05af-494a-ae5a-78c405b6f9c3</td>\n",
       "      <td>428688d6-31e6-4c73-a5d0-c8e849ccf6a3</td>\n",
       "      <td>9</td>\n",
       "      <td>3207</td>\n",
       "      <td>cddddfea-27ef-437f-817d-8f849d604c3c</td>\n",
       "      <td>14801</td>\n",
       "      <td>2024-03-30 04:03:10.410889</td>\n",
       "      <td>3</td>\n",
       "      <td>NGN</td>\n",
       "      <td>2024-03-30 04:09:10.411149</td>\n",
       "      <td>failed</td>\n",
       "    </tr>\n",
       "    <tr>\n",
       "      <th>Djibouti</th>\n",
       "      <td>e7f07fd1-05af-494a-ae5a-78c405b6f9c3</td>\n",
       "      <td>428688d6-31e6-4c73-a5d0-c8e849ccf6a3</td>\n",
       "      <td>9</td>\n",
       "      <td>3207</td>\n",
       "      <td>cddddfea-27ef-437f-817d-8f849d604c3c</td>\n",
       "      <td>14802</td>\n",
       "      <td>2024-03-30 04:03:10.411144</td>\n",
       "      <td>3</td>\n",
       "      <td>NGN</td>\n",
       "      <td>2024-03-30 04:09:10.411149</td>\n",
       "      <td>failed</td>\n",
       "    </tr>\n",
       "    <tr>\n",
       "      <th>Djibouti</th>\n",
       "      <td>e7f07fd1-05af-494a-ae5a-78c405b6f9c3</td>\n",
       "      <td>428688d6-31e6-4c73-a5d0-c8e849ccf6a3</td>\n",
       "      <td>9</td>\n",
       "      <td>3207</td>\n",
       "      <td>cddddfea-27ef-437f-817d-8f849d604c3c</td>\n",
       "      <td>14803</td>\n",
       "      <td>2024-03-30 04:09:10.411149</td>\n",
       "      <td>3</td>\n",
       "      <td>NGN</td>\n",
       "      <td>2024-03-30 04:09:10.411149</td>\n",
       "      <td>failed</td>\n",
       "    </tr>\n",
       "    <tr>\n",
       "      <th>Mali</th>\n",
       "      <td>f40fc2b7-0a0f-46e8-8fc5-4edfa5eb832b</td>\n",
       "      <td>76c265ff-c670-433a-887f-4b0d7a991349</td>\n",
       "      <td>4</td>\n",
       "      <td>3215</td>\n",
       "      <td>e332c5bf-f01c-421c-b046-63bf2b6b4273</td>\n",
       "      <td>14886</td>\n",
       "      <td>2024-03-30 04:03:10.424891</td>\n",
       "      <td>3</td>\n",
       "      <td>NGN</td>\n",
       "      <td>2024-03-30 04:06:10.425055</td>\n",
       "      <td>failed</td>\n",
       "    </tr>\n",
       "  </tbody>\n",
       "</table>\n",
       "</div>"
      ],
      "text/plain": [
       "                                   customer_id  \\\n",
       "location                                         \n",
       "Djibouti  e7f07fd1-05af-494a-ae5a-78c405b6f9c3   \n",
       "Djibouti  e7f07fd1-05af-494a-ae5a-78c405b6f9c3   \n",
       "Djibouti  e7f07fd1-05af-494a-ae5a-78c405b6f9c3   \n",
       "Djibouti  e7f07fd1-05af-494a-ae5a-78c405b6f9c3   \n",
       "Mali      f40fc2b7-0a0f-46e8-8fc5-4edfa5eb832b   \n",
       "\n",
       "                                     device_id  item_id  line_item_id  \\\n",
       "location                                                                \n",
       "Djibouti  428688d6-31e6-4c73-a5d0-c8e849ccf6a3        9          3207   \n",
       "Djibouti  428688d6-31e6-4c73-a5d0-c8e849ccf6a3        9          3207   \n",
       "Djibouti  428688d6-31e6-4c73-a5d0-c8e849ccf6a3        9          3207   \n",
       "Djibouti  428688d6-31e6-4c73-a5d0-c8e849ccf6a3        9          3207   \n",
       "Mali      76c265ff-c670-433a-887f-4b0d7a991349        4          3215   \n",
       "\n",
       "                                      order_id  event_id  \\\n",
       "location                                                   \n",
       "Djibouti  cddddfea-27ef-437f-817d-8f849d604c3c     14800   \n",
       "Djibouti  cddddfea-27ef-437f-817d-8f849d604c3c     14801   \n",
       "Djibouti  cddddfea-27ef-437f-817d-8f849d604c3c     14802   \n",
       "Djibouti  cddddfea-27ef-437f-817d-8f849d604c3c     14803   \n",
       "Mali      e332c5bf-f01c-421c-b046-63bf2b6b4273     14886   \n",
       "\n",
       "                     event_timestamp  quantity currency  \\\n",
       "location                                                  \n",
       "Djibouti  2024-03-19 19:06:51.166018         3      NGN   \n",
       "Djibouti  2024-03-30 04:03:10.410889         3      NGN   \n",
       "Djibouti  2024-03-30 04:03:10.411144         3      NGN   \n",
       "Djibouti  2024-03-30 04:09:10.411149         3      NGN   \n",
       "Mali      2024-03-30 04:03:10.424891         3      NGN   \n",
       "\n",
       "                      checked_out_at  status  \n",
       "location                                      \n",
       "Djibouti  2024-03-30 04:09:10.411149  failed  \n",
       "Djibouti  2024-03-30 04:09:10.411149  failed  \n",
       "Djibouti  2024-03-30 04:09:10.411149  failed  \n",
       "Djibouti  2024-03-30 04:09:10.411149  failed  \n",
       "Mali      2024-03-30 04:06:10.425055  failed  "
      ]
     },
     "execution_count": 429,
     "metadata": {},
     "output_type": "execute_result"
    }
   ],
   "source": [
    "sales.loc[mask4].head()"
   ]
  },
  {
   "cell_type": "code",
   "execution_count": 430,
   "id": "11cf6f22",
   "metadata": {},
   "outputs": [
    {
     "data": {
      "text/html": [
       "<div>\n",
       "<style scoped>\n",
       "    .dataframe tbody tr th:only-of-type {\n",
       "        vertical-align: middle;\n",
       "    }\n",
       "\n",
       "    .dataframe tbody tr th {\n",
       "        vertical-align: top;\n",
       "    }\n",
       "\n",
       "    .dataframe thead th {\n",
       "        text-align: right;\n",
       "    }\n",
       "</style>\n",
       "<table border=\"1\" class=\"dataframe\">\n",
       "  <thead>\n",
       "    <tr style=\"text-align: right;\">\n",
       "      <th></th>\n",
       "      <th>customer_id</th>\n",
       "      <th>device_id</th>\n",
       "      <th>item_id</th>\n",
       "      <th>line_item_id</th>\n",
       "      <th>order_id</th>\n",
       "      <th>event_id</th>\n",
       "      <th>event_timestamp</th>\n",
       "      <th>quantity</th>\n",
       "      <th>currency</th>\n",
       "      <th>checked_out_at</th>\n",
       "      <th>status</th>\n",
       "    </tr>\n",
       "    <tr>\n",
       "      <th>location</th>\n",
       "      <th></th>\n",
       "      <th></th>\n",
       "      <th></th>\n",
       "      <th></th>\n",
       "      <th></th>\n",
       "      <th></th>\n",
       "      <th></th>\n",
       "      <th></th>\n",
       "      <th></th>\n",
       "      <th></th>\n",
       "      <th></th>\n",
       "    </tr>\n",
       "  </thead>\n",
       "  <tbody>\n",
       "    <tr>\n",
       "      <th>Saint Helena</th>\n",
       "      <td>cda7bec0-7cbf-4145-baf9-e049bab94504</td>\n",
       "      <td>33b485de-7338-4997-b1d0-b988ba17b245</td>\n",
       "      <td>4</td>\n",
       "      <td>3201</td>\n",
       "      <td>9e950ce3-2e12-479c-a051-493c1a497d49</td>\n",
       "      <td>14786</td>\n",
       "      <td>2024-03-26 22:05:58.863661</td>\n",
       "      <td>2</td>\n",
       "      <td>NGN</td>\n",
       "      <td>2024-03-30 04:19:10.406794</td>\n",
       "      <td>success</td>\n",
       "    </tr>\n",
       "    <tr>\n",
       "      <th>Saint Helena</th>\n",
       "      <td>cda7bec0-7cbf-4145-baf9-e049bab94504</td>\n",
       "      <td>33b485de-7338-4997-b1d0-b988ba17b245</td>\n",
       "      <td>5</td>\n",
       "      <td>3202</td>\n",
       "      <td>9e950ce3-2e12-479c-a051-493c1a497d49</td>\n",
       "      <td>14786</td>\n",
       "      <td>2024-03-26 22:05:58.863661</td>\n",
       "      <td>4</td>\n",
       "      <td>NGN</td>\n",
       "      <td>2024-03-30 04:19:10.406794</td>\n",
       "      <td>success</td>\n",
       "    </tr>\n",
       "    <tr>\n",
       "      <th>Saint Helena</th>\n",
       "      <td>cda7bec0-7cbf-4145-baf9-e049bab94504</td>\n",
       "      <td>33b485de-7338-4997-b1d0-b988ba17b245</td>\n",
       "      <td>9</td>\n",
       "      <td>3203</td>\n",
       "      <td>9e950ce3-2e12-479c-a051-493c1a497d49</td>\n",
       "      <td>14786</td>\n",
       "      <td>2024-03-26 22:05:58.863661</td>\n",
       "      <td>5</td>\n",
       "      <td>NGN</td>\n",
       "      <td>2024-03-30 04:19:10.406794</td>\n",
       "      <td>success</td>\n",
       "    </tr>\n",
       "    <tr>\n",
       "      <th>Saint Helena</th>\n",
       "      <td>cda7bec0-7cbf-4145-baf9-e049bab94504</td>\n",
       "      <td>33b485de-7338-4997-b1d0-b988ba17b245</td>\n",
       "      <td>12</td>\n",
       "      <td>3204</td>\n",
       "      <td>9e950ce3-2e12-479c-a051-493c1a497d49</td>\n",
       "      <td>14786</td>\n",
       "      <td>2024-03-26 22:05:58.863661</td>\n",
       "      <td>1</td>\n",
       "      <td>NGN</td>\n",
       "      <td>2024-03-30 04:19:10.406794</td>\n",
       "      <td>success</td>\n",
       "    </tr>\n",
       "    <tr>\n",
       "      <th>Saint Helena</th>\n",
       "      <td>cda7bec0-7cbf-4145-baf9-e049bab94504</td>\n",
       "      <td>33b485de-7338-4997-b1d0-b988ba17b245</td>\n",
       "      <td>6</td>\n",
       "      <td>3205</td>\n",
       "      <td>9e950ce3-2e12-479c-a051-493c1a497d49</td>\n",
       "      <td>14786</td>\n",
       "      <td>2024-03-26 22:05:58.863661</td>\n",
       "      <td>2</td>\n",
       "      <td>NGN</td>\n",
       "      <td>2024-03-30 04:19:10.406794</td>\n",
       "      <td>success</td>\n",
       "    </tr>\n",
       "    <tr>\n",
       "      <th>Saint Helena</th>\n",
       "      <td>cda7bec0-7cbf-4145-baf9-e049bab94504</td>\n",
       "      <td>33b485de-7338-4997-b1d0-b988ba17b245</td>\n",
       "      <td>11</td>\n",
       "      <td>3206</td>\n",
       "      <td>9e950ce3-2e12-479c-a051-493c1a497d49</td>\n",
       "      <td>14786</td>\n",
       "      <td>2024-03-26 22:05:58.863661</td>\n",
       "      <td>4</td>\n",
       "      <td>NGN</td>\n",
       "      <td>2024-03-30 04:19:10.406794</td>\n",
       "      <td>success</td>\n",
       "    </tr>\n",
       "    <tr>\n",
       "      <th>Saint Helena</th>\n",
       "      <td>cda7bec0-7cbf-4145-baf9-e049bab94504</td>\n",
       "      <td>33b485de-7338-4997-b1d0-b988ba17b245</td>\n",
       "      <td>4</td>\n",
       "      <td>3201</td>\n",
       "      <td>9e950ce3-2e12-479c-a051-493c1a497d49</td>\n",
       "      <td>14787</td>\n",
       "      <td>2024-03-27 07:14:33.987347</td>\n",
       "      <td>2</td>\n",
       "      <td>NGN</td>\n",
       "      <td>2024-03-30 04:19:10.406794</td>\n",
       "      <td>success</td>\n",
       "    </tr>\n",
       "    <tr>\n",
       "      <th>Saint Helena</th>\n",
       "      <td>cda7bec0-7cbf-4145-baf9-e049bab94504</td>\n",
       "      <td>33b485de-7338-4997-b1d0-b988ba17b245</td>\n",
       "      <td>5</td>\n",
       "      <td>3202</td>\n",
       "      <td>9e950ce3-2e12-479c-a051-493c1a497d49</td>\n",
       "      <td>14787</td>\n",
       "      <td>2024-03-27 07:14:33.987347</td>\n",
       "      <td>4</td>\n",
       "      <td>NGN</td>\n",
       "      <td>2024-03-30 04:19:10.406794</td>\n",
       "      <td>success</td>\n",
       "    </tr>\n",
       "    <tr>\n",
       "      <th>Saint Helena</th>\n",
       "      <td>cda7bec0-7cbf-4145-baf9-e049bab94504</td>\n",
       "      <td>33b485de-7338-4997-b1d0-b988ba17b245</td>\n",
       "      <td>9</td>\n",
       "      <td>3203</td>\n",
       "      <td>9e950ce3-2e12-479c-a051-493c1a497d49</td>\n",
       "      <td>14787</td>\n",
       "      <td>2024-03-27 07:14:33.987347</td>\n",
       "      <td>5</td>\n",
       "      <td>NGN</td>\n",
       "      <td>2024-03-30 04:19:10.406794</td>\n",
       "      <td>success</td>\n",
       "    </tr>\n",
       "    <tr>\n",
       "      <th>Saint Helena</th>\n",
       "      <td>cda7bec0-7cbf-4145-baf9-e049bab94504</td>\n",
       "      <td>33b485de-7338-4997-b1d0-b988ba17b245</td>\n",
       "      <td>12</td>\n",
       "      <td>3204</td>\n",
       "      <td>9e950ce3-2e12-479c-a051-493c1a497d49</td>\n",
       "      <td>14787</td>\n",
       "      <td>2024-03-27 07:14:33.987347</td>\n",
       "      <td>1</td>\n",
       "      <td>NGN</td>\n",
       "      <td>2024-03-30 04:19:10.406794</td>\n",
       "      <td>success</td>\n",
       "    </tr>\n",
       "  </tbody>\n",
       "</table>\n",
       "</div>"
      ],
      "text/plain": [
       "                                       customer_id  \\\n",
       "location                                             \n",
       "Saint Helena  cda7bec0-7cbf-4145-baf9-e049bab94504   \n",
       "Saint Helena  cda7bec0-7cbf-4145-baf9-e049bab94504   \n",
       "Saint Helena  cda7bec0-7cbf-4145-baf9-e049bab94504   \n",
       "Saint Helena  cda7bec0-7cbf-4145-baf9-e049bab94504   \n",
       "Saint Helena  cda7bec0-7cbf-4145-baf9-e049bab94504   \n",
       "Saint Helena  cda7bec0-7cbf-4145-baf9-e049bab94504   \n",
       "Saint Helena  cda7bec0-7cbf-4145-baf9-e049bab94504   \n",
       "Saint Helena  cda7bec0-7cbf-4145-baf9-e049bab94504   \n",
       "Saint Helena  cda7bec0-7cbf-4145-baf9-e049bab94504   \n",
       "Saint Helena  cda7bec0-7cbf-4145-baf9-e049bab94504   \n",
       "\n",
       "                                         device_id  item_id  line_item_id  \\\n",
       "location                                                                    \n",
       "Saint Helena  33b485de-7338-4997-b1d0-b988ba17b245        4          3201   \n",
       "Saint Helena  33b485de-7338-4997-b1d0-b988ba17b245        5          3202   \n",
       "Saint Helena  33b485de-7338-4997-b1d0-b988ba17b245        9          3203   \n",
       "Saint Helena  33b485de-7338-4997-b1d0-b988ba17b245       12          3204   \n",
       "Saint Helena  33b485de-7338-4997-b1d0-b988ba17b245        6          3205   \n",
       "Saint Helena  33b485de-7338-4997-b1d0-b988ba17b245       11          3206   \n",
       "Saint Helena  33b485de-7338-4997-b1d0-b988ba17b245        4          3201   \n",
       "Saint Helena  33b485de-7338-4997-b1d0-b988ba17b245        5          3202   \n",
       "Saint Helena  33b485de-7338-4997-b1d0-b988ba17b245        9          3203   \n",
       "Saint Helena  33b485de-7338-4997-b1d0-b988ba17b245       12          3204   \n",
       "\n",
       "                                          order_id  event_id  \\\n",
       "location                                                       \n",
       "Saint Helena  9e950ce3-2e12-479c-a051-493c1a497d49     14786   \n",
       "Saint Helena  9e950ce3-2e12-479c-a051-493c1a497d49     14786   \n",
       "Saint Helena  9e950ce3-2e12-479c-a051-493c1a497d49     14786   \n",
       "Saint Helena  9e950ce3-2e12-479c-a051-493c1a497d49     14786   \n",
       "Saint Helena  9e950ce3-2e12-479c-a051-493c1a497d49     14786   \n",
       "Saint Helena  9e950ce3-2e12-479c-a051-493c1a497d49     14786   \n",
       "Saint Helena  9e950ce3-2e12-479c-a051-493c1a497d49     14787   \n",
       "Saint Helena  9e950ce3-2e12-479c-a051-493c1a497d49     14787   \n",
       "Saint Helena  9e950ce3-2e12-479c-a051-493c1a497d49     14787   \n",
       "Saint Helena  9e950ce3-2e12-479c-a051-493c1a497d49     14787   \n",
       "\n",
       "                         event_timestamp  quantity currency  \\\n",
       "location                                                      \n",
       "Saint Helena  2024-03-26 22:05:58.863661         2      NGN   \n",
       "Saint Helena  2024-03-26 22:05:58.863661         4      NGN   \n",
       "Saint Helena  2024-03-26 22:05:58.863661         5      NGN   \n",
       "Saint Helena  2024-03-26 22:05:58.863661         1      NGN   \n",
       "Saint Helena  2024-03-26 22:05:58.863661         2      NGN   \n",
       "Saint Helena  2024-03-26 22:05:58.863661         4      NGN   \n",
       "Saint Helena  2024-03-27 07:14:33.987347         2      NGN   \n",
       "Saint Helena  2024-03-27 07:14:33.987347         4      NGN   \n",
       "Saint Helena  2024-03-27 07:14:33.987347         5      NGN   \n",
       "Saint Helena  2024-03-27 07:14:33.987347         1      NGN   \n",
       "\n",
       "                          checked_out_at   status  \n",
       "location                                           \n",
       "Saint Helena  2024-03-30 04:19:10.406794  success  \n",
       "Saint Helena  2024-03-30 04:19:10.406794  success  \n",
       "Saint Helena  2024-03-30 04:19:10.406794  success  \n",
       "Saint Helena  2024-03-30 04:19:10.406794  success  \n",
       "Saint Helena  2024-03-30 04:19:10.406794  success  \n",
       "Saint Helena  2024-03-30 04:19:10.406794  success  \n",
       "Saint Helena  2024-03-30 04:19:10.406794  success  \n",
       "Saint Helena  2024-03-30 04:19:10.406794  success  \n",
       "Saint Helena  2024-03-30 04:19:10.406794  success  \n",
       "Saint Helena  2024-03-30 04:19:10.406794  success  "
      ]
     },
     "execution_count": 430,
     "metadata": {},
     "output_type": "execute_result"
    }
   ],
   "source": [
    "# this one filtered out all of the ones with \"failed\" using \"~\"\n",
    "sales.loc[~mask4].head(10)"
   ]
  }
 ],
 "metadata": {
  "kernelspec": {
   "display_name": "numpyvenv",
   "language": "python",
   "name": "python3"
  },
  "language_info": {
   "codemirror_mode": {
    "name": "ipython",
    "version": 3
   },
   "file_extension": ".py",
   "mimetype": "text/x-python",
   "name": "python",
   "nbconvert_exporter": "python",
   "pygments_lexer": "ipython3",
   "version": "3.12.4"
  }
 },
 "nbformat": 4,
 "nbformat_minor": 5
}
