{
 "cells": [
  {
   "cell_type": "code",
   "execution_count": 143,
   "id": "e3e6ed85",
   "metadata": {},
   "outputs": [],
   "source": [
    "import pandas as pd\n",
    "import os \n",
    "import matplotlib.pyplot as plt\n",
    "import seaborn as sns\n",
    "pd.set_option(\"display.max_column\",None)\n",
    "pd.set_option(\"display.width\",1000)"
   ]
  },
  {
   "cell_type": "code",
   "execution_count": 94,
   "id": "d323d052",
   "metadata": {},
   "outputs": [
    {
     "data": {
      "text/html": [
       "<div>\n",
       "<style scoped>\n",
       "    .dataframe tbody tr th:only-of-type {\n",
       "        vertical-align: middle;\n",
       "    }\n",
       "\n",
       "    .dataframe tbody tr th {\n",
       "        vertical-align: top;\n",
       "    }\n",
       "\n",
       "    .dataframe thead th {\n",
       "        text-align: right;\n",
       "    }\n",
       "</style>\n",
       "<table border=\"1\" class=\"dataframe\">\n",
       "  <thead>\n",
       "    <tr style=\"text-align: right;\">\n",
       "      <th></th>\n",
       "      <th>Date</th>\n",
       "      <th>Units</th>\n",
       "      <th>Price</th>\n",
       "    </tr>\n",
       "  </thead>\n",
       "  <tbody>\n",
       "    <tr>\n",
       "      <th>count</th>\n",
       "      <td>43</td>\n",
       "      <td>43.000000</td>\n",
       "      <td>43.000000</td>\n",
       "    </tr>\n",
       "    <tr>\n",
       "      <th>mean</th>\n",
       "      <td>2014-12-29 00:00:00</td>\n",
       "      <td>49.325581</td>\n",
       "      <td>20.308605</td>\n",
       "    </tr>\n",
       "    <tr>\n",
       "      <th>min</th>\n",
       "      <td>2014-01-06 00:00:00</td>\n",
       "      <td>2.000000</td>\n",
       "      <td>1.290000</td>\n",
       "    </tr>\n",
       "    <tr>\n",
       "      <th>25%</th>\n",
       "      <td>2014-07-03 12:00:00</td>\n",
       "      <td>27.500000</td>\n",
       "      <td>3.990000</td>\n",
       "    </tr>\n",
       "    <tr>\n",
       "      <th>50%</th>\n",
       "      <td>2014-12-29 00:00:00</td>\n",
       "      <td>53.000000</td>\n",
       "      <td>4.990000</td>\n",
       "    </tr>\n",
       "    <tr>\n",
       "      <th>75%</th>\n",
       "      <td>2015-06-25 12:00:00</td>\n",
       "      <td>74.500000</td>\n",
       "      <td>17.990000</td>\n",
       "    </tr>\n",
       "    <tr>\n",
       "      <th>max</th>\n",
       "      <td>2015-12-21 00:00:00</td>\n",
       "      <td>96.000000</td>\n",
       "      <td>275.000000</td>\n",
       "    </tr>\n",
       "    <tr>\n",
       "      <th>std</th>\n",
       "      <td>NaN</td>\n",
       "      <td>30.078248</td>\n",
       "      <td>47.345118</td>\n",
       "    </tr>\n",
       "  </tbody>\n",
       "</table>\n",
       "</div>"
      ],
      "text/plain": [
       "                      Date      Units       Price\n",
       "count                   43  43.000000   43.000000\n",
       "mean   2014-12-29 00:00:00  49.325581   20.308605\n",
       "min    2014-01-06 00:00:00   2.000000    1.290000\n",
       "25%    2014-07-03 12:00:00  27.500000    3.990000\n",
       "50%    2014-12-29 00:00:00  53.000000    4.990000\n",
       "75%    2015-06-25 12:00:00  74.500000   17.990000\n",
       "max    2015-12-21 00:00:00  96.000000  275.000000\n",
       "std                    NaN  30.078248   47.345118"
      ]
     },
     "execution_count": 94,
     "metadata": {},
     "output_type": "execute_result"
    }
   ],
   "source": [
    "sales = pd.read_excel(\"eletronic_sales.xlsx\")\n",
    "sales.head(200)\n",
    "sales.describe()"
   ]
  },
  {
   "cell_type": "code",
   "execution_count": 95,
   "id": "dc465ec3",
   "metadata": {},
   "outputs": [
    {
     "name": "stdout",
     "output_type": "stream",
     "text": [
      "<class 'pandas.core.frame.DataFrame'>\n",
      "RangeIndex: 43 entries, 0 to 42\n",
      "Data columns (total 6 columns):\n",
      " #   Column       Non-Null Count  Dtype         \n",
      "---  ------       --------------  -----         \n",
      " 0   Date         43 non-null     datetime64[ns]\n",
      " 1   Branch       43 non-null     object        \n",
      " 2   Sales Agent  43 non-null     object        \n",
      " 3   Products     43 non-null     object        \n",
      " 4   Units        43 non-null     int64         \n",
      " 5   Price        43 non-null     float64       \n",
      "dtypes: datetime64[ns](1), float64(1), int64(1), object(3)\n",
      "memory usage: 2.1+ KB\n"
     ]
    }
   ],
   "source": [
    "sales.info()"
   ]
  },
  {
   "cell_type": "code",
   "execution_count": 96,
   "id": "52321a0c",
   "metadata": {},
   "outputs": [
    {
     "data": {
      "text/html": [
       "<div>\n",
       "<style scoped>\n",
       "    .dataframe tbody tr th:only-of-type {\n",
       "        vertical-align: middle;\n",
       "    }\n",
       "\n",
       "    .dataframe tbody tr th {\n",
       "        vertical-align: top;\n",
       "    }\n",
       "\n",
       "    .dataframe thead th {\n",
       "        text-align: right;\n",
       "    }\n",
       "</style>\n",
       "<table border=\"1\" class=\"dataframe\">\n",
       "  <thead>\n",
       "    <tr style=\"text-align: right;\">\n",
       "      <th></th>\n",
       "      <th>Date</th>\n",
       "      <th>Branch</th>\n",
       "      <th>Sales Agent</th>\n",
       "      <th>Products</th>\n",
       "      <th>Units</th>\n",
       "      <th>Price</th>\n",
       "      <th>Revenue</th>\n",
       "    </tr>\n",
       "  </thead>\n",
       "  <tbody>\n",
       "    <tr>\n",
       "      <th>0</th>\n",
       "      <td>2014-09-01</td>\n",
       "      <td>Woji</td>\n",
       "      <td>Chinedu</td>\n",
       "      <td>Apple</td>\n",
       "      <td>2</td>\n",
       "      <td>125.00</td>\n",
       "      <td>250.00</td>\n",
       "    </tr>\n",
       "    <tr>\n",
       "      <th>1</th>\n",
       "      <td>2015-06-17</td>\n",
       "      <td>Woji</td>\n",
       "      <td>Emeka</td>\n",
       "      <td>Apple</td>\n",
       "      <td>5</td>\n",
       "      <td>125.00</td>\n",
       "      <td>625.00</td>\n",
       "    </tr>\n",
       "    <tr>\n",
       "      <th>2</th>\n",
       "      <td>2015-09-10</td>\n",
       "      <td>Woji</td>\n",
       "      <td>Ibrahim</td>\n",
       "      <td>Lenovo</td>\n",
       "      <td>7</td>\n",
       "      <td>1.29</td>\n",
       "      <td>9.03</td>\n",
       "    </tr>\n",
       "    <tr>\n",
       "      <th>3</th>\n",
       "      <td>2015-11-17</td>\n",
       "      <td>Woji</td>\n",
       "      <td>Tolu</td>\n",
       "      <td>HP</td>\n",
       "      <td>11</td>\n",
       "      <td>4.99</td>\n",
       "      <td>54.89</td>\n",
       "    </tr>\n",
       "    <tr>\n",
       "      <th>4</th>\n",
       "      <td>2015-10-31</td>\n",
       "      <td>Woji</td>\n",
       "      <td>Tonye</td>\n",
       "      <td>Lenovo</td>\n",
       "      <td>14</td>\n",
       "      <td>1.29</td>\n",
       "      <td>18.06</td>\n",
       "    </tr>\n",
       "  </tbody>\n",
       "</table>\n",
       "</div>"
      ],
      "text/plain": [
       "        Date Branch Sales Agent Products  Units   Price  Revenue\n",
       "0 2014-09-01   Woji     Chinedu    Apple      2  125.00   250.00\n",
       "1 2015-06-17   Woji       Emeka    Apple      5  125.00   625.00\n",
       "2 2015-09-10   Woji     Ibrahim   Lenovo      7    1.29     9.03\n",
       "3 2015-11-17   Woji        Tolu       HP     11    4.99    54.89\n",
       "4 2015-10-31   Woji       Tonye   Lenovo     14    1.29    18.06"
      ]
     },
     "execution_count": 96,
     "metadata": {},
     "output_type": "execute_result"
    }
   ],
   "source": [
    "sales[\"Revenue\"]=  sales[\"Units\"] * sales[\"Price\"]\n",
    "sales.head()"
   ]
  },
  {
   "cell_type": "code",
   "execution_count": 97,
   "id": "7bc944cd",
   "metadata": {},
   "outputs": [
    {
     "data": {
      "text/html": [
       "<div>\n",
       "<style scoped>\n",
       "    .dataframe tbody tr th:only-of-type {\n",
       "        vertical-align: middle;\n",
       "    }\n",
       "\n",
       "    .dataframe tbody tr th {\n",
       "        vertical-align: top;\n",
       "    }\n",
       "\n",
       "    .dataframe thead th {\n",
       "        text-align: right;\n",
       "    }\n",
       "</style>\n",
       "<table border=\"1\" class=\"dataframe\">\n",
       "  <thead>\n",
       "    <tr style=\"text-align: right;\">\n",
       "      <th></th>\n",
       "      <th>Date</th>\n",
       "      <th>Branch</th>\n",
       "      <th>Sales Agent</th>\n",
       "      <th>Products</th>\n",
       "      <th>Units</th>\n",
       "      <th>Price</th>\n",
       "      <th>Revenue</th>\n",
       "    </tr>\n",
       "  </thead>\n",
       "  <tbody>\n",
       "    <tr>\n",
       "      <th>29</th>\n",
       "      <td>2014-04-01</td>\n",
       "      <td>GRA</td>\n",
       "      <td>Blessing</td>\n",
       "      <td>HP</td>\n",
       "      <td>60</td>\n",
       "      <td>4.99</td>\n",
       "      <td>299.40</td>\n",
       "    </tr>\n",
       "    <tr>\n",
       "      <th>24</th>\n",
       "      <td>2015-02-18</td>\n",
       "      <td>GRA</td>\n",
       "      <td>Blessing</td>\n",
       "      <td>HP</td>\n",
       "      <td>4</td>\n",
       "      <td>4.99</td>\n",
       "      <td>19.96</td>\n",
       "    </tr>\n",
       "    <tr>\n",
       "      <th>35</th>\n",
       "      <td>2014-01-06</td>\n",
       "      <td>GRA</td>\n",
       "      <td>Blessing</td>\n",
       "      <td>Lenovo</td>\n",
       "      <td>95</td>\n",
       "      <td>1.99</td>\n",
       "      <td>189.05</td>\n",
       "    </tr>\n",
       "    <tr>\n",
       "      <th>26</th>\n",
       "      <td>2014-09-18</td>\n",
       "      <td>GRA</td>\n",
       "      <td>Blessing</td>\n",
       "      <td>Dell</td>\n",
       "      <td>16</td>\n",
       "      <td>15.99</td>\n",
       "      <td>255.84</td>\n",
       "    </tr>\n",
       "    <tr>\n",
       "      <th>28</th>\n",
       "      <td>2014-08-15</td>\n",
       "      <td>GRA</td>\n",
       "      <td>Blessing</td>\n",
       "      <td>Lenovo</td>\n",
       "      <td>35</td>\n",
       "      <td>4.99</td>\n",
       "      <td>174.65</td>\n",
       "    </tr>\n",
       "    <tr>\n",
       "      <th>32</th>\n",
       "      <td>2014-10-22</td>\n",
       "      <td>GRA</td>\n",
       "      <td>Blessing</td>\n",
       "      <td>Compaq</td>\n",
       "      <td>64</td>\n",
       "      <td>8.99</td>\n",
       "      <td>575.36</td>\n",
       "    </tr>\n",
       "    <tr>\n",
       "      <th>31</th>\n",
       "      <td>2015-07-04</td>\n",
       "      <td>GRA</td>\n",
       "      <td>Blessing</td>\n",
       "      <td>Dell</td>\n",
       "      <td>62</td>\n",
       "      <td>4.99</td>\n",
       "      <td>309.38</td>\n",
       "    </tr>\n",
       "    <tr>\n",
       "      <th>30</th>\n",
       "      <td>2014-06-08</td>\n",
       "      <td>GRA</td>\n",
       "      <td>Blessing</td>\n",
       "      <td>HP</td>\n",
       "      <td>60</td>\n",
       "      <td>8.99</td>\n",
       "      <td>539.40</td>\n",
       "    </tr>\n",
       "    <tr>\n",
       "      <th>0</th>\n",
       "      <td>2014-09-01</td>\n",
       "      <td>Woji</td>\n",
       "      <td>Chinedu</td>\n",
       "      <td>Apple</td>\n",
       "      <td>2</td>\n",
       "      <td>125.00</td>\n",
       "      <td>250.00</td>\n",
       "    </tr>\n",
       "    <tr>\n",
       "      <th>16</th>\n",
       "      <td>2014-12-12</td>\n",
       "      <td>Woji</td>\n",
       "      <td>Chinedu</td>\n",
       "      <td>Lenovo</td>\n",
       "      <td>67</td>\n",
       "      <td>1.29</td>\n",
       "      <td>86.43</td>\n",
       "    </tr>\n",
       "    <tr>\n",
       "      <th>19</th>\n",
       "      <td>2015-02-01</td>\n",
       "      <td>Woji</td>\n",
       "      <td>Chinedu</td>\n",
       "      <td>HP</td>\n",
       "      <td>87</td>\n",
       "      <td>15.00</td>\n",
       "      <td>1305.00</td>\n",
       "    </tr>\n",
       "    <tr>\n",
       "      <th>33</th>\n",
       "      <td>2014-12-29</td>\n",
       "      <td>GRA</td>\n",
       "      <td>Chioma</td>\n",
       "      <td>Dell</td>\n",
       "      <td>74</td>\n",
       "      <td>15.99</td>\n",
       "      <td>1183.26</td>\n",
       "    </tr>\n",
       "    <tr>\n",
       "      <th>34</th>\n",
       "      <td>2014-07-29</td>\n",
       "      <td>GRA</td>\n",
       "      <td>Chioma</td>\n",
       "      <td>HP</td>\n",
       "      <td>81</td>\n",
       "      <td>19.99</td>\n",
       "      <td>1619.19</td>\n",
       "    </tr>\n",
       "    <tr>\n",
       "      <th>25</th>\n",
       "      <td>2014-11-08</td>\n",
       "      <td>GRA</td>\n",
       "      <td>Chioma</td>\n",
       "      <td>Compaq</td>\n",
       "      <td>15</td>\n",
       "      <td>19.99</td>\n",
       "      <td>299.85</td>\n",
       "    </tr>\n",
       "    <tr>\n",
       "      <th>9</th>\n",
       "      <td>2015-08-07</td>\n",
       "      <td>Woji</td>\n",
       "      <td>Emeka</td>\n",
       "      <td>Dell</td>\n",
       "      <td>42</td>\n",
       "      <td>23.95</td>\n",
       "      <td>1005.90</td>\n",
       "    </tr>\n",
       "    <tr>\n",
       "      <th>11</th>\n",
       "      <td>2014-01-23</td>\n",
       "      <td>Woji</td>\n",
       "      <td>Emeka</td>\n",
       "      <td>HP</td>\n",
       "      <td>50</td>\n",
       "      <td>19.99</td>\n",
       "      <td>999.50</td>\n",
       "    </tr>\n",
       "    <tr>\n",
       "      <th>1</th>\n",
       "      <td>2015-06-17</td>\n",
       "      <td>Woji</td>\n",
       "      <td>Emeka</td>\n",
       "      <td>Apple</td>\n",
       "      <td>5</td>\n",
       "      <td>125.00</td>\n",
       "      <td>625.00</td>\n",
       "    </tr>\n",
       "    <tr>\n",
       "      <th>23</th>\n",
       "      <td>2014-11-25</td>\n",
       "      <td>Woji</td>\n",
       "      <td>Emeka</td>\n",
       "      <td>Dell</td>\n",
       "      <td>96</td>\n",
       "      <td>4.99</td>\n",
       "      <td>479.04</td>\n",
       "    </tr>\n",
       "    <tr>\n",
       "      <th>21</th>\n",
       "      <td>2014-06-25</td>\n",
       "      <td>Woji</td>\n",
       "      <td>George</td>\n",
       "      <td>Lenovo</td>\n",
       "      <td>90</td>\n",
       "      <td>4.99</td>\n",
       "      <td>449.10</td>\n",
       "    </tr>\n",
       "    <tr>\n",
       "      <th>14</th>\n",
       "      <td>2015-07-21</td>\n",
       "      <td>Woji</td>\n",
       "      <td>George</td>\n",
       "      <td>Dell</td>\n",
       "      <td>55</td>\n",
       "      <td>12.49</td>\n",
       "      <td>686.95</td>\n",
       "    </tr>\n",
       "    <tr>\n",
       "      <th>6</th>\n",
       "      <td>2014-10-05</td>\n",
       "      <td>Woji</td>\n",
       "      <td>George</td>\n",
       "      <td>HP</td>\n",
       "      <td>28</td>\n",
       "      <td>8.99</td>\n",
       "      <td>251.72</td>\n",
       "    </tr>\n",
       "    <tr>\n",
       "      <th>2</th>\n",
       "      <td>2015-09-10</td>\n",
       "      <td>Woji</td>\n",
       "      <td>Ibrahim</td>\n",
       "      <td>Lenovo</td>\n",
       "      <td>7</td>\n",
       "      <td>1.29</td>\n",
       "      <td>9.03</td>\n",
       "    </tr>\n",
       "    <tr>\n",
       "      <th>13</th>\n",
       "      <td>2015-05-14</td>\n",
       "      <td>Woji</td>\n",
       "      <td>Ibrahim</td>\n",
       "      <td>Lenovo</td>\n",
       "      <td>53</td>\n",
       "      <td>1.29</td>\n",
       "      <td>68.37</td>\n",
       "    </tr>\n",
       "    <tr>\n",
       "      <th>10</th>\n",
       "      <td>2015-01-15</td>\n",
       "      <td>Woji</td>\n",
       "      <td>Ibrahim</td>\n",
       "      <td>HP</td>\n",
       "      <td>46</td>\n",
       "      <td>8.99</td>\n",
       "      <td>413.54</td>\n",
       "    </tr>\n",
       "    <tr>\n",
       "      <th>18</th>\n",
       "      <td>2015-05-31</td>\n",
       "      <td>Woji</td>\n",
       "      <td>Ibrahim</td>\n",
       "      <td>HP</td>\n",
       "      <td>80</td>\n",
       "      <td>8.99</td>\n",
       "      <td>719.20</td>\n",
       "    </tr>\n",
       "    <tr>\n",
       "      <th>5</th>\n",
       "      <td>2014-02-26</td>\n",
       "      <td>Woji</td>\n",
       "      <td>Ibrahim</td>\n",
       "      <td>Compaq</td>\n",
       "      <td>27</td>\n",
       "      <td>19.99</td>\n",
       "      <td>539.73</td>\n",
       "    </tr>\n",
       "    <tr>\n",
       "      <th>20</th>\n",
       "      <td>2014-05-05</td>\n",
       "      <td>Woji</td>\n",
       "      <td>Tolu</td>\n",
       "      <td>Lenovo</td>\n",
       "      <td>90</td>\n",
       "      <td>4.99</td>\n",
       "      <td>449.10</td>\n",
       "    </tr>\n",
       "    <tr>\n",
       "      <th>22</th>\n",
       "      <td>2015-12-04</td>\n",
       "      <td>Woji</td>\n",
       "      <td>Tolu</td>\n",
       "      <td>HP</td>\n",
       "      <td>94</td>\n",
       "      <td>19.99</td>\n",
       "      <td>1879.06</td>\n",
       "    </tr>\n",
       "    <tr>\n",
       "      <th>3</th>\n",
       "      <td>2015-11-17</td>\n",
       "      <td>Woji</td>\n",
       "      <td>Tolu</td>\n",
       "      <td>HP</td>\n",
       "      <td>11</td>\n",
       "      <td>4.99</td>\n",
       "      <td>54.89</td>\n",
       "    </tr>\n",
       "    <tr>\n",
       "      <th>12</th>\n",
       "      <td>2015-03-24</td>\n",
       "      <td>Woji</td>\n",
       "      <td>Tolu</td>\n",
       "      <td>Dell</td>\n",
       "      <td>50</td>\n",
       "      <td>4.99</td>\n",
       "      <td>249.50</td>\n",
       "    </tr>\n",
       "    <tr>\n",
       "      <th>8</th>\n",
       "      <td>2014-02-09</td>\n",
       "      <td>Woji</td>\n",
       "      <td>Tolu</td>\n",
       "      <td>Lenovo</td>\n",
       "      <td>36</td>\n",
       "      <td>4.99</td>\n",
       "      <td>179.64</td>\n",
       "    </tr>\n",
       "    <tr>\n",
       "      <th>17</th>\n",
       "      <td>2014-04-18</td>\n",
       "      <td>Woji</td>\n",
       "      <td>Tonye</td>\n",
       "      <td>Lenovo</td>\n",
       "      <td>75</td>\n",
       "      <td>1.99</td>\n",
       "      <td>149.25</td>\n",
       "    </tr>\n",
       "    <tr>\n",
       "      <th>4</th>\n",
       "      <td>2015-10-31</td>\n",
       "      <td>Woji</td>\n",
       "      <td>Tonye</td>\n",
       "      <td>Lenovo</td>\n",
       "      <td>14</td>\n",
       "      <td>1.29</td>\n",
       "      <td>18.06</td>\n",
       "    </tr>\n",
       "    <tr>\n",
       "      <th>7</th>\n",
       "      <td>2015-12-21</td>\n",
       "      <td>Woji</td>\n",
       "      <td>Tonye</td>\n",
       "      <td>HP</td>\n",
       "      <td>28</td>\n",
       "      <td>4.99</td>\n",
       "      <td>139.72</td>\n",
       "    </tr>\n",
       "    <tr>\n",
       "      <th>15</th>\n",
       "      <td>2015-04-10</td>\n",
       "      <td>Woji</td>\n",
       "      <td>Tonye</td>\n",
       "      <td>Lenovo</td>\n",
       "      <td>66</td>\n",
       "      <td>1.99</td>\n",
       "      <td>131.34</td>\n",
       "    </tr>\n",
       "    <tr>\n",
       "      <th>36</th>\n",
       "      <td>2015-04-27</td>\n",
       "      <td>GRA</td>\n",
       "      <td>Torbari</td>\n",
       "      <td>Compaq</td>\n",
       "      <td>96</td>\n",
       "      <td>4.99</td>\n",
       "      <td>479.04</td>\n",
       "    </tr>\n",
       "    <tr>\n",
       "      <th>27</th>\n",
       "      <td>2014-07-12</td>\n",
       "      <td>GRA</td>\n",
       "      <td>Torbari</td>\n",
       "      <td>HP</td>\n",
       "      <td>29</td>\n",
       "      <td>1.99</td>\n",
       "      <td>57.71</td>\n",
       "    </tr>\n",
       "    <tr>\n",
       "      <th>41</th>\n",
       "      <td>2015-10-14</td>\n",
       "      <td>Town</td>\n",
       "      <td>Tunde</td>\n",
       "      <td>HP</td>\n",
       "      <td>57</td>\n",
       "      <td>19.99</td>\n",
       "      <td>1139.43</td>\n",
       "    </tr>\n",
       "    <tr>\n",
       "      <th>39</th>\n",
       "      <td>2014-05-22</td>\n",
       "      <td>Town</td>\n",
       "      <td>Tunde</td>\n",
       "      <td>Lenovo</td>\n",
       "      <td>32</td>\n",
       "      <td>1.99</td>\n",
       "      <td>63.68</td>\n",
       "    </tr>\n",
       "    <tr>\n",
       "      <th>37</th>\n",
       "      <td>2015-08-24</td>\n",
       "      <td>Town</td>\n",
       "      <td>Uche</td>\n",
       "      <td>Apple</td>\n",
       "      <td>3</td>\n",
       "      <td>275.00</td>\n",
       "      <td>825.00</td>\n",
       "    </tr>\n",
       "    <tr>\n",
       "      <th>38</th>\n",
       "      <td>2015-03-07</td>\n",
       "      <td>Town</td>\n",
       "      <td>Uche</td>\n",
       "      <td>HP</td>\n",
       "      <td>7</td>\n",
       "      <td>19.99</td>\n",
       "      <td>139.93</td>\n",
       "    </tr>\n",
       "    <tr>\n",
       "      <th>40</th>\n",
       "      <td>2014-03-15</td>\n",
       "      <td>Town</td>\n",
       "      <td>Uche</td>\n",
       "      <td>Lenovo</td>\n",
       "      <td>56</td>\n",
       "      <td>2.99</td>\n",
       "      <td>167.44</td>\n",
       "    </tr>\n",
       "    <tr>\n",
       "      <th>42</th>\n",
       "      <td>2015-09-27</td>\n",
       "      <td>Town</td>\n",
       "      <td>Uche</td>\n",
       "      <td>Compaq</td>\n",
       "      <td>76</td>\n",
       "      <td>1.99</td>\n",
       "      <td>151.24</td>\n",
       "    </tr>\n",
       "  </tbody>\n",
       "</table>\n",
       "</div>"
      ],
      "text/plain": [
       "         Date Branch Sales Agent Products  Units   Price  Revenue\n",
       "29 2014-04-01    GRA    Blessing       HP     60    4.99   299.40\n",
       "24 2015-02-18    GRA    Blessing       HP      4    4.99    19.96\n",
       "35 2014-01-06    GRA    Blessing   Lenovo     95    1.99   189.05\n",
       "26 2014-09-18    GRA    Blessing     Dell     16   15.99   255.84\n",
       "28 2014-08-15    GRA    Blessing   Lenovo     35    4.99   174.65\n",
       "32 2014-10-22    GRA    Blessing   Compaq     64    8.99   575.36\n",
       "31 2015-07-04    GRA    Blessing     Dell     62    4.99   309.38\n",
       "30 2014-06-08    GRA    Blessing       HP     60    8.99   539.40\n",
       "0  2014-09-01   Woji     Chinedu    Apple      2  125.00   250.00\n",
       "16 2014-12-12   Woji     Chinedu   Lenovo     67    1.29    86.43\n",
       "19 2015-02-01   Woji     Chinedu       HP     87   15.00  1305.00\n",
       "33 2014-12-29    GRA      Chioma     Dell     74   15.99  1183.26\n",
       "34 2014-07-29    GRA      Chioma       HP     81   19.99  1619.19\n",
       "25 2014-11-08    GRA      Chioma   Compaq     15   19.99   299.85\n",
       "9  2015-08-07   Woji       Emeka     Dell     42   23.95  1005.90\n",
       "11 2014-01-23   Woji       Emeka       HP     50   19.99   999.50\n",
       "1  2015-06-17   Woji       Emeka    Apple      5  125.00   625.00\n",
       "23 2014-11-25   Woji       Emeka     Dell     96    4.99   479.04\n",
       "21 2014-06-25   Woji      George   Lenovo     90    4.99   449.10\n",
       "14 2015-07-21   Woji      George     Dell     55   12.49   686.95\n",
       "6  2014-10-05   Woji      George       HP     28    8.99   251.72\n",
       "2  2015-09-10   Woji     Ibrahim   Lenovo      7    1.29     9.03\n",
       "13 2015-05-14   Woji     Ibrahim   Lenovo     53    1.29    68.37\n",
       "10 2015-01-15   Woji     Ibrahim       HP     46    8.99   413.54\n",
       "18 2015-05-31   Woji     Ibrahim       HP     80    8.99   719.20\n",
       "5  2014-02-26   Woji     Ibrahim   Compaq     27   19.99   539.73\n",
       "20 2014-05-05   Woji        Tolu   Lenovo     90    4.99   449.10\n",
       "22 2015-12-04   Woji        Tolu       HP     94   19.99  1879.06\n",
       "3  2015-11-17   Woji        Tolu       HP     11    4.99    54.89\n",
       "12 2015-03-24   Woji        Tolu     Dell     50    4.99   249.50\n",
       "8  2014-02-09   Woji        Tolu   Lenovo     36    4.99   179.64\n",
       "17 2014-04-18   Woji       Tonye   Lenovo     75    1.99   149.25\n",
       "4  2015-10-31   Woji       Tonye   Lenovo     14    1.29    18.06\n",
       "7  2015-12-21   Woji       Tonye       HP     28    4.99   139.72\n",
       "15 2015-04-10   Woji       Tonye   Lenovo     66    1.99   131.34\n",
       "36 2015-04-27    GRA     Torbari   Compaq     96    4.99   479.04\n",
       "27 2014-07-12    GRA     Torbari       HP     29    1.99    57.71\n",
       "41 2015-10-14   Town       Tunde       HP     57   19.99  1139.43\n",
       "39 2014-05-22   Town       Tunde   Lenovo     32    1.99    63.68\n",
       "37 2015-08-24   Town        Uche    Apple      3  275.00   825.00\n",
       "38 2015-03-07   Town        Uche       HP      7   19.99   139.93\n",
       "40 2014-03-15   Town        Uche   Lenovo     56    2.99   167.44\n",
       "42 2015-09-27   Town        Uche   Compaq     76    1.99   151.24"
      ]
     },
     "execution_count": 97,
     "metadata": {},
     "output_type": "execute_result"
    }
   ],
   "source": [
    "sales.sort_values(by=\"Sales Agent\")"
   ]
  },
  {
   "cell_type": "code",
   "execution_count": 98,
   "id": "fc221913",
   "metadata": {},
   "outputs": [
    {
     "data": {
      "text/plain": [
       "array(['Chinedu', 'Emeka', 'Ibrahim', 'Tolu', 'Tonye', 'George',\n",
       "       'Blessing', 'Chioma', 'Torbari', 'Uche', 'Tunde'], dtype=object)"
      ]
     },
     "execution_count": 98,
     "metadata": {},
     "output_type": "execute_result"
    }
   ],
   "source": [
    "sales[\"Sales Agent\"].unique()"
   ]
  },
  {
   "cell_type": "code",
   "execution_count": 99,
   "id": "1f67bcf3",
   "metadata": {},
   "outputs": [
    {
     "data": {
      "text/plain": [
       "11"
      ]
     },
     "execution_count": 99,
     "metadata": {},
     "output_type": "execute_result"
    }
   ],
   "source": [
    "sales[\"Sales Agent\"].nunique()"
   ]
  },
  {
   "cell_type": "code",
   "execution_count": 100,
   "id": "11550853",
   "metadata": {},
   "outputs": [
    {
     "data": {
      "text/plain": [
       "Branch\n",
       "GRA     13\n",
       "Town     6\n",
       "Woji    24\n",
       "Name: Sales Agent, dtype: int64"
      ]
     },
     "execution_count": 100,
     "metadata": {},
     "output_type": "execute_result"
    }
   ],
   "source": [
    "sales.groupby(\"Branch\")[\"Sales Agent\"].count()"
   ]
  },
  {
   "cell_type": "code",
   "execution_count": 101,
   "id": "6e8da593",
   "metadata": {},
   "outputs": [
    {
     "data": {
      "text/plain": [
       "Branch\n",
       "Woji    11139.07\n",
       "GRA      6002.09\n",
       "Town     2486.72\n",
       "Name: Revenue, dtype: float64"
      ]
     },
     "execution_count": 101,
     "metadata": {},
     "output_type": "execute_result"
    }
   ],
   "source": [
    "Total_revenue_by_branch=sales.groupby(\"Branch\")[\"Revenue\"].sum().sort_values(ascending=False)\n",
    "Total_revenue_by_branch"
   ]
  },
  {
   "cell_type": "code",
   "execution_count": 102,
   "id": "1ec94022",
   "metadata": {},
   "outputs": [
    {
     "data": {
      "image/png": "[encoded data removed]",
      "text/plain": [
       "<Figure size 640x480 with 1 Axes>"
      ]
     },
     "metadata": {},
     "output_type": "display_data"
    }
   ],
   "source": [
    "plt.pie(Total_revenue_by_branch.values, labels=Total_revenue_by_branch.index, autopct='%1.1f%%')\n",
    "plt.xlabel(\"Branch\")\n",
    "plt.ylabel(\"Revenue(N)\")\n",
    "plt.title(\"Total Revenue by Branch\")\n",
    "plt.show()"
   ]
  },
  {
   "cell_type": "code",
   "execution_count": 103,
   "id": "e7889a94",
   "metadata": {},
   "outputs": [
    {
     "data": {
      "text/html": [
       "<div>\n",
       "<style scoped>\n",
       "    .dataframe tbody tr th:only-of-type {\n",
       "        vertical-align: middle;\n",
       "    }\n",
       "\n",
       "    .dataframe tbody tr th {\n",
       "        vertical-align: top;\n",
       "    }\n",
       "\n",
       "    .dataframe thead th {\n",
       "        text-align: right;\n",
       "    }\n",
       "</style>\n",
       "<table border=\"1\" class=\"dataframe\">\n",
       "  <thead>\n",
       "    <tr style=\"text-align: right;\">\n",
       "      <th></th>\n",
       "      <th>Revenue</th>\n",
       "    </tr>\n",
       "    <tr>\n",
       "      <th>Branch</th>\n",
       "      <th></th>\n",
       "    </tr>\n",
       "  </thead>\n",
       "  <tbody>\n",
       "    <tr>\n",
       "      <th>GRA</th>\n",
       "      <td>1619.19</td>\n",
       "    </tr>\n",
       "    <tr>\n",
       "      <th>Town</th>\n",
       "      <td>1139.43</td>\n",
       "    </tr>\n",
       "    <tr>\n",
       "      <th>Woji</th>\n",
       "      <td>1879.06</td>\n",
       "    </tr>\n",
       "  </tbody>\n",
       "</table>\n",
       "</div>"
      ],
      "text/plain": [
       "        Revenue\n",
       "Branch         \n",
       "GRA     1619.19\n",
       "Town    1139.43\n",
       "Woji    1879.06"
      ]
     },
     "execution_count": 103,
     "metadata": {},
     "output_type": "execute_result"
    }
   ],
   "source": [
    "sales.groupby(\"Branch\").agg({'Revenue':'max'})"
   ]
  },
  {
   "cell_type": "code",
   "execution_count": 104,
   "id": "a75b41ae",
   "metadata": {},
   "outputs": [
    {
     "data": {
      "text/html": [
       "<div>\n",
       "<style scoped>\n",
       "    .dataframe tbody tr th:only-of-type {\n",
       "        vertical-align: middle;\n",
       "    }\n",
       "\n",
       "    .dataframe tbody tr th {\n",
       "        vertical-align: top;\n",
       "    }\n",
       "\n",
       "    .dataframe thead th {\n",
       "        text-align: right;\n",
       "    }\n",
       "</style>\n",
       "<table border=\"1\" class=\"dataframe\">\n",
       "  <thead>\n",
       "    <tr style=\"text-align: right;\">\n",
       "      <th></th>\n",
       "      <th>Revenue</th>\n",
       "    </tr>\n",
       "    <tr>\n",
       "      <th>Sales Agent</th>\n",
       "      <th></th>\n",
       "    </tr>\n",
       "  </thead>\n",
       "  <tbody>\n",
       "    <tr>\n",
       "      <th>Blessing</th>\n",
       "      <td>2363.04</td>\n",
       "    </tr>\n",
       "    <tr>\n",
       "      <th>Chinedu</th>\n",
       "      <td>1641.43</td>\n",
       "    </tr>\n",
       "    <tr>\n",
       "      <th>Chioma</th>\n",
       "      <td>3102.30</td>\n",
       "    </tr>\n",
       "    <tr>\n",
       "      <th>Emeka</th>\n",
       "      <td>3109.44</td>\n",
       "    </tr>\n",
       "    <tr>\n",
       "      <th>George</th>\n",
       "      <td>1387.77</td>\n",
       "    </tr>\n",
       "    <tr>\n",
       "      <th>Ibrahim</th>\n",
       "      <td>1749.87</td>\n",
       "    </tr>\n",
       "    <tr>\n",
       "      <th>Tolu</th>\n",
       "      <td>2812.19</td>\n",
       "    </tr>\n",
       "    <tr>\n",
       "      <th>Tonye</th>\n",
       "      <td>438.37</td>\n",
       "    </tr>\n",
       "    <tr>\n",
       "      <th>Torbari</th>\n",
       "      <td>536.75</td>\n",
       "    </tr>\n",
       "    <tr>\n",
       "      <th>Tunde</th>\n",
       "      <td>1203.11</td>\n",
       "    </tr>\n",
       "    <tr>\n",
       "      <th>Uche</th>\n",
       "      <td>1283.61</td>\n",
       "    </tr>\n",
       "  </tbody>\n",
       "</table>\n",
       "</div>"
      ],
      "text/plain": [
       "             Revenue\n",
       "Sales Agent         \n",
       "Blessing     2363.04\n",
       "Chinedu      1641.43\n",
       "Chioma       3102.30\n",
       "Emeka        3109.44\n",
       "George       1387.77\n",
       "Ibrahim      1749.87\n",
       "Tolu         2812.19\n",
       "Tonye         438.37\n",
       "Torbari       536.75\n",
       "Tunde        1203.11\n",
       "Uche         1283.61"
      ]
     },
     "execution_count": 104,
     "metadata": {},
     "output_type": "execute_result"
    }
   ],
   "source": [
    "sales.groupby(\"Sales Agent\").agg({'Revenue':'sum'})"
   ]
  },
  {
   "cell_type": "code",
   "execution_count": 105,
   "id": "90166d48",
   "metadata": {},
   "outputs": [],
   "source": [
    "x=sales.groupby(\"Sales Agent\").agg({'Revenue':'mean'})"
   ]
  },
  {
   "cell_type": "code",
   "execution_count": 106,
   "id": "5b18b52a",
   "metadata": {},
   "outputs": [
    {
     "data": {
      "text/plain": [
       "np.float64(49.325581395348834)"
      ]
     },
     "execution_count": 106,
     "metadata": {},
     "output_type": "execute_result"
    }
   ],
   "source": [
    "sales[\"Units\"].mean()"
   ]
  },
  {
   "cell_type": "code",
   "execution_count": 107,
   "id": "4f4b0d04",
   "metadata": {},
   "outputs": [
    {
     "data": {
      "text/plain": [
       "np.float64(456.4623255813953)"
      ]
     },
     "execution_count": 107,
     "metadata": {},
     "output_type": "execute_result"
    }
   ],
   "source": [
    "sales[\"Revenue\"].mean()"
   ]
  },
  {
   "cell_type": "code",
   "execution_count": 108,
   "id": "c92b587d",
   "metadata": {},
   "outputs": [
    {
     "data": {
      "text/plain": [
       "np.float64(1879.06)"
      ]
     },
     "execution_count": 108,
     "metadata": {},
     "output_type": "execute_result"
    }
   ],
   "source": [
    "sales[\"Revenue\"].max()"
   ]
  },
  {
   "cell_type": "code",
   "execution_count": 109,
   "id": "e6e09fc8",
   "metadata": {},
   "outputs": [
    {
     "data": {
      "text/plain": [
       "np.float64(9.030000000000001)"
      ]
     },
     "execution_count": 109,
     "metadata": {},
     "output_type": "execute_result"
    }
   ],
   "source": [
    "sales[\"Revenue\"].min()"
   ]
  },
  {
   "cell_type": "code",
   "execution_count": 110,
   "id": "a1138996",
   "metadata": {},
   "outputs": [
    {
     "data": {
      "text/html": [
       "<div>\n",
       "<style scoped>\n",
       "    .dataframe tbody tr th:only-of-type {\n",
       "        vertical-align: middle;\n",
       "    }\n",
       "\n",
       "    .dataframe tbody tr th {\n",
       "        vertical-align: top;\n",
       "    }\n",
       "\n",
       "    .dataframe thead th {\n",
       "        text-align: right;\n",
       "    }\n",
       "</style>\n",
       "<table border=\"1\" class=\"dataframe\">\n",
       "  <thead>\n",
       "    <tr style=\"text-align: right;\">\n",
       "      <th></th>\n",
       "      <th>Units</th>\n",
       "      <th>Revenue</th>\n",
       "    </tr>\n",
       "    <tr>\n",
       "      <th>Sales Agent</th>\n",
       "      <th></th>\n",
       "      <th></th>\n",
       "    </tr>\n",
       "  </thead>\n",
       "  <tbody>\n",
       "    <tr>\n",
       "      <th>Blessing</th>\n",
       "      <td>29.423023</td>\n",
       "      <td>185.721801</td>\n",
       "    </tr>\n",
       "    <tr>\n",
       "      <th>Chinedu</th>\n",
       "      <td>44.440972</td>\n",
       "      <td>661.399147</td>\n",
       "    </tr>\n",
       "    <tr>\n",
       "      <th>Chioma</th>\n",
       "      <td>36.253735</td>\n",
       "      <td>672.198660</td>\n",
       "    </tr>\n",
       "    <tr>\n",
       "      <th>Emeka</th>\n",
       "      <td>37.384266</td>\n",
       "      <td>266.948874</td>\n",
       "    </tr>\n",
       "    <tr>\n",
       "      <th>George</th>\n",
       "      <td>31.085902</td>\n",
       "      <td>217.928367</td>\n",
       "    </tr>\n",
       "    <tr>\n",
       "      <th>Ibrahim</th>\n",
       "      <td>27.519084</td>\n",
       "      <td>304.925991</td>\n",
       "    </tr>\n",
       "    <tr>\n",
       "      <th>Tolu</th>\n",
       "      <td>35.569650</td>\n",
       "      <td>749.734697</td>\n",
       "    </tr>\n",
       "    <tr>\n",
       "      <th>Tonye</th>\n",
       "      <td>29.375443</td>\n",
       "      <td>61.458755</td>\n",
       "    </tr>\n",
       "    <tr>\n",
       "      <th>Torbari</th>\n",
       "      <td>47.376154</td>\n",
       "      <td>297.925300</td>\n",
       "    </tr>\n",
       "    <tr>\n",
       "      <th>Tunde</th>\n",
       "      <td>17.677670</td>\n",
       "      <td>760.670120</td>\n",
       "    </tr>\n",
       "    <tr>\n",
       "      <th>Uche</th>\n",
       "      <td>36.189317</td>\n",
       "      <td>336.254585</td>\n",
       "    </tr>\n",
       "  </tbody>\n",
       "</table>\n",
       "</div>"
      ],
      "text/plain": [
       "                 Units     Revenue\n",
       "Sales Agent                       \n",
       "Blessing     29.423023  185.721801\n",
       "Chinedu      44.440972  661.399147\n",
       "Chioma       36.253735  672.198660\n",
       "Emeka        37.384266  266.948874\n",
       "George       31.085902  217.928367\n",
       "Ibrahim      27.519084  304.925991\n",
       "Tolu         35.569650  749.734697\n",
       "Tonye        29.375443   61.458755\n",
       "Torbari      47.376154  297.925300\n",
       "Tunde        17.677670  760.670120\n",
       "Uche         36.189317  336.254585"
      ]
     },
     "execution_count": 110,
     "metadata": {},
     "output_type": "execute_result"
    }
   ],
   "source": [
    "sales.groupby(\"Sales Agent\").agg({'Units':'std', 'Revenue':'std',})"
   ]
  },
  {
   "cell_type": "markdown",
   "id": "1a7d343b",
   "metadata": {},
   "source": [
    "new insight"
   ]
  },
  {
   "cell_type": "code",
   "execution_count": 111,
   "id": "5a812226",
   "metadata": {},
   "outputs": [],
   "source": [
    "#lets convert the date column to datetime\n",
    "sales[\"Date\"]= pd.to_datetime(sales[\"Date\"])"
   ]
  },
  {
   "cell_type": "code",
   "execution_count": 112,
   "id": "f503e22a",
   "metadata": {},
   "outputs": [
    {
     "data": {
      "text/plain": [
       "Date           datetime64[ns]\n",
       "Branch                 object\n",
       "Sales Agent            object\n",
       "Products               object\n",
       "Units                   int64\n",
       "Price                 float64\n",
       "Revenue               float64\n",
       "dtype: object"
      ]
     },
     "execution_count": 112,
     "metadata": {},
     "output_type": "execute_result"
    }
   ],
   "source": [
    "sales.dtypes"
   ]
  },
  {
   "cell_type": "code",
   "execution_count": 113,
   "id": "4420a171",
   "metadata": {},
   "outputs": [
    {
     "data": {
      "text/plain": [
       "<Axes: xlabel='Data Types', ylabel='Count'>"
      ]
     },
     "execution_count": 113,
     "metadata": {},
     "output_type": "execute_result"
    },
    {
     "data": {
      "image/png": "[encoded data removed]",
      "text/plain": [
       "<Figure size 640x480 with 1 Axes>"
      ]
     },
     "metadata": {},
     "output_type": "display_data"
    }
   ],
   "source": [
    "#this is checking the columns with there respective data type\n",
    "sales.dtypes.value_counts().plot(kind=\"bar\",xlabel = \"Data Types\", ylabel = \"Count\")"
   ]
  },
  {
   "cell_type": "code",
   "execution_count": null,
   "id": "75cf0c91",
   "metadata": {},
   "outputs": [],
   "source": [
    "sales[\"Year\"] =sales[\"Date\"].dt.year\n",
    "sales[\"Month\"] = sales[\"Date\"].dt.month_name()\n",
    "sales[\"Week\"] =sales[\"Date\"].dt.day_name()\n"
   ]
  },
  {
   "cell_type": "code",
   "execution_count": 115,
   "id": "0d65ffd0",
   "metadata": {},
   "outputs": [
    {
     "data": {
      "text/html": [
       "<div>\n",
       "<style scoped>\n",
       "    .dataframe tbody tr th:only-of-type {\n",
       "        vertical-align: middle;\n",
       "    }\n",
       "\n",
       "    .dataframe tbody tr th {\n",
       "        vertical-align: top;\n",
       "    }\n",
       "\n",
       "    .dataframe thead th {\n",
       "        text-align: right;\n",
       "    }\n",
       "</style>\n",
       "<table border=\"1\" class=\"dataframe\">\n",
       "  <thead>\n",
       "    <tr style=\"text-align: right;\">\n",
       "      <th></th>\n",
       "      <th>Date</th>\n",
       "      <th>Branch</th>\n",
       "      <th>Sales Agent</th>\n",
       "      <th>Products</th>\n",
       "      <th>Units</th>\n",
       "      <th>Price</th>\n",
       "      <th>Revenue</th>\n",
       "      <th>Year</th>\n",
       "      <th>Month</th>\n",
       "      <th>Week</th>\n",
       "    </tr>\n",
       "  </thead>\n",
       "  <tbody>\n",
       "    <tr>\n",
       "      <th>0</th>\n",
       "      <td>2014-09-01</td>\n",
       "      <td>Woji</td>\n",
       "      <td>Chinedu</td>\n",
       "      <td>Apple</td>\n",
       "      <td>2</td>\n",
       "      <td>125.00</td>\n",
       "      <td>250.00</td>\n",
       "      <td>2014</td>\n",
       "      <td>September</td>\n",
       "      <td>Monday</td>\n",
       "    </tr>\n",
       "    <tr>\n",
       "      <th>1</th>\n",
       "      <td>2015-06-17</td>\n",
       "      <td>Woji</td>\n",
       "      <td>Emeka</td>\n",
       "      <td>Apple</td>\n",
       "      <td>5</td>\n",
       "      <td>125.00</td>\n",
       "      <td>625.00</td>\n",
       "      <td>2015</td>\n",
       "      <td>June</td>\n",
       "      <td>Wednesday</td>\n",
       "    </tr>\n",
       "    <tr>\n",
       "      <th>2</th>\n",
       "      <td>2015-09-10</td>\n",
       "      <td>Woji</td>\n",
       "      <td>Ibrahim</td>\n",
       "      <td>Lenovo</td>\n",
       "      <td>7</td>\n",
       "      <td>1.29</td>\n",
       "      <td>9.03</td>\n",
       "      <td>2015</td>\n",
       "      <td>September</td>\n",
       "      <td>Thursday</td>\n",
       "    </tr>\n",
       "    <tr>\n",
       "      <th>3</th>\n",
       "      <td>2015-11-17</td>\n",
       "      <td>Woji</td>\n",
       "      <td>Tolu</td>\n",
       "      <td>HP</td>\n",
       "      <td>11</td>\n",
       "      <td>4.99</td>\n",
       "      <td>54.89</td>\n",
       "      <td>2015</td>\n",
       "      <td>November</td>\n",
       "      <td>Tuesday</td>\n",
       "    </tr>\n",
       "    <tr>\n",
       "      <th>4</th>\n",
       "      <td>2015-10-31</td>\n",
       "      <td>Woji</td>\n",
       "      <td>Tonye</td>\n",
       "      <td>Lenovo</td>\n",
       "      <td>14</td>\n",
       "      <td>1.29</td>\n",
       "      <td>18.06</td>\n",
       "      <td>2015</td>\n",
       "      <td>October</td>\n",
       "      <td>Saturday</td>\n",
       "    </tr>\n",
       "  </tbody>\n",
       "</table>\n",
       "</div>"
      ],
      "text/plain": [
       "        Date Branch Sales Agent Products  Units   Price  Revenue  Year      Month       Week\n",
       "0 2014-09-01   Woji     Chinedu    Apple      2  125.00   250.00  2014  September     Monday\n",
       "1 2015-06-17   Woji       Emeka    Apple      5  125.00   625.00  2015       June  Wednesday\n",
       "2 2015-09-10   Woji     Ibrahim   Lenovo      7    1.29     9.03  2015  September   Thursday\n",
       "3 2015-11-17   Woji        Tolu       HP     11    4.99    54.89  2015   November    Tuesday\n",
       "4 2015-10-31   Woji       Tonye   Lenovo     14    1.29    18.06  2015    October   Saturday"
      ]
     },
     "execution_count": 115,
     "metadata": {},
     "output_type": "execute_result"
    }
   ],
   "source": [
    "sales.head()"
   ]
  },
  {
   "cell_type": "code",
   "execution_count": 116,
   "id": "01f7a182",
   "metadata": {},
   "outputs": [
    {
     "data": {
      "text/plain": [
       "5"
      ]
     },
     "execution_count": 116,
     "metadata": {},
     "output_type": "execute_result"
    }
   ],
   "source": [
    "sales[\"Products\"].nunique()"
   ]
  },
  {
   "cell_type": "code",
   "execution_count": 117,
   "id": "1acbd601",
   "metadata": {},
   "outputs": [
    {
     "data": {
      "text/plain": [
       "11"
      ]
     },
     "execution_count": 117,
     "metadata": {},
     "output_type": "execute_result"
    }
   ],
   "source": [
    "sales[\"Sales Agent\"].nunique()"
   ]
  },
  {
   "cell_type": "code",
   "execution_count": 118,
   "id": "7ca7291c",
   "metadata": {},
   "outputs": [],
   "source": [
    "#This changes the file .The date colunm is removed and now in index position\n",
    "sales.set_index(\"Date\", inplace =True)"
   ]
  },
  {
   "cell_type": "code",
   "execution_count": 119,
   "id": "e531cddd",
   "metadata": {},
   "outputs": [
    {
     "data": {
      "text/html": [
       "<div>\n",
       "<style scoped>\n",
       "    .dataframe tbody tr th:only-of-type {\n",
       "        vertical-align: middle;\n",
       "    }\n",
       "\n",
       "    .dataframe tbody tr th {\n",
       "        vertical-align: top;\n",
       "    }\n",
       "\n",
       "    .dataframe thead th {\n",
       "        text-align: right;\n",
       "    }\n",
       "</style>\n",
       "<table border=\"1\" class=\"dataframe\">\n",
       "  <thead>\n",
       "    <tr style=\"text-align: right;\">\n",
       "      <th></th>\n",
       "      <th>Branch</th>\n",
       "      <th>Sales Agent</th>\n",
       "      <th>Products</th>\n",
       "      <th>Units</th>\n",
       "      <th>Price</th>\n",
       "      <th>Revenue</th>\n",
       "      <th>Year</th>\n",
       "      <th>Month</th>\n",
       "      <th>Week</th>\n",
       "    </tr>\n",
       "    <tr>\n",
       "      <th>Date</th>\n",
       "      <th></th>\n",
       "      <th></th>\n",
       "      <th></th>\n",
       "      <th></th>\n",
       "      <th></th>\n",
       "      <th></th>\n",
       "      <th></th>\n",
       "      <th></th>\n",
       "      <th></th>\n",
       "    </tr>\n",
       "  </thead>\n",
       "  <tbody>\n",
       "    <tr>\n",
       "      <th>2014-09-01</th>\n",
       "      <td>Woji</td>\n",
       "      <td>Chinedu</td>\n",
       "      <td>Apple</td>\n",
       "      <td>2</td>\n",
       "      <td>125.00</td>\n",
       "      <td>250.00</td>\n",
       "      <td>2014</td>\n",
       "      <td>September</td>\n",
       "      <td>Monday</td>\n",
       "    </tr>\n",
       "    <tr>\n",
       "      <th>2015-06-17</th>\n",
       "      <td>Woji</td>\n",
       "      <td>Emeka</td>\n",
       "      <td>Apple</td>\n",
       "      <td>5</td>\n",
       "      <td>125.00</td>\n",
       "      <td>625.00</td>\n",
       "      <td>2015</td>\n",
       "      <td>June</td>\n",
       "      <td>Wednesday</td>\n",
       "    </tr>\n",
       "    <tr>\n",
       "      <th>2015-09-10</th>\n",
       "      <td>Woji</td>\n",
       "      <td>Ibrahim</td>\n",
       "      <td>Lenovo</td>\n",
       "      <td>7</td>\n",
       "      <td>1.29</td>\n",
       "      <td>9.03</td>\n",
       "      <td>2015</td>\n",
       "      <td>September</td>\n",
       "      <td>Thursday</td>\n",
       "    </tr>\n",
       "    <tr>\n",
       "      <th>2015-11-17</th>\n",
       "      <td>Woji</td>\n",
       "      <td>Tolu</td>\n",
       "      <td>HP</td>\n",
       "      <td>11</td>\n",
       "      <td>4.99</td>\n",
       "      <td>54.89</td>\n",
       "      <td>2015</td>\n",
       "      <td>November</td>\n",
       "      <td>Tuesday</td>\n",
       "    </tr>\n",
       "    <tr>\n",
       "      <th>2015-10-31</th>\n",
       "      <td>Woji</td>\n",
       "      <td>Tonye</td>\n",
       "      <td>Lenovo</td>\n",
       "      <td>14</td>\n",
       "      <td>1.29</td>\n",
       "      <td>18.06</td>\n",
       "      <td>2015</td>\n",
       "      <td>October</td>\n",
       "      <td>Saturday</td>\n",
       "    </tr>\n",
       "  </tbody>\n",
       "</table>\n",
       "</div>"
      ],
      "text/plain": [
       "           Branch Sales Agent Products  Units   Price  Revenue  Year      Month       Week\n",
       "Date                                                                                      \n",
       "2014-09-01   Woji     Chinedu    Apple      2  125.00   250.00  2014  September     Monday\n",
       "2015-06-17   Woji       Emeka    Apple      5  125.00   625.00  2015       June  Wednesday\n",
       "2015-09-10   Woji     Ibrahim   Lenovo      7    1.29     9.03  2015  September   Thursday\n",
       "2015-11-17   Woji        Tolu       HP     11    4.99    54.89  2015   November    Tuesday\n",
       "2015-10-31   Woji       Tonye   Lenovo     14    1.29    18.06  2015    October   Saturday"
      ]
     },
     "execution_count": 119,
     "metadata": {},
     "output_type": "execute_result"
    }
   ],
   "source": [
    "sales.head()"
   ]
  },
  {
   "cell_type": "code",
   "execution_count": 120,
   "id": "c90f9c2c",
   "metadata": {},
   "outputs": [
    {
     "data": {
      "text/plain": [
       "array([2014, 2015], dtype=int32)"
      ]
     },
     "execution_count": 120,
     "metadata": {},
     "output_type": "execute_result"
    }
   ],
   "source": [
    "sales[\"Year\"].unique()"
   ]
  },
  {
   "cell_type": "code",
   "execution_count": 121,
   "id": "725fbb12",
   "metadata": {},
   "outputs": [
    {
     "data": {
      "text/html": [
       "<div>\n",
       "<style scoped>\n",
       "    .dataframe tbody tr th:only-of-type {\n",
       "        vertical-align: middle;\n",
       "    }\n",
       "\n",
       "    .dataframe tbody tr th {\n",
       "        vertical-align: top;\n",
       "    }\n",
       "\n",
       "    .dataframe thead th {\n",
       "        text-align: right;\n",
       "    }\n",
       "</style>\n",
       "<table border=\"1\" class=\"dataframe\">\n",
       "  <thead>\n",
       "    <tr style=\"text-align: right;\">\n",
       "      <th></th>\n",
       "      <th>Branch</th>\n",
       "      <th>Sales Agent</th>\n",
       "      <th>Products</th>\n",
       "      <th>Units</th>\n",
       "      <th>Price</th>\n",
       "      <th>Revenue</th>\n",
       "      <th>Year</th>\n",
       "      <th>Month</th>\n",
       "      <th>Week</th>\n",
       "    </tr>\n",
       "    <tr>\n",
       "      <th>Date</th>\n",
       "      <th></th>\n",
       "      <th></th>\n",
       "      <th></th>\n",
       "      <th></th>\n",
       "      <th></th>\n",
       "      <th></th>\n",
       "      <th></th>\n",
       "      <th></th>\n",
       "      <th></th>\n",
       "    </tr>\n",
       "  </thead>\n",
       "  <tbody>\n",
       "    <tr>\n",
       "      <th>2014-09-01</th>\n",
       "      <td>Woji</td>\n",
       "      <td>Chinedu</td>\n",
       "      <td>Apple</td>\n",
       "      <td>2</td>\n",
       "      <td>125.00</td>\n",
       "      <td>250.00</td>\n",
       "      <td>2014</td>\n",
       "      <td>September</td>\n",
       "      <td>Monday</td>\n",
       "    </tr>\n",
       "    <tr>\n",
       "      <th>2014-02-26</th>\n",
       "      <td>Woji</td>\n",
       "      <td>Ibrahim</td>\n",
       "      <td>Compaq</td>\n",
       "      <td>27</td>\n",
       "      <td>19.99</td>\n",
       "      <td>539.73</td>\n",
       "      <td>2014</td>\n",
       "      <td>February</td>\n",
       "      <td>Wednesday</td>\n",
       "    </tr>\n",
       "    <tr>\n",
       "      <th>2014-10-05</th>\n",
       "      <td>Woji</td>\n",
       "      <td>George</td>\n",
       "      <td>HP</td>\n",
       "      <td>28</td>\n",
       "      <td>8.99</td>\n",
       "      <td>251.72</td>\n",
       "      <td>2014</td>\n",
       "      <td>October</td>\n",
       "      <td>Sunday</td>\n",
       "    </tr>\n",
       "  </tbody>\n",
       "</table>\n",
       "</div>"
      ],
      "text/plain": [
       "           Branch Sales Agent Products  Units   Price  Revenue  Year      Month       Week\n",
       "Date                                                                                      \n",
       "2014-09-01   Woji     Chinedu    Apple      2  125.00   250.00  2014  September     Monday\n",
       "2014-02-26   Woji     Ibrahim   Compaq     27   19.99   539.73  2014   February  Wednesday\n",
       "2014-10-05   Woji      George       HP     28    8.99   251.72  2014    October     Sunday"
      ]
     },
     "execution_count": 121,
     "metadata": {},
     "output_type": "execute_result"
    }
   ],
   "source": [
    "sales2014= sales[sales[\"Year\"]==2014]\n",
    "sales2014.head(3)"
   ]
  },
  {
   "cell_type": "code",
   "execution_count": 122,
   "id": "1c0f8cf7",
   "metadata": {},
   "outputs": [
    {
     "data": {
      "text/html": [
       "<div>\n",
       "<style scoped>\n",
       "    .dataframe tbody tr th:only-of-type {\n",
       "        vertical-align: middle;\n",
       "    }\n",
       "\n",
       "    .dataframe tbody tr th {\n",
       "        vertical-align: top;\n",
       "    }\n",
       "\n",
       "    .dataframe thead th {\n",
       "        text-align: right;\n",
       "    }\n",
       "</style>\n",
       "<table border=\"1\" class=\"dataframe\">\n",
       "  <thead>\n",
       "    <tr style=\"text-align: right;\">\n",
       "      <th></th>\n",
       "      <th>Branch</th>\n",
       "      <th>Sales Agent</th>\n",
       "      <th>Products</th>\n",
       "      <th>Units</th>\n",
       "      <th>Price</th>\n",
       "      <th>Revenue</th>\n",
       "      <th>Year</th>\n",
       "      <th>Month</th>\n",
       "      <th>Week</th>\n",
       "    </tr>\n",
       "    <tr>\n",
       "      <th>Date</th>\n",
       "      <th></th>\n",
       "      <th></th>\n",
       "      <th></th>\n",
       "      <th></th>\n",
       "      <th></th>\n",
       "      <th></th>\n",
       "      <th></th>\n",
       "      <th></th>\n",
       "      <th></th>\n",
       "    </tr>\n",
       "  </thead>\n",
       "  <tbody>\n",
       "    <tr>\n",
       "      <th>2015-06-17</th>\n",
       "      <td>Woji</td>\n",
       "      <td>Emeka</td>\n",
       "      <td>Apple</td>\n",
       "      <td>5</td>\n",
       "      <td>125.00</td>\n",
       "      <td>625.00</td>\n",
       "      <td>2015</td>\n",
       "      <td>June</td>\n",
       "      <td>Wednesday</td>\n",
       "    </tr>\n",
       "    <tr>\n",
       "      <th>2015-09-10</th>\n",
       "      <td>Woji</td>\n",
       "      <td>Ibrahim</td>\n",
       "      <td>Lenovo</td>\n",
       "      <td>7</td>\n",
       "      <td>1.29</td>\n",
       "      <td>9.03</td>\n",
       "      <td>2015</td>\n",
       "      <td>September</td>\n",
       "      <td>Thursday</td>\n",
       "    </tr>\n",
       "  </tbody>\n",
       "</table>\n",
       "</div>"
      ],
      "text/plain": [
       "           Branch Sales Agent Products  Units   Price  Revenue  Year      Month       Week\n",
       "Date                                                                                      \n",
       "2015-06-17   Woji       Emeka    Apple      5  125.00   625.00  2015       June  Wednesday\n",
       "2015-09-10   Woji     Ibrahim   Lenovo      7    1.29     9.03  2015  September   Thursday"
      ]
     },
     "execution_count": 122,
     "metadata": {},
     "output_type": "execute_result"
    }
   ],
   "source": [
    "sales2015= sales[sales[\"Year\"]==2015]\n",
    "sales2015.head(2)"
   ]
  },
  {
   "cell_type": "markdown",
   "id": "ebe4dc3f",
   "metadata": {},
   "source": [
    "Generating insights from the yearly data"
   ]
  },
  {
   "cell_type": "code",
   "execution_count": 123,
   "id": "d690383c",
   "metadata": {},
   "outputs": [
    {
     "data": {
      "text/plain": [
       "Year\n",
       "2014    9258.34\n",
       "Name: Revenue, dtype: float64"
      ]
     },
     "execution_count": 123,
     "metadata": {},
     "output_type": "execute_result"
    }
   ],
   "source": [
    "#total yearly sales\n",
    "Total_yearly_sales14 = sales2014.groupby(\"Year\")[\"Revenue\"].sum().sort_index()\n",
    "Total_yearly_sales14"
   ]
  },
  {
   "cell_type": "code",
   "execution_count": 124,
   "id": "b3e1ebb5",
   "metadata": {},
   "outputs": [
    {
     "data": {
      "text/plain": [
       "Year\n",
       "2015    10369.54\n",
       "Name: Revenue, dtype: float64"
      ]
     },
     "execution_count": 124,
     "metadata": {},
     "output_type": "execute_result"
    }
   ],
   "source": [
    "Total_yearly_sales15 = sales2015.groupby(\"Year\")[\"Revenue\"].sum().sort_index()\n",
    "Total_yearly_sales15"
   ]
  },
  {
   "cell_type": "code",
   "execution_count": 125,
   "id": "367bf52f",
   "metadata": {},
   "outputs": [
    {
     "data": {
      "text/plain": [
       "Month\n",
       "April         448.65\n",
       "August        174.65\n",
       "December     1269.69\n",
       "February      719.37\n",
       "January      1188.55\n",
       "July         1676.90\n",
       "June          988.50\n",
       "March         167.44\n",
       "May           512.78\n",
       "November      778.89\n",
       "October       827.08\n",
       "September     505.84\n",
       "Name: Revenue, dtype: float64"
      ]
     },
     "execution_count": 125,
     "metadata": {},
     "output_type": "execute_result"
    }
   ],
   "source": [
    "#now lets generate for monthly sales\n",
    "Total_monthly_sales14 = sales2014.groupby(\"Month\")[\"Revenue\"].sum()\n",
    "Total_monthly_sales14"
   ]
  },
  {
   "cell_type": "code",
   "execution_count": 126,
   "id": "9a13e0a1",
   "metadata": {},
   "outputs": [
    {
     "data": {
      "text/plain": [
       "Month\n",
       "April         610.38\n",
       "August       1830.90\n",
       "December     2018.78\n",
       "February     1324.96\n",
       "January       413.54\n",
       "July          996.33\n",
       "June          625.00\n",
       "March         389.43\n",
       "May           787.57\n",
       "November       54.89\n",
       "October      1157.49\n",
       "September     160.27\n",
       "Name: Revenue, dtype: float64"
      ]
     },
     "execution_count": 126,
     "metadata": {},
     "output_type": "execute_result"
    }
   ],
   "source": [
    "#2015 monthly sales\n",
    "Total_monthly_sales15 = sales2015.groupby(\"Month\")[\"Revenue\"].sum().sort_index()\n",
    "Total_monthly_sales15"
   ]
  },
  {
   "cell_type": "code",
   "execution_count": 127,
   "id": "9759dbda",
   "metadata": {},
   "outputs": [
    {
     "data": {
      "text/plain": [
       "<Axes: xlabel='Day of the week', ylabel='Revenue(N)'>"
      ]
     },
     "execution_count": 127,
     "metadata": {},
     "output_type": "execute_result"
    },
    {
     "data": {
      "image/png": "[encoded data removed]",
      "text/plain": [
       "<Figure size 640x480 with 1 Axes>"
      ]
     },
     "metadata": {},
     "output_type": "display_data"
    }
   ],
   "source": [
    "# lets put this in a plot using pandas\n",
    "Total_monthly_sales15.plot(kind = \"bar\",xlabel = \"Day of the week\", ylabel =\"Revenue(N)\")"
   ]
  },
  {
   "cell_type": "code",
   "execution_count": 128,
   "id": "f0d97b63",
   "metadata": {},
   "outputs": [
    {
     "data": {
      "image/png": "[encoded data removed]",
      "text/plain": [
       "<Figure size 640x480 with 1 Axes>"
      ]
     },
     "metadata": {},
     "output_type": "display_data"
    }
   ],
   "source": [
    "plt.bar(Total_monthly_sales15.index,Total_monthly_sales15.values)\n",
    "plt.xlabel(\"Days of the Month\")\n",
    "plt.ylabel(\"Revenue(N)\")\n",
    "plt.title(\"Revenue in 2015\")\n",
    "plt.xticks(rotation=45)\n",
    "plt.show()"
   ]
  },
  {
   "cell_type": "code",
   "execution_count": 129,
   "id": "4898d968",
   "metadata": {},
   "outputs": [
    {
     "data": {
      "text/plain": [
       "Products\n",
       "HP        9577.65\n",
       "Dell      4169.87\n",
       "Lenovo    2135.14\n",
       "Compaq    2045.22\n",
       "Apple     1700.00\n",
       "Name: Revenue, dtype: float64"
      ]
     },
     "execution_count": 129,
     "metadata": {},
     "output_type": "execute_result"
    }
   ],
   "source": [
    "Total_revenue_by_product = sales.groupby(\"Products\")[\"Revenue\"].sum().sort_values(ascending = False)\n",
    "Total_revenue_by_product"
   ]
  },
  {
   "cell_type": "code",
   "execution_count": 130,
   "id": "90c3873a",
   "metadata": {},
   "outputs": [
    {
     "data": {
      "image/png": "[encoded data removed]",
      "text/plain": [
       "<Figure size 640x480 with 1 Axes>"
      ]
     },
     "metadata": {},
     "output_type": "display_data"
    }
   ],
   "source": [
    "plt.pie(Total_revenue_by_product.values,labels=Total_revenue_by_product.index, autopct='%1.1f%%')\n",
    "plt.xlabel(\"Month\")\n",
    "plt.ylabel(\"Revenue\")\n",
    "plt.title(\"Total Revenue by Product\")\n",
    "plt.show()"
   ]
  },
  {
   "cell_type": "code",
   "execution_count": 138,
   "id": "eb1f7d9d",
   "metadata": {},
   "outputs": [
    {
     "data": {
      "text/html": [
       "<div>\n",
       "<style scoped>\n",
       "    .dataframe tbody tr th:only-of-type {\n",
       "        vertical-align: middle;\n",
       "    }\n",
       "\n",
       "    .dataframe tbody tr th {\n",
       "        vertical-align: top;\n",
       "    }\n",
       "\n",
       "    .dataframe thead th {\n",
       "        text-align: right;\n",
       "    }\n",
       "</style>\n",
       "<table border=\"1\" class=\"dataframe\">\n",
       "  <thead>\n",
       "    <tr style=\"text-align: right;\">\n",
       "      <th></th>\n",
       "      <th>Year</th>\n",
       "      <th>Month</th>\n",
       "      <th>Revenue</th>\n",
       "    </tr>\n",
       "  </thead>\n",
       "  <tbody>\n",
       "    <tr>\n",
       "      <th>0</th>\n",
       "      <td>2014</td>\n",
       "      <td>April</td>\n",
       "      <td>448.65</td>\n",
       "    </tr>\n",
       "    <tr>\n",
       "      <th>1</th>\n",
       "      <td>2014</td>\n",
       "      <td>August</td>\n",
       "      <td>174.65</td>\n",
       "    </tr>\n",
       "    <tr>\n",
       "      <th>2</th>\n",
       "      <td>2014</td>\n",
       "      <td>December</td>\n",
       "      <td>1269.69</td>\n",
       "    </tr>\n",
       "    <tr>\n",
       "      <th>3</th>\n",
       "      <td>2014</td>\n",
       "      <td>February</td>\n",
       "      <td>719.37</td>\n",
       "    </tr>\n",
       "    <tr>\n",
       "      <th>4</th>\n",
       "      <td>2014</td>\n",
       "      <td>January</td>\n",
       "      <td>1188.55</td>\n",
       "    </tr>\n",
       "    <tr>\n",
       "      <th>5</th>\n",
       "      <td>2014</td>\n",
       "      <td>July</td>\n",
       "      <td>1676.90</td>\n",
       "    </tr>\n",
       "    <tr>\n",
       "      <th>6</th>\n",
       "      <td>2014</td>\n",
       "      <td>June</td>\n",
       "      <td>988.50</td>\n",
       "    </tr>\n",
       "    <tr>\n",
       "      <th>7</th>\n",
       "      <td>2014</td>\n",
       "      <td>March</td>\n",
       "      <td>167.44</td>\n",
       "    </tr>\n",
       "    <tr>\n",
       "      <th>8</th>\n",
       "      <td>2014</td>\n",
       "      <td>May</td>\n",
       "      <td>512.78</td>\n",
       "    </tr>\n",
       "    <tr>\n",
       "      <th>9</th>\n",
       "      <td>2014</td>\n",
       "      <td>November</td>\n",
       "      <td>778.89</td>\n",
       "    </tr>\n",
       "    <tr>\n",
       "      <th>10</th>\n",
       "      <td>2014</td>\n",
       "      <td>October</td>\n",
       "      <td>827.08</td>\n",
       "    </tr>\n",
       "    <tr>\n",
       "      <th>11</th>\n",
       "      <td>2014</td>\n",
       "      <td>September</td>\n",
       "      <td>505.84</td>\n",
       "    </tr>\n",
       "    <tr>\n",
       "      <th>12</th>\n",
       "      <td>2015</td>\n",
       "      <td>April</td>\n",
       "      <td>610.38</td>\n",
       "    </tr>\n",
       "    <tr>\n",
       "      <th>13</th>\n",
       "      <td>2015</td>\n",
       "      <td>August</td>\n",
       "      <td>1830.90</td>\n",
       "    </tr>\n",
       "    <tr>\n",
       "      <th>14</th>\n",
       "      <td>2015</td>\n",
       "      <td>December</td>\n",
       "      <td>2018.78</td>\n",
       "    </tr>\n",
       "    <tr>\n",
       "      <th>15</th>\n",
       "      <td>2015</td>\n",
       "      <td>February</td>\n",
       "      <td>1324.96</td>\n",
       "    </tr>\n",
       "    <tr>\n",
       "      <th>16</th>\n",
       "      <td>2015</td>\n",
       "      <td>January</td>\n",
       "      <td>413.54</td>\n",
       "    </tr>\n",
       "    <tr>\n",
       "      <th>17</th>\n",
       "      <td>2015</td>\n",
       "      <td>July</td>\n",
       "      <td>996.33</td>\n",
       "    </tr>\n",
       "    <tr>\n",
       "      <th>18</th>\n",
       "      <td>2015</td>\n",
       "      <td>June</td>\n",
       "      <td>625.00</td>\n",
       "    </tr>\n",
       "    <tr>\n",
       "      <th>19</th>\n",
       "      <td>2015</td>\n",
       "      <td>March</td>\n",
       "      <td>389.43</td>\n",
       "    </tr>\n",
       "    <tr>\n",
       "      <th>20</th>\n",
       "      <td>2015</td>\n",
       "      <td>May</td>\n",
       "      <td>787.57</td>\n",
       "    </tr>\n",
       "    <tr>\n",
       "      <th>21</th>\n",
       "      <td>2015</td>\n",
       "      <td>November</td>\n",
       "      <td>54.89</td>\n",
       "    </tr>\n",
       "    <tr>\n",
       "      <th>22</th>\n",
       "      <td>2015</td>\n",
       "      <td>October</td>\n",
       "      <td>1157.49</td>\n",
       "    </tr>\n",
       "    <tr>\n",
       "      <th>23</th>\n",
       "      <td>2015</td>\n",
       "      <td>September</td>\n",
       "      <td>160.27</td>\n",
       "    </tr>\n",
       "  </tbody>\n",
       "</table>\n",
       "</div>"
      ],
      "text/plain": [
       "    Year      Month  Revenue\n",
       "0   2014      April   448.65\n",
       "1   2014     August   174.65\n",
       "2   2014   December  1269.69\n",
       "3   2014   February   719.37\n",
       "4   2014    January  1188.55\n",
       "5   2014       July  1676.90\n",
       "6   2014       June   988.50\n",
       "7   2014      March   167.44\n",
       "8   2014        May   512.78\n",
       "9   2014   November   778.89\n",
       "10  2014    October   827.08\n",
       "11  2014  September   505.84\n",
       "12  2015      April   610.38\n",
       "13  2015     August  1830.90\n",
       "14  2015   December  2018.78\n",
       "15  2015   February  1324.96\n",
       "16  2015    January   413.54\n",
       "17  2015       July   996.33\n",
       "18  2015       June   625.00\n",
       "19  2015      March   389.43\n",
       "20  2015        May   787.57\n",
       "21  2015   November    54.89\n",
       "22  2015    October  1157.49\n",
       "23  2015  September   160.27"
      ]
     },
     "execution_count": 138,
     "metadata": {},
     "output_type": "execute_result"
    }
   ],
   "source": [
    "#6. Trends of sales\n",
    "Trends_of_sales_over_the_year = sales.groupby([\"Year\",\"Month\"])[\"Revenue\"].sum().reset_index()\n",
    "Trends_of_sales_over_the_year"
   ]
  },
  {
   "cell_type": "code",
   "execution_count": 150,
   "id": "3499954a",
   "metadata": {},
   "outputs": [
    {
     "data": {
      "image/png": "[encoded data removed]",
      "text/plain": [
       "<Figure size 640x480 with 1 Axes>"
      ]
     },
     "metadata": {},
     "output_type": "display_data"
    }
   ],
   "source": [
    "# lets plot\n",
    "plt.plot(Trends_of_sales_over_the_year[\"Month\"], Trends_of_sales_over_the_year[\"Year\"],Trends_of_sales_over_the_year[\"Revenue\"])\n",
    "plt.xticks(rotation=45)\n",
    "plt.show()"
   ]
  }
 ],
 "metadata": {
  "kernelspec": {
   "display_name": "numpyvenv",
   "language": "python",
   "name": "python3"
  },
  "language_info": {
   "codemirror_mode": {
    "name": "ipython",
    "version": 3
   },
   "file_extension": ".py",
   "mimetype": "text/x-python",
   "name": "python",
   "nbconvert_exporter": "python",
   "pygments_lexer": "ipython3",
   "version": "3.13.7"
  }
 },
 "nbformat": 4,
 "nbformat_minor": 5
}
