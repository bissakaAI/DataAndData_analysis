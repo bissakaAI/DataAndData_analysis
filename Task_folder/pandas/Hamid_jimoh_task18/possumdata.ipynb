{
 "cells": [
  {
   "cell_type": "markdown",
   "id": "4b2917df",
   "metadata": {},
   "source": [
    "# Task 18"
   ]
  },
  {
   "cell_type": "code",
   "execution_count": 64,
   "id": "5c40c944",
   "metadata": {},
   "outputs": [],
   "source": [
    "import numpy as numpy\n",
    "import pandas as pd\n",
    "import matplotlib.pyplot as plt\n",
    "import seaborn as sns"
   ]
  },
  {
   "cell_type": "markdown",
   "id": "9b182298",
   "metadata": {},
   "source": [
    "**Data injection**"
   ]
  },
  {
   "cell_type": "code",
   "execution_count": 2,
   "id": "5dc2799e",
   "metadata": {},
   "outputs": [],
   "source": [
    "data2 = pd.read_csv('possum.csv')\n",
    "data=data2.copy()"
   ]
  },
  {
   "cell_type": "markdown",
   "id": "a65ba717",
   "metadata": {},
   "source": [
    "# Preliminary data Analysis"
   ]
  },
  {
   "cell_type": "code",
   "execution_count": 3,
   "id": "5790370a",
   "metadata": {},
   "outputs": [
    {
     "data": {
      "text/html": [
       "<div>\n",
       "<style scoped>\n",
       "    .dataframe tbody tr th:only-of-type {\n",
       "        vertical-align: middle;\n",
       "    }\n",
       "\n",
       "    .dataframe tbody tr th {\n",
       "        vertical-align: top;\n",
       "    }\n",
       "\n",
       "    .dataframe thead th {\n",
       "        text-align: right;\n",
       "    }\n",
       "</style>\n",
       "<table border=\"1\" class=\"dataframe\">\n",
       "  <thead>\n",
       "    <tr style=\"text-align: right;\">\n",
       "      <th></th>\n",
       "      <th>case</th>\n",
       "      <th>site</th>\n",
       "      <th>Pop</th>\n",
       "      <th>sex</th>\n",
       "      <th>age</th>\n",
       "      <th>hdlngth</th>\n",
       "      <th>skullw</th>\n",
       "      <th>totlngth</th>\n",
       "      <th>taill</th>\n",
       "      <th>footlgth</th>\n",
       "      <th>earconch</th>\n",
       "      <th>eye</th>\n",
       "      <th>chest</th>\n",
       "      <th>belly</th>\n",
       "    </tr>\n",
       "  </thead>\n",
       "  <tbody>\n",
       "    <tr>\n",
       "      <th>0</th>\n",
       "      <td>1</td>\n",
       "      <td>1</td>\n",
       "      <td>Vic</td>\n",
       "      <td>m</td>\n",
       "      <td>8.0</td>\n",
       "      <td>94.1</td>\n",
       "      <td>60.4</td>\n",
       "      <td>89.0</td>\n",
       "      <td>36.0</td>\n",
       "      <td>74.5</td>\n",
       "      <td>54.5</td>\n",
       "      <td>15.2</td>\n",
       "      <td>28.0</td>\n",
       "      <td>36.0</td>\n",
       "    </tr>\n",
       "    <tr>\n",
       "      <th>1</th>\n",
       "      <td>2</td>\n",
       "      <td>1</td>\n",
       "      <td>Vic</td>\n",
       "      <td>f</td>\n",
       "      <td>6.0</td>\n",
       "      <td>92.5</td>\n",
       "      <td>57.6</td>\n",
       "      <td>91.5</td>\n",
       "      <td>36.5</td>\n",
       "      <td>72.5</td>\n",
       "      <td>51.2</td>\n",
       "      <td>16.0</td>\n",
       "      <td>28.5</td>\n",
       "      <td>33.0</td>\n",
       "    </tr>\n",
       "    <tr>\n",
       "      <th>2</th>\n",
       "      <td>3</td>\n",
       "      <td>1</td>\n",
       "      <td>Vic</td>\n",
       "      <td>f</td>\n",
       "      <td>6.0</td>\n",
       "      <td>94.0</td>\n",
       "      <td>60.0</td>\n",
       "      <td>95.5</td>\n",
       "      <td>39.0</td>\n",
       "      <td>75.4</td>\n",
       "      <td>51.9</td>\n",
       "      <td>15.5</td>\n",
       "      <td>30.0</td>\n",
       "      <td>34.0</td>\n",
       "    </tr>\n",
       "    <tr>\n",
       "      <th>3</th>\n",
       "      <td>4</td>\n",
       "      <td>1</td>\n",
       "      <td>Vic</td>\n",
       "      <td>f</td>\n",
       "      <td>6.0</td>\n",
       "      <td>93.2</td>\n",
       "      <td>57.1</td>\n",
       "      <td>92.0</td>\n",
       "      <td>38.0</td>\n",
       "      <td>76.1</td>\n",
       "      <td>52.2</td>\n",
       "      <td>15.2</td>\n",
       "      <td>28.0</td>\n",
       "      <td>34.0</td>\n",
       "    </tr>\n",
       "    <tr>\n",
       "      <th>4</th>\n",
       "      <td>5</td>\n",
       "      <td>1</td>\n",
       "      <td>Vic</td>\n",
       "      <td>f</td>\n",
       "      <td>2.0</td>\n",
       "      <td>91.5</td>\n",
       "      <td>56.3</td>\n",
       "      <td>85.5</td>\n",
       "      <td>36.0</td>\n",
       "      <td>71.0</td>\n",
       "      <td>53.2</td>\n",
       "      <td>15.1</td>\n",
       "      <td>28.5</td>\n",
       "      <td>33.0</td>\n",
       "    </tr>\n",
       "  </tbody>\n",
       "</table>\n",
       "</div>"
      ],
      "text/plain": [
       "   case  site  Pop sex  age  hdlngth  skullw  totlngth  taill  footlgth  \\\n",
       "0     1     1  Vic   m  8.0     94.1    60.4      89.0   36.0      74.5   \n",
       "1     2     1  Vic   f  6.0     92.5    57.6      91.5   36.5      72.5   \n",
       "2     3     1  Vic   f  6.0     94.0    60.0      95.5   39.0      75.4   \n",
       "3     4     1  Vic   f  6.0     93.2    57.1      92.0   38.0      76.1   \n",
       "4     5     1  Vic   f  2.0     91.5    56.3      85.5   36.0      71.0   \n",
       "\n",
       "   earconch   eye  chest  belly  \n",
       "0      54.5  15.2   28.0   36.0  \n",
       "1      51.2  16.0   28.5   33.0  \n",
       "2      51.9  15.5   30.0   34.0  \n",
       "3      52.2  15.2   28.0   34.0  \n",
       "4      53.2  15.1   28.5   33.0  "
      ]
     },
     "execution_count": 3,
     "metadata": {},
     "output_type": "execute_result"
    }
   ],
   "source": [
    "data.head()"
   ]
  },
  {
   "cell_type": "code",
   "execution_count": 4,
   "id": "e4280127",
   "metadata": {},
   "outputs": [
    {
     "data": {
      "text/html": [
       "<div>\n",
       "<style scoped>\n",
       "    .dataframe tbody tr th:only-of-type {\n",
       "        vertical-align: middle;\n",
       "    }\n",
       "\n",
       "    .dataframe tbody tr th {\n",
       "        vertical-align: top;\n",
       "    }\n",
       "\n",
       "    .dataframe thead th {\n",
       "        text-align: right;\n",
       "    }\n",
       "</style>\n",
       "<table border=\"1\" class=\"dataframe\">\n",
       "  <thead>\n",
       "    <tr style=\"text-align: right;\">\n",
       "      <th></th>\n",
       "      <th>case</th>\n",
       "      <th>site</th>\n",
       "      <th>Pop</th>\n",
       "      <th>sex</th>\n",
       "      <th>age</th>\n",
       "      <th>hdlngth</th>\n",
       "      <th>skullw</th>\n",
       "      <th>totlngth</th>\n",
       "      <th>taill</th>\n",
       "      <th>footlgth</th>\n",
       "      <th>earconch</th>\n",
       "      <th>eye</th>\n",
       "      <th>chest</th>\n",
       "      <th>belly</th>\n",
       "    </tr>\n",
       "  </thead>\n",
       "  <tbody>\n",
       "    <tr>\n",
       "      <th>99</th>\n",
       "      <td>100</td>\n",
       "      <td>7</td>\n",
       "      <td>other</td>\n",
       "      <td>m</td>\n",
       "      <td>1.0</td>\n",
       "      <td>89.5</td>\n",
       "      <td>56.0</td>\n",
       "      <td>81.5</td>\n",
       "      <td>36.5</td>\n",
       "      <td>66.0</td>\n",
       "      <td>46.8</td>\n",
       "      <td>14.8</td>\n",
       "      <td>23.0</td>\n",
       "      <td>27.0</td>\n",
       "    </tr>\n",
       "    <tr>\n",
       "      <th>100</th>\n",
       "      <td>101</td>\n",
       "      <td>7</td>\n",
       "      <td>other</td>\n",
       "      <td>m</td>\n",
       "      <td>1.0</td>\n",
       "      <td>88.6</td>\n",
       "      <td>54.7</td>\n",
       "      <td>82.5</td>\n",
       "      <td>39.0</td>\n",
       "      <td>64.4</td>\n",
       "      <td>48.0</td>\n",
       "      <td>14.0</td>\n",
       "      <td>25.0</td>\n",
       "      <td>33.0</td>\n",
       "    </tr>\n",
       "    <tr>\n",
       "      <th>101</th>\n",
       "      <td>102</td>\n",
       "      <td>7</td>\n",
       "      <td>other</td>\n",
       "      <td>f</td>\n",
       "      <td>6.0</td>\n",
       "      <td>92.4</td>\n",
       "      <td>55.0</td>\n",
       "      <td>89.0</td>\n",
       "      <td>38.0</td>\n",
       "      <td>63.5</td>\n",
       "      <td>45.4</td>\n",
       "      <td>13.0</td>\n",
       "      <td>25.0</td>\n",
       "      <td>30.0</td>\n",
       "    </tr>\n",
       "    <tr>\n",
       "      <th>102</th>\n",
       "      <td>103</td>\n",
       "      <td>7</td>\n",
       "      <td>other</td>\n",
       "      <td>m</td>\n",
       "      <td>4.0</td>\n",
       "      <td>91.5</td>\n",
       "      <td>55.2</td>\n",
       "      <td>82.5</td>\n",
       "      <td>36.5</td>\n",
       "      <td>62.9</td>\n",
       "      <td>45.9</td>\n",
       "      <td>15.4</td>\n",
       "      <td>25.0</td>\n",
       "      <td>29.0</td>\n",
       "    </tr>\n",
       "    <tr>\n",
       "      <th>103</th>\n",
       "      <td>104</td>\n",
       "      <td>7</td>\n",
       "      <td>other</td>\n",
       "      <td>f</td>\n",
       "      <td>3.0</td>\n",
       "      <td>93.6</td>\n",
       "      <td>59.9</td>\n",
       "      <td>89.0</td>\n",
       "      <td>40.0</td>\n",
       "      <td>67.6</td>\n",
       "      <td>46.0</td>\n",
       "      <td>14.8</td>\n",
       "      <td>28.5</td>\n",
       "      <td>33.5</td>\n",
       "    </tr>\n",
       "  </tbody>\n",
       "</table>\n",
       "</div>"
      ],
      "text/plain": [
       "     case  site    Pop sex  age  hdlngth  skullw  totlngth  taill  footlgth  \\\n",
       "99    100     7  other   m  1.0     89.5    56.0      81.5   36.5      66.0   \n",
       "100   101     7  other   m  1.0     88.6    54.7      82.5   39.0      64.4   \n",
       "101   102     7  other   f  6.0     92.4    55.0      89.0   38.0      63.5   \n",
       "102   103     7  other   m  4.0     91.5    55.2      82.5   36.5      62.9   \n",
       "103   104     7  other   f  3.0     93.6    59.9      89.0   40.0      67.6   \n",
       "\n",
       "     earconch   eye  chest  belly  \n",
       "99       46.8  14.8   23.0   27.0  \n",
       "100      48.0  14.0   25.0   33.0  \n",
       "101      45.4  13.0   25.0   30.0  \n",
       "102      45.9  15.4   25.0   29.0  \n",
       "103      46.0  14.8   28.5   33.5  "
      ]
     },
     "execution_count": 4,
     "metadata": {},
     "output_type": "execute_result"
    }
   ],
   "source": [
    "data.tail()"
   ]
  },
  {
   "cell_type": "code",
   "execution_count": 5,
   "id": "a3561ba9",
   "metadata": {},
   "outputs": [
    {
     "name": "stdout",
     "output_type": "stream",
     "text": [
      "<class 'pandas.core.frame.DataFrame'>\n",
      "RangeIndex: 104 entries, 0 to 103\n",
      "Data columns (total 14 columns):\n",
      " #   Column    Non-Null Count  Dtype  \n",
      "---  ------    --------------  -----  \n",
      " 0   case      104 non-null    int64  \n",
      " 1   site      104 non-null    int64  \n",
      " 2   Pop       104 non-null    object \n",
      " 3   sex       104 non-null    object \n",
      " 4   age       102 non-null    float64\n",
      " 5   hdlngth   104 non-null    float64\n",
      " 6   skullw    104 non-null    float64\n",
      " 7   totlngth  104 non-null    float64\n",
      " 8   taill     104 non-null    float64\n",
      " 9   footlgth  103 non-null    float64\n",
      " 10  earconch  104 non-null    float64\n",
      " 11  eye       104 non-null    float64\n",
      " 12  chest     104 non-null    float64\n",
      " 13  belly     104 non-null    float64\n",
      "dtypes: float64(10), int64(2), object(2)\n",
      "memory usage: 11.5+ KB\n"
     ]
    }
   ],
   "source": [
    "data.info()"
   ]
  },
  {
   "cell_type": "markdown",
   "id": "87285093",
   "metadata": {},
   "source": [
    "all datatypes are correct"
   ]
  },
  {
   "cell_type": "code",
   "execution_count": 6,
   "id": "2fa6393e",
   "metadata": {},
   "outputs": [
    {
     "data": {
      "text/plain": [
       "case        0\n",
       "site        0\n",
       "Pop         0\n",
       "sex         0\n",
       "age         2\n",
       "hdlngth     0\n",
       "skullw      0\n",
       "totlngth    0\n",
       "taill       0\n",
       "footlgth    1\n",
       "earconch    0\n",
       "eye         0\n",
       "chest       0\n",
       "belly       0\n",
       "dtype: int64"
      ]
     },
     "execution_count": 6,
     "metadata": {},
     "output_type": "execute_result"
    }
   ],
   "source": [
    "data.isnull().sum()"
   ]
  },
  {
   "cell_type": "markdown",
   "id": "6eee4757",
   "metadata": {},
   "source": [
    "we have 3 empty cells 2 in ages and 1 in footlength\n",
    "\n",
    "should i fill now or drop?"
   ]
  },
  {
   "cell_type": "code",
   "execution_count": 7,
   "id": "ef2d8008",
   "metadata": {},
   "outputs": [],
   "source": [
    "data.fillna(0, inplace=True)"
   ]
  },
  {
   "cell_type": "code",
   "execution_count": 8,
   "id": "d2010904",
   "metadata": {},
   "outputs": [
    {
     "data": {
      "text/plain": [
       "case        0\n",
       "site        0\n",
       "Pop         0\n",
       "sex         0\n",
       "age         0\n",
       "hdlngth     0\n",
       "skullw      0\n",
       "totlngth    0\n",
       "taill       0\n",
       "footlgth    0\n",
       "earconch    0\n",
       "eye         0\n",
       "chest       0\n",
       "belly       0\n",
       "dtype: int64"
      ]
     },
     "execution_count": 8,
     "metadata": {},
     "output_type": "execute_result"
    }
   ],
   "source": [
    "data.isnull().sum()"
   ]
  },
  {
   "cell_type": "code",
   "execution_count": 9,
   "id": "a7264895",
   "metadata": {},
   "outputs": [
    {
     "data": {
      "text/plain": [
       "array([  1,   2,   3,   4,   5,   6,   7,   8,   9,  10,  11,  12,  13,\n",
       "        14,  15,  16,  17,  18,  19,  20,  21,  22,  23,  24,  25,  26,\n",
       "        27,  28,  29,  30,  31,  32,  33,  34,  35,  36,  37,  38,  39,\n",
       "        40,  41,  42,  43,  44,  45,  46,  47,  48,  49,  50,  51,  52,\n",
       "        53,  54,  55,  56,  57,  58,  59,  60,  61,  62,  63,  64,  65,\n",
       "        66,  67,  68,  69,  70,  71,  72,  73,  74,  75,  76,  77,  78,\n",
       "        79,  80,  81,  82,  83,  84,  85,  86,  87,  88,  89,  90,  91,\n",
       "        92,  93,  94,  95,  96,  97,  98,  99, 100, 101, 102, 103, 104])"
      ]
     },
     "execution_count": 9,
     "metadata": {},
     "output_type": "execute_result"
    }
   ],
   "source": [
    "data['case'].unique()"
   ]
  },
  {
   "cell_type": "code",
   "execution_count": 10,
   "id": "95a5173d",
   "metadata": {},
   "outputs": [
    {
     "data": {
      "text/plain": [
       "104"
      ]
     },
     "execution_count": 10,
     "metadata": {},
     "output_type": "execute_result"
    }
   ],
   "source": [
    "data['case'].nunique()"
   ]
  },
  {
   "cell_type": "markdown",
   "id": "41f3b704",
   "metadata": {},
   "source": [
    "There are 104 unique cases and 104 rows.which means that we dont have duplicate casses"
   ]
  },
  {
   "cell_type": "code",
   "execution_count": 11,
   "id": "e3f60111",
   "metadata": {},
   "outputs": [
    {
     "data": {
      "text/plain": [
       "7"
      ]
     },
     "execution_count": 11,
     "metadata": {},
     "output_type": "execute_result"
    }
   ],
   "source": [
    "data['site'].nunique()"
   ]
  },
  {
   "cell_type": "markdown",
   "id": "6fdcb614",
   "metadata": {},
   "source": [
    "we have 7 unique sites from (1-7)\n",
    "which means 7 sites were selected "
   ]
  },
  {
   "cell_type": "code",
   "execution_count": 12,
   "id": "c03334e2",
   "metadata": {},
   "outputs": [
    {
     "data": {
      "text/plain": [
       "array([1, 2, 3, 4, 5, 6, 7])"
      ]
     },
     "execution_count": 12,
     "metadata": {},
     "output_type": "execute_result"
    }
   ],
   "source": [
    "data['site'].unique()"
   ]
  },
  {
   "cell_type": "code",
   "execution_count": 13,
   "id": "32090349",
   "metadata": {},
   "outputs": [
    {
     "data": {
      "text/plain": [
       "2"
      ]
     },
     "execution_count": 13,
     "metadata": {},
     "output_type": "execute_result"
    }
   ],
   "source": [
    "data['Pop'].nunique()"
   ]
  },
  {
   "cell_type": "code",
   "execution_count": 14,
   "id": "249d9fa3",
   "metadata": {},
   "outputs": [
    {
     "data": {
      "text/plain": [
       "array(['Vic', 'other'], dtype=object)"
      ]
     },
     "execution_count": 14,
     "metadata": {},
     "output_type": "execute_result"
    }
   ],
   "source": [
    "data['Pop'].unique()"
   ]
  },
  {
   "cell_type": "markdown",
   "id": "d3b62262",
   "metadata": {},
   "source": [
    "we have 2 unique populations. victoria  and others(this could be anywhere else)\n",
    "is there a reason why the others was not specifically mentioned?"
   ]
  },
  {
   "cell_type": "code",
   "execution_count": 15,
   "id": "e67a60b1",
   "metadata": {},
   "outputs": [
    {
     "data": {
      "text/plain": [
       "array(['m', 'f'], dtype=object)"
      ]
     },
     "execution_count": 15,
     "metadata": {},
     "output_type": "execute_result"
    }
   ],
   "source": [
    "data['sex'].unique()"
   ]
  },
  {
   "cell_type": "markdown",
   "id": "91bd4964",
   "metadata": {},
   "source": [
    "we have just two genders male and females"
   ]
  },
  {
   "cell_type": "code",
   "execution_count": 16,
   "id": "3302b7e8",
   "metadata": {},
   "outputs": [],
   "source": [
    "data.set_index('Pop', inplace=True)"
   ]
  },
  {
   "cell_type": "code",
   "execution_count": 17,
   "id": "8c1996ab",
   "metadata": {},
   "outputs": [
    {
     "data": {
      "text/plain": [
       "Pop    sex\n",
       "Vic    f      24\n",
       "       m      22\n",
       "other  f      19\n",
       "       m      39\n",
       "Name: count, dtype: int64"
      ]
     },
     "execution_count": 17,
     "metadata": {},
     "output_type": "execute_result"
    }
   ],
   "source": [
    "data.groupby(['Pop','sex'])['sex'].value_counts().head()"
   ]
  },
  {
   "cell_type": "markdown",
   "id": "757ea031",
   "metadata": {},
   "source": [
    "from the first population which is  victoria we have \n",
    "\n",
    "**females** = 24\n",
    "\n",
    "**male** = 22\n",
    "\n",
    "**others*\n",
    "\n",
    "**females** = 19\n",
    "\n",
    "**male** = 39\n",
    "\n",
    "this could mean that there are more boys present in location others than in victoria"
   ]
  },
  {
   "cell_type": "code",
   "execution_count": 18,
   "id": "25a9e9a2",
   "metadata": {},
   "outputs": [],
   "source": [
    "femaledata=data[data['sex']=='f']"
   ]
  },
  {
   "cell_type": "code",
   "execution_count": 19,
   "id": "0cb26406",
   "metadata": {},
   "outputs": [],
   "source": [
    "maledata=data[data['sex']=='m']"
   ]
  },
  {
   "cell_type": "code",
   "execution_count": 20,
   "id": "f4ac9efc",
   "metadata": {},
   "outputs": [
    {
     "data": {
      "text/plain": [
       "Pop    sex  age\n",
       "Vic    f    2.0    5\n",
       "            6.0    5\n",
       "            1.0    3\n",
       "            3.0    3\n",
       "            4.0    3\n",
       "            5.0    3\n",
       "            9.0    2\n",
       "other  f    3.0    8\n",
       "            4.0    3\n",
       "            5.0    3\n",
       "            2.0    2\n",
       "            6.0    2\n",
       "            7.0    1\n",
       "Name: count, dtype: int64"
      ]
     },
     "execution_count": 20,
     "metadata": {},
     "output_type": "execute_result"
    }
   ],
   "source": [
    "femaledata.groupby(['Pop','sex'])[['age']].value_counts()"
   ]
  },
  {
   "cell_type": "code",
   "execution_count": 21,
   "id": "f32f03ac",
   "metadata": {},
   "outputs": [
    {
     "data": {
      "text/html": [
       "<div>\n",
       "<style scoped>\n",
       "    .dataframe tbody tr th:only-of-type {\n",
       "        vertical-align: middle;\n",
       "    }\n",
       "\n",
       "    .dataframe tbody tr th {\n",
       "        vertical-align: top;\n",
       "    }\n",
       "\n",
       "    .dataframe thead th {\n",
       "        text-align: right;\n",
       "    }\n",
       "</style>\n",
       "<table border=\"1\" class=\"dataframe\">\n",
       "  <thead>\n",
       "    <tr style=\"text-align: right;\">\n",
       "      <th></th>\n",
       "      <th></th>\n",
       "      <th>age</th>\n",
       "    </tr>\n",
       "    <tr>\n",
       "      <th>Pop</th>\n",
       "      <th>sex</th>\n",
       "      <th></th>\n",
       "    </tr>\n",
       "  </thead>\n",
       "  <tbody>\n",
       "    <tr>\n",
       "      <th>Vic</th>\n",
       "      <th>f</th>\n",
       "      <td>9.0</td>\n",
       "    </tr>\n",
       "    <tr>\n",
       "      <th>other</th>\n",
       "      <th>f</th>\n",
       "      <td>7.0</td>\n",
       "    </tr>\n",
       "  </tbody>\n",
       "</table>\n",
       "</div>"
      ],
      "text/plain": [
       "           age\n",
       "Pop   sex     \n",
       "Vic   f    9.0\n",
       "other f    7.0"
      ]
     },
     "execution_count": 21,
     "metadata": {},
     "output_type": "execute_result"
    }
   ],
   "source": [
    "femaledata.groupby(['Pop','sex'])[['age']].max()"
   ]
  },
  {
   "cell_type": "code",
   "execution_count": 22,
   "id": "49f067df",
   "metadata": {},
   "outputs": [
    {
     "data": {
      "text/html": [
       "<div>\n",
       "<style scoped>\n",
       "    .dataframe tbody tr th:only-of-type {\n",
       "        vertical-align: middle;\n",
       "    }\n",
       "\n",
       "    .dataframe tbody tr th {\n",
       "        vertical-align: top;\n",
       "    }\n",
       "\n",
       "    .dataframe thead th {\n",
       "        text-align: right;\n",
       "    }\n",
       "</style>\n",
       "<table border=\"1\" class=\"dataframe\">\n",
       "  <thead>\n",
       "    <tr style=\"text-align: right;\">\n",
       "      <th></th>\n",
       "      <th></th>\n",
       "      <th>age</th>\n",
       "    </tr>\n",
       "    <tr>\n",
       "      <th>Pop</th>\n",
       "      <th>sex</th>\n",
       "      <th></th>\n",
       "    </tr>\n",
       "  </thead>\n",
       "  <tbody>\n",
       "    <tr>\n",
       "      <th>Vic</th>\n",
       "      <th>f</th>\n",
       "      <td>1.0</td>\n",
       "    </tr>\n",
       "    <tr>\n",
       "      <th>other</th>\n",
       "      <th>f</th>\n",
       "      <td>2.0</td>\n",
       "    </tr>\n",
       "  </tbody>\n",
       "</table>\n",
       "</div>"
      ],
      "text/plain": [
       "           age\n",
       "Pop   sex     \n",
       "Vic   f    1.0\n",
       "other f    2.0"
      ]
     },
     "execution_count": 22,
     "metadata": {},
     "output_type": "execute_result"
    }
   ],
   "source": [
    "femaledata.groupby(['Pop','sex'])[['age']].min()"
   ]
  },
  {
   "cell_type": "code",
   "execution_count": 23,
   "id": "5bcc9c7a",
   "metadata": {},
   "outputs": [
    {
     "data": {
      "text/plain": [
       "Pop    sex  age\n",
       "Vic    m    3.0    7\n",
       "            2.0    4\n",
       "            4.0    3\n",
       "            7.0    3\n",
       "            0.0    2\n",
       "            5.0    2\n",
       "            8.0    1\n",
       "other  m    3.0    9\n",
       "            1.0    7\n",
       "            2.0    5\n",
       "            4.0    5\n",
       "            5.0    5\n",
       "            6.0    5\n",
       "            7.0    3\n",
       "Name: count, dtype: int64"
      ]
     },
     "execution_count": 23,
     "metadata": {},
     "output_type": "execute_result"
    }
   ],
   "source": [
    "maledata.groupby(['Pop','sex'])[['age']].value_counts()"
   ]
  },
  {
   "cell_type": "code",
   "execution_count": 24,
   "id": "09bc73d4",
   "metadata": {},
   "outputs": [
    {
     "data": {
      "text/html": [
       "<div>\n",
       "<style scoped>\n",
       "    .dataframe tbody tr th:only-of-type {\n",
       "        vertical-align: middle;\n",
       "    }\n",
       "\n",
       "    .dataframe tbody tr th {\n",
       "        vertical-align: top;\n",
       "    }\n",
       "\n",
       "    .dataframe thead th {\n",
       "        text-align: right;\n",
       "    }\n",
       "</style>\n",
       "<table border=\"1\" class=\"dataframe\">\n",
       "  <thead>\n",
       "    <tr style=\"text-align: right;\">\n",
       "      <th></th>\n",
       "      <th></th>\n",
       "      <th>age</th>\n",
       "    </tr>\n",
       "    <tr>\n",
       "      <th>Pop</th>\n",
       "      <th>sex</th>\n",
       "      <th></th>\n",
       "    </tr>\n",
       "  </thead>\n",
       "  <tbody>\n",
       "    <tr>\n",
       "      <th>Vic</th>\n",
       "      <th>m</th>\n",
       "      <td>8.0</td>\n",
       "    </tr>\n",
       "    <tr>\n",
       "      <th>other</th>\n",
       "      <th>m</th>\n",
       "      <td>7.0</td>\n",
       "    </tr>\n",
       "  </tbody>\n",
       "</table>\n",
       "</div>"
      ],
      "text/plain": [
       "           age\n",
       "Pop   sex     \n",
       "Vic   m    8.0\n",
       "other m    7.0"
      ]
     },
     "execution_count": 24,
     "metadata": {},
     "output_type": "execute_result"
    }
   ],
   "source": [
    "maledata.groupby(['Pop','sex'])[['age']].max()"
   ]
  },
  {
   "cell_type": "code",
   "execution_count": 25,
   "id": "bf2a39e4",
   "metadata": {},
   "outputs": [
    {
     "data": {
      "text/html": [
       "<div>\n",
       "<style scoped>\n",
       "    .dataframe tbody tr th:only-of-type {\n",
       "        vertical-align: middle;\n",
       "    }\n",
       "\n",
       "    .dataframe tbody tr th {\n",
       "        vertical-align: top;\n",
       "    }\n",
       "\n",
       "    .dataframe thead th {\n",
       "        text-align: right;\n",
       "    }\n",
       "</style>\n",
       "<table border=\"1\" class=\"dataframe\">\n",
       "  <thead>\n",
       "    <tr style=\"text-align: right;\">\n",
       "      <th></th>\n",
       "      <th></th>\n",
       "      <th>age</th>\n",
       "    </tr>\n",
       "    <tr>\n",
       "      <th>Pop</th>\n",
       "      <th>sex</th>\n",
       "      <th></th>\n",
       "    </tr>\n",
       "  </thead>\n",
       "  <tbody>\n",
       "    <tr>\n",
       "      <th>Vic</th>\n",
       "      <th>f</th>\n",
       "      <td>9.0</td>\n",
       "    </tr>\n",
       "    <tr>\n",
       "      <th>other</th>\n",
       "      <th>f</th>\n",
       "      <td>7.0</td>\n",
       "    </tr>\n",
       "  </tbody>\n",
       "</table>\n",
       "</div>"
      ],
      "text/plain": [
       "           age\n",
       "Pop   sex     \n",
       "Vic   f    9.0\n",
       "other f    7.0"
      ]
     },
     "execution_count": 25,
     "metadata": {},
     "output_type": "execute_result"
    }
   ],
   "source": [
    "femaledata.groupby(['Pop','sex'])[['age']].max()"
   ]
  },
  {
   "cell_type": "code",
   "execution_count": 26,
   "id": "662426b2",
   "metadata": {},
   "outputs": [
    {
     "data": {
      "text/html": [
       "<div>\n",
       "<style scoped>\n",
       "    .dataframe tbody tr th:only-of-type {\n",
       "        vertical-align: middle;\n",
       "    }\n",
       "\n",
       "    .dataframe tbody tr th {\n",
       "        vertical-align: top;\n",
       "    }\n",
       "\n",
       "    .dataframe thead th {\n",
       "        text-align: right;\n",
       "    }\n",
       "</style>\n",
       "<table border=\"1\" class=\"dataframe\">\n",
       "  <thead>\n",
       "    <tr style=\"text-align: right;\">\n",
       "      <th></th>\n",
       "      <th></th>\n",
       "      <th>age</th>\n",
       "    </tr>\n",
       "    <tr>\n",
       "      <th>Pop</th>\n",
       "      <th>sex</th>\n",
       "      <th></th>\n",
       "    </tr>\n",
       "  </thead>\n",
       "  <tbody>\n",
       "    <tr>\n",
       "      <th>Vic</th>\n",
       "      <th>m</th>\n",
       "      <td>0.0</td>\n",
       "    </tr>\n",
       "    <tr>\n",
       "      <th>other</th>\n",
       "      <th>m</th>\n",
       "      <td>1.0</td>\n",
       "    </tr>\n",
       "  </tbody>\n",
       "</table>\n",
       "</div>"
      ],
      "text/plain": [
       "           age\n",
       "Pop   sex     \n",
       "Vic   m    0.0\n",
       "other m    1.0"
      ]
     },
     "execution_count": 26,
     "metadata": {},
     "output_type": "execute_result"
    }
   ],
   "source": [
    "maledata.groupby(['Pop','sex'])[['age']].min()"
   ]
  },
  {
   "cell_type": "markdown",
   "id": "d1adc676",
   "metadata": {},
   "source": [
    "so the empty age was found in victoria  and he is a male "
   ]
  },
  {
   "cell_type": "code",
   "execution_count": 27,
   "id": "99493a3d",
   "metadata": {},
   "outputs": [
    {
     "data": {
      "text/html": [
       "<div>\n",
       "<style scoped>\n",
       "    .dataframe tbody tr th:only-of-type {\n",
       "        vertical-align: middle;\n",
       "    }\n",
       "\n",
       "    .dataframe tbody tr th {\n",
       "        vertical-align: top;\n",
       "    }\n",
       "\n",
       "    .dataframe thead th {\n",
       "        text-align: right;\n",
       "    }\n",
       "</style>\n",
       "<table border=\"1\" class=\"dataframe\">\n",
       "  <thead>\n",
       "    <tr style=\"text-align: right;\">\n",
       "      <th></th>\n",
       "      <th></th>\n",
       "      <th>age</th>\n",
       "    </tr>\n",
       "    <tr>\n",
       "      <th>Pop</th>\n",
       "      <th>sex</th>\n",
       "      <th></th>\n",
       "    </tr>\n",
       "  </thead>\n",
       "  <tbody>\n",
       "    <tr>\n",
       "      <th>Vic</th>\n",
       "      <th>f</th>\n",
       "      <td>1.0</td>\n",
       "    </tr>\n",
       "    <tr>\n",
       "      <th>other</th>\n",
       "      <th>f</th>\n",
       "      <td>2.0</td>\n",
       "    </tr>\n",
       "  </tbody>\n",
       "</table>\n",
       "</div>"
      ],
      "text/plain": [
       "           age\n",
       "Pop   sex     \n",
       "Vic   f    1.0\n",
       "other f    2.0"
      ]
     },
     "execution_count": 27,
     "metadata": {},
     "output_type": "execute_result"
    }
   ],
   "source": [
    "femaledata.groupby(['Pop','sex'])[['age']].min()"
   ]
  },
  {
   "cell_type": "code",
   "execution_count": 28,
   "id": "582fcb1c",
   "metadata": {},
   "outputs": [
    {
     "data": {
      "text/html": [
       "<div>\n",
       "<style scoped>\n",
       "    .dataframe tbody tr th:only-of-type {\n",
       "        vertical-align: middle;\n",
       "    }\n",
       "\n",
       "    .dataframe tbody tr th {\n",
       "        vertical-align: top;\n",
       "    }\n",
       "\n",
       "    .dataframe thead th {\n",
       "        text-align: right;\n",
       "    }\n",
       "</style>\n",
       "<table border=\"1\" class=\"dataframe\">\n",
       "  <thead>\n",
       "    <tr style=\"text-align: right;\">\n",
       "      <th></th>\n",
       "      <th></th>\n",
       "      <th>hdlngth</th>\n",
       "    </tr>\n",
       "    <tr>\n",
       "      <th>Pop</th>\n",
       "      <th>age</th>\n",
       "      <th></th>\n",
       "    </tr>\n",
       "  </thead>\n",
       "  <tbody>\n",
       "    <tr>\n",
       "      <th rowspan=\"7\" valign=\"top\">Vic</th>\n",
       "      <th>0.0</th>\n",
       "      <td>88.250000</td>\n",
       "    </tr>\n",
       "    <tr>\n",
       "      <th>2.0</th>\n",
       "      <td>93.450000</td>\n",
       "    </tr>\n",
       "    <tr>\n",
       "      <th>3.0</th>\n",
       "      <td>92.528571</td>\n",
       "    </tr>\n",
       "    <tr>\n",
       "      <th>4.0</th>\n",
       "      <td>93.266667</td>\n",
       "    </tr>\n",
       "    <tr>\n",
       "      <th>5.0</th>\n",
       "      <td>94.000000</td>\n",
       "    </tr>\n",
       "    <tr>\n",
       "      <th>7.0</th>\n",
       "      <td>93.900000</td>\n",
       "    </tr>\n",
       "    <tr>\n",
       "      <th>8.0</th>\n",
       "      <td>94.100000</td>\n",
       "    </tr>\n",
       "    <tr>\n",
       "      <th rowspan=\"7\" valign=\"top\">other</th>\n",
       "      <th>1.0</th>\n",
       "      <td>86.500000</td>\n",
       "    </tr>\n",
       "    <tr>\n",
       "      <th>2.0</th>\n",
       "      <td>96.980000</td>\n",
       "    </tr>\n",
       "    <tr>\n",
       "      <th>3.0</th>\n",
       "      <td>92.611111</td>\n",
       "    </tr>\n",
       "    <tr>\n",
       "      <th>4.0</th>\n",
       "      <td>93.320000</td>\n",
       "    </tr>\n",
       "    <tr>\n",
       "      <th>5.0</th>\n",
       "      <td>95.260000</td>\n",
       "    </tr>\n",
       "    <tr>\n",
       "      <th>6.0</th>\n",
       "      <td>95.100000</td>\n",
       "    </tr>\n",
       "    <tr>\n",
       "      <th>7.0</th>\n",
       "      <td>94.800000</td>\n",
       "    </tr>\n",
       "  </tbody>\n",
       "</table>\n",
       "</div>"
      ],
      "text/plain": [
       "             hdlngth\n",
       "Pop   age           \n",
       "Vic   0.0  88.250000\n",
       "      2.0  93.450000\n",
       "      3.0  92.528571\n",
       "      4.0  93.266667\n",
       "      5.0  94.000000\n",
       "      7.0  93.900000\n",
       "      8.0  94.100000\n",
       "other 1.0  86.500000\n",
       "      2.0  96.980000\n",
       "      3.0  92.611111\n",
       "      4.0  93.320000\n",
       "      5.0  95.260000\n",
       "      6.0  95.100000\n",
       "      7.0  94.800000"
      ]
     },
     "execution_count": 28,
     "metadata": {},
     "output_type": "execute_result"
    }
   ],
   "source": [
    "maledata.groupby(['Pop','age'])[['hdlngth']].mean()"
   ]
  },
  {
   "cell_type": "code",
   "execution_count": 29,
   "id": "91dc7cb4",
   "metadata": {},
   "outputs": [
    {
     "data": {
      "text/html": [
       "<div>\n",
       "<style scoped>\n",
       "    .dataframe tbody tr th:only-of-type {\n",
       "        vertical-align: middle;\n",
       "    }\n",
       "\n",
       "    .dataframe tbody tr th {\n",
       "        vertical-align: top;\n",
       "    }\n",
       "\n",
       "    .dataframe thead th {\n",
       "        text-align: right;\n",
       "    }\n",
       "</style>\n",
       "<table border=\"1\" class=\"dataframe\">\n",
       "  <thead>\n",
       "    <tr style=\"text-align: right;\">\n",
       "      <th></th>\n",
       "      <th></th>\n",
       "      <th>hdlngth</th>\n",
       "    </tr>\n",
       "    <tr>\n",
       "      <th>Pop</th>\n",
       "      <th>age</th>\n",
       "      <th></th>\n",
       "    </tr>\n",
       "  </thead>\n",
       "  <tbody>\n",
       "    <tr>\n",
       "      <th rowspan=\"7\" valign=\"top\">Vic</th>\n",
       "      <th>1.0</th>\n",
       "      <td>90.833333</td>\n",
       "    </tr>\n",
       "    <tr>\n",
       "      <th>2.0</th>\n",
       "      <td>90.680000</td>\n",
       "    </tr>\n",
       "    <tr>\n",
       "      <th>3.0</th>\n",
       "      <td>93.233333</td>\n",
       "    </tr>\n",
       "    <tr>\n",
       "      <th>4.0</th>\n",
       "      <td>93.866667</td>\n",
       "    </tr>\n",
       "    <tr>\n",
       "      <th>5.0</th>\n",
       "      <td>92.566667</td>\n",
       "    </tr>\n",
       "    <tr>\n",
       "      <th>6.0</th>\n",
       "      <td>93.260000</td>\n",
       "    </tr>\n",
       "    <tr>\n",
       "      <th>9.0</th>\n",
       "      <td>93.350000</td>\n",
       "    </tr>\n",
       "    <tr>\n",
       "      <th rowspan=\"6\" valign=\"top\">other</th>\n",
       "      <th>2.0</th>\n",
       "      <td>90.450000</td>\n",
       "    </tr>\n",
       "    <tr>\n",
       "      <th>3.0</th>\n",
       "      <td>92.100000</td>\n",
       "    </tr>\n",
       "    <tr>\n",
       "      <th>4.0</th>\n",
       "      <td>89.933333</td>\n",
       "    </tr>\n",
       "    <tr>\n",
       "      <th>5.0</th>\n",
       "      <td>93.566667</td>\n",
       "    </tr>\n",
       "    <tr>\n",
       "      <th>6.0</th>\n",
       "      <td>92.200000</td>\n",
       "    </tr>\n",
       "    <tr>\n",
       "      <th>7.0</th>\n",
       "      <td>91.900000</td>\n",
       "    </tr>\n",
       "  </tbody>\n",
       "</table>\n",
       "</div>"
      ],
      "text/plain": [
       "             hdlngth\n",
       "Pop   age           \n",
       "Vic   1.0  90.833333\n",
       "      2.0  90.680000\n",
       "      3.0  93.233333\n",
       "      4.0  93.866667\n",
       "      5.0  92.566667\n",
       "      6.0  93.260000\n",
       "      9.0  93.350000\n",
       "other 2.0  90.450000\n",
       "      3.0  92.100000\n",
       "      4.0  89.933333\n",
       "      5.0  93.566667\n",
       "      6.0  92.200000\n",
       "      7.0  91.900000"
      ]
     },
     "execution_count": 29,
     "metadata": {},
     "output_type": "execute_result"
    }
   ],
   "source": [
    "femaledata.groupby(['Pop','age'])[['hdlngth']].mean()"
   ]
  },
  {
   "cell_type": "code",
   "execution_count": 30,
   "id": "41784fa8",
   "metadata": {},
   "outputs": [
    {
     "data": {
      "text/html": [
       "<div>\n",
       "<style scoped>\n",
       "    .dataframe tbody tr th:only-of-type {\n",
       "        vertical-align: middle;\n",
       "    }\n",
       "\n",
       "    .dataframe tbody tr th {\n",
       "        vertical-align: top;\n",
       "    }\n",
       "\n",
       "    .dataframe thead th {\n",
       "        text-align: right;\n",
       "    }\n",
       "</style>\n",
       "<table border=\"1\" class=\"dataframe\">\n",
       "  <thead>\n",
       "    <tr style=\"text-align: right;\">\n",
       "      <th></th>\n",
       "      <th></th>\n",
       "      <th>hdlngth</th>\n",
       "    </tr>\n",
       "    <tr>\n",
       "      <th>Pop</th>\n",
       "      <th>age</th>\n",
       "      <th></th>\n",
       "    </tr>\n",
       "  </thead>\n",
       "  <tbody>\n",
       "    <tr>\n",
       "      <th rowspan=\"7\" valign=\"top\">Vic</th>\n",
       "      <th>0.0</th>\n",
       "      <td>88.25</td>\n",
       "    </tr>\n",
       "    <tr>\n",
       "      <th>2.0</th>\n",
       "      <td>93.95</td>\n",
       "    </tr>\n",
       "    <tr>\n",
       "      <th>3.0</th>\n",
       "      <td>92.80</td>\n",
       "    </tr>\n",
       "    <tr>\n",
       "      <th>4.0</th>\n",
       "      <td>93.80</td>\n",
       "    </tr>\n",
       "    <tr>\n",
       "      <th>5.0</th>\n",
       "      <td>94.00</td>\n",
       "    </tr>\n",
       "    <tr>\n",
       "      <th>7.0</th>\n",
       "      <td>93.30</td>\n",
       "    </tr>\n",
       "    <tr>\n",
       "      <th>8.0</th>\n",
       "      <td>94.10</td>\n",
       "    </tr>\n",
       "    <tr>\n",
       "      <th rowspan=\"7\" valign=\"top\">other</th>\n",
       "      <th>1.0</th>\n",
       "      <td>86.50</td>\n",
       "    </tr>\n",
       "    <tr>\n",
       "      <th>2.0</th>\n",
       "      <td>98.50</td>\n",
       "    </tr>\n",
       "    <tr>\n",
       "      <th>3.0</th>\n",
       "      <td>91.00</td>\n",
       "    </tr>\n",
       "    <tr>\n",
       "      <th>4.0</th>\n",
       "      <td>93.30</td>\n",
       "    </tr>\n",
       "    <tr>\n",
       "      <th>5.0</th>\n",
       "      <td>94.10</td>\n",
       "    </tr>\n",
       "    <tr>\n",
       "      <th>6.0</th>\n",
       "      <td>93.80</td>\n",
       "    </tr>\n",
       "    <tr>\n",
       "      <th>7.0</th>\n",
       "      <td>95.70</td>\n",
       "    </tr>\n",
       "  </tbody>\n",
       "</table>\n",
       "</div>"
      ],
      "text/plain": [
       "           hdlngth\n",
       "Pop   age         \n",
       "Vic   0.0    88.25\n",
       "      2.0    93.95\n",
       "      3.0    92.80\n",
       "      4.0    93.80\n",
       "      5.0    94.00\n",
       "      7.0    93.30\n",
       "      8.0    94.10\n",
       "other 1.0    86.50\n",
       "      2.0    98.50\n",
       "      3.0    91.00\n",
       "      4.0    93.30\n",
       "      5.0    94.10\n",
       "      6.0    93.80\n",
       "      7.0    95.70"
      ]
     },
     "execution_count": 30,
     "metadata": {},
     "output_type": "execute_result"
    }
   ],
   "source": [
    "maledata.groupby(['Pop','age'])[['hdlngth']].median()"
   ]
  },
  {
   "cell_type": "code",
   "execution_count": 31,
   "id": "2b60dc78",
   "metadata": {},
   "outputs": [
    {
     "data": {
      "text/html": [
       "<div>\n",
       "<style scoped>\n",
       "    .dataframe tbody tr th:only-of-type {\n",
       "        vertical-align: middle;\n",
       "    }\n",
       "\n",
       "    .dataframe tbody tr th {\n",
       "        vertical-align: top;\n",
       "    }\n",
       "\n",
       "    .dataframe thead th {\n",
       "        text-align: right;\n",
       "    }\n",
       "</style>\n",
       "<table border=\"1\" class=\"dataframe\">\n",
       "  <thead>\n",
       "    <tr style=\"text-align: right;\">\n",
       "      <th></th>\n",
       "      <th></th>\n",
       "      <th>hdlngth</th>\n",
       "    </tr>\n",
       "    <tr>\n",
       "      <th>Pop</th>\n",
       "      <th>age</th>\n",
       "      <th></th>\n",
       "    </tr>\n",
       "  </thead>\n",
       "  <tbody>\n",
       "    <tr>\n",
       "      <th rowspan=\"7\" valign=\"top\">Vic</th>\n",
       "      <th>1.0</th>\n",
       "      <td>93.10</td>\n",
       "    </tr>\n",
       "    <tr>\n",
       "      <th>2.0</th>\n",
       "      <td>90.50</td>\n",
       "    </tr>\n",
       "    <tr>\n",
       "      <th>3.0</th>\n",
       "      <td>92.80</td>\n",
       "    </tr>\n",
       "    <tr>\n",
       "      <th>4.0</th>\n",
       "      <td>94.30</td>\n",
       "    </tr>\n",
       "    <tr>\n",
       "      <th>5.0</th>\n",
       "      <td>94.40</td>\n",
       "    </tr>\n",
       "    <tr>\n",
       "      <th>6.0</th>\n",
       "      <td>93.20</td>\n",
       "    </tr>\n",
       "    <tr>\n",
       "      <th>9.0</th>\n",
       "      <td>93.35</td>\n",
       "    </tr>\n",
       "    <tr>\n",
       "      <th rowspan=\"6\" valign=\"top\">other</th>\n",
       "      <th>2.0</th>\n",
       "      <td>90.45</td>\n",
       "    </tr>\n",
       "    <tr>\n",
       "      <th>3.0</th>\n",
       "      <td>92.20</td>\n",
       "    </tr>\n",
       "    <tr>\n",
       "      <th>4.0</th>\n",
       "      <td>88.70</td>\n",
       "    </tr>\n",
       "    <tr>\n",
       "      <th>5.0</th>\n",
       "      <td>93.50</td>\n",
       "    </tr>\n",
       "    <tr>\n",
       "      <th>6.0</th>\n",
       "      <td>92.20</td>\n",
       "    </tr>\n",
       "    <tr>\n",
       "      <th>7.0</th>\n",
       "      <td>91.90</td>\n",
       "    </tr>\n",
       "  </tbody>\n",
       "</table>\n",
       "</div>"
      ],
      "text/plain": [
       "           hdlngth\n",
       "Pop   age         \n",
       "Vic   1.0    93.10\n",
       "      2.0    90.50\n",
       "      3.0    92.80\n",
       "      4.0    94.30\n",
       "      5.0    94.40\n",
       "      6.0    93.20\n",
       "      9.0    93.35\n",
       "other 2.0    90.45\n",
       "      3.0    92.20\n",
       "      4.0    88.70\n",
       "      5.0    93.50\n",
       "      6.0    92.20\n",
       "      7.0    91.90"
      ]
     },
     "execution_count": 31,
     "metadata": {},
     "output_type": "execute_result"
    }
   ],
   "source": [
    "femaledata.groupby(['Pop','age'])[['hdlngth']].median()"
   ]
  },
  {
   "cell_type": "code",
   "execution_count": 32,
   "id": "c7f08994",
   "metadata": {},
   "outputs": [
    {
     "data": {
      "text/html": [
       "<div>\n",
       "<style scoped>\n",
       "    .dataframe tbody tr th:only-of-type {\n",
       "        vertical-align: middle;\n",
       "    }\n",
       "\n",
       "    .dataframe tbody tr th {\n",
       "        vertical-align: top;\n",
       "    }\n",
       "\n",
       "    .dataframe thead th {\n",
       "        text-align: right;\n",
       "    }\n",
       "</style>\n",
       "<table border=\"1\" class=\"dataframe\">\n",
       "  <thead>\n",
       "    <tr style=\"text-align: right;\">\n",
       "      <th></th>\n",
       "      <th></th>\n",
       "      <th>hdlngth</th>\n",
       "    </tr>\n",
       "    <tr>\n",
       "      <th>Pop</th>\n",
       "      <th>age</th>\n",
       "      <th></th>\n",
       "    </tr>\n",
       "  </thead>\n",
       "  <tbody>\n",
       "    <tr>\n",
       "      <th rowspan=\"7\" valign=\"top\">Vic</th>\n",
       "      <th>0.0</th>\n",
       "      <td>4.454773</td>\n",
       "    </tr>\n",
       "    <tr>\n",
       "      <th>2.0</th>\n",
       "      <td>2.037155</td>\n",
       "    </tr>\n",
       "    <tr>\n",
       "      <th>3.0</th>\n",
       "      <td>3.875442</td>\n",
       "    </tr>\n",
       "    <tr>\n",
       "      <th>4.0</th>\n",
       "      <td>1.474223</td>\n",
       "    </tr>\n",
       "    <tr>\n",
       "      <th>5.0</th>\n",
       "      <td>1.555635</td>\n",
       "    </tr>\n",
       "    <tr>\n",
       "      <th>7.0</th>\n",
       "      <td>1.873499</td>\n",
       "    </tr>\n",
       "    <tr>\n",
       "      <th>8.0</th>\n",
       "      <td>NaN</td>\n",
       "    </tr>\n",
       "    <tr>\n",
       "      <th rowspan=\"7\" valign=\"top\">other</th>\n",
       "      <th>1.0</th>\n",
       "      <td>2.247221</td>\n",
       "    </tr>\n",
       "    <tr>\n",
       "      <th>2.0</th>\n",
       "      <td>6.265142</td>\n",
       "    </tr>\n",
       "    <tr>\n",
       "      <th>3.0</th>\n",
       "      <td>4.020399</td>\n",
       "    </tr>\n",
       "    <tr>\n",
       "      <th>4.0</th>\n",
       "      <td>1.788016</td>\n",
       "    </tr>\n",
       "    <tr>\n",
       "      <th>5.0</th>\n",
       "      <td>2.847455</td>\n",
       "    </tr>\n",
       "    <tr>\n",
       "      <th>6.0</th>\n",
       "      <td>2.357965</td>\n",
       "    </tr>\n",
       "    <tr>\n",
       "      <th>7.0</th>\n",
       "      <td>2.666458</td>\n",
       "    </tr>\n",
       "  </tbody>\n",
       "</table>\n",
       "</div>"
      ],
      "text/plain": [
       "            hdlngth\n",
       "Pop   age          \n",
       "Vic   0.0  4.454773\n",
       "      2.0  2.037155\n",
       "      3.0  3.875442\n",
       "      4.0  1.474223\n",
       "      5.0  1.555635\n",
       "      7.0  1.873499\n",
       "      8.0       NaN\n",
       "other 1.0  2.247221\n",
       "      2.0  6.265142\n",
       "      3.0  4.020399\n",
       "      4.0  1.788016\n",
       "      5.0  2.847455\n",
       "      6.0  2.357965\n",
       "      7.0  2.666458"
      ]
     },
     "execution_count": 32,
     "metadata": {},
     "output_type": "execute_result"
    }
   ],
   "source": [
    "maledata.groupby(['Pop','age'])[['hdlngth']].std()"
   ]
  },
  {
   "cell_type": "code",
   "execution_count": 33,
   "id": "57c68fe7",
   "metadata": {},
   "outputs": [
    {
     "data": {
      "text/html": [
       "<div>\n",
       "<style scoped>\n",
       "    .dataframe tbody tr th:only-of-type {\n",
       "        vertical-align: middle;\n",
       "    }\n",
       "\n",
       "    .dataframe tbody tr th {\n",
       "        vertical-align: top;\n",
       "    }\n",
       "\n",
       "    .dataframe thead th {\n",
       "        text-align: right;\n",
       "    }\n",
       "</style>\n",
       "<table border=\"1\" class=\"dataframe\">\n",
       "  <thead>\n",
       "    <tr style=\"text-align: right;\">\n",
       "      <th></th>\n",
       "      <th></th>\n",
       "      <th>hdlngth</th>\n",
       "    </tr>\n",
       "    <tr>\n",
       "      <th>Pop</th>\n",
       "      <th>age</th>\n",
       "      <th></th>\n",
       "    </tr>\n",
       "  </thead>\n",
       "  <tbody>\n",
       "    <tr>\n",
       "      <th rowspan=\"7\" valign=\"top\">Vic</th>\n",
       "      <th>1.0</th>\n",
       "      <td>5.371530</td>\n",
       "    </tr>\n",
       "    <tr>\n",
       "      <th>2.0</th>\n",
       "      <td>1.127830</td>\n",
       "    </tr>\n",
       "    <tr>\n",
       "      <th>3.0</th>\n",
       "      <td>2.478575</td>\n",
       "    </tr>\n",
       "    <tr>\n",
       "      <th>4.0</th>\n",
       "      <td>1.209683</td>\n",
       "    </tr>\n",
       "    <tr>\n",
       "      <th>5.0</th>\n",
       "      <td>3.617089</td>\n",
       "    </tr>\n",
       "    <tr>\n",
       "      <th>6.0</th>\n",
       "      <td>1.186592</td>\n",
       "    </tr>\n",
       "    <tr>\n",
       "      <th>9.0</th>\n",
       "      <td>0.070711</td>\n",
       "    </tr>\n",
       "    <tr>\n",
       "      <th rowspan=\"6\" valign=\"top\">other</th>\n",
       "      <th>2.0</th>\n",
       "      <td>1.202082</td>\n",
       "    </tr>\n",
       "    <tr>\n",
       "      <th>3.0</th>\n",
       "      <td>2.696029</td>\n",
       "    </tr>\n",
       "    <tr>\n",
       "      <th>4.0</th>\n",
       "      <td>4.673685</td>\n",
       "    </tr>\n",
       "    <tr>\n",
       "      <th>5.0</th>\n",
       "      <td>2.000833</td>\n",
       "    </tr>\n",
       "    <tr>\n",
       "      <th>6.0</th>\n",
       "      <td>0.282843</td>\n",
       "    </tr>\n",
       "    <tr>\n",
       "      <th>7.0</th>\n",
       "      <td>NaN</td>\n",
       "    </tr>\n",
       "  </tbody>\n",
       "</table>\n",
       "</div>"
      ],
      "text/plain": [
       "            hdlngth\n",
       "Pop   age          \n",
       "Vic   1.0  5.371530\n",
       "      2.0  1.127830\n",
       "      3.0  2.478575\n",
       "      4.0  1.209683\n",
       "      5.0  3.617089\n",
       "      6.0  1.186592\n",
       "      9.0  0.070711\n",
       "other 2.0  1.202082\n",
       "      3.0  2.696029\n",
       "      4.0  4.673685\n",
       "      5.0  2.000833\n",
       "      6.0  0.282843\n",
       "      7.0       NaN"
      ]
     },
     "execution_count": 33,
     "metadata": {},
     "output_type": "execute_result"
    }
   ],
   "source": [
    "femaledata.groupby(['Pop','age'])[['hdlngth']].std()"
   ]
  },
  {
   "cell_type": "code",
   "execution_count": 34,
   "id": "c01e5990",
   "metadata": {},
   "outputs": [
    {
     "data": {
      "text/html": [
       "<div>\n",
       "<style scoped>\n",
       "    .dataframe tbody tr th:only-of-type {\n",
       "        vertical-align: middle;\n",
       "    }\n",
       "\n",
       "    .dataframe tbody tr th {\n",
       "        vertical-align: top;\n",
       "    }\n",
       "\n",
       "    .dataframe thead th {\n",
       "        text-align: right;\n",
       "    }\n",
       "</style>\n",
       "<table border=\"1\" class=\"dataframe\">\n",
       "  <thead>\n",
       "    <tr style=\"text-align: right;\">\n",
       "      <th></th>\n",
       "      <th></th>\n",
       "      <th>hdlngth</th>\n",
       "    </tr>\n",
       "    <tr>\n",
       "      <th>Pop</th>\n",
       "      <th>age</th>\n",
       "      <th></th>\n",
       "    </tr>\n",
       "  </thead>\n",
       "  <tbody>\n",
       "    <tr>\n",
       "      <th rowspan=\"7\" valign=\"top\">Vic</th>\n",
       "      <th>0.0</th>\n",
       "      <td>19.845000</td>\n",
       "    </tr>\n",
       "    <tr>\n",
       "      <th>2.0</th>\n",
       "      <td>4.150000</td>\n",
       "    </tr>\n",
       "    <tr>\n",
       "      <th>3.0</th>\n",
       "      <td>15.019048</td>\n",
       "    </tr>\n",
       "    <tr>\n",
       "      <th>4.0</th>\n",
       "      <td>2.173333</td>\n",
       "    </tr>\n",
       "    <tr>\n",
       "      <th>5.0</th>\n",
       "      <td>2.420000</td>\n",
       "    </tr>\n",
       "    <tr>\n",
       "      <th>7.0</th>\n",
       "      <td>3.510000</td>\n",
       "    </tr>\n",
       "    <tr>\n",
       "      <th>8.0</th>\n",
       "      <td>NaN</td>\n",
       "    </tr>\n",
       "    <tr>\n",
       "      <th rowspan=\"7\" valign=\"top\">other</th>\n",
       "      <th>1.0</th>\n",
       "      <td>5.050000</td>\n",
       "    </tr>\n",
       "    <tr>\n",
       "      <th>2.0</th>\n",
       "      <td>39.252000</td>\n",
       "    </tr>\n",
       "    <tr>\n",
       "      <th>3.0</th>\n",
       "      <td>16.163611</td>\n",
       "    </tr>\n",
       "    <tr>\n",
       "      <th>4.0</th>\n",
       "      <td>3.197000</td>\n",
       "    </tr>\n",
       "    <tr>\n",
       "      <th>5.0</th>\n",
       "      <td>8.108000</td>\n",
       "    </tr>\n",
       "    <tr>\n",
       "      <th>6.0</th>\n",
       "      <td>5.560000</td>\n",
       "    </tr>\n",
       "    <tr>\n",
       "      <th>7.0</th>\n",
       "      <td>7.110000</td>\n",
       "    </tr>\n",
       "  </tbody>\n",
       "</table>\n",
       "</div>"
      ],
      "text/plain": [
       "             hdlngth\n",
       "Pop   age           \n",
       "Vic   0.0  19.845000\n",
       "      2.0   4.150000\n",
       "      3.0  15.019048\n",
       "      4.0   2.173333\n",
       "      5.0   2.420000\n",
       "      7.0   3.510000\n",
       "      8.0        NaN\n",
       "other 1.0   5.050000\n",
       "      2.0  39.252000\n",
       "      3.0  16.163611\n",
       "      4.0   3.197000\n",
       "      5.0   8.108000\n",
       "      6.0   5.560000\n",
       "      7.0   7.110000"
      ]
     },
     "execution_count": 34,
     "metadata": {},
     "output_type": "execute_result"
    }
   ],
   "source": [
    "maledata.groupby(['Pop','age'])[['hdlngth']].var()"
   ]
  },
  {
   "cell_type": "code",
   "execution_count": 35,
   "id": "72c671a6",
   "metadata": {},
   "outputs": [
    {
     "data": {
      "text/html": [
       "<div>\n",
       "<style scoped>\n",
       "    .dataframe tbody tr th:only-of-type {\n",
       "        vertical-align: middle;\n",
       "    }\n",
       "\n",
       "    .dataframe tbody tr th {\n",
       "        vertical-align: top;\n",
       "    }\n",
       "\n",
       "    .dataframe thead th {\n",
       "        text-align: right;\n",
       "    }\n",
       "</style>\n",
       "<table border=\"1\" class=\"dataframe\">\n",
       "  <thead>\n",
       "    <tr style=\"text-align: right;\">\n",
       "      <th></th>\n",
       "      <th></th>\n",
       "      <th>hdlngth</th>\n",
       "    </tr>\n",
       "    <tr>\n",
       "      <th>Pop</th>\n",
       "      <th>age</th>\n",
       "      <th></th>\n",
       "    </tr>\n",
       "  </thead>\n",
       "  <tbody>\n",
       "    <tr>\n",
       "      <th rowspan=\"7\" valign=\"top\">Vic</th>\n",
       "      <th>1.0</th>\n",
       "      <td>28.853333</td>\n",
       "    </tr>\n",
       "    <tr>\n",
       "      <th>2.0</th>\n",
       "      <td>1.272000</td>\n",
       "    </tr>\n",
       "    <tr>\n",
       "      <th>3.0</th>\n",
       "      <td>6.143333</td>\n",
       "    </tr>\n",
       "    <tr>\n",
       "      <th>4.0</th>\n",
       "      <td>1.463333</td>\n",
       "    </tr>\n",
       "    <tr>\n",
       "      <th>5.0</th>\n",
       "      <td>13.083333</td>\n",
       "    </tr>\n",
       "    <tr>\n",
       "      <th>6.0</th>\n",
       "      <td>1.408000</td>\n",
       "    </tr>\n",
       "    <tr>\n",
       "      <th>9.0</th>\n",
       "      <td>0.005000</td>\n",
       "    </tr>\n",
       "    <tr>\n",
       "      <th rowspan=\"6\" valign=\"top\">other</th>\n",
       "      <th>2.0</th>\n",
       "      <td>1.445000</td>\n",
       "    </tr>\n",
       "    <tr>\n",
       "      <th>3.0</th>\n",
       "      <td>7.268571</td>\n",
       "    </tr>\n",
       "    <tr>\n",
       "      <th>4.0</th>\n",
       "      <td>21.843333</td>\n",
       "    </tr>\n",
       "    <tr>\n",
       "      <th>5.0</th>\n",
       "      <td>4.003333</td>\n",
       "    </tr>\n",
       "    <tr>\n",
       "      <th>6.0</th>\n",
       "      <td>0.080000</td>\n",
       "    </tr>\n",
       "    <tr>\n",
       "      <th>7.0</th>\n",
       "      <td>NaN</td>\n",
       "    </tr>\n",
       "  </tbody>\n",
       "</table>\n",
       "</div>"
      ],
      "text/plain": [
       "             hdlngth\n",
       "Pop   age           \n",
       "Vic   1.0  28.853333\n",
       "      2.0   1.272000\n",
       "      3.0   6.143333\n",
       "      4.0   1.463333\n",
       "      5.0  13.083333\n",
       "      6.0   1.408000\n",
       "      9.0   0.005000\n",
       "other 2.0   1.445000\n",
       "      3.0   7.268571\n",
       "      4.0  21.843333\n",
       "      5.0   4.003333\n",
       "      6.0   0.080000\n",
       "      7.0        NaN"
      ]
     },
     "execution_count": 35,
     "metadata": {},
     "output_type": "execute_result"
    }
   ],
   "source": [
    "femaledata.groupby(['Pop','age'])[['hdlngth']].var()"
   ]
  },
  {
   "cell_type": "markdown",
   "id": "d07b1d08",
   "metadata": {},
   "source": [
    "# Descriptive data Analysis"
   ]
  },
  {
   "cell_type": "code",
   "execution_count": 36,
   "id": "451d026b",
   "metadata": {},
   "outputs": [],
   "source": [
    "# filtering to show from headlengh to belly for males\n",
    "malefiltered=maledata.loc[:,'hdlngth':'belly']"
   ]
  },
  {
   "cell_type": "markdown",
   "id": "980788b5",
   "metadata": {},
   "source": [
    "# Measure of Center"
   ]
  },
  {
   "cell_type": "code",
   "execution_count": 37,
   "id": "8cea067f",
   "metadata": {},
   "outputs": [
    {
     "data": {
      "text/plain": [
       "hdlngth     93.2\n",
       "skullw      56.3\n",
       "totlngth    86.0\n",
       "taill       36.5\n",
       "footlgth    66.9\n",
       "earconch    46.4\n",
       "eye         15.0\n",
       "chest       27.0\n",
       "belly       32.0\n",
       "dtype: float64"
      ]
     },
     "execution_count": 37,
     "metadata": {},
     "output_type": "execute_result"
    }
   ],
   "source": [
    "malefiltered.median()"
   ]
  },
  {
   "cell_type": "code",
   "execution_count": 38,
   "id": "7618e611",
   "metadata": {},
   "outputs": [
    {
     "data": {
      "text/plain": [
       "hdlngth     17.026798\n",
       "skullw      11.914765\n",
       "totlngth    18.834699\n",
       "taill        4.234153\n",
       "footlgth    15.855568\n",
       "earconch    15.956727\n",
       "eye          1.084033\n",
       "chest        4.671721\n",
       "belly        6.980464\n",
       "dtype: float64"
      ]
     },
     "execution_count": 38,
     "metadata": {},
     "output_type": "execute_result"
    }
   ],
   "source": [
    "malefiltered.var()"
   ]
  },
  {
   "cell_type": "markdown",
   "id": "88fdf17c",
   "metadata": {},
   "source": [
    "**from the variance its looking like we have ouliers in headlenght , totlngth,footlgth,earconch and skullw  for male**  "
   ]
  },
  {
   "cell_type": "code",
   "execution_count": 39,
   "id": "236e3287",
   "metadata": {},
   "outputs": [
    {
     "data": {
      "text/html": [
       "<div>\n",
       "<style scoped>\n",
       "    .dataframe tbody tr th:only-of-type {\n",
       "        vertical-align: middle;\n",
       "    }\n",
       "\n",
       "    .dataframe tbody tr th {\n",
       "        vertical-align: top;\n",
       "    }\n",
       "\n",
       "    .dataframe thead th {\n",
       "        text-align: right;\n",
       "    }\n",
       "</style>\n",
       "<table border=\"1\" class=\"dataframe\">\n",
       "  <thead>\n",
       "    <tr style=\"text-align: right;\">\n",
       "      <th></th>\n",
       "      <th></th>\n",
       "      <th>totlngth</th>\n",
       "    </tr>\n",
       "    <tr>\n",
       "      <th>Pop</th>\n",
       "      <th>age</th>\n",
       "      <th></th>\n",
       "    </tr>\n",
       "  </thead>\n",
       "  <tbody>\n",
       "    <tr>\n",
       "      <th rowspan=\"7\" valign=\"top\">Vic</th>\n",
       "      <th>0.0</th>\n",
       "      <td>76.0</td>\n",
       "    </tr>\n",
       "    <tr>\n",
       "      <th>2.0</th>\n",
       "      <td>84.0</td>\n",
       "    </tr>\n",
       "    <tr>\n",
       "      <th>3.0</th>\n",
       "      <td>77.0</td>\n",
       "    </tr>\n",
       "    <tr>\n",
       "      <th>4.0</th>\n",
       "      <td>85.0</td>\n",
       "    </tr>\n",
       "    <tr>\n",
       "      <th>5.0</th>\n",
       "      <td>85.5</td>\n",
       "    </tr>\n",
       "    <tr>\n",
       "      <th>7.0</th>\n",
       "      <td>80.5</td>\n",
       "    </tr>\n",
       "    <tr>\n",
       "      <th>8.0</th>\n",
       "      <td>89.0</td>\n",
       "    </tr>\n",
       "    <tr>\n",
       "      <th rowspan=\"7\" valign=\"top\">other</th>\n",
       "      <th>1.0</th>\n",
       "      <td>80.5</td>\n",
       "    </tr>\n",
       "    <tr>\n",
       "      <th>2.0</th>\n",
       "      <td>85.0</td>\n",
       "    </tr>\n",
       "    <tr>\n",
       "      <th>3.0</th>\n",
       "      <td>80.5</td>\n",
       "    </tr>\n",
       "    <tr>\n",
       "      <th>4.0</th>\n",
       "      <td>82.5</td>\n",
       "    </tr>\n",
       "    <tr>\n",
       "      <th>5.0</th>\n",
       "      <td>84.0</td>\n",
       "    </tr>\n",
       "    <tr>\n",
       "      <th>6.0</th>\n",
       "      <td>84.0</td>\n",
       "    </tr>\n",
       "    <tr>\n",
       "      <th>7.0</th>\n",
       "      <td>84.0</td>\n",
       "    </tr>\n",
       "  </tbody>\n",
       "</table>\n",
       "</div>"
      ],
      "text/plain": [
       "           totlngth\n",
       "Pop   age          \n",
       "Vic   0.0      76.0\n",
       "      2.0      84.0\n",
       "      3.0      77.0\n",
       "      4.0      85.0\n",
       "      5.0      85.5\n",
       "      7.0      80.5\n",
       "      8.0      89.0\n",
       "other 1.0      80.5\n",
       "      2.0      85.0\n",
       "      3.0      80.5\n",
       "      4.0      82.5\n",
       "      5.0      84.0\n",
       "      6.0      84.0\n",
       "      7.0      84.0"
      ]
     },
     "execution_count": 39,
     "metadata": {},
     "output_type": "execute_result"
    }
   ],
   "source": [
    "# checking for totlngth \n",
    "maledata.groupby(['Pop','age'])[['totlngth']].min()"
   ]
  },
  {
   "cell_type": "code",
   "execution_count": 40,
   "id": "4da76a21",
   "metadata": {},
   "outputs": [
    {
     "data": {
      "text/html": [
       "<div>\n",
       "<style scoped>\n",
       "    .dataframe tbody tr th:only-of-type {\n",
       "        vertical-align: middle;\n",
       "    }\n",
       "\n",
       "    .dataframe tbody tr th {\n",
       "        vertical-align: top;\n",
       "    }\n",
       "\n",
       "    .dataframe thead th {\n",
       "        text-align: right;\n",
       "    }\n",
       "</style>\n",
       "<table border=\"1\" class=\"dataframe\">\n",
       "  <thead>\n",
       "    <tr style=\"text-align: right;\">\n",
       "      <th></th>\n",
       "      <th></th>\n",
       "      <th>totlngth</th>\n",
       "    </tr>\n",
       "    <tr>\n",
       "      <th>Pop</th>\n",
       "      <th>age</th>\n",
       "      <th></th>\n",
       "    </tr>\n",
       "  </thead>\n",
       "  <tbody>\n",
       "    <tr>\n",
       "      <th rowspan=\"7\" valign=\"top\">Vic</th>\n",
       "      <th>0.0</th>\n",
       "      <td>84.0</td>\n",
       "    </tr>\n",
       "    <tr>\n",
       "      <th>2.0</th>\n",
       "      <td>90.0</td>\n",
       "    </tr>\n",
       "    <tr>\n",
       "      <th>3.0</th>\n",
       "      <td>93.0</td>\n",
       "    </tr>\n",
       "    <tr>\n",
       "      <th>4.0</th>\n",
       "      <td>87.0</td>\n",
       "    </tr>\n",
       "    <tr>\n",
       "      <th>5.0</th>\n",
       "      <td>89.5</td>\n",
       "    </tr>\n",
       "    <tr>\n",
       "      <th>7.0</th>\n",
       "      <td>90.0</td>\n",
       "    </tr>\n",
       "    <tr>\n",
       "      <th>8.0</th>\n",
       "      <td>89.0</td>\n",
       "    </tr>\n",
       "    <tr>\n",
       "      <th rowspan=\"7\" valign=\"top\">other</th>\n",
       "      <th>1.0</th>\n",
       "      <td>84.0</td>\n",
       "    </tr>\n",
       "    <tr>\n",
       "      <th>2.0</th>\n",
       "      <td>96.0</td>\n",
       "    </tr>\n",
       "    <tr>\n",
       "      <th>3.0</th>\n",
       "      <td>93.7</td>\n",
       "    </tr>\n",
       "    <tr>\n",
       "      <th>4.0</th>\n",
       "      <td>88.5</td>\n",
       "    </tr>\n",
       "    <tr>\n",
       "      <th>5.0</th>\n",
       "      <td>89.0</td>\n",
       "    </tr>\n",
       "    <tr>\n",
       "      <th>6.0</th>\n",
       "      <td>93.5</td>\n",
       "    </tr>\n",
       "    <tr>\n",
       "      <th>7.0</th>\n",
       "      <td>91.5</td>\n",
       "    </tr>\n",
       "  </tbody>\n",
       "</table>\n",
       "</div>"
      ],
      "text/plain": [
       "           totlngth\n",
       "Pop   age          \n",
       "Vic   0.0      84.0\n",
       "      2.0      90.0\n",
       "      3.0      93.0\n",
       "      4.0      87.0\n",
       "      5.0      89.5\n",
       "      7.0      90.0\n",
       "      8.0      89.0\n",
       "other 1.0      84.0\n",
       "      2.0      96.0\n",
       "      3.0      93.7\n",
       "      4.0      88.5\n",
       "      5.0      89.0\n",
       "      6.0      93.5\n",
       "      7.0      91.5"
      ]
     },
     "execution_count": 40,
     "metadata": {},
     "output_type": "execute_result"
    }
   ],
   "source": [
    "maledata.groupby(['Pop','age'])[['totlngth']].max()"
   ]
  },
  {
   "cell_type": "code",
   "execution_count": 41,
   "id": "c588a281",
   "metadata": {},
   "outputs": [],
   "source": [
    "# filtering to sho from headlengh to belly\n",
    "femalefiltered=femaledata.loc[:,'hdlngth':'belly']"
   ]
  },
  {
   "cell_type": "code",
   "execution_count": 42,
   "id": "0ec5d2e7",
   "metadata": {},
   "outputs": [
    {
     "data": {
      "text/plain": [
       "hdlngth     93.2\n",
       "skullw      56.3\n",
       "totlngth    86.0\n",
       "taill       36.5\n",
       "footlgth    66.9\n",
       "earconch    46.4\n",
       "eye         15.0\n",
       "chest       27.0\n",
       "belly       32.0\n",
       "dtype: float64"
      ]
     },
     "execution_count": 42,
     "metadata": {},
     "output_type": "execute_result"
    }
   ],
   "source": [
    "malefiltered.median()"
   ]
  },
  {
   "cell_type": "markdown",
   "id": "4235c500",
   "metadata": {},
   "source": [
    "# Measures of Spread"
   ]
  },
  {
   "cell_type": "code",
   "execution_count": 43,
   "id": "3f064f4f",
   "metadata": {},
   "outputs": [
    {
     "data": {
      "text/plain": [
       "hdlngth       6.630177\n",
       "skullw        6.598671\n",
       "totlngth     17.491141\n",
       "taill         3.351883\n",
       "footlgth    134.627121\n",
       "earconch     18.270875\n",
       "eye           1.061052\n",
       "chest         3.389535\n",
       "belly         8.581395\n",
       "dtype: float64"
      ]
     },
     "execution_count": 43,
     "metadata": {},
     "output_type": "execute_result"
    }
   ],
   "source": [
    "femalefiltered.var()"
   ]
  },
  {
   "cell_type": "markdown",
   "id": "c69517a4",
   "metadata": {},
   "source": [
    "**or the females we have outliers in totlenth, earconch   but the one that need a goood attention is th footlgth it has a very large value of spread**"
   ]
  },
  {
   "cell_type": "code",
   "execution_count": 44,
   "id": "ab6a348f",
   "metadata": {},
   "outputs": [
    {
     "data": {
      "text/html": [
       "<div>\n",
       "<style scoped>\n",
       "    .dataframe tbody tr th:only-of-type {\n",
       "        vertical-align: middle;\n",
       "    }\n",
       "\n",
       "    .dataframe tbody tr th {\n",
       "        vertical-align: top;\n",
       "    }\n",
       "\n",
       "    .dataframe thead th {\n",
       "        text-align: right;\n",
       "    }\n",
       "</style>\n",
       "<table border=\"1\" class=\"dataframe\">\n",
       "  <thead>\n",
       "    <tr style=\"text-align: right;\">\n",
       "      <th></th>\n",
       "      <th></th>\n",
       "      <th>footlgth</th>\n",
       "    </tr>\n",
       "    <tr>\n",
       "      <th>Pop</th>\n",
       "      <th>age</th>\n",
       "      <th></th>\n",
       "    </tr>\n",
       "  </thead>\n",
       "  <tbody>\n",
       "    <tr>\n",
       "      <th rowspan=\"7\" valign=\"top\">Vic</th>\n",
       "      <th>1.0</th>\n",
       "      <td>68.7</td>\n",
       "    </tr>\n",
       "    <tr>\n",
       "      <th>2.0</th>\n",
       "      <td>70.3</td>\n",
       "    </tr>\n",
       "    <tr>\n",
       "      <th>3.0</th>\n",
       "      <td>72.8</td>\n",
       "    </tr>\n",
       "    <tr>\n",
       "      <th>4.0</th>\n",
       "      <td>72.8</td>\n",
       "    </tr>\n",
       "    <tr>\n",
       "      <th>5.0</th>\n",
       "      <td>0.0</td>\n",
       "    </tr>\n",
       "    <tr>\n",
       "      <th>6.0</th>\n",
       "      <td>70.9</td>\n",
       "    </tr>\n",
       "    <tr>\n",
       "      <th>9.0</th>\n",
       "      <td>72.4</td>\n",
       "    </tr>\n",
       "    <tr>\n",
       "      <th rowspan=\"6\" valign=\"top\">other</th>\n",
       "      <th>2.0</th>\n",
       "      <td>63.1</td>\n",
       "    </tr>\n",
       "    <tr>\n",
       "      <th>3.0</th>\n",
       "      <td>60.3</td>\n",
       "    </tr>\n",
       "    <tr>\n",
       "      <th>4.0</th>\n",
       "      <td>60.7</td>\n",
       "    </tr>\n",
       "    <tr>\n",
       "      <th>5.0</th>\n",
       "      <td>64.0</td>\n",
       "    </tr>\n",
       "    <tr>\n",
       "      <th>6.0</th>\n",
       "      <td>63.5</td>\n",
       "    </tr>\n",
       "    <tr>\n",
       "      <th>7.0</th>\n",
       "      <td>65.4</td>\n",
       "    </tr>\n",
       "  </tbody>\n",
       "</table>\n",
       "</div>"
      ],
      "text/plain": [
       "           footlgth\n",
       "Pop   age          \n",
       "Vic   1.0      68.7\n",
       "      2.0      70.3\n",
       "      3.0      72.8\n",
       "      4.0      72.8\n",
       "      5.0       0.0\n",
       "      6.0      70.9\n",
       "      9.0      72.4\n",
       "other 2.0      63.1\n",
       "      3.0      60.3\n",
       "      4.0      60.7\n",
       "      5.0      64.0\n",
       "      6.0      63.5\n",
       "      7.0      65.4"
      ]
     },
     "execution_count": 44,
     "metadata": {},
     "output_type": "execute_result"
    }
   ],
   "source": [
    "femaledata.groupby(['Pop','age'])[['footlgth']].min()"
   ]
  },
  {
   "cell_type": "markdown",
   "id": "fcd02dcf",
   "metadata": {},
   "source": [
    "**this is showing that the oulier originated room a row that has a footlength of 0. could this be the place where i did fillna for the empty cells or coul it be that one of the possom doesnt have a foot(could she be injured?)**\n",
    "\n",
    "\n",
    "so let me go down to the footlght column and check for my self\n"
   ]
  },
  {
   "cell_type": "code",
   "execution_count": 45,
   "id": "9b2669bd",
   "metadata": {},
   "outputs": [
    {
     "data": {
      "text/html": [
       "<div>\n",
       "<style scoped>\n",
       "    .dataframe tbody tr th:only-of-type {\n",
       "        vertical-align: middle;\n",
       "    }\n",
       "\n",
       "    .dataframe tbody tr th {\n",
       "        vertical-align: top;\n",
       "    }\n",
       "\n",
       "    .dataframe thead th {\n",
       "        text-align: right;\n",
       "    }\n",
       "</style>\n",
       "<table border=\"1\" class=\"dataframe\">\n",
       "  <thead>\n",
       "    <tr style=\"text-align: right;\">\n",
       "      <th></th>\n",
       "      <th>hdlngth</th>\n",
       "      <th>skullw</th>\n",
       "      <th>totlngth</th>\n",
       "      <th>taill</th>\n",
       "      <th>footlgth</th>\n",
       "      <th>earconch</th>\n",
       "      <th>eye</th>\n",
       "      <th>chest</th>\n",
       "      <th>belly</th>\n",
       "    </tr>\n",
       "    <tr>\n",
       "      <th>Pop</th>\n",
       "      <th></th>\n",
       "      <th></th>\n",
       "      <th></th>\n",
       "      <th></th>\n",
       "      <th></th>\n",
       "      <th></th>\n",
       "      <th></th>\n",
       "      <th></th>\n",
       "      <th></th>\n",
       "    </tr>\n",
       "  </thead>\n",
       "  <tbody>\n",
       "    <tr>\n",
       "      <th>Vic</th>\n",
       "      <td>88.4</td>\n",
       "      <td>57.0</td>\n",
       "      <td>83.0</td>\n",
       "      <td>36.5</td>\n",
       "      <td>0.0</td>\n",
       "      <td>40.3</td>\n",
       "      <td>15.9</td>\n",
       "      <td>27.0</td>\n",
       "      <td>30.5</td>\n",
       "    </tr>\n",
       "  </tbody>\n",
       "</table>\n",
       "</div>"
      ],
      "text/plain": [
       "     hdlngth  skullw  totlngth  taill  footlgth  earconch   eye  chest  belly\n",
       "Pop                                                                          \n",
       "Vic     88.4    57.0      83.0   36.5       0.0      40.3  15.9   27.0   30.5"
      ]
     },
     "execution_count": 45,
     "metadata": {},
     "output_type": "execute_result"
    }
   ],
   "source": [
    "femalefiltered[femalefiltered['footlgth'] == 0]"
   ]
  },
  {
   "cell_type": "markdown",
   "id": "41a069e7",
   "metadata": {},
   "source": [
    "so it is just one row that has this which means it was the row where i did a fill na of 0\n",
    "\n",
    "should i drop the row since it is having a negative impact on my data?"
   ]
  },
  {
   "cell_type": "markdown",
   "id": "6a05048a",
   "metadata": {},
   "source": [
    "# Percentile and interquartile range"
   ]
  },
  {
   "cell_type": "code",
   "execution_count": 46,
   "id": "b1e9c953",
   "metadata": {},
   "outputs": [],
   "source": [
    "percentilesmale = malefiltered.quantile([0.10, 0.25, 0.50, 0.75])\n",
    "percentilesfemale = femalefiltered.quantile([0.10, 0.25, 0.50, 0.75])\n",
    "\n",
    "percentiles1 = data.loc[:,'age':'belly']\n",
    "percentiles = percentiles1.quantile([0.10, 0.25, 0.50, 0.75])\n"
   ]
  },
  {
   "cell_type": "code",
   "execution_count": 47,
   "id": "27aa598d",
   "metadata": {},
   "outputs": [
    {
     "name": "stdout",
     "output_type": "stream",
     "text": [
      "For the whole data\n"
     ]
    },
    {
     "data": {
      "text/html": [
       "<div>\n",
       "<style scoped>\n",
       "    .dataframe tbody tr th:only-of-type {\n",
       "        vertical-align: middle;\n",
       "    }\n",
       "\n",
       "    .dataframe tbody tr th {\n",
       "        vertical-align: top;\n",
       "    }\n",
       "\n",
       "    .dataframe thead th {\n",
       "        text-align: right;\n",
       "    }\n",
       "</style>\n",
       "<table border=\"1\" class=\"dataframe\">\n",
       "  <thead>\n",
       "    <tr style=\"text-align: right;\">\n",
       "      <th></th>\n",
       "      <th>age</th>\n",
       "      <th>hdlngth</th>\n",
       "      <th>skullw</th>\n",
       "      <th>totlngth</th>\n",
       "      <th>taill</th>\n",
       "      <th>footlgth</th>\n",
       "      <th>earconch</th>\n",
       "      <th>eye</th>\n",
       "      <th>chest</th>\n",
       "      <th>belly</th>\n",
       "    </tr>\n",
       "  </thead>\n",
       "  <tbody>\n",
       "    <tr>\n",
       "      <th>0.10</th>\n",
       "      <td>1.0</td>\n",
       "      <td>88.400</td>\n",
       "      <td>53.860</td>\n",
       "      <td>81.5</td>\n",
       "      <td>35.000</td>\n",
       "      <td>62.83</td>\n",
       "      <td>43.36</td>\n",
       "      <td>14.000</td>\n",
       "      <td>24.5</td>\n",
       "      <td>29.000</td>\n",
       "    </tr>\n",
       "    <tr>\n",
       "      <th>0.25</th>\n",
       "      <td>2.0</td>\n",
       "      <td>90.675</td>\n",
       "      <td>54.975</td>\n",
       "      <td>84.0</td>\n",
       "      <td>35.875</td>\n",
       "      <td>64.50</td>\n",
       "      <td>44.80</td>\n",
       "      <td>14.400</td>\n",
       "      <td>25.5</td>\n",
       "      <td>31.000</td>\n",
       "    </tr>\n",
       "    <tr>\n",
       "      <th>0.50</th>\n",
       "      <td>3.0</td>\n",
       "      <td>92.800</td>\n",
       "      <td>56.350</td>\n",
       "      <td>88.0</td>\n",
       "      <td>37.000</td>\n",
       "      <td>67.95</td>\n",
       "      <td>46.80</td>\n",
       "      <td>14.900</td>\n",
       "      <td>27.0</td>\n",
       "      <td>32.500</td>\n",
       "    </tr>\n",
       "    <tr>\n",
       "      <th>0.75</th>\n",
       "      <td>5.0</td>\n",
       "      <td>94.725</td>\n",
       "      <td>58.100</td>\n",
       "      <td>90.0</td>\n",
       "      <td>38.000</td>\n",
       "      <td>72.50</td>\n",
       "      <td>52.00</td>\n",
       "      <td>15.725</td>\n",
       "      <td>28.0</td>\n",
       "      <td>34.125</td>\n",
       "    </tr>\n",
       "  </tbody>\n",
       "</table>\n",
       "</div>"
      ],
      "text/plain": [
       "      age  hdlngth  skullw  totlngth   taill  footlgth  earconch     eye  \\\n",
       "0.10  1.0   88.400  53.860      81.5  35.000     62.83     43.36  14.000   \n",
       "0.25  2.0   90.675  54.975      84.0  35.875     64.50     44.80  14.400   \n",
       "0.50  3.0   92.800  56.350      88.0  37.000     67.95     46.80  14.900   \n",
       "0.75  5.0   94.725  58.100      90.0  38.000     72.50     52.00  15.725   \n",
       "\n",
       "      chest   belly  \n",
       "0.10   24.5  29.000  \n",
       "0.25   25.5  31.000  \n",
       "0.50   27.0  32.500  \n",
       "0.75   28.0  34.125  "
      ]
     },
     "execution_count": 47,
     "metadata": {},
     "output_type": "execute_result"
    }
   ],
   "source": [
    "print('For the whole data')\n",
    "percentiles\n"
   ]
  },
  {
   "cell_type": "code",
   "execution_count": 48,
   "id": "c11dca59",
   "metadata": {},
   "outputs": [
    {
     "name": "stdout",
     "output_type": "stream",
     "text": [
      "\n",
      "for the males\n"
     ]
    },
    {
     "data": {
      "text/html": [
       "<div>\n",
       "<style scoped>\n",
       "    .dataframe tbody tr th:only-of-type {\n",
       "        vertical-align: middle;\n",
       "    }\n",
       "\n",
       "    .dataframe tbody tr th {\n",
       "        vertical-align: top;\n",
       "    }\n",
       "\n",
       "    .dataframe thead th {\n",
       "        text-align: right;\n",
       "    }\n",
       "</style>\n",
       "<table border=\"1\" class=\"dataframe\">\n",
       "  <thead>\n",
       "    <tr style=\"text-align: right;\">\n",
       "      <th></th>\n",
       "      <th>hdlngth</th>\n",
       "      <th>skullw</th>\n",
       "      <th>totlngth</th>\n",
       "      <th>taill</th>\n",
       "      <th>footlgth</th>\n",
       "      <th>earconch</th>\n",
       "      <th>eye</th>\n",
       "      <th>chest</th>\n",
       "      <th>belly</th>\n",
       "    </tr>\n",
       "  </thead>\n",
       "  <tbody>\n",
       "    <tr>\n",
       "      <th>0.10</th>\n",
       "      <td>86.7</td>\n",
       "      <td>53.1</td>\n",
       "      <td>81.0</td>\n",
       "      <td>34.5</td>\n",
       "      <td>62.9</td>\n",
       "      <td>43.5</td>\n",
       "      <td>14.2</td>\n",
       "      <td>24.0</td>\n",
       "      <td>28.5</td>\n",
       "    </tr>\n",
       "    <tr>\n",
       "      <th>0.25</th>\n",
       "      <td>90.7</td>\n",
       "      <td>54.8</td>\n",
       "      <td>84.0</td>\n",
       "      <td>35.5</td>\n",
       "      <td>64.5</td>\n",
       "      <td>44.8</td>\n",
       "      <td>14.5</td>\n",
       "      <td>25.0</td>\n",
       "      <td>30.5</td>\n",
       "    </tr>\n",
       "    <tr>\n",
       "      <th>0.50</th>\n",
       "      <td>93.2</td>\n",
       "      <td>56.3</td>\n",
       "      <td>86.0</td>\n",
       "      <td>36.5</td>\n",
       "      <td>66.9</td>\n",
       "      <td>46.4</td>\n",
       "      <td>15.0</td>\n",
       "      <td>27.0</td>\n",
       "      <td>32.0</td>\n",
       "    </tr>\n",
       "    <tr>\n",
       "      <th>0.75</th>\n",
       "      <td>95.4</td>\n",
       "      <td>59.0</td>\n",
       "      <td>89.5</td>\n",
       "      <td>38.0</td>\n",
       "      <td>71.5</td>\n",
       "      <td>51.8</td>\n",
       "      <td>15.9</td>\n",
       "      <td>28.0</td>\n",
       "      <td>35.0</td>\n",
       "    </tr>\n",
       "  </tbody>\n",
       "</table>\n",
       "</div>"
      ],
      "text/plain": [
       "      hdlngth  skullw  totlngth  taill  footlgth  earconch   eye  chest  belly\n",
       "0.10     86.7    53.1      81.0   34.5      62.9      43.5  14.2   24.0   28.5\n",
       "0.25     90.7    54.8      84.0   35.5      64.5      44.8  14.5   25.0   30.5\n",
       "0.50     93.2    56.3      86.0   36.5      66.9      46.4  15.0   27.0   32.0\n",
       "0.75     95.4    59.0      89.5   38.0      71.5      51.8  15.9   28.0   35.0"
      ]
     },
     "execution_count": 48,
     "metadata": {},
     "output_type": "execute_result"
    }
   ],
   "source": [
    "print(\"\\nfor the males\")\n",
    "\n",
    "percentilesmale"
   ]
  },
  {
   "cell_type": "code",
   "execution_count": 49,
   "id": "f6472f95",
   "metadata": {},
   "outputs": [
    {
     "name": "stdout",
     "output_type": "stream",
     "text": [
      "\n",
      "for the females\n",
      "\n"
     ]
    },
    {
     "data": {
      "text/html": [
       "<div>\n",
       "<style scoped>\n",
       "    .dataframe tbody tr th:only-of-type {\n",
       "        vertical-align: middle;\n",
       "    }\n",
       "\n",
       "    .dataframe tbody tr th {\n",
       "        vertical-align: top;\n",
       "    }\n",
       "\n",
       "    .dataframe thead th {\n",
       "        text-align: right;\n",
       "    }\n",
       "</style>\n",
       "<table border=\"1\" class=\"dataframe\">\n",
       "  <thead>\n",
       "    <tr style=\"text-align: right;\">\n",
       "      <th></th>\n",
       "      <th>hdlngth</th>\n",
       "      <th>skullw</th>\n",
       "      <th>totlngth</th>\n",
       "      <th>taill</th>\n",
       "      <th>footlgth</th>\n",
       "      <th>earconch</th>\n",
       "      <th>eye</th>\n",
       "      <th>chest</th>\n",
       "      <th>belly</th>\n",
       "    </tr>\n",
       "  </thead>\n",
       "  <tbody>\n",
       "    <tr>\n",
       "      <th>0.10</th>\n",
       "      <td>88.82</td>\n",
       "      <td>54.08</td>\n",
       "      <td>82.60</td>\n",
       "      <td>35.00</td>\n",
       "      <td>62.20</td>\n",
       "      <td>43.34</td>\n",
       "      <td>13.60</td>\n",
       "      <td>25.0</td>\n",
       "      <td>30.00</td>\n",
       "    </tr>\n",
       "    <tr>\n",
       "      <th>0.25</th>\n",
       "      <td>90.75</td>\n",
       "      <td>55.20</td>\n",
       "      <td>85.25</td>\n",
       "      <td>36.00</td>\n",
       "      <td>64.45</td>\n",
       "      <td>44.65</td>\n",
       "      <td>14.10</td>\n",
       "      <td>26.0</td>\n",
       "      <td>31.25</td>\n",
       "    </tr>\n",
       "    <tr>\n",
       "      <th>0.50</th>\n",
       "      <td>92.50</td>\n",
       "      <td>56.40</td>\n",
       "      <td>88.50</td>\n",
       "      <td>37.50</td>\n",
       "      <td>70.30</td>\n",
       "      <td>50.80</td>\n",
       "      <td>14.80</td>\n",
       "      <td>28.0</td>\n",
       "      <td>33.00</td>\n",
       "    </tr>\n",
       "    <tr>\n",
       "      <th>0.75</th>\n",
       "      <td>93.80</td>\n",
       "      <td>57.65</td>\n",
       "      <td>90.50</td>\n",
       "      <td>38.25</td>\n",
       "      <td>72.80</td>\n",
       "      <td>52.30</td>\n",
       "      <td>15.45</td>\n",
       "      <td>28.5</td>\n",
       "      <td>34.00</td>\n",
       "    </tr>\n",
       "  </tbody>\n",
       "</table>\n",
       "</div>"
      ],
      "text/plain": [
       "      hdlngth  skullw  totlngth  taill  footlgth  earconch    eye  chest  \\\n",
       "0.10    88.82   54.08     82.60  35.00     62.20     43.34  13.60   25.0   \n",
       "0.25    90.75   55.20     85.25  36.00     64.45     44.65  14.10   26.0   \n",
       "0.50    92.50   56.40     88.50  37.50     70.30     50.80  14.80   28.0   \n",
       "0.75    93.80   57.65     90.50  38.25     72.80     52.30  15.45   28.5   \n",
       "\n",
       "      belly  \n",
       "0.10  30.00  \n",
       "0.25  31.25  \n",
       "0.50  33.00  \n",
       "0.75  34.00  "
      ]
     },
     "execution_count": 49,
     "metadata": {},
     "output_type": "execute_result"
    }
   ],
   "source": [
    "print(\"\\nfor the females\\n\")\n",
    "percentilesfemale\n",
    "\n"
   ]
  },
  {
   "cell_type": "code",
   "execution_count": 50,
   "id": "bd55d14b",
   "metadata": {},
   "outputs": [
    {
     "name": "stdout",
     "output_type": "stream",
     "text": [
      "age\t\t 3.0\n",
      "hdlngth\t\t 4.049999999999997\n",
      "skullw\t\t 3.125\n",
      "totlngth\t\t 6.0\n",
      "taill\t\t 2.125\n",
      "footlgth\t\t 8.0\n",
      "earconch\t\t 7.200000000000003\n",
      "eye\t\t 1.3249999999999993\n",
      "chest\t\t 2.5\n",
      "belly\t\t 3.125\n"
     ]
    }
   ],
   "source": [
    "for i in  list(percentiles):\n",
    "    iqr = percentiles.loc[0.75,i] - percentiles.loc[0.25,i]\n",
    "    print (f'{i}\\t\\t',iqr)\n"
   ]
  },
  {
   "cell_type": "code",
   "execution_count": 51,
   "id": "54e5f6d5",
   "metadata": {},
   "outputs": [
    {
     "name": "stdout",
     "output_type": "stream",
     "text": [
      "hdlngth\t\t 4.700000000000003\n",
      "skullw\t\t 4.200000000000003\n",
      "totlngth\t\t 5.5\n",
      "taill\t\t 2.5\n",
      "footlgth\t\t 7.0\n",
      "earconch\t\t 7.0\n",
      "eye\t\t 1.4000000000000004\n",
      "chest\t\t 3.0\n",
      "belly\t\t 4.5\n"
     ]
    }
   ],
   "source": [
    "for i in  list(percentilesmale):\n",
    "    iqr = percentilesmale.loc[0.75,i] - percentilesmale.loc[0.25,i]\n",
    "    print (f'{i}\\t\\t',iqr)"
   ]
  },
  {
   "cell_type": "code",
   "execution_count": 52,
   "id": "90ddc076",
   "metadata": {},
   "outputs": [
    {
     "name": "stdout",
     "output_type": "stream",
     "text": [
      "hdlngth\t\t 3.049999999999997\n",
      "skullw\t\t 2.450000000000003\n",
      "totlngth\t\t 5.25\n",
      "taill\t\t 2.25\n",
      "footlgth\t\t 8.350000000000009\n",
      "earconch\t\t 7.6499999999999915\n",
      "eye\t\t 1.3499999999999996\n",
      "chest\t\t 2.5\n",
      "belly\t\t 2.75\n"
     ]
    }
   ],
   "source": [
    "for i in  list(percentilesfemale):\n",
    "    iqr = percentilesfemale.loc[0.75,i] - percentilesfemale.loc[0.25,i]\n",
    "    print (f'{i}\\t\\t',iqr)"
   ]
  },
  {
   "cell_type": "markdown",
   "id": "0471a89e",
   "metadata": {},
   "source": [
    "# Skewness"
   ]
  },
  {
   "cell_type": "code",
   "execution_count": 53,
   "id": "41aaedbf",
   "metadata": {},
   "outputs": [],
   "source": [
    "# skewness for the whole population data\n",
    "population_skew = percentiles1.skew()\n",
    "male_skew = malefiltered.skew()\n",
    "female_skew = femalefiltered.skew()"
   ]
  },
  {
   "cell_type": "code",
   "execution_count": 54,
   "id": "d9340905",
   "metadata": {},
   "outputs": [
    {
     "name": "stdout",
     "output_type": "stream",
     "text": [
      "Population skewness \n",
      " age         0.453608\n",
      "hdlngth    -0.055974\n",
      "skullw      1.007540\n",
      "totlngth   -0.285266\n",
      "taill       0.167869\n",
      "footlgth   -5.908088\n",
      "earconch    0.154808\n",
      "eye         0.392741\n",
      "chest      -0.055511\n",
      "belly       0.073975\n",
      "dtype: float64\n"
     ]
    }
   ],
   "source": [
    "print(\"Population skewness \\n\",population_skew)"
   ]
  },
  {
   "cell_type": "code",
   "execution_count": 55,
   "id": "43d44616",
   "metadata": {},
   "outputs": [
    {
     "name": "stdout",
     "output_type": "stream",
     "text": [
      "\n",
      "Male skew: \n",
      " hdlngth    -0.080197\n",
      "skullw      0.714084\n",
      "totlngth   -0.093342\n",
      "taill       0.504562\n",
      "footlgth    0.214397\n",
      "earconch    0.516551\n",
      "eye         0.481375\n",
      "chest       0.063709\n",
      "belly      -0.066829\n",
      "dtype: float64\n"
     ]
    }
   ],
   "source": [
    "print(\"\\nMale skew: \\n\",male_skew)"
   ]
  },
  {
   "cell_type": "code",
   "execution_count": 56,
   "id": "939f3382",
   "metadata": {},
   "outputs": [
    {
     "name": "stdout",
     "output_type": "stream",
     "text": [
      "\n",
      "female skewness\n",
      " hdlngth    -0.776119\n",
      "skullw      1.719264\n",
      "totlngth   -0.588824\n",
      "taill      -0.474552\n",
      "footlgth   -4.849018\n",
      "earconch   -0.304123\n",
      "eye         0.315800\n",
      "chest      -0.121205\n",
      "belly       0.169161\n",
      "dtype: float64\n"
     ]
    }
   ],
   "source": [
    "print('\\nfemale skewness\\n',female_skew)"
   ]
  },
  {
   "cell_type": "markdown",
   "id": "cad7207b",
   "metadata": {},
   "source": [
    "**The skewness for all the column is less than 3 so it is platykurtic which means light tails and a flatter peak**\n",
    "\n",
    "but the female data had a bigger skew of -4.8 and 1.7 i want to know what that means \n",
    "\n",
    "the population too has a skulllength andd footlenght of 1 and -5 this is also something i should look into\n",
    "\n",
    "\n",
    "**The male population has a skewwness closer to zero so it is closer to being a normal distribution**"
   ]
  },
  {
   "cell_type": "code",
   "execution_count": 57,
   "id": "aab44b6b",
   "metadata": {},
   "outputs": [
    {
     "data": {
      "text/html": [
       "<div>\n",
       "<style scoped>\n",
       "    .dataframe tbody tr th:only-of-type {\n",
       "        vertical-align: middle;\n",
       "    }\n",
       "\n",
       "    .dataframe tbody tr th {\n",
       "        vertical-align: top;\n",
       "    }\n",
       "\n",
       "    .dataframe thead th {\n",
       "        text-align: right;\n",
       "    }\n",
       "</style>\n",
       "<table border=\"1\" class=\"dataframe\">\n",
       "  <thead>\n",
       "    <tr style=\"text-align: right;\">\n",
       "      <th></th>\n",
       "      <th>hdlngth</th>\n",
       "      <th>skullw</th>\n",
       "      <th>totlngth</th>\n",
       "      <th>taill</th>\n",
       "      <th>footlgth</th>\n",
       "      <th>earconch</th>\n",
       "      <th>eye</th>\n",
       "      <th>chest</th>\n",
       "      <th>belly</th>\n",
       "    </tr>\n",
       "  </thead>\n",
       "  <tbody>\n",
       "    <tr>\n",
       "      <th>count</th>\n",
       "      <td>61.000000</td>\n",
       "      <td>61.000000</td>\n",
       "      <td>61.000000</td>\n",
       "      <td>61.000000</td>\n",
       "      <td>61.000000</td>\n",
       "      <td>61.000000</td>\n",
       "      <td>61.000000</td>\n",
       "      <td>61.000000</td>\n",
       "      <td>61.000000</td>\n",
       "    </tr>\n",
       "    <tr>\n",
       "      <th>mean</th>\n",
       "      <td>92.922951</td>\n",
       "      <td>57.091803</td>\n",
       "      <td>86.511475</td>\n",
       "      <td>36.942623</td>\n",
       "      <td>68.009836</td>\n",
       "      <td>47.816393</td>\n",
       "      <td>15.211475</td>\n",
       "      <td>26.762295</td>\n",
       "      <td>32.377049</td>\n",
       "    </tr>\n",
       "    <tr>\n",
       "      <th>std</th>\n",
       "      <td>4.126354</td>\n",
       "      <td>3.451777</td>\n",
       "      <td>4.339896</td>\n",
       "      <td>2.057706</td>\n",
       "      <td>3.981905</td>\n",
       "      <td>3.994587</td>\n",
       "      <td>1.041169</td>\n",
       "      <td>2.161417</td>\n",
       "      <td>2.642057</td>\n",
       "    </tr>\n",
       "    <tr>\n",
       "      <th>min</th>\n",
       "      <td>82.500000</td>\n",
       "      <td>50.000000</td>\n",
       "      <td>76.000000</td>\n",
       "      <td>32.000000</td>\n",
       "      <td>62.000000</td>\n",
       "      <td>41.700000</td>\n",
       "      <td>12.800000</td>\n",
       "      <td>22.000000</td>\n",
       "      <td>27.000000</td>\n",
       "    </tr>\n",
       "    <tr>\n",
       "      <th>25%</th>\n",
       "      <td>90.700000</td>\n",
       "      <td>54.800000</td>\n",
       "      <td>84.000000</td>\n",
       "      <td>35.500000</td>\n",
       "      <td>64.500000</td>\n",
       "      <td>44.800000</td>\n",
       "      <td>14.500000</td>\n",
       "      <td>25.000000</td>\n",
       "      <td>30.500000</td>\n",
       "    </tr>\n",
       "    <tr>\n",
       "      <th>50%</th>\n",
       "      <td>93.200000</td>\n",
       "      <td>56.300000</td>\n",
       "      <td>86.000000</td>\n",
       "      <td>36.500000</td>\n",
       "      <td>66.900000</td>\n",
       "      <td>46.400000</td>\n",
       "      <td>15.000000</td>\n",
       "      <td>27.000000</td>\n",
       "      <td>32.000000</td>\n",
       "    </tr>\n",
       "    <tr>\n",
       "      <th>75%</th>\n",
       "      <td>95.400000</td>\n",
       "      <td>59.000000</td>\n",
       "      <td>89.500000</td>\n",
       "      <td>38.000000</td>\n",
       "      <td>71.500000</td>\n",
       "      <td>51.800000</td>\n",
       "      <td>15.900000</td>\n",
       "      <td>28.000000</td>\n",
       "      <td>35.000000</td>\n",
       "    </tr>\n",
       "    <tr>\n",
       "      <th>max</th>\n",
       "      <td>103.100000</td>\n",
       "      <td>68.600000</td>\n",
       "      <td>96.000000</td>\n",
       "      <td>43.000000</td>\n",
       "      <td>75.000000</td>\n",
       "      <td>56.200000</td>\n",
       "      <td>17.800000</td>\n",
       "      <td>32.000000</td>\n",
       "      <td>38.000000</td>\n",
       "    </tr>\n",
       "  </tbody>\n",
       "</table>\n",
       "</div>"
      ],
      "text/plain": [
       "          hdlngth     skullw   totlngth      taill   footlgth   earconch  \\\n",
       "count   61.000000  61.000000  61.000000  61.000000  61.000000  61.000000   \n",
       "mean    92.922951  57.091803  86.511475  36.942623  68.009836  47.816393   \n",
       "std      4.126354   3.451777   4.339896   2.057706   3.981905   3.994587   \n",
       "min     82.500000  50.000000  76.000000  32.000000  62.000000  41.700000   \n",
       "25%     90.700000  54.800000  84.000000  35.500000  64.500000  44.800000   \n",
       "50%     93.200000  56.300000  86.000000  36.500000  66.900000  46.400000   \n",
       "75%     95.400000  59.000000  89.500000  38.000000  71.500000  51.800000   \n",
       "max    103.100000  68.600000  96.000000  43.000000  75.000000  56.200000   \n",
       "\n",
       "             eye      chest      belly  \n",
       "count  61.000000  61.000000  61.000000  \n",
       "mean   15.211475  26.762295  32.377049  \n",
       "std     1.041169   2.161417   2.642057  \n",
       "min    12.800000  22.000000  27.000000  \n",
       "25%    14.500000  25.000000  30.500000  \n",
       "50%    15.000000  27.000000  32.000000  \n",
       "75%    15.900000  28.000000  35.000000  \n",
       "max    17.800000  32.000000  38.000000  "
      ]
     },
     "execution_count": 57,
     "metadata": {},
     "output_type": "execute_result"
    }
   ],
   "source": [
    "malefiltered.describe()"
   ]
  },
  {
   "cell_type": "code",
   "execution_count": 58,
   "id": "d0426843",
   "metadata": {},
   "outputs": [
    {
     "data": {
      "text/html": [
       "<div>\n",
       "<style scoped>\n",
       "    .dataframe tbody tr th:only-of-type {\n",
       "        vertical-align: middle;\n",
       "    }\n",
       "\n",
       "    .dataframe tbody tr th {\n",
       "        vertical-align: top;\n",
       "    }\n",
       "\n",
       "    .dataframe thead th {\n",
       "        text-align: right;\n",
       "    }\n",
       "</style>\n",
       "<table border=\"1\" class=\"dataframe\">\n",
       "  <thead>\n",
       "    <tr style=\"text-align: right;\">\n",
       "      <th></th>\n",
       "      <th>hdlngth</th>\n",
       "      <th>skullw</th>\n",
       "      <th>totlngth</th>\n",
       "      <th>taill</th>\n",
       "      <th>footlgth</th>\n",
       "      <th>earconch</th>\n",
       "      <th>eye</th>\n",
       "      <th>chest</th>\n",
       "      <th>belly</th>\n",
       "    </tr>\n",
       "  </thead>\n",
       "  <tbody>\n",
       "    <tr>\n",
       "      <th>count</th>\n",
       "      <td>43.000000</td>\n",
       "      <td>43.000000</td>\n",
       "      <td>43.000000</td>\n",
       "      <td>43.000000</td>\n",
       "      <td>43.000000</td>\n",
       "      <td>43.000000</td>\n",
       "      <td>43.000000</td>\n",
       "      <td>43.000000</td>\n",
       "      <td>43.000000</td>\n",
       "    </tr>\n",
       "    <tr>\n",
       "      <th>mean</th>\n",
       "      <td>92.148837</td>\n",
       "      <td>56.588372</td>\n",
       "      <td>87.906977</td>\n",
       "      <td>37.104651</td>\n",
       "      <td>67.504651</td>\n",
       "      <td>48.576744</td>\n",
       "      <td>14.811628</td>\n",
       "      <td>27.337209</td>\n",
       "      <td>32.883721</td>\n",
       "    </tr>\n",
       "    <tr>\n",
       "      <th>std</th>\n",
       "      <td>2.574913</td>\n",
       "      <td>2.568788</td>\n",
       "      <td>4.182241</td>\n",
       "      <td>1.830815</td>\n",
       "      <td>11.602893</td>\n",
       "      <td>4.274444</td>\n",
       "      <td>1.030074</td>\n",
       "      <td>1.841069</td>\n",
       "      <td>2.929402</td>\n",
       "    </tr>\n",
       "    <tr>\n",
       "      <th>min</th>\n",
       "      <td>84.700000</td>\n",
       "      <td>51.500000</td>\n",
       "      <td>75.000000</td>\n",
       "      <td>32.000000</td>\n",
       "      <td>0.000000</td>\n",
       "      <td>40.300000</td>\n",
       "      <td>13.000000</td>\n",
       "      <td>23.000000</td>\n",
       "      <td>25.000000</td>\n",
       "    </tr>\n",
       "    <tr>\n",
       "      <th>25%</th>\n",
       "      <td>90.750000</td>\n",
       "      <td>55.200000</td>\n",
       "      <td>85.250000</td>\n",
       "      <td>36.000000</td>\n",
       "      <td>64.450000</td>\n",
       "      <td>44.650000</td>\n",
       "      <td>14.100000</td>\n",
       "      <td>26.000000</td>\n",
       "      <td>31.250000</td>\n",
       "    </tr>\n",
       "    <tr>\n",
       "      <th>50%</th>\n",
       "      <td>92.500000</td>\n",
       "      <td>56.400000</td>\n",
       "      <td>88.500000</td>\n",
       "      <td>37.500000</td>\n",
       "      <td>70.300000</td>\n",
       "      <td>50.800000</td>\n",
       "      <td>14.800000</td>\n",
       "      <td>28.000000</td>\n",
       "      <td>33.000000</td>\n",
       "    </tr>\n",
       "    <tr>\n",
       "      <th>75%</th>\n",
       "      <td>93.800000</td>\n",
       "      <td>57.650000</td>\n",
       "      <td>90.500000</td>\n",
       "      <td>38.250000</td>\n",
       "      <td>72.800000</td>\n",
       "      <td>52.300000</td>\n",
       "      <td>15.450000</td>\n",
       "      <td>28.500000</td>\n",
       "      <td>34.000000</td>\n",
       "    </tr>\n",
       "    <tr>\n",
       "      <th>max</th>\n",
       "      <td>96.900000</td>\n",
       "      <td>67.700000</td>\n",
       "      <td>96.500000</td>\n",
       "      <td>41.000000</td>\n",
       "      <td>77.900000</td>\n",
       "      <td>53.900000</td>\n",
       "      <td>17.400000</td>\n",
       "      <td>31.000000</td>\n",
       "      <td>40.000000</td>\n",
       "    </tr>\n",
       "  </tbody>\n",
       "</table>\n",
       "</div>"
      ],
      "text/plain": [
       "         hdlngth     skullw   totlngth      taill   footlgth   earconch  \\\n",
       "count  43.000000  43.000000  43.000000  43.000000  43.000000  43.000000   \n",
       "mean   92.148837  56.588372  87.906977  37.104651  67.504651  48.576744   \n",
       "std     2.574913   2.568788   4.182241   1.830815  11.602893   4.274444   \n",
       "min    84.700000  51.500000  75.000000  32.000000   0.000000  40.300000   \n",
       "25%    90.750000  55.200000  85.250000  36.000000  64.450000  44.650000   \n",
       "50%    92.500000  56.400000  88.500000  37.500000  70.300000  50.800000   \n",
       "75%    93.800000  57.650000  90.500000  38.250000  72.800000  52.300000   \n",
       "max    96.900000  67.700000  96.500000  41.000000  77.900000  53.900000   \n",
       "\n",
       "             eye      chest      belly  \n",
       "count  43.000000  43.000000  43.000000  \n",
       "mean   14.811628  27.337209  32.883721  \n",
       "std     1.030074   1.841069   2.929402  \n",
       "min    13.000000  23.000000  25.000000  \n",
       "25%    14.100000  26.000000  31.250000  \n",
       "50%    14.800000  28.000000  33.000000  \n",
       "75%    15.450000  28.500000  34.000000  \n",
       "max    17.400000  31.000000  40.000000  "
      ]
     },
     "execution_count": 58,
     "metadata": {},
     "output_type": "execute_result"
    }
   ],
   "source": [
    "femalefiltered.describe()"
   ]
  },
  {
   "cell_type": "markdown",
   "id": "59b3c81a",
   "metadata": {},
   "source": [
    "# kurtosis"
   ]
  },
  {
   "cell_type": "code",
   "execution_count": 59,
   "id": "06b0e025",
   "metadata": {},
   "outputs": [],
   "source": [
    "# kurtosis for the whole population data\n",
    "population_kurt = percentiles1.kurtosis()\n",
    "male_kurt = malefiltered.kurtosis()\n",
    "female_kurt = femalefiltered.kurtosis()"
   ]
  },
  {
   "cell_type": "code",
   "execution_count": 60,
   "id": "b6608aea",
   "metadata": {},
   "outputs": [
    {
     "data": {
      "text/plain": [
       "age         -0.264068\n",
       "hdlngth      0.890902\n",
       "skullw       2.476359\n",
       "totlngth    -0.104531\n",
       "taill        0.397197\n",
       "footlgth    49.870011\n",
       "earconch    -1.361930\n",
       "eye          0.054552\n",
       "chest       -0.280747\n",
       "belly        0.172582\n",
       "dtype: float64"
      ]
     },
     "execution_count": 60,
     "metadata": {},
     "output_type": "execute_result"
    }
   ],
   "source": [
    "#population\n",
    "population_kurt"
   ]
  },
  {
   "cell_type": "code",
   "execution_count": 61,
   "id": "a806a51e",
   "metadata": {},
   "outputs": [
    {
     "data": {
      "text/plain": [
       "hdlngth     0.343549\n",
       "skullw      1.170374\n",
       "totlngth   -0.458964\n",
       "taill       0.580597\n",
       "footlgth   -1.362882\n",
       "earconch   -1.070849\n",
       "eye         0.040924\n",
       "chest      -0.260781\n",
       "belly      -0.748588\n",
       "dtype: float64"
      ]
     },
     "execution_count": 61,
     "metadata": {},
     "output_type": "execute_result"
    }
   ],
   "source": [
    "male_kurt"
   ]
  },
  {
   "cell_type": "code",
   "execution_count": 62,
   "id": "ea32f050",
   "metadata": {},
   "outputs": [
    {
     "data": {
      "text/plain": [
       "hdlngth      0.809784\n",
       "skullw       7.561961\n",
       "totlngth     1.045315\n",
       "taill        0.333775\n",
       "footlgth    28.325476\n",
       "earconch    -1.444657\n",
       "eye          0.054242\n",
       "chest       -0.281966\n",
       "belly        1.067351\n",
       "dtype: float64"
      ]
     },
     "execution_count": 62,
     "metadata": {},
     "output_type": "execute_result"
    }
   ],
   "source": [
    "female_kurt"
   ]
  },
  {
   "cell_type": "markdown",
   "id": "f1180ca2",
   "metadata": {},
   "source": [
    "malefiltered\n",
    "\n",
    "femalefiltered\n",
    "\n",
    "data"
   ]
  },
  {
   "cell_type": "markdown",
   "id": "9f4c0575",
   "metadata": {},
   "source": [
    "# PLOTS"
   ]
  },
  {
   "cell_type": "code",
   "execution_count": 69,
   "id": "56c8c60a",
   "metadata": {},
   "outputs": [
    {
     "data": {
      "text/plain": [
       "Index(['case', 'site', 'sex', 'age', 'hdlngth', 'skullw', 'totlngth', 'taill',\n",
       "       'footlgth', 'earconch', 'eye', 'chest', 'belly'],\n",
       "      dtype='object')"
      ]
     },
     "execution_count": 69,
     "metadata": {},
     "output_type": "execute_result"
    }
   ],
   "source": [
    "data.columns"
   ]
  },
  {
   "cell_type": "code",
   "execution_count": 125,
   "id": "71295ec9",
   "metadata": {},
   "outputs": [
    {
     "name": "stdout",
     "output_type": "stream",
     "text": [
      "['case', 'site', 'sex', 'age', 'hdlngth', 'skullw', 'totlngth', 'taill', 'footlgth', 'earconch', 'eye', 'chest', 'belly']\n",
      "sex\n",
      "f    43\n",
      "m    61\n",
      "Name: count, dtype: int64\n"
     ]
    },
    {
     "data": {
      "image/png": "[encoded data removed]",
      "text/plain": [
       "<Figure size 1200x1200 with 1 Axes>"
      ]
     },
     "metadata": {},
     "output_type": "display_data"
    },
    {
     "name": "stdout",
     "output_type": "stream",
     "text": [
      "age\n",
      "0.0     2\n",
      "1.0    10\n",
      "2.0    16\n",
      "3.0    27\n",
      "4.0    14\n",
      "5.0    13\n",
      "6.0    12\n",
      "7.0     7\n",
      "8.0     1\n",
      "9.0     2\n",
      "Name: count, dtype: int64\n"
     ]
    },
    {
     "data": {
      "image/png": "[encoded data removed]",
      "text/plain": [
       "<Figure size 1200x1200 with 1 Axes>"
      ]
     },
     "metadata": {},
     "output_type": "display_data"
    },
    {
     "name": "stdout",
     "output_type": "stream",
     "text": [
      "hdlngth\n",
      "82.5     1\n",
      "84.7     1\n",
      "85.1     1\n",
      "85.3     1\n",
      "85.8     1\n",
      "        ..\n",
      "98.5     1\n",
      "98.6     1\n",
      "99.9     1\n",
      "102.5    1\n",
      "103.1    1\n",
      "Name: count, Length: 71, dtype: int64\n"
     ]
    },
    {
     "data": {
      "image/png": "[encoded data removed]",
      "text/plain": [
       "<Figure size 1200x1200 with 1 Axes>"
      ]
     },
     "metadata": {},
     "output_type": "display_data"
    },
    {
     "name": "stdout",
     "output_type": "stream",
     "text": [
      "skullw\n",
      "50.0    1\n",
      "51.0    1\n",
      "51.5    2\n",
      "52.0    1\n",
      "52.3    1\n",
      "       ..\n",
      "63.0    1\n",
      "63.2    2\n",
      "64.2    1\n",
      "67.7    1\n",
      "68.6    1\n",
      "Name: count, Length: 64, dtype: int64\n"
     ]
    },
    {
     "data": {
      "image/png": "[encoded data removed]",
      "text/plain": [
       "<Figure size 1200x1200 with 1 Axes>"
      ]
     },
     "metadata": {},
     "output_type": "display_data"
    },
    {
     "name": "stdout",
     "output_type": "stream",
     "text": [
      "totlngth\n",
      "75.0     1\n",
      "76.0     1\n",
      "77.0     1\n",
      "80.5     3\n",
      "81.0     4\n",
      "81.5     2\n",
      "82.0     3\n",
      "82.5     3\n",
      "83.0     3\n",
      "84.0     7\n",
      "84.5     2\n",
      "85.0     8\n",
      "85.5     4\n",
      "86.0     4\n",
      "86.5     2\n",
      "87.0     2\n",
      "87.5     1\n",
      "88.0     5\n",
      "88.5     4\n",
      "89.0    10\n",
      "89.5     6\n",
      "90.0     3\n",
      "90.5     3\n",
      "91.0     4\n",
      "91.5     5\n",
      "92.0     3\n",
      "92.5     1\n",
      "93.0     3\n",
      "93.5     1\n",
      "93.7     1\n",
      "94.0     1\n",
      "95.5     1\n",
      "96.0     1\n",
      "96.5     1\n",
      "Name: count, dtype: int64\n"
     ]
    },
    {
     "data": {
      "image/png": "[encoded data removed]",
      "text/plain": [
       "<Figure size 1200x1200 with 1 Axes>"
      ]
     },
     "metadata": {},
     "output_type": "display_data"
    },
    {
     "name": "stdout",
     "output_type": "stream",
     "text": [
      "taill\n",
      "32.0     2\n",
      "33.5     1\n",
      "34.0     5\n",
      "34.5     2\n",
      "35.0     9\n",
      "35.5     7\n",
      "36.0    13\n",
      "36.5    12\n",
      "37.0     6\n",
      "37.5     4\n",
      "38.0    21\n",
      "38.5     4\n",
      "39.0     7\n",
      "39.5     2\n",
      "40.0     4\n",
      "40.5     1\n",
      "41.0     2\n",
      "41.5     1\n",
      "43.0     1\n",
      "Name: count, dtype: int64\n"
     ]
    },
    {
     "data": {
      "image/png": "[encoded data removed]",
      "text/plain": [
       "<Figure size 1200x1200 with 1 Axes>"
      ]
     },
     "metadata": {},
     "output_type": "display_data"
    },
    {
     "name": "stdout",
     "output_type": "stream",
     "text": [
      "footlgth\n",
      "0.0     1\n",
      "60.3    1\n",
      "60.7    1\n",
      "61.5    1\n",
      "62.0    2\n",
      "       ..\n",
      "75.0    1\n",
      "75.4    1\n",
      "76.1    1\n",
      "77.2    1\n",
      "77.9    1\n",
      "Name: count, Length: 76, dtype: int64\n"
     ]
    },
    {
     "data": {
      "image/png": "[encoded data removed]",
      "text/plain": [
       "<Figure size 1200x1200 with 1 Axes>"
      ]
     },
     "metadata": {},
     "output_type": "display_data"
    },
    {
     "name": "stdout",
     "output_type": "stream",
     "text": [
      "earconch\n",
      "40.3    1\n",
      "41.3    1\n",
      "41.7    2\n",
      "42.4    1\n",
      "42.8    1\n",
      "       ..\n",
      "54.0    1\n",
      "54.5    1\n",
      "55.4    1\n",
      "55.5    1\n",
      "56.2    1\n",
      "Name: count, Length: 69, dtype: int64\n"
     ]
    },
    {
     "data": {
      "image/png": "[encoded data removed]",
      "text/plain": [
       "<Figure size 1200x1200 with 1 Axes>"
      ]
     },
     "metadata": {},
     "output_type": "display_data"
    },
    {
     "name": "stdout",
     "output_type": "stream",
     "text": [
      "eye\n",
      "12.8    1\n",
      "13.0    3\n",
      "13.2    1\n",
      "13.4    1\n",
      "13.6    3\n",
      "13.8    1\n",
      "14.0    6\n",
      "14.1    1\n",
      "14.2    4\n",
      "14.4    9\n",
      "14.5    9\n",
      "14.6    1\n",
      "14.7    3\n",
      "14.8    4\n",
      "14.9    6\n",
      "15.0    8\n",
      "15.1    2\n",
      "15.2    4\n",
      "15.3    3\n",
      "15.4    3\n",
      "15.5    3\n",
      "15.7    2\n",
      "15.8    2\n",
      "15.9    3\n",
      "16.0    4\n",
      "16.2    3\n",
      "16.3    1\n",
      "16.4    3\n",
      "16.5    2\n",
      "16.9    1\n",
      "17.0    2\n",
      "17.1    1\n",
      "17.4    2\n",
      "17.5    1\n",
      "17.8    1\n",
      "Name: count, dtype: int64\n"
     ]
    },
    {
     "data": {
      "image/png": "[encoded data removed]",
      "text/plain": [
       "<Figure size 1200x1200 with 1 Axes>"
      ]
     },
     "metadata": {},
     "output_type": "display_data"
    },
    {
     "name": "stdout",
     "output_type": "stream",
     "text": [
      "chest\n",
      "22.0     1\n",
      "23.0     4\n",
      "23.5     2\n",
      "24.0     3\n",
      "24.5     2\n",
      "25.0    10\n",
      "25.5     8\n",
      "26.0    10\n",
      "26.5     2\n",
      "27.0    14\n",
      "27.5     5\n",
      "28.0    18\n",
      "28.5     6\n",
      "29.0     7\n",
      "29.5     1\n",
      "30.0     5\n",
      "30.5     2\n",
      "31.0     3\n",
      "32.0     1\n",
      "Name: count, dtype: int64\n"
     ]
    },
    {
     "data": {
      "image/png": "[encoded data removed]",
      "text/plain": [
       "<Figure size 1200x1200 with 1 Axes>"
      ]
     },
     "metadata": {},
     "output_type": "display_data"
    },
    {
     "name": "stdout",
     "output_type": "stream",
     "text": [
      "belly\n",
      "25.0     1\n",
      "27.0     2\n",
      "28.0     3\n",
      "28.5     4\n",
      "29.0     2\n",
      "29.5     1\n",
      "30.0     8\n",
      "30.5     3\n",
      "31.0     8\n",
      "31.5     7\n",
      "32.0    12\n",
      "32.5     2\n",
      "33.0    12\n",
      "33.5     3\n",
      "34.0    10\n",
      "34.5     1\n",
      "35.0     9\n",
      "35.5     2\n",
      "36.0     8\n",
      "36.5     1\n",
      "38.0     1\n",
      "38.5     2\n",
      "39.0     1\n",
      "40.0     1\n",
      "Name: count, dtype: int64\n"
     ]
    },
    {
     "data": {
      "image/png": "[encoded data removed]",
      "text/plain": [
       "<Figure size 1200x1200 with 1 Axes>"
      ]
     },
     "metadata": {},
     "output_type": "display_data"
    }
   ],
   "source": [
    "datalist=list(data.columns)\n",
    "print(datalist)\n",
    "for i in list(datalist[2:]):\n",
    "    newdata=data.groupby(i)[i].value_counts()\n",
    "    print(newdata)\n",
    "    plt.figure(figsize=(12,12))\n",
    "    plt.bar(newdata.index,newdata.values)\n",
    "    plt.show()"
   ]
  },
  {
   "cell_type": "code",
   "execution_count": null,
   "id": "f5ef11f4",
   "metadata": {},
   "outputs": [
    {
     "data": {
      "image/png": "[encoded data removed]",
      "text/plain": [
       "<Figure size 1000x600 with 1 Axes>"
      ]
     },
     "metadata": {},
     "output_type": "display_data"
    }
   ],
   "source": [
    "plt.figure(figsize=(10,6))\n",
    "sns.histplot(data,bins=30,kde=True)\n",
    "plt.show()"
   ]
  }
 ],
 "metadata": {
  "kernelspec": {
   "display_name": "numpyvenv",
   "language": "python",
   "name": "python3"
  },
  "language_info": {
   "codemirror_mode": {
    "name": "ipython",
    "version": 3
   },
   "file_extension": ".py",
   "mimetype": "text/x-python",
   "name": "python",
   "nbconvert_exporter": "python",
   "pygments_lexer": "ipython3",
   "version": "3.12.4"
  }
 },
 "nbformat": 4,
 "nbformat_minor": 5
}
